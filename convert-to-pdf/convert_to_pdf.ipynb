{
 "cells": [
  {
   "cell_type": "code",
   "execution_count": 11,
   "metadata": {},
   "outputs": [
    {
     "name": "stdout",
     "output_type": "stream",
     "text": [
      "PDF file 'output.pdf' has been created.\n"
     ]
    }
   ],
   "source": [
    "import pdfkit\n",
    "from pygments import highlight\n",
    "from pygments.lexers import PythonLexer\n",
    "from pygments.formatters import HtmlFormatter\n",
    "\n",
    "# Specify the file names\n",
    "input_file = '/home/felix/llm/evaluation-pipeline/clean_and_commented_json.py'\n",
    "html_file = 'output.html'\n",
    "pdf_file = 'output.pdf'\n",
    "\n",
    "# Read the Python file\n",
    "with open(input_file, 'r') as f:\n",
    "    code = f.read()\n",
    "\n",
    "# Customize the CSS for the HTML conversion\n",
    "formatter = HtmlFormatter(\n",
    "    full=True,\n",
    "    style='colorful',\n",
    "    noclasses=True,\n",
    "    linenos=True,\n",
    "    cssclass=\"highlight\",\n",
    "    wrapcode=True\n",
    ")\n",
    "\n",
    "# Generate HTML code with custom CSS\n",
    "css = '''\n",
    "body {\n",
    "    font-size: 10px; /* Adjust the font size here */\n",
    "    line-height: 1.2; /* Adjust the line height for better readability */\n",
    "}\n",
    "\n",
    "pre {\n",
    "    white-space: pre-wrap; /* Enable automatic line breaks */\n",
    "    word-wrap: break-word; /* Break long words */\n",
    "}\n",
    "\n",
    ".highlight {\n",
    "    background-color: #f8f8f8;\n",
    "    padding: 10px;\n",
    "}\n",
    "'''\n",
    "\n",
    "# Convert Python code to HTML with syntax highlighting\n",
    "html_code = highlight(code, PythonLexer(), formatter)\n",
    "\n",
    "# Combine the HTML with the CSS\n",
    "html_code = f\"<style>{css}</style>\" + html_code\n",
    "\n",
    "# Save the HTML code to a file\n",
    "with open(html_file, 'w') as f:\n",
    "    f.write(html_code)\n",
    "\n",
    "# Convert the HTML file to a PDF\n",
    "pdfkit.from_file(html_file, pdf_file)\n",
    "\n",
    "print(f\"PDF file '{pdf_file}' has been created.\")\n"
   ]
  },
  {
   "cell_type": "code",
   "execution_count": 16,
   "metadata": {},
   "outputs": [
    {
     "name": "stdout",
     "output_type": "stream",
     "text": [
      "PDF created successfully!\n"
     ]
    }
   ],
   "source": [
    "import pdfkit\n",
    "\n",
    "# Step 1: Convert Jupyter notebook to HTML\n",
    "import os\n",
    "os.system('jupyter nbconvert --ClearOutputPreprocessor.enabled=True --to html /home/felix/llm/unsloth_tunes/Alpaca_+_Llama_3_8b_full_example_sql_edit_checkpoint.ipynb --output your_notebook.html')\n",
    "\n",
    "# Step 2: Read the HTML file\n",
    "html_file = 'your_notebook.html'\n",
    "with open(html_file, 'r') as f:\n",
    "    html_code = f.read()\n",
    "\n",
    "# Step 3: Add custom CSS for font size and line breaks\n",
    "css = '''\n",
    "body {\n",
    "    font-size: 10px;\n",
    "    line-height: 1.2;\n",
    "}\n",
    "\n",
    "pre {\n",
    "    white-space: pre-wrap;\n",
    "    word-wrap: break-word;\n",
    "}\n",
    "'''\n",
    "\n",
    "html_code = f\"<style>{css}</style>\" + html_code\n",
    "\n",
    "# Step 4: Save the modified HTML\n",
    "with open('modified_notebook.html', 'w') as f:\n",
    "    f.write(html_code)\n",
    "\n",
    "# Step 5: Convert the modified HTML to PDF\n",
    "pdfkit.from_file('modified_notebook.html', 'output_jupyter.pdf')\n",
    "\n",
    "print(\"PDF created successfully!\")\n"
   ]
  }
 ],
 "metadata": {
  "kernelspec": {
   "display_name": "Python 3",
   "language": "python",
   "name": "python3"
  },
  "language_info": {
   "codemirror_mode": {
    "name": "ipython",
    "version": 3
   },
   "file_extension": ".py",
   "mimetype": "text/x-python",
   "name": "python",
   "nbconvert_exporter": "python",
   "pygments_lexer": "ipython3",
   "version": "3.11.9"
  }
 },
 "nbformat": 4,
 "nbformat_minor": 2
}
