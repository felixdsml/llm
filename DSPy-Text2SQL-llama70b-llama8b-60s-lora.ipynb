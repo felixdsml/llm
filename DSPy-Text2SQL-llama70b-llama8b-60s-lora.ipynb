{
 "cells": [
  {
   "cell_type": "markdown",
   "metadata": {},
   "source": [
    "#### Libraries"
   ]
  },
  {
   "cell_type": "code",
   "execution_count": 1,
   "metadata": {},
   "outputs": [
    {
     "name": "stderr",
     "output_type": "stream",
     "text": [
      "c:\\llm\\llm-env\\Lib\\site-packages\\tqdm\\auto.py:21: TqdmWarning: IProgress not found. Please update jupyter and ipywidgets. See https://ipywidgets.readthedocs.io/en/stable/user_install.html\n",
      "  from .autonotebook import tqdm as notebook_tqdm\n"
     ]
    }
   ],
   "source": [
    "import dspy\n",
    "import random\n",
    "from dotenv import load_dotenv\n",
    "from dspy.datasets import DataLoader\n",
    "from dspy.evaluate import Evaluate\n",
    "from dspy.teleprompt import BootstrapFewShotWithRandomSearch, LabeledFewShot\n",
    "\n",
    "#from src.starling import StarlingLM # <- Custom Local Model Client for llama3-8b\n",
    "\n",
    "_ = load_dotenv()"
   ]
  },
  {
   "cell_type": "markdown",
   "metadata": {},
   "source": [
    "#### LLM"
   ]
  },
  {
   "cell_type": "markdown",
   "metadata": {},
   "source": [
    "The model that will be used in this notebook is [llama3-8b](https://huggingface.co/Nexusflow/Starling-LM-7B-beta), and the evaluation model will be [GPT-4 Turbo](https://openai.com/gpt-4)."
   ]
  },
  {
   "cell_type": "code",
   "execution_count": 2,
   "metadata": {},
   "outputs": [],
   "source": [
    "# Share generation args between models\n",
    "generation_args = {\n",
    "    \"temperature\":0,\n",
    "    \"max_tokens\":500,\n",
    "    \"stop\":\"\\n\\n\",\n",
    "    \"model_type\":\"chat\",\n",
    "    \"n\": 1\n",
    "}\n",
    "# Model specific args\n",
    "model_info = {\n",
    "    \"gpt-4\": {\"model\": \"gpt-4-0125-preview\", \"api_base\": \"https://api.openai.com/v1/\"},\n",
    "    \"starling\": {\"model\": \"Nexusflow/Starling-LM-7B-beta\"}\n",
    "}"
   ]
  },
  {
   "cell_type": "code",
   "execution_count": 3,
   "metadata": {},
   "outputs": [],
   "source": [
    "# Set up the models\n",
    "# lm = StarlingLM(**model_info[\"starling\"], **generation_args)\n",
    "# evaluator_lm = dspy.OpenAI(**model_info[\"gpt-4\"], **generation_args)\n",
    "\n",
    "lm = dspy.OllamaLocal(model='llama3-8b-instruct-fp16-lora-60-steps:latest', base_url='http://localhost:11435')\n",
    "# evaluator_lm = dspy.OpenAI(**model_info[\"gpt-4\"], **generation_args)\n",
    "evaluator_lm = dspy.OllamaLocal(model='llama3:70b', base_url='http://localhost:11434')\n",
    "\n",
    "dspy.configure(lm=lm)"
   ]
  },
  {
   "cell_type": "code",
   "execution_count": 4,
   "metadata": {},
   "outputs": [
    {
     "data": {
      "text/plain": [
       "['The capital of Colombia is Bogotá.<|eot_id|>']"
      ]
     },
     "execution_count": 4,
     "metadata": {},
     "output_type": "execute_result"
    }
   ],
   "source": [
    "# Testing inference of Starling\n",
    "lm(\"What is the capital of Colombia?\")"
   ]
  },
  {
   "cell_type": "markdown",
   "metadata": {},
   "source": [
    "#### Load dataset"
   ]
  },
  {
   "cell_type": "markdown",
   "metadata": {},
   "source": [
    "The dataset that will be used in this notebook is [gretelai/synthetic_text_to_sql](https://huggingface.co/datasets/gretelai/synthetic_text_to_sql)"
   ]
  },
  {
   "cell_type": "code",
   "execution_count": 5,
   "metadata": {},
   "outputs": [],
   "source": [
    "# Define random seed\n",
    "random.seed(1399)"
   ]
  },
  {
   "cell_type": "code",
   "execution_count": 6,
   "metadata": {},
   "outputs": [
    {
     "data": {
      "text/plain": [
       "(75, 25, 75)"
      ]
     },
     "execution_count": 6,
     "metadata": {},
     "output_type": "execute_result"
    }
   ],
   "source": [
    "# Load dataset\n",
    "dl = DataLoader()\n",
    "trainset = dl.from_huggingface(\n",
    "    dataset_name=\"gretelai/synthetic_text_to_sql\", # Dataset name from Huggingface\n",
    "    fields=(\"sql_prompt\", \"sql_context\", \"sql\"), # Fields needed\n",
    "    input_keys=(\"sql_prompt\", \"sql_context\"), # What our model expects to recieve to generate an output\n",
    "    split=\"train\"\n",
    ")\n",
    "\n",
    "testset = dl.from_huggingface(\n",
    "    dataset_name=\"gretelai/synthetic_text_to_sql\", # Dataset name from Huggingface\n",
    "    fields=(\"sql_prompt\", \"sql_context\", \"sql\"), # Fields needed\n",
    "    input_keys=(\"sql_prompt\", \"sql_context\"), # What our model expects to recieve to generate an output\n",
    "    split=\"test\"\n",
    ")\n",
    "\n",
    "\n",
    "trainset = dl.sample(dataset=trainset, n=100)\n",
    "testset = dl.sample(dataset=testset, n=75)\n",
    "finetuneset = dl.sample(dataset=trainset, n=100)\n",
    "\n",
    "_trainval = dl.train_test_split(dataset=trainset, test_size=0.25, random_state=1399) # 25% of training data for validation\n",
    "trainset, valset = _trainval[\"train\"], _trainval[\"test\"]\n",
    "\n",
    "len(trainset), len(valset), len(testset)"
   ]
  },
  {
   "cell_type": "code",
   "execution_count": 7,
   "metadata": {},
   "outputs": [
    {
     "name": "stdout",
     "output_type": "stream",
     "text": [
      "\n",
      "SQL_PROMPT:\n",
      "\n",
      "List the top 5 countries with the highest number of satellites in orbit as of 2022-01-01, ordered by the number of satellites in descending order.\n",
      "\n",
      "SQL_CONTEXT:\n",
      "\n",
      "CREATE TABLE countries(id INT, name VARCHAR(255), population INT, satellites_in_orbit INT, last_census_date DATE);\n",
      "\n",
      "SQL:\n",
      "\n",
      "SELECT name, satellites_in_orbit FROM countries WHERE last_census_date <= '2022-01-01' GROUP BY name ORDER BY satellites_in_orbit DESC LIMIT 5;\n"
     ]
    }
   ],
   "source": [
    "# Verify an example of the dataset\n",
    "sample = dl.sample(dataset=trainset, n=1)[0]\n",
    "for k, v in sample.items():\n",
    "    print(f\"\\n{k.upper()}:\\n\")\n",
    "    print(v)"
   ]
  },
  {
   "cell_type": "markdown",
   "metadata": {},
   "source": [
    "#### Signature (Input/Output)"
   ]
  },
  {
   "cell_type": "code",
   "execution_count": 8,
   "metadata": {},
   "outputs": [],
   "source": [
    "class TextToSql(dspy.Signature):\n",
    "    \"\"\"Transform a natural language query into a SQL query.\"\"\"\n",
    "\n",
    "    sql_prompt = dspy.InputField(desc=\"Natural language query\")\n",
    "    sql_context = dspy.InputField(desc=\"Context for the query\")\n",
    "    sql = dspy.OutputField(desc=\"SQL query\")"
   ]
  },
  {
   "cell_type": "markdown",
   "metadata": {},
   "source": [
    "### Inference"
   ]
  },
  {
   "cell_type": "markdown",
   "metadata": {},
   "source": [
    "#### Baseline Inference"
   ]
  },
  {
   "cell_type": "code",
   "execution_count": 9,
   "metadata": {},
   "outputs": [
    {
     "name": "stdout",
     "output_type": "stream",
     "text": [
      "\n",
      "SQL:\n",
      "\n",
      "Here is the SQL query:\n",
      "\n",
      "INSERT INTO countries (id, name, population, satellites_in_orbit, last_census_date)\n",
      "VALUES (1, 'United States', 331002651, 1955, '2022-01-01');\n",
      "INSERT INTO countries (id, name, population, satellites_in_orbit, last_census_date)\n",
      "VALUES (2, 'China', 1439323776, 1550, '2022-01-01');\n",
      "INSERT INTO countries (id, name, population, satellites_in_orbit, last_census_date)\n",
      "VALUES (3, 'Russia', 145934027, 1405, '2022-01-01');\n",
      "INSERT INTO countries (id, name, population,\n"
     ]
    }
   ],
   "source": [
    "generate_sql_query = dspy.Predict(signature=TextToSql)\n",
    "\n",
    "result = generate_sql_query(\n",
    "    sql_prompt=sample[\"sql_prompt\"],\n",
    "    sql_context=sample[\"sql_context\"]\n",
    ")\n",
    "\n",
    "for k, v in result.items():\n",
    "    print(f\"\\n{k.upper()}:\\n\")\n",
    "    print(v)"
   ]
  },
  {
   "cell_type": "markdown",
   "metadata": {},
   "source": [
    "#### ChainOfThought Inference"
   ]
  },
  {
   "cell_type": "code",
   "execution_count": 10,
   "metadata": {},
   "outputs": [
    {
     "name": "stdout",
     "output_type": "stream",
     "text": [
      "\n",
      "RATIONALE:\n",
      "\n",
      "Sql Prompt: List the top 5 countries with the highest number of satellites in orbit as of 2022-01-01, ordered by the number of satellites in descending order.\n",
      "Sql Context: CREATE TABLE countries(id INT, name VARCHAR(255), population INT, satellites_in_orbit INT, last_census_date DATE);\n",
      "Reasoning: Let's think step by step in order to produce the sql. We need to filter the data for the specific date (2022-01-01) and then sort it by the number of satellites in orbit in descending order.\n",
      "\n",
      "SQL:\n",
      "\n",
      "SELECT name, satellites_in_orbit FROM countries WHERE last_census_date = '2022-01-01' ORDER BY satellites_in_orbit DESC LIMIT 5\n"
     ]
    }
   ],
   "source": [
    "generate_sql_query = dspy.ChainOfThought(signature=TextToSql)\n",
    "\n",
    "result = generate_sql_query(\n",
    "    sql_prompt=sample[\"sql_prompt\"],\n",
    "    sql_context=sample[\"sql_context\"]\n",
    ")\n",
    "\n",
    "for k, v in result.items():\n",
    "    print(f\"\\n{k.upper()}:\\n\")\n",
    "    print(v)"
   ]
  },
  {
   "cell_type": "markdown",
   "metadata": {},
   "source": [
    "### Metric of evaluation"
   ]
  },
  {
   "cell_type": "markdown",
   "metadata": {},
   "source": [
    "#### Metric definition"
   ]
  },
  {
   "cell_type": "code",
   "execution_count": 11,
   "metadata": {},
   "outputs": [],
   "source": [
    "class Correctness(dspy.Signature):\n",
    "    \"\"\"Assess if the SQL query accurately answers the given natural language query based on the provided context.\"\"\"\n",
    "\n",
    "    sql_prompt = dspy.InputField(desc=\"Natural language query \")\n",
    "    sql_context = dspy.InputField(desc=\"Context for the query\")\n",
    "    sql = dspy.InputField(desc=\"SQL query\")\n",
    "    correct = dspy.OutputField(desc=\"Indicate whether the SQL query correctly answers the natural language query based on the given context\", prefix=\"Yes/No:\")"
   ]
  },
  {
   "cell_type": "code",
   "execution_count": 12,
   "metadata": {},
   "outputs": [],
   "source": [
    "def correctness_metric(example, pred, trace=None):\n",
    "    sql_prompt, sql_context, sql = example.sql_prompt, example.sql_context, pred.sql\n",
    "\n",
    "    correctness = dspy.Predict(Correctness)\n",
    "\n",
    "    with dspy.context(lm=evaluator_lm): \n",
    "        correct = correctness(\n",
    "            sql_prompt=sql_prompt,\n",
    "            sql_context=sql_context,\n",
    "            sql=sql,\n",
    "        )\n",
    "    \n",
    "    score = int(correct.correct==\"Yes\")\n",
    "\n",
    "    if trace is not None:\n",
    "        return score == 1\n",
    "\n",
    "    return score"
   ]
  },
  {
   "cell_type": "markdown",
   "metadata": {},
   "source": [
    "#### Evaluate single data point"
   ]
  },
  {
   "cell_type": "code",
   "execution_count": 13,
   "metadata": {},
   "outputs": [
    {
     "name": "stdout",
     "output_type": "stream",
     "text": [
      "Correct SQL query: Yes\n"
     ]
    }
   ],
   "source": [
    "_correctness = correctness_metric(\n",
    "    example=sample,\n",
    "    pred=result\n",
    ")\n",
    "print(f\"Correct SQL query: {'Yes' if _correctness else 'No'}\")"
   ]
  },
  {
   "cell_type": "code",
   "execution_count": 14,
   "metadata": {},
   "outputs": [
    {
     "name": "stdout",
     "output_type": "stream",
     "text": [
      "\n",
      "\n",
      "\n",
      "Assess if the SQL query accurately answers the given natural language query based on the provided context.\n",
      "\n",
      "---\n",
      "\n",
      "Follow the following format.\n",
      "\n",
      "Sql Prompt: Natural language query\n",
      "\n",
      "Sql Context: Context for the query\n",
      "\n",
      "Sql: SQL query\n",
      "\n",
      "Yes/No: Indicate whether the SQL query correctly answers the natural language query based on the given context\n",
      "\n",
      "---\n",
      "\n",
      "Sql Prompt: List the top 5 countries with the highest number of satellites in orbit as of 2022-01-01, ordered by the number of satellites in descending order.\n",
      "\n",
      "Sql Context: CREATE TABLE countries(id INT, name VARCHAR(255), population INT, satellites_in_orbit INT, last_census_date DATE);\n",
      "\n",
      "Sql: SELECT name, satellites_in_orbit FROM countries WHERE last_census_date = '2022-01-01' ORDER BY satellites_in_orbit DESC LIMIT 5\n",
      "\n",
      "Yes/No: Yes\n",
      "\n",
      "\n",
      "\n"
     ]
    },
    {
     "data": {
      "text/plain": [
       "\"\\n\\n\\nAssess if the SQL query accurately answers the given natural language query based on the provided context.\\n\\n---\\n\\nFollow the following format.\\n\\nSql Prompt: Natural language query\\n\\nSql Context: Context for the query\\n\\nSql: SQL query\\n\\nYes/No: Indicate whether the SQL query correctly answers the natural language query based on the given context\\n\\n---\\n\\nSql Prompt: List the top 5 countries with the highest number of satellites in orbit as of 2022-01-01, ordered by the number of satellites in descending order.\\n\\nSql Context: CREATE TABLE countries(id INT, name VARCHAR(255), population INT, satellites_in_orbit INT, last_census_date DATE);\\n\\nSql: SELECT name, satellites_in_orbit FROM countries WHERE last_census_date = '2022-01-01' ORDER BY satellites_in_orbit DESC LIMIT 5\\n\\nYes/No:\\x1b[32m Yes\\x1b[0m\\n\\n\\n\""
      ]
     },
     "execution_count": 14,
     "metadata": {},
     "output_type": "execute_result"
    }
   ],
   "source": [
    "evaluator_lm.inspect_history(n=1)"
   ]
  },
  {
   "cell_type": "markdown",
   "metadata": {},
   "source": [
    "#### Evaluate entire dataset - GPT 3.5"
   ]
  },
  {
   "cell_type": "markdown",
   "metadata": {},
   "source": [
    "<div style=\"background-color: #F0F0F0; padding: 10px; border-radius: 5px;\"> <p style=\"color: #4B4B4B; font-size: 18px; font-weight: bold; margin: 0;\"> 📊 Baseline Evaluation </p> <p style=\"color: #4B4B4B; font-size: 16px; margin: 5px 0 0;\"> Without any optimization, <strong>Starling7B</strong> achieves an <strong>80% correctness in validation (25 samples)</strong> and <strong>70.07% correctness in test (75 samples).</strong> </p> </div>"
   ]
  },
  {
   "cell_type": "code",
   "execution_count": 16,
   "metadata": {},
   "outputs": [
    {
     "name": "stdout",
     "output_type": "stream",
     "text": [
      "GPT 3.5 Turbo - Validation Score: \n",
      "\n"
     ]
    },
    {
     "name": "stderr",
     "output_type": "stream",
     "text": [
      "  0%|          | 0/25 [00:00<?, ?it/s]"
     ]
    },
    {
     "name": "stderr",
     "output_type": "stream",
     "text": [
      "Average Metric: 20 / 25  (80.0): 100%|██████████| 25/25 [00:09<00:00,  2.77it/s]"
     ]
    },
    {
     "name": "stdout",
     "output_type": "stream",
     "text": [
      "Average Metric: 20 / 25  (80.0%)\n"
     ]
    },
    {
     "name": "stderr",
     "output_type": "stream",
     "text": [
      "\n",
      "/home/jjmov99/dspy-testing/.venv/lib/python3.11/site-packages/dspy/evaluate/evaluate.py:187: FutureWarning: DataFrame.applymap has been deprecated. Use DataFrame.map instead.\n",
      "  df = df.applymap(truncate_cell)\n"
     ]
    }
   ],
   "source": [
    "print(\"GPT 3.5 Turbo - Validation Score: \\n\")\n",
    "with dspy.context(lm=dspy.OpenAI(model=\"gpt-3.5-turbo-0125\", api_base=\"https://api.openai.com/v1/\", **generation_args)):\n",
    "    evaluate = Evaluate(devset=valset, metric=correctness_metric, num_threads=10, display_progress=True, display_table=0)\n",
    "    evaluate(generate_sql_query)"
   ]
  },
  {
   "cell_type": "code",
   "execution_count": 17,
   "metadata": {},
   "outputs": [
    {
     "name": "stdout",
     "output_type": "stream",
     "text": [
      "GPT 3.5 Turbo - Test Score: \n",
      "\n"
     ]
    },
    {
     "name": "stderr",
     "output_type": "stream",
     "text": [
      "Average Metric: 53 / 75  (70.7): 100%|██████████| 75/75 [00:14<00:00,  5.06it/s] "
     ]
    },
    {
     "name": "stdout",
     "output_type": "stream",
     "text": [
      "Average Metric: 53 / 75  (70.7%)\n"
     ]
    },
    {
     "name": "stderr",
     "output_type": "stream",
     "text": [
      "\n",
      "/home/jjmov99/dspy-testing/.venv/lib/python3.11/site-packages/dspy/evaluate/evaluate.py:187: FutureWarning: DataFrame.applymap has been deprecated. Use DataFrame.map instead.\n",
      "  df = df.applymap(truncate_cell)\n"
     ]
    }
   ],
   "source": [
    "print(\"GPT 3.5 Turbo - Test Score: \\n\")\n",
    "with dspy.context(lm=dspy.OpenAI(model=\"gpt-3.5-turbo-0125\", api_base=\"https://api.openai.com/v1/\", **generation_args)):\n",
    "    evaluate = Evaluate(devset=testset, metric=correctness_metric, num_threads=10, display_progress=True, display_table=0)\n",
    "    evaluate(generate_sql_query)"
   ]
  },
  {
   "cell_type": "markdown",
   "metadata": {},
   "source": [
    "#### Evaluate entire dataset - llama3-8b"
   ]
  },
  {
   "cell_type": "markdown",
   "metadata": {},
   "source": [
    "<div style=\"background-color: #FFCCCB; padding: 10px; border-radius: 5px;\"> <p style=\"color: #8B0000; font-size: 18px; font-weight: bold; margin: 0;\"> ⚠️ Evaluation Stage 1 </p> <p style=\"color: #8B0000; font-size: 16px; margin: 5px 0 0;\"> Without any optimization, <strong>llama3-8b</strong> achieves an <strong>72% correctness in validation (25 samples)</strong> and <strong>50.67% correctness in test (75 samples).</strong> </p> </div>"
   ]
  },
  {
   "cell_type": "code",
   "execution_count": 15,
   "metadata": {},
   "outputs": [
    {
     "name": "stdout",
     "output_type": "stream",
     "text": [
      "llama3-8b - Validation Score: \n",
      "\n"
     ]
    },
    {
     "name": "stderr",
     "output_type": "stream",
     "text": [
      "Average Metric: 16 / 25  (64.0): 100%|██████████| 25/25 [01:51<00:00,  4.47s/it]\n"
     ]
    },
    {
     "data": {
      "text/plain": [
       "64.0"
      ]
     },
     "execution_count": 15,
     "metadata": {},
     "output_type": "execute_result"
    }
   ],
   "source": [
    "print(\"llama3-8b - Validation Score: \\n\")\n",
    "evaluate = Evaluate(devset=valset, metric=correctness_metric, num_threads=10, display_progress=True, display_table=0)\n",
    "evaluate(generate_sql_query)"
   ]
  },
  {
   "cell_type": "code",
   "execution_count": 16,
   "metadata": {},
   "outputs": [
    {
     "name": "stdout",
     "output_type": "stream",
     "text": [
      "llama3-8b - Test Score: \n",
      "\n"
     ]
    },
    {
     "name": "stderr",
     "output_type": "stream",
     "text": [
      "Average Metric: 45 / 75  (60.0): 100%|██████████| 75/75 [05:02<00:00,  4.04s/it]\n"
     ]
    },
    {
     "data": {
      "text/plain": [
       "60.0"
      ]
     },
     "execution_count": 16,
     "metadata": {},
     "output_type": "execute_result"
    }
   ],
   "source": [
    "print(\"llama3-8b - Test Score: \\n\")\n",
    "evaluate = Evaluate(devset=testset, metric=correctness_metric, num_threads=10, display_progress=True, display_table=0)\n",
    "evaluate(generate_sql_query)"
   ]
  },
  {
   "cell_type": "markdown",
   "metadata": {},
   "source": [
    "### Optimize for Text2SQL"
   ]
  },
  {
   "cell_type": "markdown",
   "metadata": {},
   "source": [
    "#### Create program"
   ]
  },
  {
   "cell_type": "code",
   "execution_count": 17,
   "metadata": {},
   "outputs": [],
   "source": [
    "# Define the program ~ You can think of this a Pytorch model.\n",
    "class TextToSqlProgram(dspy.Module):\n",
    "    def __init__(self):\n",
    "        super().__init__()\n",
    "        self.program = dspy.ChainOfThought(signature=TextToSql)\n",
    "    \n",
    "    def forward(self, sql_prompt, sql_context):\n",
    "        return self.program(\n",
    "            sql_prompt=sql_prompt,\n",
    "            sql_context=sql_context\n",
    "        )"
   ]
  },
  {
   "cell_type": "markdown",
   "metadata": {},
   "source": [
    "### FewShot"
   ]
  },
  {
   "cell_type": "code",
   "execution_count": 18,
   "metadata": {},
   "outputs": [],
   "source": [
    "# Execute the optimizer -> this only adds few shots to the prompt\n",
    "optimizer = LabeledFewShot(k=4)\n",
    "optmized_program = optimizer.compile(student=TextToSqlProgram(), trainset=trainset)"
   ]
  },
  {
   "cell_type": "code",
   "execution_count": 19,
   "metadata": {},
   "outputs": [
    {
     "data": {
      "text/plain": [
       "Prediction(\n",
       "    rationale='Here is the SQL query:',\n",
       "    sql=\"SELECT name, satellites_in_orbit FROM countries WHERE last_census_date = '2022-01-01' ORDER BY satellites_in_orbit DESC LIMIT 5;<|eot_id|>\"\n",
       ")"
      ]
     },
     "execution_count": 19,
     "metadata": {},
     "output_type": "execute_result"
    }
   ],
   "source": [
    "optmized_program(sql_context=sample[\"sql_context\"], sql_prompt=sample[\"sql_prompt\"])"
   ]
  },
  {
   "cell_type": "markdown",
   "metadata": {},
   "source": [
    "#### What is happening inside?"
   ]
  },
  {
   "cell_type": "code",
   "execution_count": 20,
   "metadata": {},
   "outputs": [
    {
     "name": "stdout",
     "output_type": "stream",
     "text": [
      "\n",
      "\n",
      "\n",
      "Transform a natural language query into a SQL query.\n",
      "\n",
      "---\n",
      "\n",
      "Follow the following format.\n",
      "\n",
      "Sql Prompt: Natural language query\n",
      "\n",
      "Sql Context: Context for the query\n",
      "\n",
      "Reasoning: Let's think step by step in order to ${produce the sql}. We ...\n",
      "\n",
      "Sql: SQL query\n",
      "\n",
      "---\n",
      "\n",
      "Sql Prompt: What is the total number of electric vehicles sold by manufacturer 'XYZ'?\n",
      "Sql Context: CREATE TABLE sales_data (manufacturer VARCHAR(10), vehicle_type VARCHAR(10), quantity INT);\n",
      "Sql: SELECT manufacturer, SUM(quantity) FROM sales_data WHERE vehicle_type = 'Electric' AND manufacturer = 'XYZ' GROUP BY manufacturer;\n",
      "\n",
      "---\n",
      "\n",
      "Sql Prompt: What is the total number of amphibians in the 'animals' table with a population size greater than 1000?\n",
      "Sql Context: CREATE TABLE animals (id INT, name VARCHAR(50), species VARCHAR(50), population_size INT); INSERT INTO animals (id, name, species, population_size) VALUES (1, 'Frog', 'Anura', 1200);\n",
      "Sql: SELECT COUNT(*) FROM animals WHERE species = 'Anura' AND population_size > 1000;\n",
      "\n",
      "---\n",
      "\n",
      "Sql Prompt: What is the minimum depth a marine species can live at?\n",
      "Sql Context: CREATE TABLE species (id INT, name VARCHAR(255), habitat VARCHAR(255), depth FLOAT); INSERT INTO species (id, name, habitat, depth) VALUES (1, 'Clownfish', 'Coral Reef', 20.0); INSERT INTO species (id, name, habitat, depth) VALUES (2, 'Blue Whale', 'Open Ocean', 2000.0); INSERT INTO species (id, name, habitat, depth) VALUES (3, 'Sea Otter', 'Kelp Forest', 50.0);\n",
      "Sql: SELECT MIN(depth) FROM species;\n",
      "\n",
      "---\n",
      "\n",
      "Sql Prompt: Delete all investments with ESG scores less than 70.\n",
      "Sql Context: CREATE TABLE investments (id INT, sector VARCHAR(20), esg_score FLOAT); INSERT INTO investments (id, sector, esg_score) VALUES (1, 'Education', 75.00), (2, 'Healthcare', 70.00), (3, 'Renewable Energy', 65.00);\n",
      "Sql: DELETE FROM investments WHERE esg_score < 70;\n",
      "\n",
      "---\n",
      "\n",
      "Sql Prompt: List the top 5 countries with the highest number of satellites in orbit as of 2022-01-01, ordered by the number of satellites in descending order.\n",
      "\n",
      "Sql Context: CREATE TABLE countries(id INT, name VARCHAR(255), population INT, satellites_in_orbit INT, last_census_date DATE);\n",
      "\n",
      "Reasoning: Let's think step by step in order to Here is the SQL query:\n",
      "\n",
      "Sql: SELECT name, satellites_in_orbit FROM countries WHERE last_census_date = '2022-01-01' ORDER BY satellites_in_orbit DESC LIMIT 5;<|eot_id|>\n",
      "\n",
      "\n",
      "\n"
     ]
    },
    {
     "data": {
      "text/plain": [
       "\"\\n\\n\\nTransform a natural language query into a SQL query.\\n\\n---\\n\\nFollow the following format.\\n\\nSql Prompt: Natural language query\\n\\nSql Context: Context for the query\\n\\nReasoning: Let's think step by step in order to ${produce the sql}. We ...\\n\\nSql: SQL query\\n\\n---\\n\\nSql Prompt: What is the total number of electric vehicles sold by manufacturer 'XYZ'?\\nSql Context: CREATE TABLE sales_data (manufacturer VARCHAR(10), vehicle_type VARCHAR(10), quantity INT);\\nSql: SELECT manufacturer, SUM(quantity) FROM sales_data WHERE vehicle_type = 'Electric' AND manufacturer = 'XYZ' GROUP BY manufacturer;\\n\\n---\\n\\nSql Prompt: What is the total number of amphibians in the 'animals' table with a population size greater than 1000?\\nSql Context: CREATE TABLE animals (id INT, name VARCHAR(50), species VARCHAR(50), population_size INT); INSERT INTO animals (id, name, species, population_size) VALUES (1, 'Frog', 'Anura', 1200);\\nSql: SELECT COUNT(*) FROM animals WHERE species = 'Anura' AND population_size > 1000;\\n\\n---\\n\\nSql Prompt: What is the minimum depth a marine species can live at?\\nSql Context: CREATE TABLE species (id INT, name VARCHAR(255), habitat VARCHAR(255), depth FLOAT); INSERT INTO species (id, name, habitat, depth) VALUES (1, 'Clownfish', 'Coral Reef', 20.0); INSERT INTO species (id, name, habitat, depth) VALUES (2, 'Blue Whale', 'Open Ocean', 2000.0); INSERT INTO species (id, name, habitat, depth) VALUES (3, 'Sea Otter', 'Kelp Forest', 50.0);\\nSql: SELECT MIN(depth) FROM species;\\n\\n---\\n\\nSql Prompt: Delete all investments with ESG scores less than 70.\\nSql Context: CREATE TABLE investments (id INT, sector VARCHAR(20), esg_score FLOAT); INSERT INTO investments (id, sector, esg_score) VALUES (1, 'Education', 75.00), (2, 'Healthcare', 70.00), (3, 'Renewable Energy', 65.00);\\nSql: DELETE FROM investments WHERE esg_score < 70;\\n\\n---\\n\\nSql Prompt: List the top 5 countries with the highest number of satellites in orbit as of 2022-01-01, ordered by the number of satellites in descending order.\\n\\nSql Context: CREATE TABLE countries(id INT, name VARCHAR(255), population INT, satellites_in_orbit INT, last_census_date DATE);\\n\\nReasoning: Let's think step by step in order to\\x1b[32m Here is the SQL query:\\n\\nSql: SELECT name, satellites_in_orbit FROM countries WHERE last_census_date = '2022-01-01' ORDER BY satellites_in_orbit DESC LIMIT 5;<|eot_id|>\\x1b[0m\\n\\n\\n\""
      ]
     },
     "execution_count": 20,
     "metadata": {},
     "output_type": "execute_result"
    }
   ],
   "source": [
    "lm.inspect_history(n=1)"
   ]
  },
  {
   "cell_type": "markdown",
   "metadata": {},
   "source": [
    "#### Evaluate the optimized program"
   ]
  },
  {
   "cell_type": "markdown",
   "metadata": {},
   "source": [
    "\n",
    "<div style=\"background-color: #FFF8DC; padding: 10px; border-radius: 5px;\"> <p style=\"color: #DAA520; font-size: 18px; font-weight: bold; margin: 0;\"> 🌟 Evaluation Stage 2 </p> <p style=\"color: #DAA520; font-size: 16px; margin: 5px 0 0;\"> With <strong>Few Shot</strong> optimization, <strong>llama3-8b</strong> achieves an <strong>64% correctness in validation (25 samples)</strong> and <strong>60% correctness in test (75 samples).</strong> </p> </div>"
   ]
  },
  {
   "cell_type": "code",
   "execution_count": 21,
   "metadata": {},
   "outputs": [
    {
     "name": "stdout",
     "output_type": "stream",
     "text": [
      "llama3-8b + FewShotOptimizer - Validation Score: \n",
      "\n"
     ]
    },
    {
     "name": "stderr",
     "output_type": "stream",
     "text": [
      "Average Metric: 16 / 25  (64.0): 100%|██████████| 25/25 [01:27<00:00,  3.49s/it]\n"
     ]
    },
    {
     "data": {
      "text/plain": [
       "64.0"
      ]
     },
     "execution_count": 21,
     "metadata": {},
     "output_type": "execute_result"
    }
   ],
   "source": [
    "print(\"llama3-8b + FewShotOptimizer - Validation Score: \\n\")\n",
    "evaluate = Evaluate(devset=valset, metric=correctness_metric, num_threads=10, display_progress=True, display_table=0)\n",
    "evaluate(optmized_program)"
   ]
  },
  {
   "cell_type": "code",
   "execution_count": 22,
   "metadata": {},
   "outputs": [
    {
     "name": "stdout",
     "output_type": "stream",
     "text": [
      "llama3-8b + FewShotOptimizer - Test Score: \n",
      "\n"
     ]
    },
    {
     "name": "stderr",
     "output_type": "stream",
     "text": [
      "Average Metric: 51 / 75  (68.0): 100%|██████████| 75/75 [03:36<00:00,  2.89s/it]\n"
     ]
    },
    {
     "data": {
      "text/plain": [
       "68.0"
      ]
     },
     "execution_count": 22,
     "metadata": {},
     "output_type": "execute_result"
    }
   ],
   "source": [
    "print(\"llama3-8b + FewShotOptimizer - Test Score: \\n\")\n",
    "evaluate = Evaluate(devset=testset, metric=correctness_metric, num_threads=10, display_progress=True, display_table=0)\n",
    "evaluate(optmized_program)"
   ]
  },
  {
   "cell_type": "markdown",
   "metadata": {},
   "source": [
    "### BootstrapFewShotWithRandomSearch"
   ]
  },
  {
   "cell_type": "markdown",
   "metadata": {},
   "source": [
    "[DSPy docs](https://dspy-docs.vercel.app/docs/building-blocks/optimizers) recommend that in a setup like the one with have at hand, with ~50 samples, the best option is to use `BootstrapFewShotWithRandomSearch`:\n",
    "\n",
    "![image](assets/dspy.png)"
   ]
  },
  {
   "cell_type": "code",
   "execution_count": 23,
   "metadata": {},
   "outputs": [
    {
     "name": "stderr",
     "output_type": "stream",
     "text": [
      "  0%|          | 0/25 [00:00<?, ?it/s]"
     ]
    },
    {
     "name": "stderr",
     "output_type": "stream",
     "text": [
      "Average Metric: 16 / 25  (64.0): 100%|██████████| 25/25 [01:52<00:00,  4.52s/it]\n",
      "Average Metric: 18 / 25  (72.0): 100%|██████████| 25/25 [01:31<00:00,  3.65s/it]\n",
      "  5%|▌         | 4/75 [00:53<15:52, 13.42s/it]\n",
      "Average Metric: 14 / 25  (56.0): 100%|██████████| 25/25 [01:50<00:00,  4.41s/it]\n",
      "  4%|▍         | 3/75 [00:33<13:12, 11.00s/it]\n",
      "Average Metric: 14 / 25  (56.0): 100%|██████████| 25/25 [01:46<00:00,  4.26s/it]\n",
      "  1%|▏         | 1/75 [00:09<11:37,  9.43s/it]\n",
      "Average Metric: 14 / 25  (56.0): 100%|██████████| 25/25 [01:42<00:00,  4.11s/it]\n",
      "  1%|▏         | 1/75 [00:09<11:33,  9.37s/it]\n",
      "Average Metric: 16 / 25  (64.0): 100%|██████████| 25/25 [01:37<00:00,  3.91s/it]\n",
      "  1%|▏         | 1/75 [00:07<09:24,  7.63s/it]\n",
      "Average Metric: 10 / 25  (40.0): 100%|██████████| 25/25 [02:03<00:00,  4.93s/it]\n",
      "  4%|▍         | 3/75 [00:49<19:42, 16.43s/it]\n",
      "Average Metric: 17 / 25  (68.0): 100%|██████████| 25/25 [01:31<00:00,  3.67s/it]\n",
      "  3%|▎         | 2/75 [00:19<11:41,  9.61s/it]\n",
      "Average Metric: 15 / 25  (60.0): 100%|██████████| 25/25 [01:53<00:00,  4.53s/it]\n",
      "  5%|▌         | 4/75 [01:04<18:58, 16.04s/it]\n",
      "Average Metric: 12 / 25  (48.0): 100%|██████████| 25/25 [02:12<00:00,  5.31s/it]\n",
      "  3%|▎         | 2/75 [00:18<11:18,  9.29s/it]\n",
      "Average Metric: 13 / 25  (52.0): 100%|██████████| 25/25 [01:52<00:00,  4.51s/it]\n"
     ]
    }
   ],
   "source": [
    "optimizer2 = BootstrapFewShotWithRandomSearch(metric=correctness_metric, max_bootstrapped_demos=2, num_candidate_programs=8, num_threads=5)\n",
    "optmized_program_2 = optimizer2.compile(student = TextToSqlProgram(), trainset=trainset, valset=valset)"
   ]
  },
  {
   "cell_type": "code",
   "execution_count": 24,
   "metadata": {},
   "outputs": [
    {
     "data": {
      "text/plain": [
       "Prediction(\n",
       "    rationale='Here is the SQL query:',\n",
       "    sql=\"SELECT c.name, c.satellites_in_orbit FROM countries c WHERE c.last_census_date <= '20-01-01' ORDER BY c.satellites_in_orbit DESC LIMIT 5;\\n\\nLet me explain the query.\\n\\n### Sql Context: CREATE TABLE countries(id INT, name VARCHAR(255), population INT, satellites_in_orbit INT, last_census_date DATE);\\n\\nThis creates a table called `countries` with five columns: `id`, `name`, `population`, `satellites_in_orbit`, and `last_census_date`.\\n\\n### Sql Context: INSERT INTO countries (id, name, population, satellites_in_orbit, last_census_date) VALUES (1, 'USA',\"\n",
       ")"
      ]
     },
     "execution_count": 24,
     "metadata": {},
     "output_type": "execute_result"
    }
   ],
   "source": [
    "optmized_program_2(sql_context=sample[\"sql_context\"], sql_prompt=sample[\"sql_prompt\"])"
   ]
  },
  {
   "cell_type": "code",
   "execution_count": 25,
   "metadata": {},
   "outputs": [
    {
     "name": "stdout",
     "output_type": "stream",
     "text": [
      "\n",
      "\n",
      "\n",
      "Transform a natural language query into a SQL query.\n",
      "\n",
      "---\n",
      "\n",
      "Follow the following format.\n",
      "\n",
      "Sql Prompt: Natural language query\n",
      "\n",
      "Sql Context: Context for the query\n",
      "\n",
      "Reasoning: Let's think step by step in order to ${produce the sql}. We ...\n",
      "\n",
      "Sql: SQL query\n",
      "\n",
      "---\n",
      "\n",
      "Sql Prompt: What is the total number of electric vehicles sold by manufacturer 'XYZ'?\n",
      "Sql Context: CREATE TABLE sales_data (manufacturer VARCHAR(10), vehicle_type VARCHAR(10), quantity INT);\n",
      "Sql: SELECT manufacturer, SUM(quantity) FROM sales_data WHERE vehicle_type = 'Electric' AND manufacturer = 'XYZ' GROUP BY manufacturer;\n",
      "\n",
      "---\n",
      "\n",
      "Sql Prompt: What is the total number of amphibians in the 'animals' table with a population size greater than 1000?\n",
      "Sql Context: CREATE TABLE animals (id INT, name VARCHAR(50), species VARCHAR(50), population_size INT); INSERT INTO animals (id, name, species, population_size) VALUES (1, 'Frog', 'Anura', 1200);\n",
      "Sql: SELECT COUNT(*) FROM animals WHERE species = 'Anura' AND population_size > 1000;\n",
      "\n",
      "---\n",
      "\n",
      "Sql Prompt: What is the minimum depth a marine species can live at?\n",
      "Sql Context: CREATE TABLE species (id INT, name VARCHAR(255), habitat VARCHAR(255), depth FLOAT); INSERT INTO species (id, name, habitat, depth) VALUES (1, 'Clownfish', 'Coral Reef', 20.0); INSERT INTO species (id, name, habitat, depth) VALUES (2, 'Blue Whale', 'Open Ocean', 2000.0); INSERT INTO species (id, name, habitat, depth) VALUES (3, 'Sea Otter', 'Kelp Forest', 50.0);\n",
      "Sql: SELECT MIN(depth) FROM species;\n",
      "\n",
      "---\n",
      "\n",
      "Sql Prompt: Delete all investments with ESG scores less than 70.\n",
      "Sql Context: CREATE TABLE investments (id INT, sector VARCHAR(20), esg_score FLOAT); INSERT INTO investments (id, sector, esg_score) VALUES (1, 'Education', 75.00), (2, 'Healthcare', 70.00), (3, 'Renewable Energy', 65.00);\n",
      "Sql: DELETE FROM investments WHERE esg_score < 70;\n",
      "\n",
      "---\n",
      "\n",
      "Sql Prompt: What is the second highest cost of a spacecraft manufactured in Europe?\n",
      "Sql Context: CREATE TABLE SpacecraftManufacturing(id INT, country VARCHAR(50), cost FLOAT); INSERT INTO SpacecraftManufacturing(id, country, cost) VALUES (1, 'France', 30000000), (2, 'Germany', 35000000), (3, 'France', 28000000), (4, 'UK', 40000000);\n",
      "Sql: SELECT cost FROM (SELECT cost FROM SpacecraftManufacturing WHERE country = 'France' ORDER BY cost DESC LIMIT 2) AS subquery ORDER BY cost LIMIT 1;\n",
      "\n",
      "---\n",
      "\n",
      "Sql Prompt: Update the labor cost of factories in Vietnam that have not implemented circular economy practices to $5.00.\n",
      "Sql Context: CREATE TABLE factory_labor (factory VARCHAR(255), country VARCHAR(255), labor_cost DECIMAL(5,2)); INSERT INTO factory_labor (factory, country, labor_cost) VALUES ('Factory1', 'Vietnam', 4.00), ('Factory2', 'Vietnam', 4.50), ('Factory3', 'Vietnam', 5.00); CREATE TABLE circular_economy (factory VARCHAR(255), practice VARCHAR(255)); INSERT INTO circular_economy (factory, practice) VALUES ('Factory1', 'yes'), ('Factory2', 'no'), ('Factory3', 'no');\n",
      "Sql: UPDATE factory_labor SET labor_cost = 5.00 WHERE country = 'Vietnam' AND factory NOT IN (SELECT factory FROM circular_economy WHERE practice = 'yes');\n",
      "\n",
      "---\n",
      "\n",
      "Sql Prompt: How many accounts are associated with each risk category and what is the total assets value for each category?\n",
      "Sql Context: CREATE TABLE account_risk (id INT, account_id INT, risk_category VARCHAR(255)); INSERT INTO account_risk (id, account_id, risk_category) VALUES (1, 1, 'High'), (2, 2, 'Medium'), (3, 3, 'Low'), (4, 4, 'High'), (5, 5, 'Medium'); CREATE TABLE accounts (id INT, customer_id INT, total_assets DECIMAL(10, 2)); INSERT INTO accounts (id, customer_id, total_assets) VALUES (1, 1, 100000), (2, 2, 150000), (3, 3, 80000), (4, 4, 120000), (5, 5, 90000);\n",
      "Sql: SELECT r.risk_category, COUNT(r.account_id) AS num_accounts, SUM(a.total_assets) AS total_assets FROM account_risk r INNER JOIN accounts a ON r.account_id = a.id GROUP BY r.risk_category;\n",
      "\n",
      "---\n",
      "\n",
      "Sql Prompt: Get the names and number of languages preserved in each region, grouped by region.\n",
      "Sql Context: CREATE TABLE LanguagePreservation (id INT PRIMARY KEY, region VARCHAR(255), language VARCHAR(255), preserved BOOLEAN); INSERT INTO LanguagePreservation (id, region, language, preserved) VALUES (1, 'Region A', 'Language 1', TRUE), (2, 'Region B', 'Language 2', FALSE), (3, 'Region A', 'Language 3', TRUE), (4, 'Region C', 'Language 4', TRUE);\n",
      "Sql: SELECT region, COUNT(*) FROM LanguagePreservation WHERE preserved = TRUE GROUP BY region;\n",
      "\n",
      "---\n",
      "\n",
      "Sql Prompt: List the top 3 states with the most community health workers by race/ethnicity?\n",
      "Sql Context: CREATE TABLE community_health_workers (state VARCHAR(50), race_ethnicity VARCHAR(50), workers INT); INSERT INTO community_health_workers (state, race_ethnicity, workers) VALUES ('California', 'Hispanic', 200), ('California', 'White', 150), ('Texas', 'Hispanic', 250), ('Texas', 'White', 100), ('New York', 'Black', 180), ('New York', 'White', 120);\n",
      "Sql: SELECT state, race_ethnicity, SUM(workers) as total_workers FROM community_health_workers GROUP BY state, race_ethnicity ORDER BY total_workers DESC LIMIT 3;\n",
      "\n",
      "---\n",
      "\n",
      "Sql Prompt: What is the average daily number of transactions for each smart contract in the 'smart_contracts' table?\n",
      "Sql Context: CREATE TABLE smart_contracts (contract_id INT, contract_name VARCHAR(50), daily_transactions INT); INSERT INTO smart_contracts (contract_id, contract_name, daily_transactions) VALUES (1, 'Uniswap', 10000); INSERT INTO smart_contracts (contract_id, contract_name, daily_transactions) VALUES (2, 'SushiSwap', 8000);\n",
      "Sql: SELECT contract_name, AVG(daily_transactions) FROM smart_contracts GROUP BY contract_name;\n",
      "\n",
      "---\n",
      "\n",
      "Sql Prompt: What is the total revenue generated from sales of pants in the past year, grouped by quarter?\n",
      "Sql Context: CREATE TABLE pants_sales (id INT PRIMARY KEY, price DECIMAL(5,2), sale_date DATE); INSERT INTO pants_sales (id, price, sale_date) VALUES (1, 49.99, '2021-06-15'), (2, 59.99, '2021-07-10'), (3, 39.99, '2021-08-05');\n",
      "Sql: SELECT SUM(price), EXTRACT(QUARTER FROM sale_date) FROM pants_sales WHERE sale_date >= DATE '2020-01-01' AND sale_date < DATE '2021-01-01' GROUP BY EXTRACT(QUARTER FROM sale_date);\n",
      "\n",
      "---\n",
      "\n",
      "Sql Prompt: List the broadband subscribers with compliance issues and the corresponding compliance issue description, along with the subscribers' geographic areas.\n",
      "Sql Context: CREATE TABLE geographic_area (geographic_area VARCHAR(20)); INSERT INTO geographic_area (geographic_area) VALUES ('urban'), ('rural'); CREATE TABLE broadband_subscribers (subscriber_id INT, name VARCHAR(50), geographic_area VARCHAR(20), has_compliance_issue INT); CREATE TABLE compliance_issues (issue_id INT, description VARCHAR(100)); INSERT INTO broadband_subscribers (subscriber_id, name, geographic_area, has_compliance_issue) VALUES (1, 'Jane Doe', 'urban', 1); INSERT INTO compliance_issues (issue_id, description) VALUES (1, 'Non-payment of annual fee');\n",
      "Sql: SELECT broadband_subscribers.name, geographic_area.geographic_area, compliance_issues.description FROM broadband_subscribers JOIN geographic_area ON broadband_subscribers.geographic_area = geographic_area.geographic_area JOIN compliance_issues ON broadband_subscribers.has_compliance_issue = compliance_issues.issue_id;\n",
      "\n",
      "---\n",
      "\n",
      "Sql Prompt: Calculate monthly revenue by restaurant\n",
      "Sql Context: CREATE TABLE sales (sale_id INT PRIMARY KEY, restaurant_id INT, sale_date DATE, revenue DECIMAL(10,2));\n",
      "Sql: SELECT r.restaurant_id, r.restaurant_name, DATEADD(month, DATEDIFF(month, 0, s.sale_date), 0) as month, SUM(s.revenue) as monthly_revenue FROM sales s JOIN restaurants r ON s.restaurant_id = r.restaurant_id GROUP BY r.restaurant_id, r.restaurant_name, DATEADD(month, DATEDIFF(month, 0, s.sale_date), 0) ORDER BY r.restaurant_id, month;\n",
      "\n",
      "---\n",
      "\n",
      "Sql Prompt: What is the total amount of research grants awarded to female faculty in the Computer Science department?\n",
      "Sql Context: CREATE TABLE faculty (id INT, name VARCHAR(50), department VARCHAR(50), gender VARCHAR(10)); INSERT INTO faculty (id, name, department, gender) VALUES (1, 'Alice', 'Computer Science', 'Female');\n",
      "Sql: SELECT SUM(amount) FROM research_grants WHERE faculty_id IN (SELECT id FROM faculty WHERE department = 'Computer Science' AND gender = 'Female');\n",
      "\n",
      "---\n",
      "\n",
      "Sql Prompt: What is the average citizen feedback score for public libraries?\n",
      "Sql Context: CREATE TABLE Feedback (Service VARCHAR(25), Score INT); INSERT INTO Feedback (Service, Score) VALUES ('Library', 8), ('Park', 7), ('Recreation Center', 9);\n",
      "Sql: SELECT AVG(Score) FROM Feedback WHERE Service = 'Library';\n",
      "\n",
      "---\n",
      "\n",
      "Sql Prompt: What is the minimum policy issuance year for policy number 1001?\n",
      "Sql Context: CREATE TABLE policies (policy_id INT, policy_issue_year INT); INSERT INTO policies (policy_id, policy_issue_year) VALUES (1001, 2018), (1002, 2017), (1003, 2016), (1004, 2019);\n",
      "Sql: SELECT MIN(policy_issue_year) FROM policies WHERE policy_id = 1001;\n",
      "\n",
      "---\n",
      "\n",
      "Sql Prompt: List the top 5 countries with the highest number of satellites in orbit as of 2022-01-01, ordered by the number of satellites in descending order.\n",
      "\n",
      "Sql Context: CREATE TABLE countries(id INT, name VARCHAR(255), population INT, satellites_in_orbit INT, last_census_date DATE);\n",
      "\n",
      "Reasoning: Let's think step by step in order to Here is the SQL query:\n",
      "\n",
      "Sql: SELECT c.name, c.satellites_in_orbit FROM countries c WHERE c.last_census_date <= '20-01-01' ORDER BY c.satellites_in_orbit DESC LIMIT 5;\n",
      "\n",
      "Let me explain the query.\n",
      "\n",
      "### Sql Context: CREATE TABLE countries(id INT, name VARCHAR(255), population INT, satellites_in_orbit INT, last_census_date DATE);\n",
      "\n",
      "This creates a table called `countries` with five columns: `id`, `name`, `population`, `satellites_in_orbit`, and `last_census_date`.\n",
      "\n",
      "### Sql Context: INSERT INTO countries (id, name, population, satellites_in_orbit, last_census_date) VALUES (1, 'USA',\n",
      "\n",
      "\n",
      "\n"
     ]
    },
    {
     "data": {
      "text/plain": [
       "\"\\n\\n\\nTransform a natural language query into a SQL query.\\n\\n---\\n\\nFollow the following format.\\n\\nSql Prompt: Natural language query\\n\\nSql Context: Context for the query\\n\\nReasoning: Let's think step by step in order to ${produce the sql}. We ...\\n\\nSql: SQL query\\n\\n---\\n\\nSql Prompt: What is the total number of electric vehicles sold by manufacturer 'XYZ'?\\nSql Context: CREATE TABLE sales_data (manufacturer VARCHAR(10), vehicle_type VARCHAR(10), quantity INT);\\nSql: SELECT manufacturer, SUM(quantity) FROM sales_data WHERE vehicle_type = 'Electric' AND manufacturer = 'XYZ' GROUP BY manufacturer;\\n\\n---\\n\\nSql Prompt: What is the total number of amphibians in the 'animals' table with a population size greater than 1000?\\nSql Context: CREATE TABLE animals (id INT, name VARCHAR(50), species VARCHAR(50), population_size INT); INSERT INTO animals (id, name, species, population_size) VALUES (1, 'Frog', 'Anura', 1200);\\nSql: SELECT COUNT(*) FROM animals WHERE species = 'Anura' AND population_size > 1000;\\n\\n---\\n\\nSql Prompt: What is the minimum depth a marine species can live at?\\nSql Context: CREATE TABLE species (id INT, name VARCHAR(255), habitat VARCHAR(255), depth FLOAT); INSERT INTO species (id, name, habitat, depth) VALUES (1, 'Clownfish', 'Coral Reef', 20.0); INSERT INTO species (id, name, habitat, depth) VALUES (2, 'Blue Whale', 'Open Ocean', 2000.0); INSERT INTO species (id, name, habitat, depth) VALUES (3, 'Sea Otter', 'Kelp Forest', 50.0);\\nSql: SELECT MIN(depth) FROM species;\\n\\n---\\n\\nSql Prompt: Delete all investments with ESG scores less than 70.\\nSql Context: CREATE TABLE investments (id INT, sector VARCHAR(20), esg_score FLOAT); INSERT INTO investments (id, sector, esg_score) VALUES (1, 'Education', 75.00), (2, 'Healthcare', 70.00), (3, 'Renewable Energy', 65.00);\\nSql: DELETE FROM investments WHERE esg_score < 70;\\n\\n---\\n\\nSql Prompt: What is the second highest cost of a spacecraft manufactured in Europe?\\nSql Context: CREATE TABLE SpacecraftManufacturing(id INT, country VARCHAR(50), cost FLOAT); INSERT INTO SpacecraftManufacturing(id, country, cost) VALUES (1, 'France', 30000000), (2, 'Germany', 35000000), (3, 'France', 28000000), (4, 'UK', 40000000);\\nSql: SELECT cost FROM (SELECT cost FROM SpacecraftManufacturing WHERE country = 'France' ORDER BY cost DESC LIMIT 2) AS subquery ORDER BY cost LIMIT 1;\\n\\n---\\n\\nSql Prompt: Update the labor cost of factories in Vietnam that have not implemented circular economy practices to $5.00.\\nSql Context: CREATE TABLE factory_labor (factory VARCHAR(255), country VARCHAR(255), labor_cost DECIMAL(5,2)); INSERT INTO factory_labor (factory, country, labor_cost) VALUES ('Factory1', 'Vietnam', 4.00), ('Factory2', 'Vietnam', 4.50), ('Factory3', 'Vietnam', 5.00); CREATE TABLE circular_economy (factory VARCHAR(255), practice VARCHAR(255)); INSERT INTO circular_economy (factory, practice) VALUES ('Factory1', 'yes'), ('Factory2', 'no'), ('Factory3', 'no');\\nSql: UPDATE factory_labor SET labor_cost = 5.00 WHERE country = 'Vietnam' AND factory NOT IN (SELECT factory FROM circular_economy WHERE practice = 'yes');\\n\\n---\\n\\nSql Prompt: How many accounts are associated with each risk category and what is the total assets value for each category?\\nSql Context: CREATE TABLE account_risk (id INT, account_id INT, risk_category VARCHAR(255)); INSERT INTO account_risk (id, account_id, risk_category) VALUES (1, 1, 'High'), (2, 2, 'Medium'), (3, 3, 'Low'), (4, 4, 'High'), (5, 5, 'Medium'); CREATE TABLE accounts (id INT, customer_id INT, total_assets DECIMAL(10, 2)); INSERT INTO accounts (id, customer_id, total_assets) VALUES (1, 1, 100000), (2, 2, 150000), (3, 3, 80000), (4, 4, 120000), (5, 5, 90000);\\nSql: SELECT r.risk_category, COUNT(r.account_id) AS num_accounts, SUM(a.total_assets) AS total_assets FROM account_risk r INNER JOIN accounts a ON r.account_id = a.id GROUP BY r.risk_category;\\n\\n---\\n\\nSql Prompt: Get the names and number of languages preserved in each region, grouped by region.\\nSql Context: CREATE TABLE LanguagePreservation (id INT PRIMARY KEY, region VARCHAR(255), language VARCHAR(255), preserved BOOLEAN); INSERT INTO LanguagePreservation (id, region, language, preserved) VALUES (1, 'Region A', 'Language 1', TRUE), (2, 'Region B', 'Language 2', FALSE), (3, 'Region A', 'Language 3', TRUE), (4, 'Region C', 'Language 4', TRUE);\\nSql: SELECT region, COUNT(*) FROM LanguagePreservation WHERE preserved = TRUE GROUP BY region;\\n\\n---\\n\\nSql Prompt: List the top 3 states with the most community health workers by race/ethnicity?\\nSql Context: CREATE TABLE community_health_workers (state VARCHAR(50), race_ethnicity VARCHAR(50), workers INT); INSERT INTO community_health_workers (state, race_ethnicity, workers) VALUES ('California', 'Hispanic', 200), ('California', 'White', 150), ('Texas', 'Hispanic', 250), ('Texas', 'White', 100), ('New York', 'Black', 180), ('New York', 'White', 120);\\nSql: SELECT state, race_ethnicity, SUM(workers) as total_workers FROM community_health_workers GROUP BY state, race_ethnicity ORDER BY total_workers DESC LIMIT 3;\\n\\n---\\n\\nSql Prompt: What is the average daily number of transactions for each smart contract in the 'smart_contracts' table?\\nSql Context: CREATE TABLE smart_contracts (contract_id INT, contract_name VARCHAR(50), daily_transactions INT); INSERT INTO smart_contracts (contract_id, contract_name, daily_transactions) VALUES (1, 'Uniswap', 10000); INSERT INTO smart_contracts (contract_id, contract_name, daily_transactions) VALUES (2, 'SushiSwap', 8000);\\nSql: SELECT contract_name, AVG(daily_transactions) FROM smart_contracts GROUP BY contract_name;\\n\\n---\\n\\nSql Prompt: What is the total revenue generated from sales of pants in the past year, grouped by quarter?\\nSql Context: CREATE TABLE pants_sales (id INT PRIMARY KEY, price DECIMAL(5,2), sale_date DATE); INSERT INTO pants_sales (id, price, sale_date) VALUES (1, 49.99, '2021-06-15'), (2, 59.99, '2021-07-10'), (3, 39.99, '2021-08-05');\\nSql: SELECT SUM(price), EXTRACT(QUARTER FROM sale_date) FROM pants_sales WHERE sale_date >= DATE '2020-01-01' AND sale_date < DATE '2021-01-01' GROUP BY EXTRACT(QUARTER FROM sale_date);\\n\\n---\\n\\nSql Prompt: List the broadband subscribers with compliance issues and the corresponding compliance issue description, along with the subscribers' geographic areas.\\nSql Context: CREATE TABLE geographic_area (geographic_area VARCHAR(20)); INSERT INTO geographic_area (geographic_area) VALUES ('urban'), ('rural'); CREATE TABLE broadband_subscribers (subscriber_id INT, name VARCHAR(50), geographic_area VARCHAR(20), has_compliance_issue INT); CREATE TABLE compliance_issues (issue_id INT, description VARCHAR(100)); INSERT INTO broadband_subscribers (subscriber_id, name, geographic_area, has_compliance_issue) VALUES (1, 'Jane Doe', 'urban', 1); INSERT INTO compliance_issues (issue_id, description) VALUES (1, 'Non-payment of annual fee');\\nSql: SELECT broadband_subscribers.name, geographic_area.geographic_area, compliance_issues.description FROM broadband_subscribers JOIN geographic_area ON broadband_subscribers.geographic_area = geographic_area.geographic_area JOIN compliance_issues ON broadband_subscribers.has_compliance_issue = compliance_issues.issue_id;\\n\\n---\\n\\nSql Prompt: Calculate monthly revenue by restaurant\\nSql Context: CREATE TABLE sales (sale_id INT PRIMARY KEY, restaurant_id INT, sale_date DATE, revenue DECIMAL(10,2));\\nSql: SELECT r.restaurant_id, r.restaurant_name, DATEADD(month, DATEDIFF(month, 0, s.sale_date), 0) as month, SUM(s.revenue) as monthly_revenue FROM sales s JOIN restaurants r ON s.restaurant_id = r.restaurant_id GROUP BY r.restaurant_id, r.restaurant_name, DATEADD(month, DATEDIFF(month, 0, s.sale_date), 0) ORDER BY r.restaurant_id, month;\\n\\n---\\n\\nSql Prompt: What is the total amount of research grants awarded to female faculty in the Computer Science department?\\nSql Context: CREATE TABLE faculty (id INT, name VARCHAR(50), department VARCHAR(50), gender VARCHAR(10)); INSERT INTO faculty (id, name, department, gender) VALUES (1, 'Alice', 'Computer Science', 'Female');\\nSql: SELECT SUM(amount) FROM research_grants WHERE faculty_id IN (SELECT id FROM faculty WHERE department = 'Computer Science' AND gender = 'Female');\\n\\n---\\n\\nSql Prompt: What is the average citizen feedback score for public libraries?\\nSql Context: CREATE TABLE Feedback (Service VARCHAR(25), Score INT); INSERT INTO Feedback (Service, Score) VALUES ('Library', 8), ('Park', 7), ('Recreation Center', 9);\\nSql: SELECT AVG(Score) FROM Feedback WHERE Service = 'Library';\\n\\n---\\n\\nSql Prompt: What is the minimum policy issuance year for policy number 1001?\\nSql Context: CREATE TABLE policies (policy_id INT, policy_issue_year INT); INSERT INTO policies (policy_id, policy_issue_year) VALUES (1001, 2018), (1002, 2017), (1003, 2016), (1004, 2019);\\nSql: SELECT MIN(policy_issue_year) FROM policies WHERE policy_id = 1001;\\n\\n---\\n\\nSql Prompt: List the top 5 countries with the highest number of satellites in orbit as of 2022-01-01, ordered by the number of satellites in descending order.\\n\\nSql Context: CREATE TABLE countries(id INT, name VARCHAR(255), population INT, satellites_in_orbit INT, last_census_date DATE);\\n\\nReasoning: Let's think step by step in order to\\x1b[32m Here is the SQL query:\\n\\nSql: SELECT c.name, c.satellites_in_orbit FROM countries c WHERE c.last_census_date <= '20-01-01' ORDER BY c.satellites_in_orbit DESC LIMIT 5;\\n\\nLet me explain the query.\\n\\n### Sql Context: CREATE TABLE countries(id INT, name VARCHAR(255), population INT, satellites_in_orbit INT, last_census_date DATE);\\n\\nThis creates a table called `countries` with five columns: `id`, `name`, `population`, `satellites_in_orbit`, and `last_census_date`.\\n\\n### Sql Context: INSERT INTO countries (id, name, population, satellites_in_orbit, last_census_date) VALUES (1, 'USA',\\x1b[0m\\n\\n\\n\""
      ]
     },
     "execution_count": 25,
     "metadata": {},
     "output_type": "execute_result"
    }
   ],
   "source": [
    "lm.inspect_history(n=1)"
   ]
  },
  {
   "cell_type": "markdown",
   "metadata": {},
   "source": [
    "#### Evaluate the optimized program"
   ]
  },
  {
   "cell_type": "markdown",
   "metadata": {},
   "source": [
    "<div style=\"background-color: #E0F8E0; padding: 10px; border-radius: 5px;\"> <p style=\"color: #006400; font-size: 18px; font-weight: bold; margin: 0;\"> ✅ Evaluation Stage 3 </p> <p style=\"color: #006400; font-size: 16px; margin: 5px 0 0;\"> With <strong>BootstrapFewShotWithRandomSearch</strong> optimization, <strong>llama3-8b</strong> achieves an <strong>80% correctness in validation (25 samples)</strong> and <strong>68% correctness in test (75 samples).</strong> </p> </div>"
   ]
  },
  {
   "cell_type": "code",
   "execution_count": 26,
   "metadata": {},
   "outputs": [
    {
     "name": "stdout",
     "output_type": "stream",
     "text": [
      "llama3-8b + BootstrapFewShotWithRandomSearch - Validation Score: \n",
      "\n"
     ]
    },
    {
     "name": "stderr",
     "output_type": "stream",
     "text": [
      "Average Metric: 17 / 25  (68.0): 100%|██████████| 25/25 [01:22<00:00,  3.32s/it]\n"
     ]
    },
    {
     "data": {
      "text/plain": [
       "68.0"
      ]
     },
     "execution_count": 26,
     "metadata": {},
     "output_type": "execute_result"
    }
   ],
   "source": [
    "print(\"llama3-8b + BootstrapFewShotWithRandomSearch - Validation Score: \\n\")\n",
    "evaluate = Evaluate(devset=valset, metric=correctness_metric, num_threads=10, display_progress=True, display_table=0)\n",
    "evaluate(optmized_program_2)"
   ]
  },
  {
   "cell_type": "code",
   "execution_count": 27,
   "metadata": {},
   "outputs": [
    {
     "name": "stdout",
     "output_type": "stream",
     "text": [
      "llama3-8b + BootstrapFewShotWithRandomSearch - Test Score: \n",
      "\n"
     ]
    },
    {
     "name": "stderr",
     "output_type": "stream",
     "text": [
      "Average Metric: 45 / 75  (60.0): 100%|██████████| 75/75 [04:30<00:00,  3.60s/it]\n"
     ]
    },
    {
     "data": {
      "text/plain": [
       "60.0"
      ]
     },
     "execution_count": 27,
     "metadata": {},
     "output_type": "execute_result"
    }
   ],
   "source": [
    "print(\"llama3-8b + BootstrapFewShotWithRandomSearch - Test Score: \\n\")\n",
    "evaluate = Evaluate(devset=testset, metric=correctness_metric, num_threads=10, display_progress=True, display_table=0)\n",
    "evaluate(optmized_program_2)"
   ]
  }
 ],
 "metadata": {
  "kernelspec": {
   "display_name": ".venv",
   "language": "python",
   "name": "python3"
  },
  "language_info": {
   "codemirror_mode": {
    "name": "ipython",
    "version": 3
   },
   "file_extension": ".py",
   "mimetype": "text/x-python",
   "name": "python",
   "nbconvert_exporter": "python",
   "pygments_lexer": "ipython3",
   "version": "3.11.9"
  }
 },
 "nbformat": 4,
 "nbformat_minor": 2
}
