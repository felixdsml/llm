{
 "cells": [
  {
   "cell_type": "markdown",
   "metadata": {},
   "source": [
    "llama-3-8b-Instruct-bnb-4bit-synthetic_text_to_sql-lora-3epochs-Q5_K_M"
   ]
  },
  {
   "cell_type": "markdown",
   "metadata": {},
   "source": [
    "#### Libraries"
   ]
  },
  {
   "cell_type": "code",
   "execution_count": 1,
   "metadata": {},
   "outputs": [
    {
     "name": "stderr",
     "output_type": "stream",
     "text": [
      "c:\\llm\\llm-env\\Lib\\site-packages\\tqdm\\auto.py:21: TqdmWarning: IProgress not found. Please update jupyter and ipywidgets. See https://ipywidgets.readthedocs.io/en/stable/user_install.html\n",
      "  from .autonotebook import tqdm as notebook_tqdm\n"
     ]
    }
   ],
   "source": [
    "import dspy\n",
    "import random\n",
    "from dotenv import load_dotenv\n",
    "from dspy.datasets import DataLoader\n",
    "from dspy.evaluate import Evaluate\n",
    "from dspy.teleprompt import BootstrapFewShotWithRandomSearch, LabeledFewShot\n",
    "\n",
    "#from src.starling import StarlingLM # <- Custom Local Model Client for llama3-8b\n",
    "\n",
    "_ = load_dotenv()"
   ]
  },
  {
   "cell_type": "markdown",
   "metadata": {},
   "source": [
    "#### LLM"
   ]
  },
  {
   "cell_type": "markdown",
   "metadata": {},
   "source": [
    "The model that will be used in this notebook is [llama3-8b](https://huggingface.co/Nexusflow/Starling-LM-7B-beta), and the evaluation model will be [GPT-4 Turbo](https://openai.com/gpt-4)."
   ]
  },
  {
   "cell_type": "code",
   "execution_count": 2,
   "metadata": {},
   "outputs": [],
   "source": [
    "# Share generation args between models\n",
    "generation_args = {\n",
    "    \"temperature\":0,\n",
    "    \"max_tokens\":500,\n",
    "    \"stop\":\"\\n\\n\",\n",
    "    \"model_type\":\"chat\",\n",
    "    \"n\": 1\n",
    "}\n",
    "# Model specific args\n",
    "model_info = {\n",
    "    \"gpt-4\": {\"model\": \"gpt-4-0125-preview\", \"api_base\": \"https://api.openai.com/v1/\"},\n",
    "    \"starling\": {\"model\": \"Nexusflow/Starling-LM-7B-beta\"}\n",
    "}"
   ]
  },
  {
   "cell_type": "code",
   "execution_count": 3,
   "metadata": {},
   "outputs": [],
   "source": [
    "# Set up the models\n",
    "# lm = StarlingLM(**model_info[\"starling\"], **generation_args)\n",
    "# evaluator_lm = dspy.OpenAI(**model_info[\"gpt-4\"], **generation_args)\n",
    "\n",
    "lm = dspy.OllamaLocal(model=\"llama-3-8b-bnb-4bit-synthetic_text_to_sql-lora-3epochs-Q5_K_M:latest\", base_url='http://localhost:11435')\n",
    "# evaluator_lm = dspy.OpenAI(**model_info[\"gpt-4\"], **generation_args)\n",
    "evaluator_lm = dspy.OllamaLocal(model='llama3:70b', base_url='http://localhost:11434')\n",
    "\n",
    "dspy.configure(lm=lm)"
   ]
  },
  {
   "cell_type": "code",
   "execution_count": 4,
   "metadata": {},
   "outputs": [
    {
     "data": {
      "text/plain": [
       "[\" - 4.5\\n### Sql Prompt: Natural language query\\nHow many tourists visited Colombia in 2020?\\n\\n### Sql Context: Context for the query\\nCREATE TABLE tourism_stats (country VARCHAR(255), year INT, visitors INT); INSERT INTO tourism_stats (country, year, visitors) VALUES ('Colombia', 2019, 4000000), ('Colombia', 2020, 2000000);\\n\\n\\n### Sql: SQL query\\nSELECT visitors FROM tourism_stats WHERE country = 'Colombia' AND year = 2020;\\n\"]"
      ]
     },
     "execution_count": 4,
     "metadata": {},
     "output_type": "execute_result"
    }
   ],
   "source": [
    "# Testing inference of Starling\n",
    "lm(\"What is the capital of Colombia?\")"
   ]
  },
  {
   "cell_type": "markdown",
   "metadata": {},
   "source": [
    "#### Load dataset"
   ]
  },
  {
   "cell_type": "markdown",
   "metadata": {},
   "source": [
    "The dataset that will be used in this notebook is [gretelai/synthetic_text_to_sql](https://huggingface.co/datasets/gretelai/synthetic_text_to_sql)"
   ]
  },
  {
   "cell_type": "code",
   "execution_count": 5,
   "metadata": {},
   "outputs": [],
   "source": [
    "# Define random seed\n",
    "random.seed(1399)"
   ]
  },
  {
   "cell_type": "code",
   "execution_count": 6,
   "metadata": {},
   "outputs": [],
   "source": [
    "# # Load dataset\n",
    "# dl = DataLoader()\n",
    "# trainset = dl.from_huggingface(\n",
    "#     dataset_name=\"gretelai/synthetic_text_to_sql\", # Dataset name from Huggingface\n",
    "#     fields=(\"sql_prompt\", \"sql_context\", \"sql\"), # Fields needed\n",
    "#     input_keys=(\"sql_prompt\", \"sql_context\"), # What our model expects to recieve to generate an output\n",
    "#     split=\"train\"\n",
    "# )\n",
    "\n",
    "# testset = dl.from_huggingface(\n",
    "#     dataset_name=\"gretelai/synthetic_text_to_sql\", # Dataset name from Huggingface\n",
    "#     fields=(\"sql_prompt\", \"sql_context\", \"sql\"), # Fields needed\n",
    "#     input_keys=(\"sql_prompt\", \"sql_context\"), # What our model expects to recieve to generate an output\n",
    "#     split=\"test\"\n",
    "# )\n",
    "\n",
    "\n",
    "# trainset = dl.sample(dataset=trainset, n=100)\n",
    "# testset = dl.sample(dataset=testset, n=75)\n",
    "# finetuneset = dl.sample(dataset=trainset, n=100)\n",
    "\n",
    "# _trainval = dl.train_test_split(dataset=trainset, test_size=0.25, random_state=1399) # 25% of training data for validation\n",
    "# trainset, valset = _trainval[\"train\"], _trainval[\"test\"]\n",
    "\n",
    "# len(trainset), len(valset), len(testset)"
   ]
  },
  {
   "cell_type": "code",
   "execution_count": 7,
   "metadata": {},
   "outputs": [
    {
     "name": "stdout",
     "output_type": "stream",
     "text": [
      "80 40 80\n"
     ]
    }
   ],
   "source": [
    "# Load dataset\n",
    "dl = DataLoader()\n",
    "\n",
    "testset = dl.from_huggingface(\n",
    "    dataset_name=\"gretelai/synthetic_text_to_sql\", # Dataset name from Huggingface\n",
    "    fields=(\"sql_prompt\", \"sql_context\", \"sql\"), # Fields needed\n",
    "    input_keys=(\"sql_prompt\", \"sql_context\"), # What our model expects to recieve to generate an output\n",
    "    split=\"test\"\n",
    ")\n",
    "# print(len(testset))\n",
    "\n",
    "testset = dl.sample(dataset=testset, n=200)\n",
    "\n",
    "# Calculate the sizes of each set\n",
    "total_size = len(testset)\n",
    "train_size = int(total_size * 0.4)  # 40% of the data\n",
    "val_size = int(total_size * 0.2)  # 20% of the data\n",
    "\n",
    "# Split the dataset into train, validation and test sets\n",
    "trainset = testset[:train_size]\n",
    "valset = testset[train_size:train_size + val_size]\n",
    "testset = testset[train_size + val_size:]\n",
    "\n",
    "print(len(trainset), len(valset), len(testset))"
   ]
  },
  {
   "cell_type": "code",
   "execution_count": 8,
   "metadata": {},
   "outputs": [
    {
     "name": "stdout",
     "output_type": "stream",
     "text": [
      "\n",
      "SQL_PROMPT:\n",
      "\n",
      "What is the average monthly data usage for each mobile network operator?\n",
      "\n",
      "SQL_CONTEXT:\n",
      "\n",
      "CREATE TABLE mobile_operators (operator_id INT, operator_name VARCHAR(50)); CREATE TABLE mobile_plans (plan_id INT, plan_name VARCHAR(50), operator_id INT, data_limit INT); CREATE TABLE usage (usage_id INT, subscriber_id INT, plan_id INT, usage_amount INT, usage_date DATE);\n",
      "\n",
      "SQL:\n",
      "\n",
      "SELECT o.operator_name, AVG(u.usage_amount) AS avg_monthly_data_usage FROM mobile_operators o INNER JOIN mobile_plans p ON o.operator_id = p.operator_id INNER JOIN usage u ON p.plan_id = u.plan_id WHERE u.usage_date >= DATEADD(month, -1, GETDATE()) GROUP BY o.operator_name;\n"
     ]
    }
   ],
   "source": [
    "# Verify an example of the dataset\n",
    "sample = trainset[0]\n",
    "for k, v in sample.items():\n",
    "    print(f\"\\n{k.upper()}:\\n\")\n",
    "    print(v)"
   ]
  },
  {
   "cell_type": "code",
   "execution_count": 9,
   "metadata": {},
   "outputs": [],
   "source": [
    "# # Verify an example of the dataset\n",
    "# sample = dl.sample(dataset=trainset, n=1)[0]\n",
    "# for k, v in sample.items():\n",
    "#     print(f\"\\n{k.upper()}:\\n\")\n",
    "#     print(v)"
   ]
  },
  {
   "cell_type": "markdown",
   "metadata": {},
   "source": [
    "#### Signature (Input/Output)"
   ]
  },
  {
   "cell_type": "code",
   "execution_count": 10,
   "metadata": {},
   "outputs": [],
   "source": [
    "class TextToSql(dspy.Signature):\n",
    "    \"\"\"Transform a natural language query into a SQL query.\"\"\"\n",
    "\n",
    "    sql_prompt = dspy.InputField(desc=\"Natural language query\")\n",
    "    sql_context = dspy.InputField(desc=\"Context for the query\")\n",
    "    sql = dspy.OutputField(desc=\"SQL query\")"
   ]
  },
  {
   "cell_type": "markdown",
   "metadata": {},
   "source": [
    "### Inference"
   ]
  },
  {
   "cell_type": "markdown",
   "metadata": {},
   "source": [
    "#### Baseline Inference"
   ]
  },
  {
   "cell_type": "code",
   "execution_count": 11,
   "metadata": {},
   "outputs": [
    {
     "name": "stdout",
     "output_type": "stream",
     "text": [
      "\n",
      "SQL:\n",
      "\n",
      "SELECT mo.operator_name, AVG(u.usage_amount) as avg_data_usage FROM mobile_operators mo INNER JOIN mobile_plans mp ON mo.operator_id = mp.operator_id INNER JOIN usage u ON mp.plan_id = u.plan_id GROUP BY mo.operator_name;\"\"\"\"\"\n"
     ]
    }
   ],
   "source": [
    "generate_sql_query = dspy.Predict(signature=TextToSql)\n",
    "\n",
    "result = generate_sql_query(\n",
    "    sql_prompt=sample[\"sql_prompt\"],\n",
    "    sql_context=sample[\"sql_context\"]\n",
    ")\n",
    "\n",
    "for k, v in result.items():\n",
    "    print(f\"\\n{k.upper()}:\\n\")\n",
    "    print(v)"
   ]
  },
  {
   "cell_type": "markdown",
   "metadata": {},
   "source": [
    "#### ChainOfThought Inference"
   ]
  },
  {
   "cell_type": "code",
   "execution_count": 12,
   "metadata": {},
   "outputs": [
    {
     "name": "stdout",
     "output_type": "stream",
     "text": [
      "\n",
      "RATIONALE:\n",
      "\n",
      "produce the sql. We first need to calculate the monthly data usage for each mobile subscriber, then group by operator and month.\n",
      "### Sql\n",
      "\n",
      "SELECT o.operator_name, EXTRACT(MONTH FROM u.usage_date) as month, AVG(u.usage_amount) as avg_monthly_data_usage FROM mobile_operators o JOIN mobile_plans p ON o.operator_id = p.operator_id JOIN usage u ON p.plan_id = u.plan_id GROUP BY o.operator_name, month;\n",
      "\n",
      "\n",
      "### Sql Context: Context for the query\n",
      "\n",
      "CREATE TABLE mobile_operators (operator_id INT, operator_name VARCHAR(50)); CREATE TABLE mobile_plans (plan_id INT, plan_name VARCHAR(50), operator_id INT, data_limit INT); CREATE TABLE usage (usage_id INT\n",
      "\n",
      "SQL:\n",
      "\n",
      "Natural language query\n",
      "\n",
      "### Sql: SQL query\n",
      "SELECT o.operator_name, EXTRACT(MONTH FROM u.usage_date) as month, AVG(u.usage_amount) as avg_monthly_data_usage FROM mobile_operators o JOIN mobile_plans p ON o.operator_id = p.operator_id JOIN usage u ON p.plan_id = u.plan_id GROUP BY o.operator_name, month;\n",
      "\n",
      "\n",
      "### Sql: SQL context\n",
      "CREATE TABLE mobile_operators (operator_id INT, operator_name VARCHAR(50)); CREATE TABLE mobile_plans (plan_id INT, plan_name VARCHAR(50), operator_id INT, data_limit INT); CREATE TABLE usage (usage_id INT, subscriber_id INT, plan_id INT, usage_amount INT, usage_date DATE);\n"
     ]
    }
   ],
   "source": [
    "generate_sql_query = dspy.ChainOfThought(signature=TextToSql)\n",
    "\n",
    "result = generate_sql_query(\n",
    "    sql_prompt=sample[\"sql_prompt\"],\n",
    "    sql_context=sample[\"sql_context\"]\n",
    ")\n",
    "\n",
    "for k, v in result.items():\n",
    "    print(f\"\\n{k.upper()}:\\n\")\n",
    "    print(v)"
   ]
  },
  {
   "cell_type": "markdown",
   "metadata": {},
   "source": [
    "### Metric of evaluation"
   ]
  },
  {
   "cell_type": "markdown",
   "metadata": {},
   "source": [
    "#### Metric definition"
   ]
  },
  {
   "cell_type": "code",
   "execution_count": 13,
   "metadata": {},
   "outputs": [],
   "source": [
    "class Correctness(dspy.Signature):\n",
    "    \"\"\"Assess if the SQL query accurately answers the given natural language query based on the provided context.\"\"\"\n",
    "\n",
    "    sql_prompt = dspy.InputField(desc=\"Natural language query \")\n",
    "    sql_context = dspy.InputField(desc=\"Context for the query\")\n",
    "    sql = dspy.InputField(desc=\"SQL query\")\n",
    "    correct = dspy.OutputField(desc=\"Indicate whether the SQL query correctly answers the natural language query based on the given context\", prefix=\"Yes/No:\")"
   ]
  },
  {
   "cell_type": "code",
   "execution_count": 14,
   "metadata": {},
   "outputs": [],
   "source": [
    "def correctness_metric(example, pred, trace=None):\n",
    "    sql_prompt, sql_context, sql = example.sql_prompt, example.sql_context, pred.sql\n",
    "\n",
    "    correctness = dspy.Predict(Correctness)\n",
    "\n",
    "    with dspy.context(lm=evaluator_lm): \n",
    "        correct = correctness(\n",
    "            sql_prompt=sql_prompt,\n",
    "            sql_context=sql_context,\n",
    "            sql=sql,\n",
    "        )\n",
    "    \n",
    "    score = int(correct.correct==\"Yes\")\n",
    "\n",
    "    if trace is not None:\n",
    "        return score == 1\n",
    "\n",
    "    return score"
   ]
  },
  {
   "cell_type": "markdown",
   "metadata": {},
   "source": [
    "#### Evaluate single data point"
   ]
  },
  {
   "cell_type": "code",
   "execution_count": 15,
   "metadata": {},
   "outputs": [
    {
     "name": "stdout",
     "output_type": "stream",
     "text": [
      "Correct SQL query: Yes\n"
     ]
    }
   ],
   "source": [
    "_correctness = correctness_metric(\n",
    "    example=sample,\n",
    "    pred=result\n",
    ")\n",
    "print(f\"Correct SQL query: {'Yes' if _correctness else 'No'}\")"
   ]
  },
  {
   "cell_type": "code",
   "execution_count": 16,
   "metadata": {},
   "outputs": [
    {
     "name": "stdout",
     "output_type": "stream",
     "text": [
      "\n",
      "\n",
      "\n",
      "Assess if the SQL query accurately answers the given natural language query based on the provided context.\n",
      "\n",
      "---\n",
      "\n",
      "Follow the following format.\n",
      "\n",
      "Sql Prompt: Natural language query\n",
      "\n",
      "Sql Context: Context for the query\n",
      "\n",
      "Sql: SQL query\n",
      "\n",
      "Yes/No: Indicate whether the SQL query correctly answers the natural language query based on the given context\n",
      "\n",
      "---\n",
      "\n",
      "Sql Prompt: What is the average monthly data usage for each mobile network operator?\n",
      "\n",
      "Sql Context: CREATE TABLE mobile_operators (operator_id INT, operator_name VARCHAR(50)); CREATE TABLE mobile_plans (plan_id INT, plan_name VARCHAR(50), operator_id INT, data_limit INT); CREATE TABLE usage (usage_id INT, subscriber_id INT, plan_id INT, usage_amount INT, usage_date DATE);\n",
      "\n",
      "Sql: Natural language query ### Sql: SQL query SELECT o.operator_name, EXTRACT(MONTH FROM u.usage_date) as month, AVG(u.usage_amount) as avg_monthly_data_usage FROM mobile_operators o JOIN mobile_plans p ON o.operator_id = p.operator_id JOIN usage u ON p.plan_id = u.plan_id GROUP BY o.operator_name, month; ### Sql: SQL context CREATE TABLE mobile_operators (operator_id INT, operator_name VARCHAR(50)); CREATE TABLE mobile_plans (plan_id INT, plan_name VARCHAR(50), operator_id INT, data_limit INT); CREATE TABLE usage (usage_id INT, subscriber_id INT, plan_id INT, usage_amount INT, usage_date DATE);\n",
      "\n",
      "Yes/No: Yes\n",
      "\n",
      "\n",
      "\n"
     ]
    },
    {
     "data": {
      "text/plain": [
       "'\\n\\n\\nAssess if the SQL query accurately answers the given natural language query based on the provided context.\\n\\n---\\n\\nFollow the following format.\\n\\nSql Prompt: Natural language query\\n\\nSql Context: Context for the query\\n\\nSql: SQL query\\n\\nYes/No: Indicate whether the SQL query correctly answers the natural language query based on the given context\\n\\n---\\n\\nSql Prompt: What is the average monthly data usage for each mobile network operator?\\n\\nSql Context: CREATE TABLE mobile_operators (operator_id INT, operator_name VARCHAR(50)); CREATE TABLE mobile_plans (plan_id INT, plan_name VARCHAR(50), operator_id INT, data_limit INT); CREATE TABLE usage (usage_id INT, subscriber_id INT, plan_id INT, usage_amount INT, usage_date DATE);\\n\\nSql: Natural language query ### Sql: SQL query SELECT o.operator_name, EXTRACT(MONTH FROM u.usage_date) as month, AVG(u.usage_amount) as avg_monthly_data_usage FROM mobile_operators o JOIN mobile_plans p ON o.operator_id = p.operator_id JOIN usage u ON p.plan_id = u.plan_id GROUP BY o.operator_name, month; ### Sql: SQL context CREATE TABLE mobile_operators (operator_id INT, operator_name VARCHAR(50)); CREATE TABLE mobile_plans (plan_id INT, plan_name VARCHAR(50), operator_id INT, data_limit INT); CREATE TABLE usage (usage_id INT, subscriber_id INT, plan_id INT, usage_amount INT, usage_date DATE);\\n\\nYes/No:\\x1b[32m Yes\\x1b[0m\\n\\n\\n'"
      ]
     },
     "execution_count": 16,
     "metadata": {},
     "output_type": "execute_result"
    }
   ],
   "source": [
    "evaluator_lm.inspect_history(n=1)"
   ]
  },
  {
   "cell_type": "markdown",
   "metadata": {},
   "source": [
    "#### Evaluate entire dataset - GPT 3.5"
   ]
  },
  {
   "cell_type": "markdown",
   "metadata": {},
   "source": [
    "<div style=\"background-color: #F0F0F0; padding: 10px; border-radius: 5px;\"> <p style=\"color: #4B4B4B; font-size: 18px; font-weight: bold; margin: 0;\"> 📊 Baseline Evaluation </p> <p style=\"color: #4B4B4B; font-size: 16px; margin: 5px 0 0;\"> Without any optimization, <strong>Starling7B</strong> achieves an <strong>80% correctness in validation (25 samples)</strong> and <strong>70.07% correctness in test (75 samples).</strong> </p> </div>"
   ]
  },
  {
   "cell_type": "code",
   "execution_count": null,
   "metadata": {},
   "outputs": [],
   "source": [
    "print(\"GPT 3.5 Turbo - Validation Score: \\n\")\n",
    "with dspy.context(lm=dspy.OpenAI(model=\"gpt-3.5-turbo-0125\", api_base=\"https://api.openai.com/v1/\", **generation_args)):\n",
    "    evaluate = Evaluate(devset=valset, metric=correctness_metric, num_threads=10, display_progress=True, display_table=0)\n",
    "    evaluate(generate_sql_query)"
   ]
  },
  {
   "cell_type": "code",
   "execution_count": null,
   "metadata": {},
   "outputs": [],
   "source": [
    "print(\"GPT 3.5 Turbo - Test Score: \\n\")\n",
    "with dspy.context(lm=dspy.OpenAI(model=\"gpt-3.5-turbo-0125\", api_base=\"https://api.openai.com/v1/\", **generation_args)):\n",
    "    evaluate = Evaluate(devset=testset, metric=correctness_metric, num_threads=10, display_progress=True, display_table=0)\n",
    "    evaluate(generate_sql_query)"
   ]
  },
  {
   "cell_type": "markdown",
   "metadata": {},
   "source": [
    "#### Evaluate entire dataset - llama3-8b"
   ]
  },
  {
   "cell_type": "markdown",
   "metadata": {},
   "source": [
    "<div style=\"background-color: #FFCCCB; padding: 10px; border-radius: 5px;\"> <p style=\"color: #8B0000; font-size: 18px; font-weight: bold; margin: 0;\"> ⚠️ Evaluation Stage 1 </p> <p style=\"color: #8B0000; font-size: 16px; margin: 5px 0 0;\"> Without any optimization, <strong>llama3-8b</strong> achieves an <strong>72% correctness in validation (25 samples)</strong> and <strong>50.67% correctness in test (75 samples).</strong> </p> </div>"
   ]
  },
  {
   "cell_type": "code",
   "execution_count": 26,
   "metadata": {},
   "outputs": [
    {
     "name": "stdout",
     "output_type": "stream",
     "text": [
      "llama3-8b - Validation Score: \n",
      "\n"
     ]
    },
    {
     "name": "stderr",
     "output_type": "stream",
     "text": [
      "Average Metric: 30 / 40  (75.0): 100%|██████████| 40/40 [01:57<00:00,  2.93s/it]\n"
     ]
    },
    {
     "data": {
      "text/plain": [
       "75.0"
      ]
     },
     "execution_count": 26,
     "metadata": {},
     "output_type": "execute_result"
    }
   ],
   "source": [
    "print(\"llama3-8b - Validation Score: \\n\")\n",
    "evaluate = Evaluate(devset=valset, metric=correctness_metric, num_threads=10, display_progress=True, display_table=0)\n",
    "evaluate(generate_sql_query)"
   ]
  },
  {
   "cell_type": "code",
   "execution_count": 27,
   "metadata": {},
   "outputs": [
    {
     "name": "stdout",
     "output_type": "stream",
     "text": [
      "llama3-8b - Test Score: \n",
      "\n"
     ]
    },
    {
     "name": "stderr",
     "output_type": "stream",
     "text": [
      "Average Metric: 57 / 80  (71.2): 100%|██████████| 80/80 [03:31<00:00,  2.64s/it]\n"
     ]
    },
    {
     "data": {
      "text/plain": [
       "71.25"
      ]
     },
     "execution_count": 27,
     "metadata": {},
     "output_type": "execute_result"
    }
   ],
   "source": [
    "print(\"llama3-8b - Test Score: \\n\")\n",
    "evaluate = Evaluate(devset=testset, metric=correctness_metric, num_threads=10, display_progress=True, display_table=0)\n",
    "evaluate(generate_sql_query)"
   ]
  },
  {
   "cell_type": "markdown",
   "metadata": {},
   "source": [
    "### Optimize for Text2SQL"
   ]
  },
  {
   "cell_type": "markdown",
   "metadata": {},
   "source": [
    "#### Create program"
   ]
  },
  {
   "cell_type": "code",
   "execution_count": 28,
   "metadata": {},
   "outputs": [],
   "source": [
    "# Define the program ~ You can think of this a Pytorch model.\n",
    "class TextToSqlProgram(dspy.Module):\n",
    "    def __init__(self):\n",
    "        super().__init__()\n",
    "        self.program = dspy.ChainOfThought(signature=TextToSql)\n",
    "    \n",
    "    def forward(self, sql_prompt, sql_context):\n",
    "        return self.program(\n",
    "            sql_prompt=sql_prompt,\n",
    "            sql_context=sql_context\n",
    "        )"
   ]
  },
  {
   "cell_type": "markdown",
   "metadata": {},
   "source": [
    "### FewShot"
   ]
  },
  {
   "cell_type": "code",
   "execution_count": 29,
   "metadata": {},
   "outputs": [],
   "source": [
    "# Execute the optimizer -> this only adds few shots to the prompt\n",
    "optimizer = LabeledFewShot(k=4)\n",
    "optmized_program = optimizer.compile(student=TextToSqlProgram(), trainset=trainset)"
   ]
  },
  {
   "cell_type": "code",
   "execution_count": 30,
   "metadata": {},
   "outputs": [
    {
     "data": {
      "text/plain": [
       "Prediction(\n",
       "    rationale='SELECT m.operator_name, AVG(u.usage_amount) as AvgDataUsage FROM mobile_operators m JOIN mobile_plans mp ON m.operator_id = mp.operator_id JOIN usage u ON mp.plan_id = u.plan_id GROUP BY m.operator_name;',\n",
       "    sql='SELECT m.operator_name, AVG(u.usage_amount) as AvgDataUsage FROM mobile_operators m JOIN mobile_plans mp ON m.operator_id = mp.operator_id JOIN usage u ON mp.plan_id = u.plan_id GROUP BY m.operator_name;'\n",
       ")"
      ]
     },
     "execution_count": 30,
     "metadata": {},
     "output_type": "execute_result"
    }
   ],
   "source": [
    "optmized_program(sql_context=sample[\"sql_context\"], sql_prompt=sample[\"sql_prompt\"])"
   ]
  },
  {
   "cell_type": "markdown",
   "metadata": {},
   "source": [
    "#### What is happening inside?"
   ]
  },
  {
   "cell_type": "code",
   "execution_count": 31,
   "metadata": {},
   "outputs": [
    {
     "name": "stdout",
     "output_type": "stream",
     "text": [
      "\n",
      "\n",
      "\n",
      "Transform a natural language query into a SQL query.\n",
      "\n",
      "---\n",
      "\n",
      "Sql Prompt: How many solar power projects were completed in California and Texas in 2020 and 2021?\n",
      "Sql Context: CREATE TABLE solar_projects (project_id INT, state VARCHAR(50), completion_year INT); INSERT INTO solar_projects (project_id, state, completion_year) VALUES (1, 'California', 2020), (2, 'Texas', 2021), (3, 'California', 2019), (4, 'Texas', 2020), (5, 'California', 2021), (6, 'Texas', 2019), (7, 'California', 2018), (8, 'Texas', 2018);\n",
      "Sql: SELECT state, COUNT(*) FROM solar_projects WHERE completion_year IN (2020, 2021) AND state IN ('California', 'Texas') GROUP BY state;\n",
      "\n",
      "Sql Prompt: What is the sum of lanthanum imports to Norway and Sweden for the years 2018 and 2019?\n",
      "Sql Context: CREATE TABLE lanthanum_imports (year INT, country TEXT, quantity INT); INSERT INTO lanthanum_imports (year, country, quantity) VALUES (2018, 'Norway', 150), (2019, 'Norway', 160), (2018, 'Sweden', 140), (2019, 'Sweden', 150);\n",
      "Sql: SELECT SUM(quantity) FROM lanthanum_imports WHERE country IN ('Norway', 'Sweden') AND year IN (2018, 2019);\n",
      "\n",
      "Sql Prompt: List all cases where the client is from 'California' and the attorney is 'Smith'\n",
      "Sql Context: CREATE TABLE cases (case_id INT, client_state VARCHAR(2), attorney_name VARCHAR(20));\n",
      "Sql: SELECT * FROM cases WHERE client_state = 'CA' AND attorney_name = 'Smith';\n",
      "\n",
      "Sql Prompt: What is the total number of labor rights advocacy events for each region, by region name?\n",
      "Sql Context: CREATE TABLE Region (Id INT, Name VARCHAR(50)); INSERT INTO Region (Id, Name) VALUES (1, 'Region A'), (2, 'Region B'), (3, 'Region C'); CREATE TABLE AdvocacyEvents (Id INT, RegionId INT, EventCount INT); INSERT INTO AdvocacyEvents (Id, RegionId, EventCount) VALUES (1, 1, 50), (2, 1, 30), (3, 2, 70), (4, 2, 80), (5, 3, 60), (6, 3, 40);\n",
      "Sql: SELECT R.Name, SUM(A.EventCount) as TotalEvents FROM Region R JOIN AdvocacyEvents A ON R.Id = A.RegionId GROUP BY R.Name;\n",
      "\n",
      "---\n",
      "\n",
      "Follow the following format.\n",
      "\n",
      "Sql Prompt: Natural language query\n",
      "\n",
      "Sql Context: Context for the query\n",
      "\n",
      "Reasoning: Let's think step by step in order to ${produce the sql}. We ...\n",
      "\n",
      "Sql: SQL query\n",
      "\n",
      "---\n",
      "\n",
      "Sql Prompt: What is the average monthly data usage for each mobile network operator?\n",
      "\n",
      "Sql Context: CREATE TABLE mobile_operators (operator_id INT, operator_name VARCHAR(50)); CREATE TABLE mobile_plans (plan_id INT, plan_name VARCHAR(50), operator_id INT, data_limit INT); CREATE TABLE usage (usage_id INT, subscriber_id INT, plan_id INT, usage_amount INT, usage_date DATE);\n",
      "\n",
      "Reasoning: Let's think step by step in order to SELECT m.operator_name, AVG(u.usage_amount) as AvgDataUsage FROM mobile_operators m JOIN mobile_plans mp ON m.operator_id = mp.operator_id JOIN usage u ON mp.plan_id = u.plan_id GROUP BY m.operator_name;\n",
      "\n",
      "Sql: SELECT m.operator_name, AVG(u.usage_amount) as AvgDataUsage FROM mobile_operators m JOIN mobile_plans mp ON m.operator_id = mp.operator_id JOIN usage u ON mp.plan_id = u.plan_id GROUP BY m.operator_name;\n",
      "\n",
      "\n",
      "\n"
     ]
    },
    {
     "data": {
      "text/plain": [
       "\"\\n\\n\\nTransform a natural language query into a SQL query.\\n\\n---\\n\\nSql Prompt: How many solar power projects were completed in California and Texas in 2020 and 2021?\\nSql Context: CREATE TABLE solar_projects (project_id INT, state VARCHAR(50), completion_year INT); INSERT INTO solar_projects (project_id, state, completion_year) VALUES (1, 'California', 2020), (2, 'Texas', 2021), (3, 'California', 2019), (4, 'Texas', 2020), (5, 'California', 2021), (6, 'Texas', 2019), (7, 'California', 2018), (8, 'Texas', 2018);\\nSql: SELECT state, COUNT(*) FROM solar_projects WHERE completion_year IN (2020, 2021) AND state IN ('California', 'Texas') GROUP BY state;\\n\\nSql Prompt: What is the sum of lanthanum imports to Norway and Sweden for the years 2018 and 2019?\\nSql Context: CREATE TABLE lanthanum_imports (year INT, country TEXT, quantity INT); INSERT INTO lanthanum_imports (year, country, quantity) VALUES (2018, 'Norway', 150), (2019, 'Norway', 160), (2018, 'Sweden', 140), (2019, 'Sweden', 150);\\nSql: SELECT SUM(quantity) FROM lanthanum_imports WHERE country IN ('Norway', 'Sweden') AND year IN (2018, 2019);\\n\\nSql Prompt: List all cases where the client is from 'California' and the attorney is 'Smith'\\nSql Context: CREATE TABLE cases (case_id INT, client_state VARCHAR(2), attorney_name VARCHAR(20));\\nSql: SELECT * FROM cases WHERE client_state = 'CA' AND attorney_name = 'Smith';\\n\\nSql Prompt: What is the total number of labor rights advocacy events for each region, by region name?\\nSql Context: CREATE TABLE Region (Id INT, Name VARCHAR(50)); INSERT INTO Region (Id, Name) VALUES (1, 'Region A'), (2, 'Region B'), (3, 'Region C'); CREATE TABLE AdvocacyEvents (Id INT, RegionId INT, EventCount INT); INSERT INTO AdvocacyEvents (Id, RegionId, EventCount) VALUES (1, 1, 50), (2, 1, 30), (3, 2, 70), (4, 2, 80), (5, 3, 60), (6, 3, 40);\\nSql: SELECT R.Name, SUM(A.EventCount) as TotalEvents FROM Region R JOIN AdvocacyEvents A ON R.Id = A.RegionId GROUP BY R.Name;\\n\\n---\\n\\nFollow the following format.\\n\\nSql Prompt: Natural language query\\n\\nSql Context: Context for the query\\n\\nReasoning: Let's think step by step in order to ${produce the sql}. We ...\\n\\nSql: SQL query\\n\\n---\\n\\nSql Prompt: What is the average monthly data usage for each mobile network operator?\\n\\nSql Context: CREATE TABLE mobile_operators (operator_id INT, operator_name VARCHAR(50)); CREATE TABLE mobile_plans (plan_id INT, plan_name VARCHAR(50), operator_id INT, data_limit INT); CREATE TABLE usage (usage_id INT, subscriber_id INT, plan_id INT, usage_amount INT, usage_date DATE);\\n\\nReasoning: Let's think step by step in order to SELECT m.operator_name, AVG(u.usage_amount) as AvgDataUsage FROM mobile_operators m JOIN mobile_plans mp ON m.operator_id = mp.operator_id JOIN usage u ON mp.plan_id = u.plan_id GROUP BY m.operator_name;\\n\\nSql:\\x1b[32m SELECT m.operator_name, AVG(u.usage_amount) as AvgDataUsage FROM mobile_operators m JOIN mobile_plans mp ON m.operator_id = mp.operator_id JOIN usage u ON mp.plan_id = u.plan_id GROUP BY m.operator_name;\\x1b[0m\\n\\n\\n\""
      ]
     },
     "execution_count": 31,
     "metadata": {},
     "output_type": "execute_result"
    }
   ],
   "source": [
    "lm.inspect_history(n=1)"
   ]
  },
  {
   "cell_type": "markdown",
   "metadata": {},
   "source": [
    "#### Evaluate the optimized program"
   ]
  },
  {
   "cell_type": "markdown",
   "metadata": {},
   "source": [
    "\n",
    "<div style=\"background-color: #FFF8DC; padding: 10px; border-radius: 5px;\"> <p style=\"color: #DAA520; font-size: 18px; font-weight: bold; margin: 0;\"> 🌟 Evaluation Stage 2 </p> <p style=\"color: #DAA520; font-size: 16px; margin: 5px 0 0;\"> With <strong>Few Shot</strong> optimization, <strong>llama3-8b</strong> achieves an <strong>64% correctness in validation (25 samples)</strong> and <strong>60% correctness in test (75 samples).</strong> </p> </div>"
   ]
  },
  {
   "cell_type": "code",
   "execution_count": 32,
   "metadata": {},
   "outputs": [
    {
     "name": "stdout",
     "output_type": "stream",
     "text": [
      "llama3-8b + FewShotOptimizer - Validation Score: \n",
      "\n"
     ]
    },
    {
     "name": "stderr",
     "output_type": "stream",
     "text": [
      "Average Metric: 26 / 40  (65.0): 100%|██████████| 40/40 [02:11<00:00,  3.28s/it]\n"
     ]
    },
    {
     "data": {
      "text/plain": [
       "65.0"
      ]
     },
     "execution_count": 32,
     "metadata": {},
     "output_type": "execute_result"
    }
   ],
   "source": [
    "print(\"llama3-8b + FewShotOptimizer - Validation Score: \\n\")\n",
    "evaluate = Evaluate(devset=valset, metric=correctness_metric, num_threads=10, display_progress=True, display_table=0)\n",
    "evaluate(optmized_program)"
   ]
  },
  {
   "cell_type": "code",
   "execution_count": 33,
   "metadata": {},
   "outputs": [
    {
     "name": "stdout",
     "output_type": "stream",
     "text": [
      "llama3-8b + FewShotOptimizer - Test Score: \n",
      "\n"
     ]
    },
    {
     "name": "stderr",
     "output_type": "stream",
     "text": [
      "Average Metric: 46 / 80  (57.5): 100%|██████████| 80/80 [04:40<00:00,  3.50s/it]\n"
     ]
    },
    {
     "data": {
      "text/plain": [
       "57.5"
      ]
     },
     "execution_count": 33,
     "metadata": {},
     "output_type": "execute_result"
    }
   ],
   "source": [
    "print(\"llama3-8b + FewShotOptimizer - Test Score: \\n\")\n",
    "evaluate = Evaluate(devset=testset, metric=correctness_metric, num_threads=10, display_progress=True, display_table=0)\n",
    "evaluate(optmized_program)"
   ]
  },
  {
   "cell_type": "markdown",
   "metadata": {},
   "source": [
    "### BootstrapFewShotWithRandomSearch"
   ]
  },
  {
   "cell_type": "markdown",
   "metadata": {},
   "source": [
    "[DSPy docs](https://dspy-docs.vercel.app/docs/building-blocks/optimizers) recommend that in a setup like the one with have at hand, with ~50 samples, the best option is to use `BootstrapFewShotWithRandomSearch`:\n",
    "\n",
    "![image](assets/dspy.png)"
   ]
  },
  {
   "cell_type": "code",
   "execution_count": 34,
   "metadata": {},
   "outputs": [
    {
     "name": "stderr",
     "output_type": "stream",
     "text": [
      "Average Metric: 30 / 40  (75.0): 100%|██████████| 40/40 [02:16<00:00,  3.42s/it]\n",
      "Average Metric: 29 / 40  (72.5): 100%|██████████| 40/40 [02:18<00:00,  3.46s/it]\n",
      "  2%|▎         | 2/80 [00:20<13:08, 10.11s/it]\n",
      "Average Metric: 30 / 40  (75.0): 100%|██████████| 40/40 [02:16<00:00,  3.42s/it]\n",
      "  4%|▍         | 3/80 [00:38<16:35, 12.93s/it]\n",
      "Average Metric: 28 / 40  (70.0): 100%|██████████| 40/40 [02:20<00:00,  3.50s/it]\n",
      "  1%|▏         | 1/80 [00:09<11:51,  9.00s/it]\n",
      "Average Metric: 29 / 40  (72.5): 100%|██████████| 40/40 [02:17<00:00,  3.44s/it]\n",
      "  1%|▏         | 1/80 [00:11<14:40, 11.15s/it]\n",
      "Average Metric: 28 / 40  (70.0): 100%|██████████| 40/40 [02:23<00:00,  3.60s/it]\n",
      "  1%|▏         | 1/80 [00:09<12:52,  9.78s/it]\n",
      "Average Metric: 31 / 40  (77.5): 100%|██████████| 40/40 [02:04<00:00,  3.11s/it]\n",
      "  4%|▍         | 3/80 [00:45<19:25, 15.14s/it]\n",
      "Average Metric: 30 / 40  (75.0): 100%|██████████| 40/40 [02:14<00:00,  3.35s/it]\n",
      "  2%|▎         | 2/80 [00:21<14:15, 10.97s/it]\n",
      "Average Metric: 32 / 40  (80.0): 100%|██████████| 40/40 [02:30<00:00,  3.76s/it]\n",
      "  1%|▏         | 1/80 [00:09<13:05,  9.94s/it]\n",
      "Average Metric: 32 / 40  (80.0): 100%|██████████| 40/40 [02:15<00:00,  3.38s/it]\n",
      "  4%|▍         | 3/80 [00:38<16:22, 12.76s/it]\n",
      "Average Metric: 32 / 40  (80.0): 100%|██████████| 40/40 [02:09<00:00,  3.23s/it]\n"
     ]
    }
   ],
   "source": [
    "optimizer2 = BootstrapFewShotWithRandomSearch(metric=correctness_metric, max_bootstrapped_demos=2, num_candidate_programs=8, num_threads=5)\n",
    "optmized_program_2 = optimizer2.compile(student = TextToSqlProgram(), trainset=trainset, valset=valset)"
   ]
  },
  {
   "cell_type": "code",
   "execution_count": 35,
   "metadata": {},
   "outputs": [
    {
     "data": {
      "text/plain": [
       "Prediction(\n",
       "    rationale=\"Here is the context:\\nCREATE TABLE mobile_operators (operator_id INT, operator_name VARCHAR(50)); INSERT INTO mobile_operators (operator_id, operator_name) VALUES (1, 'Operator A'), (2, 'Operator B'); CREATE TABLE mobile_plans (plan_id INT, plan_name VARCHAR(50), operator_id INT, data_limit INT); INSERT INTO mobile_plans (plan_id, plan_name, operator_id, data_limit) VALUES (1, 'Plan X', 1, 2000), (2, 'Plan Y', 1, 3000), (3, 'Plan Z', 2, 4000); CREATE TABLE usage (usage_id INT, subscriber_id INT, plan_id INT, usage\",\n",
       "    sql='SELECT operator_name, AVG(usage_amount) as avg_data_usage FROM mobile_operators JOIN mobile_plans ON mobile_operators.operator_id = mobile_plans.operator_id JOIN usage ON mobile_plans.plan_id = usage.plan_id GROUP BY operator_name;'\n",
       ")"
      ]
     },
     "execution_count": 35,
     "metadata": {},
     "output_type": "execute_result"
    }
   ],
   "source": [
    "optmized_program_2(sql_context=sample[\"sql_context\"], sql_prompt=sample[\"sql_prompt\"])"
   ]
  },
  {
   "cell_type": "code",
   "execution_count": 36,
   "metadata": {},
   "outputs": [
    {
     "name": "stdout",
     "output_type": "stream",
     "text": [
      "\n",
      "\n",
      "\n",
      "Transform a natural language query into a SQL query.\n",
      "\n",
      "---\n",
      "\n",
      "Sql Prompt: What is the total number of veteran employment applications and hires in Florida in the past quarter?\n",
      "Sql Context: CREATE TABLE veteran_employment (application_id INT, application_date DATE, application_status VARCHAR(255), state VARCHAR(255)); INSERT INTO veteran_employment (application_id, application_date, application_status, state) VALUES (1, '2021-01-01', 'Applied', 'Florida'); INSERT INTO veteran_employment (application_id, application_date, application_status, state) VALUES (2, '2021-03-01', 'Hired', 'Florida');\n",
      "Sql: SELECT SUM(CASE WHEN application_status = 'Applied' THEN 1 ELSE 0 END) as total_applications, SUM(CASE WHEN application_status = 'Hired' THEN 1 ELSE 0 END) as total_hires FROM veteran_employment WHERE state = 'Florida' AND application_date >= DATEADD(quarter, -1, GETDATE());\n",
      "\n",
      "Sql Prompt: What is the total inventory value for each category in the UK?\n",
      "Sql Context: CREATE TABLE inventory (id INT, item_id INT, category TEXT, quantity INT, price DECIMAL(5,2));INSERT INTO inventory (id, item_id, category, quantity, price) VALUES (1, 1, 'Pizza', 100, 5.99), (2, 2, 'Pasta', 75, 6.99), (3, 3, 'Salad', 50, 4.99);\n",
      "Sql: SELECT c.category, SUM(i.quantity * i.price) AS total_inventory_value FROM inventory i JOIN categories c ON i.category = c.id WHERE c.country = 'UK' GROUP BY c.category;\n",
      "\n",
      "Sql Prompt: What is the average number of employees for companies in the 'Technology' industry, categorized by founding year?\n",
      "Sql Context: CREATE TABLE Company_Info (company_name VARCHAR(50), industry VARCHAR(20), employee_count INT); INSERT INTO Company_Info (company_name, industry, employee_count) VALUES ('Waystar Royco', 'Media', 5000); INSERT INTO Company_Info (company_name, industry, employee_count) VALUES ('Pied Piper', 'Technology', 50); INSERT INTO Company_Info (company_name, industry, employee_count) VALUES ('Austin Biotech', 'Biotechnology', 250); INSERT INTO Company_Info (company_name, industry, employee_count) VALUES ('Everest Technologies', 'Technology', 100);\n",
      "Sql: SELECT founding_year, AVG(employee_count) FROM (SELECT company_name, CASE WHEN industry = 'Technology' THEN founding_year END as founding_year, employee_count FROM Company_Info) t GROUP BY founding_year;\n",
      "\n",
      "Sql Prompt: Which artists have their works exhibited in the 'Contemporary Art Museum' located in 'New York'?\n",
      "Sql Context: CREATE TABLE Artists (ArtistID int, Name varchar(50), Nationality varchar(50)); INSERT INTO Artists VALUES (1, 'Pablo Picasso', 'Spanish'); INSERT INTO Artists VALUES (2, 'Andy Warhol', 'American'); CREATE TABLE Exhibitions (ExhibitionID int, Title varchar(50), Museum varchar(50), City varchar(50)); INSERT INTO Exhibitions VALUES (1, 'Cubism', 'Museum of Modern Art', 'New York'); INSERT INTO Exhibitions VALUES (2, 'Pop Art', 'Contemporary Art Museum', 'New York'); CREATE TABLE Exhibits (ExhibitionID int, ArtistID int); INSERT INTO Exhibits VALUES (2, 2);\n",
      "Sql: SELECT Artists.Name FROM Artists JOIN Exhibits ON Artists.ArtistID = Exhibits.ArtistID JOIN Exhibitions ON Exhibits.ExhibitionID = Exhibitions.ExhibitionID WHERE Exhibitions.Museum = 'Contemporary Art Museum' AND Exhibitions.City = 'New York';\n",
      "\n",
      "Sql Prompt: What is the total funding received by startups in the technology sector that were founded by women?\n",
      "Sql Context: CREATE TABLE startups(id INT, name TEXT, sector TEXT, founder_gender TEXT, funding FLOAT); INSERT INTO startups VALUES (1, 'Acme Inc', 'Technology', 'Female', 2000000); INSERT INTO startups VALUES (2, 'Beta Corp', 'Retail', 'Male', 3000000); INSERT INTO startups VALUES (3, 'Gamma Start', 'Technology', 'Female', 5000000);\n",
      "Sql: SELECT SUM(funding) FROM startups WHERE sector = 'Technology' AND founder_gender = 'Female';\n",
      "\n",
      "Sql Prompt: What is the total retail value of the \"Winter 2022\" collection for each manufacturer?\n",
      "Sql Context: CREATE TABLE Winter2022 (garment_id INT, manufacturer_id INT, garment_name VARCHAR(50), retail_price DECIMAL(5,2)); INSERT INTO Winter2022 (garment_id, manufacturer_id, garment_name, retail_price) VALUES (1, 100, 'Wool Coat', 250.00), (2, 100, 'Cotton Shirt', 50.00), (3, 200, 'Denim Jeans', 75.00), (4, 200, 'Fleece Hoodie', 50.00); CREATE TABLE Manufacturers (manufacturer_id INT, manufacturer_name VARCHAR(50)); INSERT INTO Manufacturers (manufacturer_id, manufacturer_name) VALUES (100, 'GreenFashions'), (200, 'SustainaWear');\n",
      "Sql: SELECT m.manufacturer_name, SUM(w.retail_price) FROM Winter2022 w INNER JOIN Manufacturers m ON w.manufacturer_id = m.manufacturer_id GROUP BY m.manufacturer_name;\n",
      "\n",
      "Sql Prompt: Alter 'Courses' table to add a column 'StudentsEnrolled'\n",
      "Sql Context: CREATE TABLE Students (StudentId INT, Name VARCHAR(50), Age INT); INSERT INTO Students (StudentId, Name, Age) VALUES (1001, 'John Doe', 16); CREATE VIEW StudentNames AS SELECT * FROM Students; CREATE TABLE Courses (CourseId INT, CourseName VARCHAR(50), Instructor VARCHAR(50), StudentsEnrolled INT); INSERT INTO Courses (CourseId, CourseName, Instructor, StudentsEnrolled) VALUES (1001, 'Introduction to Programming', 'Mr. Smith', 0);\n",
      "Sql: ALTER TABLE Courses ADD COLUMN StudentsEnrolled INT;\n",
      "\n",
      "Sql Prompt: What is the average age of patients who have been diagnosed with diabetes in the rural health clinic located in Texas?\n",
      "Sql Context: CREATE TABLE rural_clinic (clinic_id INT, location VARCHAR(20), capacity INT); INSERT INTO rural_clinic (clinic_id, location, capacity) VALUES (1, 'Texas', 50); CREATE TABLE patient (patient_id INT, clinic_id INT, age INT, diagnosis VARCHAR(20)); INSERT INTO patient (patient_id, clinic_id, age, diagnosis) VALUES (1, 1, 45, 'diabetes'), (2, 1, 60, 'asthma'), (3, 1, 30, 'diabetes');\n",
      "Sql: SELECT AVG(age) FROM patient WHERE diagnosis = 'diabetes' AND clinic_id = 1;\n",
      "\n",
      "Sql Prompt: How many support programs were implemented in the Northeast region each year?\n",
      "Sql Context: CREATE TABLE SupportPrograms (ProgramID INT, ProgramName VARCHAR(50), Region VARCHAR(50), ImplementationYear INT); INSERT INTO SupportPrograms (ProgramID, ProgramName, Region, ImplementationYear) VALUES (1, 'Assistive Technology', 'Northeast', 2018), (2, 'Sign Language Interpretation', 'Northeast', 2019), (3, 'Accessible Furniture', 'Northeast', 2020);\n",
      "Sql: SELECT ImplementationYear, COUNT(ProgramID) FROM SupportPrograms WHERE Region = 'Northeast' GROUP BY ImplementationYear;\n",
      "\n",
      "Sql Prompt: What is the average height of players in the basketball team 'Atlanta Hawks'?\n",
      "Sql Context: CREATE TABLE players (player_name TEXT, team TEXT, height FLOAT); INSERT INTO players (player_name, team, height) VALUES ('John Doe', 'Atlanta Hawks', 196.85); INSERT INTO players (player_name, team, height) VALUES ('Jane Smith', 'Atlanta Hawks', 185.42);\n",
      "Sql: SELECT AVG(height) FROM players WHERE team = 'Atlanta Hawks';\n",
      "\n",
      "Sql Prompt: What is the total number of donations and total amount donated for each region in the 'Regions' table?\n",
      "Sql Context: CREATE TABLE Regions (RegionID int, RegionName varchar(50), DonationCount int, TotalDonations numeric(18,2));\n",
      "Sql: SELECT RegionName, SUM(DonationCount) as TotalDonationsCount, SUM(TotalDonations) as TotalDonationsAmount FROM Regions GROUP BY RegionName;\n",
      "\n",
      "Sql Prompt: Identify the number of genetic research projects in each country.\n",
      "Sql Context: CREATE SCHEMA if not exists genetics;CREATE TABLE if not exists genetics.projects (id INT, name VARCHAR(50), country VARCHAR(50)); INSERT INTO genetics.projects (id, name, country) VALUES (1, 'ProjectX', 'UK'), (2, 'ProjectY', 'Germany'), (3, 'ProjectZ', 'UK'), (4, 'ProjectA', 'USA'), (5, 'ProjectB', 'France');\n",
      "Sql: SELECT country, COUNT(*) FROM genetics.projects GROUP BY country;\n",
      "\n",
      "Sql Prompt: List all cases where the client is from 'California' and the attorney is 'Smith'\n",
      "Sql Context: CREATE TABLE cases (case_id INT, client_state VARCHAR(2), attorney_name VARCHAR(20));\n",
      "Sql: SELECT * FROM cases WHERE client_state = 'CA' AND attorney_name = 'Smith';\n",
      "\n",
      "Sql Prompt: What is the total number of traditional art pieces created in each region with a population greater than 500,000?\n",
      "Sql Context: CREATE TABLE regions (id INT, name TEXT, population INT); INSERT INTO regions (id, name, population) VALUES (1, 'West Africa', 6000000), (2, 'Amazon Basin', 500000); CREATE TABLE art_pieces (id INT, region_id INT, type TEXT, year INT); INSERT INTO art_pieces (id, region_id, type, year) VALUES (1, 1, 'Mask', 2000), (2, 1, 'Statue', 1950), (3, 2, 'Painting', 2020);\n",
      "Sql: SELECT r.name, COUNT(ap.id) FROM regions r JOIN art_pieces ap ON r.id = ap.region_id WHERE r.population > 500000 GROUP BY r.id;\n",
      "\n",
      "---\n",
      "\n",
      "Follow the following format.\n",
      "\n",
      "Sql Prompt: Natural language query\n",
      "\n",
      "Sql Context: Context for the query\n",
      "\n",
      "Reasoning: Let's think step by step in order to ${produce the sql}. We ...\n",
      "\n",
      "Sql: SQL query\n",
      "\n",
      "---\n",
      "\n",
      "Sql Prompt: What is the total amount of microfinance loans provided by the BRAC Bank last year?\n",
      "\n",
      "Sql Context: CREATE TABLE microfinance_loans (bank VARCHAR(50), product VARCHAR(50), amount FLOAT, loan_date DATE); INSERT INTO microfinance_loans (bank, product, amount, loan_date) VALUES ('BRAC Bank', 'Microenterprise Loan', 1000.00, '2022-01-01'), ('BRAC Bank', 'Education Loan', 2000.00, '2022-02-01'), ('BRAC Bank', 'Housing Loan', 3000.00, '2022-03-01');\n",
      "\n",
      "Reasoning: Let's think step by step in order to Here is the context: CREATE TABLE microfinance_loans (bank VARCHAR(50), product VARCHAR(50), amount FLOAT, loan_date DATE); INSERT INTO microfinance_loans (bank, product, amount, loan_date) VALUES ('BRAC Bank', 'Microenterprise Loan', 1000.00, '2022-01-01'), ('BRAC Bank', 'Education Loan', 2000.00, '2022-02-01'), ('BRAC Bank', 'Housing Loan', 3000.00, '2022-03-01');\n",
      "\n",
      "Sql: SELECT SUM(amount) FROM microfinance_loans WHERE bank = 'BRAC Bank' AND loan_date >= DATE_SUB(CURRENT_DATE, INTERVAL 1 YEAR);\n",
      "\n",
      "---\n",
      "\n",
      "Sql Prompt: Which organizations have provided legal assistance to refugees in the Middle East and North Africa?\n",
      "\n",
      "Sql Context: CREATE TABLE legal_assistance (id INT, organization_name VARCHAR(50), region VARCHAR(20), provided_legal_assistance BOOLEAN); INSERT INTO legal_assistance (id, organization_name, region, provided_legal_assistance) VALUES (1, 'Amnesty International', 'Middle East', TRUE), (2, 'International Rescue Committee', 'North Africa', TRUE), (3, 'Save the Children', 'Asia', FALSE), (4, 'Oxfam', 'Africa', FALSE);\n",
      "\n",
      "Reasoning: Let's think step by step in order to Here is the context: CREATE TABLE legal_assistance (id INT, organization_name VARCHAR(50), region VARCHAR(20), provided_legal_assistance BOOLEAN); INSERT INTO legal_assistance (id, organization_name, region, provided_legal_assistance) VALUES (1, 'Amnesty International', 'Middle East', TRUE), (2, 'International Rescue Committee', 'North Africa', TRUE), (3, 'Save the Children', 'Asia', FALSE), (4, 'Oxfam', 'Africa', FALSE);\n",
      "\n",
      "Sql: SELECT organization_name FROM legal_assistance WHERE region IN ('Middle East', 'North Africa') AND provided_legal_assistance = TRUE;\n",
      "\n",
      "---\n",
      "\n",
      "Sql Prompt: What is the average monthly data usage for each mobile network operator?\n",
      "\n",
      "Sql Context: CREATE TABLE mobile_operators (operator_id INT, operator_name VARCHAR(50)); CREATE TABLE mobile_plans (plan_id INT, plan_name VARCHAR(50), operator_id INT, data_limit INT); CREATE TABLE usage (usage_id INT, subscriber_id INT, plan_id INT, usage_amount INT, usage_date DATE);\n",
      "\n",
      "Reasoning: Let's think step by step in order to Here is the context: CREATE TABLE mobile_operators (operator_id INT, operator_name VARCHAR(50)); INSERT INTO mobile_operators (operator_id, operator_name) VALUES (1, 'Operator A'), (2, 'Operator B'); CREATE TABLE mobile_plans (plan_id INT, plan_name VARCHAR(50), operator_id INT, data_limit INT); INSERT INTO mobile_plans (plan_id, plan_name, operator_id, data_limit) VALUES (1, 'Plan X', 1, 2000), (2, 'Plan Y', 1, 3000), (3, 'Plan Z', 2, 4000); CREATE TABLE usage (usage_id INT, subscriber_id INT, plan_id INT, usage\n",
      "\n",
      "Sql: SELECT operator_name, AVG(usage_amount) as avg_data_usage FROM mobile_operators JOIN mobile_plans ON mobile_operators.operator_id = mobile_plans.operator_id JOIN usage ON mobile_plans.plan_id = usage.plan_id GROUP BY operator_name;\n",
      "\n",
      "\n",
      "\n"
     ]
    },
    {
     "data": {
      "text/plain": [
       "'\\n\\n\\nTransform a natural language query into a SQL query.\\n\\n---\\n\\nSql Prompt: What is the total number of veteran employment applications and hires in Florida in the past quarter?\\nSql Context: CREATE TABLE veteran_employment (application_id INT, application_date DATE, application_status VARCHAR(255), state VARCHAR(255)); INSERT INTO veteran_employment (application_id, application_date, application_status, state) VALUES (1, \\'2021-01-01\\', \\'Applied\\', \\'Florida\\'); INSERT INTO veteran_employment (application_id, application_date, application_status, state) VALUES (2, \\'2021-03-01\\', \\'Hired\\', \\'Florida\\');\\nSql: SELECT SUM(CASE WHEN application_status = \\'Applied\\' THEN 1 ELSE 0 END) as total_applications, SUM(CASE WHEN application_status = \\'Hired\\' THEN 1 ELSE 0 END) as total_hires FROM veteran_employment WHERE state = \\'Florida\\' AND application_date >= DATEADD(quarter, -1, GETDATE());\\n\\nSql Prompt: What is the total inventory value for each category in the UK?\\nSql Context: CREATE TABLE inventory (id INT, item_id INT, category TEXT, quantity INT, price DECIMAL(5,2));INSERT INTO inventory (id, item_id, category, quantity, price) VALUES (1, 1, \\'Pizza\\', 100, 5.99), (2, 2, \\'Pasta\\', 75, 6.99), (3, 3, \\'Salad\\', 50, 4.99);\\nSql: SELECT c.category, SUM(i.quantity * i.price) AS total_inventory_value FROM inventory i JOIN categories c ON i.category = c.id WHERE c.country = \\'UK\\' GROUP BY c.category;\\n\\nSql Prompt: What is the average number of employees for companies in the \\'Technology\\' industry, categorized by founding year?\\nSql Context: CREATE TABLE Company_Info (company_name VARCHAR(50), industry VARCHAR(20), employee_count INT); INSERT INTO Company_Info (company_name, industry, employee_count) VALUES (\\'Waystar Royco\\', \\'Media\\', 5000); INSERT INTO Company_Info (company_name, industry, employee_count) VALUES (\\'Pied Piper\\', \\'Technology\\', 50); INSERT INTO Company_Info (company_name, industry, employee_count) VALUES (\\'Austin Biotech\\', \\'Biotechnology\\', 250); INSERT INTO Company_Info (company_name, industry, employee_count) VALUES (\\'Everest Technologies\\', \\'Technology\\', 100);\\nSql: SELECT founding_year, AVG(employee_count) FROM (SELECT company_name, CASE WHEN industry = \\'Technology\\' THEN founding_year END as founding_year, employee_count FROM Company_Info) t GROUP BY founding_year;\\n\\nSql Prompt: Which artists have their works exhibited in the \\'Contemporary Art Museum\\' located in \\'New York\\'?\\nSql Context: CREATE TABLE Artists (ArtistID int, Name varchar(50), Nationality varchar(50)); INSERT INTO Artists VALUES (1, \\'Pablo Picasso\\', \\'Spanish\\'); INSERT INTO Artists VALUES (2, \\'Andy Warhol\\', \\'American\\'); CREATE TABLE Exhibitions (ExhibitionID int, Title varchar(50), Museum varchar(50), City varchar(50)); INSERT INTO Exhibitions VALUES (1, \\'Cubism\\', \\'Museum of Modern Art\\', \\'New York\\'); INSERT INTO Exhibitions VALUES (2, \\'Pop Art\\', \\'Contemporary Art Museum\\', \\'New York\\'); CREATE TABLE Exhibits (ExhibitionID int, ArtistID int); INSERT INTO Exhibits VALUES (2, 2);\\nSql: SELECT Artists.Name FROM Artists JOIN Exhibits ON Artists.ArtistID = Exhibits.ArtistID JOIN Exhibitions ON Exhibits.ExhibitionID = Exhibitions.ExhibitionID WHERE Exhibitions.Museum = \\'Contemporary Art Museum\\' AND Exhibitions.City = \\'New York\\';\\n\\nSql Prompt: What is the total funding received by startups in the technology sector that were founded by women?\\nSql Context: CREATE TABLE startups(id INT, name TEXT, sector TEXT, founder_gender TEXT, funding FLOAT); INSERT INTO startups VALUES (1, \\'Acme Inc\\', \\'Technology\\', \\'Female\\', 2000000); INSERT INTO startups VALUES (2, \\'Beta Corp\\', \\'Retail\\', \\'Male\\', 3000000); INSERT INTO startups VALUES (3, \\'Gamma Start\\', \\'Technology\\', \\'Female\\', 5000000);\\nSql: SELECT SUM(funding) FROM startups WHERE sector = \\'Technology\\' AND founder_gender = \\'Female\\';\\n\\nSql Prompt: What is the total retail value of the \"Winter 2022\" collection for each manufacturer?\\nSql Context: CREATE TABLE Winter2022 (garment_id INT, manufacturer_id INT, garment_name VARCHAR(50), retail_price DECIMAL(5,2)); INSERT INTO Winter2022 (garment_id, manufacturer_id, garment_name, retail_price) VALUES (1, 100, \\'Wool Coat\\', 250.00), (2, 100, \\'Cotton Shirt\\', 50.00), (3, 200, \\'Denim Jeans\\', 75.00), (4, 200, \\'Fleece Hoodie\\', 50.00); CREATE TABLE Manufacturers (manufacturer_id INT, manufacturer_name VARCHAR(50)); INSERT INTO Manufacturers (manufacturer_id, manufacturer_name) VALUES (100, \\'GreenFashions\\'), (200, \\'SustainaWear\\');\\nSql: SELECT m.manufacturer_name, SUM(w.retail_price) FROM Winter2022 w INNER JOIN Manufacturers m ON w.manufacturer_id = m.manufacturer_id GROUP BY m.manufacturer_name;\\n\\nSql Prompt: Alter \\'Courses\\' table to add a column \\'StudentsEnrolled\\'\\nSql Context: CREATE TABLE Students (StudentId INT, Name VARCHAR(50), Age INT); INSERT INTO Students (StudentId, Name, Age) VALUES (1001, \\'John Doe\\', 16); CREATE VIEW StudentNames AS SELECT * FROM Students; CREATE TABLE Courses (CourseId INT, CourseName VARCHAR(50), Instructor VARCHAR(50), StudentsEnrolled INT); INSERT INTO Courses (CourseId, CourseName, Instructor, StudentsEnrolled) VALUES (1001, \\'Introduction to Programming\\', \\'Mr. Smith\\', 0);\\nSql: ALTER TABLE Courses ADD COLUMN StudentsEnrolled INT;\\n\\nSql Prompt: What is the average age of patients who have been diagnosed with diabetes in the rural health clinic located in Texas?\\nSql Context: CREATE TABLE rural_clinic (clinic_id INT, location VARCHAR(20), capacity INT); INSERT INTO rural_clinic (clinic_id, location, capacity) VALUES (1, \\'Texas\\', 50); CREATE TABLE patient (patient_id INT, clinic_id INT, age INT, diagnosis VARCHAR(20)); INSERT INTO patient (patient_id, clinic_id, age, diagnosis) VALUES (1, 1, 45, \\'diabetes\\'), (2, 1, 60, \\'asthma\\'), (3, 1, 30, \\'diabetes\\');\\nSql: SELECT AVG(age) FROM patient WHERE diagnosis = \\'diabetes\\' AND clinic_id = 1;\\n\\nSql Prompt: How many support programs were implemented in the Northeast region each year?\\nSql Context: CREATE TABLE SupportPrograms (ProgramID INT, ProgramName VARCHAR(50), Region VARCHAR(50), ImplementationYear INT); INSERT INTO SupportPrograms (ProgramID, ProgramName, Region, ImplementationYear) VALUES (1, \\'Assistive Technology\\', \\'Northeast\\', 2018), (2, \\'Sign Language Interpretation\\', \\'Northeast\\', 2019), (3, \\'Accessible Furniture\\', \\'Northeast\\', 2020);\\nSql: SELECT ImplementationYear, COUNT(ProgramID) FROM SupportPrograms WHERE Region = \\'Northeast\\' GROUP BY ImplementationYear;\\n\\nSql Prompt: What is the average height of players in the basketball team \\'Atlanta Hawks\\'?\\nSql Context: CREATE TABLE players (player_name TEXT, team TEXT, height FLOAT); INSERT INTO players (player_name, team, height) VALUES (\\'John Doe\\', \\'Atlanta Hawks\\', 196.85); INSERT INTO players (player_name, team, height) VALUES (\\'Jane Smith\\', \\'Atlanta Hawks\\', 185.42);\\nSql: SELECT AVG(height) FROM players WHERE team = \\'Atlanta Hawks\\';\\n\\nSql Prompt: What is the total number of donations and total amount donated for each region in the \\'Regions\\' table?\\nSql Context: CREATE TABLE Regions (RegionID int, RegionName varchar(50), DonationCount int, TotalDonations numeric(18,2));\\nSql: SELECT RegionName, SUM(DonationCount) as TotalDonationsCount, SUM(TotalDonations) as TotalDonationsAmount FROM Regions GROUP BY RegionName;\\n\\nSql Prompt: Identify the number of genetic research projects in each country.\\nSql Context: CREATE SCHEMA if not exists genetics;CREATE TABLE if not exists genetics.projects (id INT, name VARCHAR(50), country VARCHAR(50)); INSERT INTO genetics.projects (id, name, country) VALUES (1, \\'ProjectX\\', \\'UK\\'), (2, \\'ProjectY\\', \\'Germany\\'), (3, \\'ProjectZ\\', \\'UK\\'), (4, \\'ProjectA\\', \\'USA\\'), (5, \\'ProjectB\\', \\'France\\');\\nSql: SELECT country, COUNT(*) FROM genetics.projects GROUP BY country;\\n\\nSql Prompt: List all cases where the client is from \\'California\\' and the attorney is \\'Smith\\'\\nSql Context: CREATE TABLE cases (case_id INT, client_state VARCHAR(2), attorney_name VARCHAR(20));\\nSql: SELECT * FROM cases WHERE client_state = \\'CA\\' AND attorney_name = \\'Smith\\';\\n\\nSql Prompt: What is the total number of traditional art pieces created in each region with a population greater than 500,000?\\nSql Context: CREATE TABLE regions (id INT, name TEXT, population INT); INSERT INTO regions (id, name, population) VALUES (1, \\'West Africa\\', 6000000), (2, \\'Amazon Basin\\', 500000); CREATE TABLE art_pieces (id INT, region_id INT, type TEXT, year INT); INSERT INTO art_pieces (id, region_id, type, year) VALUES (1, 1, \\'Mask\\', 2000), (2, 1, \\'Statue\\', 1950), (3, 2, \\'Painting\\', 2020);\\nSql: SELECT r.name, COUNT(ap.id) FROM regions r JOIN art_pieces ap ON r.id = ap.region_id WHERE r.population > 500000 GROUP BY r.id;\\n\\n---\\n\\nFollow the following format.\\n\\nSql Prompt: Natural language query\\n\\nSql Context: Context for the query\\n\\nReasoning: Let\\'s think step by step in order to ${produce the sql}. We ...\\n\\nSql: SQL query\\n\\n---\\n\\nSql Prompt: What is the total amount of microfinance loans provided by the BRAC Bank last year?\\n\\nSql Context: CREATE TABLE microfinance_loans (bank VARCHAR(50), product VARCHAR(50), amount FLOAT, loan_date DATE); INSERT INTO microfinance_loans (bank, product, amount, loan_date) VALUES (\\'BRAC Bank\\', \\'Microenterprise Loan\\', 1000.00, \\'2022-01-01\\'), (\\'BRAC Bank\\', \\'Education Loan\\', 2000.00, \\'2022-02-01\\'), (\\'BRAC Bank\\', \\'Housing Loan\\', 3000.00, \\'2022-03-01\\');\\n\\nReasoning: Let\\'s think step by step in order to Here is the context: CREATE TABLE microfinance_loans (bank VARCHAR(50), product VARCHAR(50), amount FLOAT, loan_date DATE); INSERT INTO microfinance_loans (bank, product, amount, loan_date) VALUES (\\'BRAC Bank\\', \\'Microenterprise Loan\\', 1000.00, \\'2022-01-01\\'), (\\'BRAC Bank\\', \\'Education Loan\\', 2000.00, \\'2022-02-01\\'), (\\'BRAC Bank\\', \\'Housing Loan\\', 3000.00, \\'2022-03-01\\');\\n\\nSql: SELECT SUM(amount) FROM microfinance_loans WHERE bank = \\'BRAC Bank\\' AND loan_date >= DATE_SUB(CURRENT_DATE, INTERVAL 1 YEAR);\\n\\n---\\n\\nSql Prompt: Which organizations have provided legal assistance to refugees in the Middle East and North Africa?\\n\\nSql Context: CREATE TABLE legal_assistance (id INT, organization_name VARCHAR(50), region VARCHAR(20), provided_legal_assistance BOOLEAN); INSERT INTO legal_assistance (id, organization_name, region, provided_legal_assistance) VALUES (1, \\'Amnesty International\\', \\'Middle East\\', TRUE), (2, \\'International Rescue Committee\\', \\'North Africa\\', TRUE), (3, \\'Save the Children\\', \\'Asia\\', FALSE), (4, \\'Oxfam\\', \\'Africa\\', FALSE);\\n\\nReasoning: Let\\'s think step by step in order to Here is the context: CREATE TABLE legal_assistance (id INT, organization_name VARCHAR(50), region VARCHAR(20), provided_legal_assistance BOOLEAN); INSERT INTO legal_assistance (id, organization_name, region, provided_legal_assistance) VALUES (1, \\'Amnesty International\\', \\'Middle East\\', TRUE), (2, \\'International Rescue Committee\\', \\'North Africa\\', TRUE), (3, \\'Save the Children\\', \\'Asia\\', FALSE), (4, \\'Oxfam\\', \\'Africa\\', FALSE);\\n\\nSql: SELECT organization_name FROM legal_assistance WHERE region IN (\\'Middle East\\', \\'North Africa\\') AND provided_legal_assistance = TRUE;\\n\\n---\\n\\nSql Prompt: What is the average monthly data usage for each mobile network operator?\\n\\nSql Context: CREATE TABLE mobile_operators (operator_id INT, operator_name VARCHAR(50)); CREATE TABLE mobile_plans (plan_id INT, plan_name VARCHAR(50), operator_id INT, data_limit INT); CREATE TABLE usage (usage_id INT, subscriber_id INT, plan_id INT, usage_amount INT, usage_date DATE);\\n\\nReasoning: Let\\'s think step by step in order to Here is the context: CREATE TABLE mobile_operators (operator_id INT, operator_name VARCHAR(50)); INSERT INTO mobile_operators (operator_id, operator_name) VALUES (1, \\'Operator A\\'), (2, \\'Operator B\\'); CREATE TABLE mobile_plans (plan_id INT, plan_name VARCHAR(50), operator_id INT, data_limit INT); INSERT INTO mobile_plans (plan_id, plan_name, operator_id, data_limit) VALUES (1, \\'Plan X\\', 1, 2000), (2, \\'Plan Y\\', 1, 3000), (3, \\'Plan Z\\', 2, 4000); CREATE TABLE usage (usage_id INT, subscriber_id INT, plan_id INT, usage\\n\\nSql:\\x1b[32m SELECT operator_name, AVG(usage_amount) as avg_data_usage FROM mobile_operators JOIN mobile_plans ON mobile_operators.operator_id = mobile_plans.operator_id JOIN usage ON mobile_plans.plan_id = usage.plan_id GROUP BY operator_name;\\x1b[0m\\n\\n\\n'"
      ]
     },
     "execution_count": 36,
     "metadata": {},
     "output_type": "execute_result"
    }
   ],
   "source": [
    "lm.inspect_history(n=1)"
   ]
  },
  {
   "cell_type": "markdown",
   "metadata": {},
   "source": [
    "#### Evaluate the optimized program"
   ]
  },
  {
   "cell_type": "markdown",
   "metadata": {},
   "source": [
    "<div style=\"background-color: #E0F8E0; padding: 10px; border-radius: 5px;\"> <p style=\"color: #006400; font-size: 18px; font-weight: bold; margin: 0;\"> ✅ Evaluation Stage 3 </p> <p style=\"color: #006400; font-size: 16px; margin: 5px 0 0;\"> With <strong>BootstrapFewShotWithRandomSearch</strong> optimization, <strong>llama3-8b</strong> achieves an <strong>80% correctness in validation (25 samples)</strong> and <strong>68% correctness in test (75 samples).</strong> </p> </div>"
   ]
  },
  {
   "cell_type": "code",
   "execution_count": 37,
   "metadata": {},
   "outputs": [
    {
     "name": "stdout",
     "output_type": "stream",
     "text": [
      "llama3-8b + BootstrapFewShotWithRandomSearch - Validation Score: \n",
      "\n"
     ]
    },
    {
     "name": "stderr",
     "output_type": "stream",
     "text": [
      "Average Metric: 32 / 40  (80.0): 100%|██████████| 40/40 [01:58<00:00,  2.96s/it]\n"
     ]
    },
    {
     "data": {
      "text/plain": [
       "80.0"
      ]
     },
     "execution_count": 37,
     "metadata": {},
     "output_type": "execute_result"
    }
   ],
   "source": [
    "print(\"llama3-8b + BootstrapFewShotWithRandomSearch - Validation Score: \\n\")\n",
    "evaluate = Evaluate(devset=valset, metric=correctness_metric, num_threads=10, display_progress=True, display_table=0)\n",
    "evaluate(optmized_program_2)"
   ]
  },
  {
   "cell_type": "code",
   "execution_count": 38,
   "metadata": {},
   "outputs": [
    {
     "name": "stdout",
     "output_type": "stream",
     "text": [
      "llama3-8b + BootstrapFewShotWithRandomSearch - Test Score: \n",
      "\n"
     ]
    },
    {
     "name": "stderr",
     "output_type": "stream",
     "text": [
      "Average Metric: 50 / 80  (62.5): 100%|██████████| 80/80 [04:26<00:00,  3.34s/it]\n"
     ]
    },
    {
     "data": {
      "text/plain": [
       "62.5"
      ]
     },
     "execution_count": 38,
     "metadata": {},
     "output_type": "execute_result"
    }
   ],
   "source": [
    "print(\"llama3-8b + BootstrapFewShotWithRandomSearch - Test Score: \\n\")\n",
    "evaluate = Evaluate(devset=testset, metric=correctness_metric, num_threads=10, display_progress=True, display_table=0)\n",
    "evaluate(optmized_program_2)"
   ]
  }
 ],
 "metadata": {
  "kernelspec": {
   "display_name": ".venv",
   "language": "python",
   "name": "python3"
  },
  "language_info": {
   "codemirror_mode": {
    "name": "ipython",
    "version": 3
   },
   "file_extension": ".py",
   "mimetype": "text/x-python",
   "name": "python",
   "nbconvert_exporter": "python",
   "pygments_lexer": "ipython3",
   "version": "3.11.9"
  }
 },
 "nbformat": 4,
 "nbformat_minor": 2
}
