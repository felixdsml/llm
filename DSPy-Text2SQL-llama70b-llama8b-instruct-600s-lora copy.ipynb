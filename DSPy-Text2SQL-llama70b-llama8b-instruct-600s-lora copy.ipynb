{
 "cells": [
  {
   "cell_type": "markdown",
   "metadata": {},
   "source": [
    "# llama3-8b-instruct-fp16 + LORA 3 epochs created for LLAMA3-8b-instruct\n",
    "# dataset b-mc2/sql-create-context"
   ]
  },
  {
   "cell_type": "markdown",
   "metadata": {},
   "source": [
    "#### Libraries"
   ]
  },
  {
   "cell_type": "code",
   "execution_count": 1,
   "metadata": {},
   "outputs": [
    {
     "name": "stderr",
     "output_type": "stream",
     "text": [
      "c:\\llm\\llm-env\\Lib\\site-packages\\tqdm\\auto.py:21: TqdmWarning: IProgress not found. Please update jupyter and ipywidgets. See https://ipywidgets.readthedocs.io/en/stable/user_install.html\n",
      "  from .autonotebook import tqdm as notebook_tqdm\n"
     ]
    }
   ],
   "source": [
    "import dspy\n",
    "import random\n",
    "from dotenv import load_dotenv\n",
    "from dspy.datasets import DataLoader\n",
    "from dspy.evaluate import Evaluate\n",
    "from dspy.teleprompt import BootstrapFewShotWithRandomSearch, LabeledFewShot\n",
    "\n",
    "#from src.starling import StarlingLM # <- Custom Local Model Client for llama3-8b\n",
    "\n",
    "_ = load_dotenv()"
   ]
  },
  {
   "cell_type": "markdown",
   "metadata": {},
   "source": [
    "#### LLM"
   ]
  },
  {
   "cell_type": "markdown",
   "metadata": {},
   "source": [
    "The model that will be used in this notebook is [llama3-8b](https://huggingface.co/Nexusflow/Starling-LM-7B-beta), and the evaluation model will be [GPT-4 Turbo](https://openai.com/gpt-4)."
   ]
  },
  {
   "cell_type": "code",
   "execution_count": 2,
   "metadata": {},
   "outputs": [],
   "source": [
    "# Share generation args between models\n",
    "generation_args = {\n",
    "    \"temperature\":0,\n",
    "    \"max_tokens\":500,\n",
    "    \"stop\":\"\\n\\n\",\n",
    "    \"model_type\":\"chat\",\n",
    "    \"n\": 1\n",
    "}\n",
    "# Model specific args\n",
    "model_info = {\n",
    "    \"gpt-4\": {\"model\": \"gpt-4-0125-preview\", \"api_base\": \"https://api.openai.com/v1/\"},\n",
    "    \"starling\": {\"model\": \"Nexusflow/Starling-LM-7B-beta\"}\n",
    "}"
   ]
  },
  {
   "cell_type": "code",
   "execution_count": 3,
   "metadata": {},
   "outputs": [],
   "source": [
    "# Set up the models\n",
    "# lm = StarlingLM(**model_info[\"starling\"], **generation_args)\n",
    "# evaluator_lm = dspy.OpenAI(**model_info[\"gpt-4\"], **generation_args)\n",
    "\n",
    "lm = dspy.OllamaLocal(model='llama3-8b-instruct-fp16-lora-600-steps:latest', base_url='http://localhost:11435')\n",
    "# evaluator_lm = dspy.OpenAI(**model_info[\"gpt-4\"], **generation_args)\n",
    "evaluator_lm = dspy.OllamaLocal(model='llama3:70b', base_url='http://localhost:11434')\n",
    "\n",
    "dspy.configure(lm=lm)"
   ]
  },
  {
   "cell_type": "code",
   "execution_count": 4,
   "metadata": {},
   "outputs": [
    {
     "data": {
      "text/plain": [
       "['The capital of Colombia is Bogotá.<|eot_id|>']"
      ]
     },
     "execution_count": 4,
     "metadata": {},
     "output_type": "execute_result"
    }
   ],
   "source": [
    "# Testing inference of Starling\n",
    "lm(\"What is the capital of Colombia?\")"
   ]
  },
  {
   "cell_type": "markdown",
   "metadata": {},
   "source": [
    "#### Load dataset"
   ]
  },
  {
   "cell_type": "markdown",
   "metadata": {},
   "source": [
    "The dataset that will be used in this notebook is [gretelai/synthetic_text_to_sql](https://huggingface.co/datasets/gretelai/synthetic_text_to_sql)"
   ]
  },
  {
   "cell_type": "code",
   "execution_count": 5,
   "metadata": {},
   "outputs": [],
   "source": [
    "# Define random seed\n",
    "random.seed(1399)"
   ]
  },
  {
   "cell_type": "code",
   "execution_count": 6,
   "metadata": {},
   "outputs": [
    {
     "data": {
      "text/plain": [
       "(75, 25, 75)"
      ]
     },
     "execution_count": 6,
     "metadata": {},
     "output_type": "execute_result"
    }
   ],
   "source": [
    "# Load dataset\n",
    "dl = DataLoader()\n",
    "trainset = dl.from_huggingface(\n",
    "    dataset_name=\"gretelai/synthetic_text_to_sql\", # Dataset name from Huggingface\n",
    "    fields=(\"sql_prompt\", \"sql_context\", \"sql\"), # Fields needed\n",
    "    input_keys=(\"sql_prompt\", \"sql_context\"), # What our model expects to recieve to generate an output\n",
    "    split=\"train\"\n",
    ")\n",
    "\n",
    "testset = dl.from_huggingface(\n",
    "    dataset_name=\"gretelai/synthetic_text_to_sql\", # Dataset name from Huggingface\n",
    "    fields=(\"sql_prompt\", \"sql_context\", \"sql\"), # Fields needed\n",
    "    input_keys=(\"sql_prompt\", \"sql_context\"), # What our model expects to recieve to generate an output\n",
    "    split=\"test\"\n",
    ")\n",
    "\n",
    "\n",
    "trainset = dl.sample(dataset=trainset, n=100)\n",
    "testset = dl.sample(dataset=testset, n=75)\n",
    "finetuneset = dl.sample(dataset=trainset, n=100)\n",
    "\n",
    "_trainval = dl.train_test_split(dataset=trainset, test_size=0.25, random_state=1399) # 25% of training data for validation\n",
    "trainset, valset = _trainval[\"train\"], _trainval[\"test\"]\n",
    "\n",
    "len(trainset), len(valset), len(testset)"
   ]
  },
  {
   "cell_type": "code",
   "execution_count": 7,
   "metadata": {},
   "outputs": [
    {
     "name": "stdout",
     "output_type": "stream",
     "text": [
      "\n",
      "SQL_PROMPT:\n",
      "\n",
      "List the top 5 countries with the highest number of satellites in orbit as of 2022-01-01, ordered by the number of satellites in descending order.\n",
      "\n",
      "SQL_CONTEXT:\n",
      "\n",
      "CREATE TABLE countries(id INT, name VARCHAR(255), population INT, satellites_in_orbit INT, last_census_date DATE);\n",
      "\n",
      "SQL:\n",
      "\n",
      "SELECT name, satellites_in_orbit FROM countries WHERE last_census_date <= '2022-01-01' GROUP BY name ORDER BY satellites_in_orbit DESC LIMIT 5;\n"
     ]
    }
   ],
   "source": [
    "# Verify an example of the dataset\n",
    "sample = dl.sample(dataset=trainset, n=1)[0]\n",
    "for k, v in sample.items():\n",
    "    print(f\"\\n{k.upper()}:\\n\")\n",
    "    print(v)"
   ]
  },
  {
   "cell_type": "markdown",
   "metadata": {},
   "source": [
    "#### Signature (Input/Output)"
   ]
  },
  {
   "cell_type": "code",
   "execution_count": 8,
   "metadata": {},
   "outputs": [],
   "source": [
    "class TextToSql(dspy.Signature):\n",
    "    \"\"\"Transform a natural language query into a SQL query.\"\"\"\n",
    "\n",
    "    sql_prompt = dspy.InputField(desc=\"Natural language query\")\n",
    "    sql_context = dspy.InputField(desc=\"Context for the query\")\n",
    "    sql = dspy.OutputField(desc=\"SQL query\")"
   ]
  },
  {
   "cell_type": "markdown",
   "metadata": {},
   "source": [
    "### Inference"
   ]
  },
  {
   "cell_type": "markdown",
   "metadata": {},
   "source": [
    "#### Baseline Inference"
   ]
  },
  {
   "cell_type": "code",
   "execution_count": 9,
   "metadata": {},
   "outputs": [
    {
     "name": "stdout",
     "output_type": "stream",
     "text": [
      "\n",
      "SQL:\n",
      "\n",
      "SELECT name, satellites_in_orbit FROM (SELECT name, satellites_in_orbit, ROW_NUMBER() OVER (ORDER BY satellites_in_orbit DESC) as rn FROM countries WHERE last_census_date <= '2022-01-01') t WHERE rn <= 5;\n",
      "```sql\n",
      "CREATE TABLE countries(id INT, name VARCHAR(255), population INT, satellites_in_orbit INT, last_census_date DATE);\n",
      "INSERT INTO countries (id, name, population, satellites_in_orbit, last_census_date) VALUES (1, 'USA', 331002651, 5000, '2022-01-01'), (2, 'China', 1439323776, 4000, '2022-01-\n"
     ]
    }
   ],
   "source": [
    "generate_sql_query = dspy.Predict(signature=TextToSql)\n",
    "\n",
    "result = generate_sql_query(\n",
    "    sql_prompt=sample[\"sql_prompt\"],\n",
    "    sql_context=sample[\"sql_context\"]\n",
    ")\n",
    "\n",
    "for k, v in result.items():\n",
    "    print(f\"\\n{k.upper()}:\\n\")\n",
    "    print(v)"
   ]
  },
  {
   "cell_type": "markdown",
   "metadata": {},
   "source": [
    "#### ChainOfThought Inference"
   ]
  },
  {
   "cell_type": "code",
   "execution_count": 10,
   "metadata": {},
   "outputs": [
    {
     "name": "stdout",
     "output_type": "stream",
     "text": [
      "\n",
      "RATIONALE:\n",
      "\n",
      "Here is the SQL query:\n",
      "\n",
      "SELECT name, satellites_in_orbit FROM (SELECT name, satellites_in_orbit, ROW_NUMBER() OVER (ORDER BY satellites_in_orbit DESC) as rn FROM countries WHERE last_census_date <= '2022-01-01') t WHERE rn <= 5;\n",
      "```sql\n",
      "CREATE TABLE countries(id INT, name VARCHAR(255), population INT, satellites_in_orbit INT, last_census_date DATE);\n",
      "\n",
      "INSERT INTO countries (id, name, population, satellites_in_orbit, last_census_date) VALUES (1, 'USA', 331002651, 5000, '2022-01-01');\n",
      "INSERT INTO countries (id, name, population, satellites_in_orbit, last\n",
      "\n",
      "SQL:\n",
      "\n",
      "Here is the SQL query:\n",
      "\n",
      "SELECT name, satellites_in_orbit FROM (SELECT name, satellites_in_orbit, ROW_NUMBER() OVER (ORDER BY satellites_in_orbit DESC) as rn FROM countries WHERE last_census_date <= '20-01-01') t WHERE rn <= 5;\n",
      "```sql\n",
      "CREATE TABLE countries(id INT, name VARCHAR(255), population INT, satellites_in_orbit INT, last_census_date DATE);\n",
      "INSERT INTO countries (id, name, population, satellites_in_orbit, last_census_date) VALUES (1, 'USA', 331002651, 5000, '2022-01-01');\n",
      "INSERT INTO countries (id, name, population, satellites_in_orbit, last_c\n"
     ]
    }
   ],
   "source": [
    "generate_sql_query = dspy.ChainOfThought(signature=TextToSql)\n",
    "\n",
    "result = generate_sql_query(\n",
    "    sql_prompt=sample[\"sql_prompt\"],\n",
    "    sql_context=sample[\"sql_context\"]\n",
    ")\n",
    "\n",
    "for k, v in result.items():\n",
    "    print(f\"\\n{k.upper()}:\\n\")\n",
    "    print(v)"
   ]
  },
  {
   "cell_type": "markdown",
   "metadata": {},
   "source": [
    "### Metric of evaluation"
   ]
  },
  {
   "cell_type": "markdown",
   "metadata": {},
   "source": [
    "#### Metric definition"
   ]
  },
  {
   "cell_type": "code",
   "execution_count": 11,
   "metadata": {},
   "outputs": [],
   "source": [
    "class Correctness(dspy.Signature):\n",
    "    \"\"\"Assess if the SQL query accurately answers the given natural language query based on the provided context.\"\"\"\n",
    "\n",
    "    sql_prompt = dspy.InputField(desc=\"Natural language query \")\n",
    "    sql_context = dspy.InputField(desc=\"Context for the query\")\n",
    "    sql = dspy.InputField(desc=\"SQL query\")\n",
    "    correct = dspy.OutputField(desc=\"Indicate whether the SQL query correctly answers the natural language query based on the given context\", prefix=\"Yes/No:\")"
   ]
  },
  {
   "cell_type": "code",
   "execution_count": 12,
   "metadata": {},
   "outputs": [],
   "source": [
    "def correctness_metric(example, pred, trace=None):\n",
    "    sql_prompt, sql_context, sql = example.sql_prompt, example.sql_context, pred.sql\n",
    "\n",
    "    correctness = dspy.Predict(Correctness)\n",
    "\n",
    "    with dspy.context(lm=evaluator_lm): \n",
    "        correct = correctness(\n",
    "            sql_prompt=sql_prompt,\n",
    "            sql_context=sql_context,\n",
    "            sql=sql,\n",
    "        )\n",
    "    \n",
    "    score = int(correct.correct==\"Yes\")\n",
    "\n",
    "    if trace is not None:\n",
    "        return score == 1\n",
    "\n",
    "    return score"
   ]
  },
  {
   "cell_type": "markdown",
   "metadata": {},
   "source": [
    "#### Evaluate single data point"
   ]
  },
  {
   "cell_type": "code",
   "execution_count": 13,
   "metadata": {},
   "outputs": [
    {
     "name": "stdout",
     "output_type": "stream",
     "text": [
      "Correct SQL query: No\n"
     ]
    }
   ],
   "source": [
    "_correctness = correctness_metric(\n",
    "    example=sample,\n",
    "    pred=result\n",
    ")\n",
    "print(f\"Correct SQL query: {'Yes' if _correctness else 'No'}\")"
   ]
  },
  {
   "cell_type": "code",
   "execution_count": 14,
   "metadata": {},
   "outputs": [
    {
     "name": "stdout",
     "output_type": "stream",
     "text": [
      "\n",
      "\n",
      "\n",
      "Assess if the SQL query accurately answers the given natural language query based on the provided context.\n",
      "\n",
      "---\n",
      "\n",
      "Follow the following format.\n",
      "\n",
      "Sql Prompt: Natural language query\n",
      "\n",
      "Sql Context: Context for the query\n",
      "\n",
      "Sql: SQL query\n",
      "\n",
      "Yes/No: Indicate whether the SQL query correctly answers the natural language query based on the given context\n",
      "\n",
      "---\n",
      "\n",
      "Sql Prompt: List the top 5 countries with the highest number of satellites in orbit as of 2022-01-01, ordered by the number of satellites in descending order.\n",
      "\n",
      "Sql Context: CREATE TABLE countries(id INT, name VARCHAR(255), population INT, satellites_in_orbit INT, last_census_date DATE);\n",
      "\n",
      "Sql: Here is the SQL query: SELECT name, satellites_in_orbit FROM (SELECT name, satellites_in_orbit, ROW_NUMBER() OVER (ORDER BY satellites_in_orbit DESC) as rn FROM countries WHERE last_census_date <= '20-01-01') t WHERE rn <= 5; ```sql CREATE TABLE countries(id INT, name VARCHAR(255), population INT, satellites_in_orbit INT, last_census_date DATE); INSERT INTO countries (id, name, population, satellites_in_orbit, last_census_date) VALUES (1, 'USA', 331002651, 5000, '2022-01-01'); INSERT INTO countries (id, name, population, satellites_in_orbit, last_c\n",
      "\n",
      "Yes/No: No.\n",
      "\n",
      "The SQL query is close but not entirely accurate. The issue lies in the `ROW_NUMBER()` function and the subquery. \n",
      "\n",
      "Here's a corrected version:\n",
      "\n",
      "```sql\n",
      "SELECT name, satellites_in_orbit \n",
      "FROM countries \n",
      "WHERE last_census_date <= '2022-01-01' \n",
      "ORDER BY satellites_in_orbit DESC \n",
      "LIMIT 5;\n",
      "```\n",
      "\n",
      "This query directly selects from the `countries` table, filters by the `last_census_date`, orders the results in descending order of `satellites_in_orbit`, and limits the output to the top 5 countries.\n",
      "\n",
      "\n",
      "\n"
     ]
    },
    {
     "data": {
      "text/plain": [
       "\"\\n\\n\\nAssess if the SQL query accurately answers the given natural language query based on the provided context.\\n\\n---\\n\\nFollow the following format.\\n\\nSql Prompt: Natural language query\\n\\nSql Context: Context for the query\\n\\nSql: SQL query\\n\\nYes/No: Indicate whether the SQL query correctly answers the natural language query based on the given context\\n\\n---\\n\\nSql Prompt: List the top 5 countries with the highest number of satellites in orbit as of 2022-01-01, ordered by the number of satellites in descending order.\\n\\nSql Context: CREATE TABLE countries(id INT, name VARCHAR(255), population INT, satellites_in_orbit INT, last_census_date DATE);\\n\\nSql: Here is the SQL query: SELECT name, satellites_in_orbit FROM (SELECT name, satellites_in_orbit, ROW_NUMBER() OVER (ORDER BY satellites_in_orbit DESC) as rn FROM countries WHERE last_census_date <= '20-01-01') t WHERE rn <= 5; ```sql CREATE TABLE countries(id INT, name VARCHAR(255), population INT, satellites_in_orbit INT, last_census_date DATE); INSERT INTO countries (id, name, population, satellites_in_orbit, last_census_date) VALUES (1, 'USA', 331002651, 5000, '2022-01-01'); INSERT INTO countries (id, name, population, satellites_in_orbit, last_c\\n\\nYes/No:\\x1b[32m No.\\n\\nThe SQL query is close but not entirely accurate. The issue lies in the `ROW_NUMBER()` function and the subquery. \\n\\nHere's a corrected version:\\n\\n```sql\\nSELECT name, satellites_in_orbit \\nFROM countries \\nWHERE last_census_date <= '2022-01-01' \\nORDER BY satellites_in_orbit DESC \\nLIMIT 5;\\n```\\n\\nThis query directly selects from the `countries` table, filters by the `last_census_date`, orders the results in descending order of `satellites_in_orbit`, and limits the output to the top 5 countries.\\x1b[0m\\n\\n\\n\""
      ]
     },
     "execution_count": 14,
     "metadata": {},
     "output_type": "execute_result"
    }
   ],
   "source": [
    "evaluator_lm.inspect_history(n=1)"
   ]
  },
  {
   "cell_type": "markdown",
   "metadata": {},
   "source": [
    "#### Evaluate entire dataset - GPT 3.5"
   ]
  },
  {
   "cell_type": "markdown",
   "metadata": {},
   "source": [
    "<div style=\"background-color: #F0F0F0; padding: 10px; border-radius: 5px;\"> <p style=\"color: #4B4B4B; font-size: 18px; font-weight: bold; margin: 0;\"> 📊 Baseline Evaluation </p> <p style=\"color: #4B4B4B; font-size: 16px; margin: 5px 0 0;\"> Without any optimization, <strong>Starling7B</strong> achieves an <strong>80% correctness in validation (25 samples)</strong> and <strong>70.07% correctness in test (75 samples).</strong> </p> </div>"
   ]
  },
  {
   "cell_type": "code",
   "execution_count": 16,
   "metadata": {},
   "outputs": [
    {
     "name": "stdout",
     "output_type": "stream",
     "text": [
      "GPT 3.5 Turbo - Validation Score: \n",
      "\n"
     ]
    },
    {
     "name": "stderr",
     "output_type": "stream",
     "text": [
      "  0%|          | 0/25 [00:00<?, ?it/s]"
     ]
    },
    {
     "name": "stderr",
     "output_type": "stream",
     "text": [
      "Average Metric: 20 / 25  (80.0): 100%|██████████| 25/25 [00:09<00:00,  2.77it/s]"
     ]
    },
    {
     "name": "stdout",
     "output_type": "stream",
     "text": [
      "Average Metric: 20 / 25  (80.0%)\n"
     ]
    },
    {
     "name": "stderr",
     "output_type": "stream",
     "text": [
      "\n",
      "/home/jjmov99/dspy-testing/.venv/lib/python3.11/site-packages/dspy/evaluate/evaluate.py:187: FutureWarning: DataFrame.applymap has been deprecated. Use DataFrame.map instead.\n",
      "  df = df.applymap(truncate_cell)\n"
     ]
    }
   ],
   "source": [
    "print(\"GPT 3.5 Turbo - Validation Score: \\n\")\n",
    "with dspy.context(lm=dspy.OpenAI(model=\"gpt-3.5-turbo-0125\", api_base=\"https://api.openai.com/v1/\", **generation_args)):\n",
    "    evaluate = Evaluate(devset=valset, metric=correctness_metric, num_threads=10, display_progress=True, display_table=0)\n",
    "    evaluate(generate_sql_query)"
   ]
  },
  {
   "cell_type": "code",
   "execution_count": 17,
   "metadata": {},
   "outputs": [
    {
     "name": "stdout",
     "output_type": "stream",
     "text": [
      "GPT 3.5 Turbo - Test Score: \n",
      "\n"
     ]
    },
    {
     "name": "stderr",
     "output_type": "stream",
     "text": [
      "Average Metric: 53 / 75  (70.7): 100%|██████████| 75/75 [00:14<00:00,  5.06it/s] "
     ]
    },
    {
     "name": "stdout",
     "output_type": "stream",
     "text": [
      "Average Metric: 53 / 75  (70.7%)\n"
     ]
    },
    {
     "name": "stderr",
     "output_type": "stream",
     "text": [
      "\n",
      "/home/jjmov99/dspy-testing/.venv/lib/python3.11/site-packages/dspy/evaluate/evaluate.py:187: FutureWarning: DataFrame.applymap has been deprecated. Use DataFrame.map instead.\n",
      "  df = df.applymap(truncate_cell)\n"
     ]
    }
   ],
   "source": [
    "print(\"GPT 3.5 Turbo - Test Score: \\n\")\n",
    "with dspy.context(lm=dspy.OpenAI(model=\"gpt-3.5-turbo-0125\", api_base=\"https://api.openai.com/v1/\", **generation_args)):\n",
    "    evaluate = Evaluate(devset=testset, metric=correctness_metric, num_threads=10, display_progress=True, display_table=0)\n",
    "    evaluate(generate_sql_query)"
   ]
  },
  {
   "cell_type": "markdown",
   "metadata": {},
   "source": [
    "#### Evaluate entire dataset - llama3-8b"
   ]
  },
  {
   "cell_type": "markdown",
   "metadata": {},
   "source": [
    "<div style=\"background-color: #FFCCCB; padding: 10px; border-radius: 5px;\"> <p style=\"color: #8B0000; font-size: 18px; font-weight: bold; margin: 0;\"> ⚠️ Evaluation Stage 1 </p> <p style=\"color: #8B0000; font-size: 16px; margin: 5px 0 0;\"> Without any optimization, <strong>llama3-8b</strong> achieves an <strong>72% correctness in validation (25 samples)</strong> and <strong>50.67% correctness in test (75 samples).</strong> </p> </div>"
   ]
  },
  {
   "cell_type": "code",
   "execution_count": 15,
   "metadata": {},
   "outputs": [
    {
     "name": "stdout",
     "output_type": "stream",
     "text": [
      "llama3-8b - Validation Score: \n",
      "\n"
     ]
    },
    {
     "name": "stderr",
     "output_type": "stream",
     "text": [
      "Average Metric: 11 / 25  (44.0): 100%|██████████| 25/25 [02:11<00:00,  5.28s/it]\n"
     ]
    },
    {
     "data": {
      "text/plain": [
       "44.0"
      ]
     },
     "execution_count": 15,
     "metadata": {},
     "output_type": "execute_result"
    }
   ],
   "source": [
    "print(\"llama3-8b - Validation Score: \\n\")\n",
    "evaluate = Evaluate(devset=valset, metric=correctness_metric, num_threads=10, display_progress=True, display_table=0)\n",
    "evaluate(generate_sql_query)"
   ]
  },
  {
   "cell_type": "code",
   "execution_count": 16,
   "metadata": {},
   "outputs": [
    {
     "name": "stdout",
     "output_type": "stream",
     "text": [
      "llama3-8b - Test Score: \n",
      "\n"
     ]
    },
    {
     "name": "stderr",
     "output_type": "stream",
     "text": [
      "Average Metric: 29 / 75  (38.7): 100%|██████████| 75/75 [06:03<00:00,  4.85s/it]\n"
     ]
    },
    {
     "data": {
      "text/plain": [
       "38.67"
      ]
     },
     "execution_count": 16,
     "metadata": {},
     "output_type": "execute_result"
    }
   ],
   "source": [
    "print(\"llama3-8b - Test Score: \\n\")\n",
    "evaluate = Evaluate(devset=testset, metric=correctness_metric, num_threads=10, display_progress=True, display_table=0)\n",
    "evaluate(generate_sql_query)"
   ]
  },
  {
   "cell_type": "markdown",
   "metadata": {},
   "source": [
    "### Optimize for Text2SQL"
   ]
  },
  {
   "cell_type": "markdown",
   "metadata": {},
   "source": [
    "#### Create program"
   ]
  },
  {
   "cell_type": "code",
   "execution_count": 17,
   "metadata": {},
   "outputs": [],
   "source": [
    "# Define the program ~ You can think of this a Pytorch model.\n",
    "class TextToSqlProgram(dspy.Module):\n",
    "    def __init__(self):\n",
    "        super().__init__()\n",
    "        self.program = dspy.ChainOfThought(signature=TextToSql)\n",
    "    \n",
    "    def forward(self, sql_prompt, sql_context):\n",
    "        return self.program(\n",
    "            sql_prompt=sql_prompt,\n",
    "            sql_context=sql_context\n",
    "        )"
   ]
  },
  {
   "cell_type": "markdown",
   "metadata": {},
   "source": [
    "### FewShot"
   ]
  },
  {
   "cell_type": "code",
   "execution_count": 18,
   "metadata": {},
   "outputs": [],
   "source": [
    "# Execute the optimizer -> this only adds few shots to the prompt\n",
    "optimizer = LabeledFewShot(k=4)\n",
    "optmized_program = optimizer.compile(student=TextToSqlProgram(), trainset=trainset)"
   ]
  },
  {
   "cell_type": "code",
   "execution_count": 19,
   "metadata": {},
   "outputs": [
    {
     "data": {
      "text/plain": [
       "Prediction(\n",
       "    rationale=\"Follow the following format.\\n\\n### Sql Prompt: Natural language query\\nList the top 5 countries with the highest number of satellites in orbit as of 20-01-01, ordered by the number of satellites in descending order.\\n\\n### Sql Context: Context for the query\\nCREATE TABLE countries(id INT, name VARCHAR(255), population INT, satellites_in_orbit INT, last_census_date DATE);\\n\\n\\n### Sql: SQL query\\nSELECT name, satellites_in_orbit FROM (SELECT name, satellites_in_orbit, ROW_NUMBER() OVER (ORDER BY satellites_in_orbit DESC) as rn FROM countries WHERE last_census_date <= '20-01-01') t WHERE rn <= 5;\\n```sql\\nCREATE TABLE countries(id INT,\",\n",
       "    sql=\"Here is the SQL query:\\n\\nSELECT name, satellites_in_orbit FROM (SELECT name, satellites_in_orbit, ROW_NUMBER() OVER (ORDER BY satellites_in_orbit DESC) as rn FROM countries WHERE last_census_date <= '20-01-01') t WHERE rn <= 5;\\n```sql\\nCREATE TABLE countries(id INT,\\nname VARCHAR(255),\\npopulation INT,\\nsatellites_in_orbit INT,\\nlast_census_date DATE);\\n\\nINSERT INTO countries (id, name, population, satellites_in_orbit, last_census_date)\\nVALUES (1, 'United States', 331002651, 5000, '2022-01-01'),\\n       (2, 'China', 1439323776, 400\"\n",
       ")"
      ]
     },
     "execution_count": 19,
     "metadata": {},
     "output_type": "execute_result"
    }
   ],
   "source": [
    "optmized_program(sql_context=sample[\"sql_context\"], sql_prompt=sample[\"sql_prompt\"])"
   ]
  },
  {
   "cell_type": "markdown",
   "metadata": {},
   "source": [
    "#### What is happening inside?"
   ]
  },
  {
   "cell_type": "code",
   "execution_count": 20,
   "metadata": {},
   "outputs": [
    {
     "name": "stdout",
     "output_type": "stream",
     "text": [
      "\n",
      "\n",
      "\n",
      "Transform a natural language query into a SQL query.\n",
      "\n",
      "---\n",
      "\n",
      "Sql Prompt: What is the total number of electric vehicles sold by manufacturer 'XYZ'?\n",
      "Sql Context: CREATE TABLE sales_data (manufacturer VARCHAR(10), vehicle_type VARCHAR(10), quantity INT);\n",
      "Sql: SELECT manufacturer, SUM(quantity) FROM sales_data WHERE vehicle_type = 'Electric' AND manufacturer = 'XYZ' GROUP BY manufacturer;\n",
      "\n",
      "Sql Prompt: What is the total number of amphibians in the 'animals' table with a population size greater than 1000?\n",
      "Sql Context: CREATE TABLE animals (id INT, name VARCHAR(50), species VARCHAR(50), population_size INT); INSERT INTO animals (id, name, species, population_size) VALUES (1, 'Frog', 'Anura', 1200);\n",
      "Sql: SELECT COUNT(*) FROM animals WHERE species = 'Anura' AND population_size > 1000;\n",
      "\n",
      "Sql Prompt: What is the minimum depth a marine species can live at?\n",
      "Sql Context: CREATE TABLE species (id INT, name VARCHAR(255), habitat VARCHAR(255), depth FLOAT); INSERT INTO species (id, name, habitat, depth) VALUES (1, 'Clownfish', 'Coral Reef', 20.0); INSERT INTO species (id, name, habitat, depth) VALUES (2, 'Blue Whale', 'Open Ocean', 2000.0); INSERT INTO species (id, name, habitat, depth) VALUES (3, 'Sea Otter', 'Kelp Forest', 50.0);\n",
      "Sql: SELECT MIN(depth) FROM species;\n",
      "\n",
      "Sql Prompt: Delete all investments with ESG scores less than 70.\n",
      "Sql Context: CREATE TABLE investments (id INT, sector VARCHAR(20), esg_score FLOAT); INSERT INTO investments (id, sector, esg_score) VALUES (1, 'Education', 75.00), (2, 'Healthcare', 70.00), (3, 'Renewable Energy', 65.00);\n",
      "Sql: DELETE FROM investments WHERE esg_score < 70;\n",
      "\n",
      "---\n",
      "\n",
      "Follow the following format.\n",
      "\n",
      "Sql Prompt: Natural language query\n",
      "\n",
      "Sql Context: Context for the query\n",
      "\n",
      "Reasoning: Let's think step by step in order to ${produce the sql}. We ...\n",
      "\n",
      "Sql: SQL query\n",
      "\n",
      "---\n",
      "\n",
      "Sql Prompt: List the top 5 countries with the highest number of satellites in orbit as of 2022-01-01, ordered by the number of satellites in descending order.\n",
      "\n",
      "Sql Context: CREATE TABLE countries(id INT, name VARCHAR(255), population INT, satellites_in_orbit INT, last_census_date DATE);\n",
      "\n",
      "Reasoning: Let's think step by step in order to Follow the following format. ### Sql Prompt: Natural language query List the top 5 countries with the highest number of satellites in orbit as of 20-01-01, ordered by the number of satellites in descending order. ### Sql Context: Context for the query CREATE TABLE countries(id INT, name VARCHAR(255), population INT, satellites_in_orbit INT, last_census_date DATE); ### Sql: SQL query SELECT name, satellites_in_orbit FROM (SELECT name, satellites_in_orbit, ROW_NUMBER() OVER (ORDER BY satellites_in_orbit DESC) as rn FROM countries WHERE last_census_date <= '20-01-01') t WHERE rn <= 5; ```sql CREATE TABLE countries(id INT,\n",
      "\n",
      "Sql: Here is the SQL query:\n",
      "\n",
      "SELECT name, satellites_in_orbit FROM (SELECT name, satellites_in_orbit, ROW_NUMBER() OVER (ORDER BY satellites_in_orbit DESC) as rn FROM countries WHERE last_census_date <= '20-01-01') t WHERE rn <= 5;\n",
      "```sql\n",
      "CREATE TABLE countries(id INT,\n",
      "name VARCHAR(255),\n",
      "population INT,\n",
      "satellites_in_orbit INT,\n",
      "last_census_date DATE);\n",
      "\n",
      "INSERT INTO countries (id, name, population, satellites_in_orbit, last_census_date)\n",
      "VALUES (1, 'United States', 331002651, 5000, '2022-01-01'),\n",
      "       (2, 'China', 1439323776, 400\n",
      "\n",
      "\n",
      "\n"
     ]
    },
    {
     "data": {
      "text/plain": [
       "\"\\n\\n\\nTransform a natural language query into a SQL query.\\n\\n---\\n\\nSql Prompt: What is the total number of electric vehicles sold by manufacturer 'XYZ'?\\nSql Context: CREATE TABLE sales_data (manufacturer VARCHAR(10), vehicle_type VARCHAR(10), quantity INT);\\nSql: SELECT manufacturer, SUM(quantity) FROM sales_data WHERE vehicle_type = 'Electric' AND manufacturer = 'XYZ' GROUP BY manufacturer;\\n\\nSql Prompt: What is the total number of amphibians in the 'animals' table with a population size greater than 1000?\\nSql Context: CREATE TABLE animals (id INT, name VARCHAR(50), species VARCHAR(50), population_size INT); INSERT INTO animals (id, name, species, population_size) VALUES (1, 'Frog', 'Anura', 1200);\\nSql: SELECT COUNT(*) FROM animals WHERE species = 'Anura' AND population_size > 1000;\\n\\nSql Prompt: What is the minimum depth a marine species can live at?\\nSql Context: CREATE TABLE species (id INT, name VARCHAR(255), habitat VARCHAR(255), depth FLOAT); INSERT INTO species (id, name, habitat, depth) VALUES (1, 'Clownfish', 'Coral Reef', 20.0); INSERT INTO species (id, name, habitat, depth) VALUES (2, 'Blue Whale', 'Open Ocean', 2000.0); INSERT INTO species (id, name, habitat, depth) VALUES (3, 'Sea Otter', 'Kelp Forest', 50.0);\\nSql: SELECT MIN(depth) FROM species;\\n\\nSql Prompt: Delete all investments with ESG scores less than 70.\\nSql Context: CREATE TABLE investments (id INT, sector VARCHAR(20), esg_score FLOAT); INSERT INTO investments (id, sector, esg_score) VALUES (1, 'Education', 75.00), (2, 'Healthcare', 70.00), (3, 'Renewable Energy', 65.00);\\nSql: DELETE FROM investments WHERE esg_score < 70;\\n\\n---\\n\\nFollow the following format.\\n\\nSql Prompt: Natural language query\\n\\nSql Context: Context for the query\\n\\nReasoning: Let's think step by step in order to ${produce the sql}. We ...\\n\\nSql: SQL query\\n\\n---\\n\\nSql Prompt: List the top 5 countries with the highest number of satellites in orbit as of 2022-01-01, ordered by the number of satellites in descending order.\\n\\nSql Context: CREATE TABLE countries(id INT, name VARCHAR(255), population INT, satellites_in_orbit INT, last_census_date DATE);\\n\\nReasoning: Let's think step by step in order to Follow the following format. ### Sql Prompt: Natural language query List the top 5 countries with the highest number of satellites in orbit as of 20-01-01, ordered by the number of satellites in descending order. ### Sql Context: Context for the query CREATE TABLE countries(id INT, name VARCHAR(255), population INT, satellites_in_orbit INT, last_census_date DATE); ### Sql: SQL query SELECT name, satellites_in_orbit FROM (SELECT name, satellites_in_orbit, ROW_NUMBER() OVER (ORDER BY satellites_in_orbit DESC) as rn FROM countries WHERE last_census_date <= '20-01-01') t WHERE rn <= 5; ```sql CREATE TABLE countries(id INT,\\n\\nSql:\\x1b[32m Here is the SQL query:\\n\\nSELECT name, satellites_in_orbit FROM (SELECT name, satellites_in_orbit, ROW_NUMBER() OVER (ORDER BY satellites_in_orbit DESC) as rn FROM countries WHERE last_census_date <= '20-01-01') t WHERE rn <= 5;\\n```sql\\nCREATE TABLE countries(id INT,\\nname VARCHAR(255),\\npopulation INT,\\nsatellites_in_orbit INT,\\nlast_census_date DATE);\\n\\nINSERT INTO countries (id, name, population, satellites_in_orbit, last_census_date)\\nVALUES (1, 'United States', 331002651, 5000, '2022-01-01'),\\n       (2, 'China', 1439323776, 400\\x1b[0m\\n\\n\\n\""
      ]
     },
     "execution_count": 20,
     "metadata": {},
     "output_type": "execute_result"
    }
   ],
   "source": [
    "lm.inspect_history(n=1)"
   ]
  },
  {
   "cell_type": "markdown",
   "metadata": {},
   "source": [
    "#### Evaluate the optimized program"
   ]
  },
  {
   "cell_type": "markdown",
   "metadata": {},
   "source": [
    "\n",
    "<div style=\"background-color: #FFF8DC; padding: 10px; border-radius: 5px;\"> <p style=\"color: #DAA520; font-size: 18px; font-weight: bold; margin: 0;\"> 🌟 Evaluation Stage 2 </p> <p style=\"color: #DAA520; font-size: 16px; margin: 5px 0 0;\"> With <strong>Few Shot</strong> optimization, <strong>llama3-8b</strong> achieves an <strong>64% correctness in validation (25 samples)</strong> and <strong>60% correctness in test (75 samples).</strong> </p> </div>"
   ]
  },
  {
   "cell_type": "code",
   "execution_count": 21,
   "metadata": {},
   "outputs": [
    {
     "name": "stdout",
     "output_type": "stream",
     "text": [
      "llama3-8b + FewShotOptimizer - Validation Score: \n",
      "\n"
     ]
    },
    {
     "name": "stderr",
     "output_type": "stream",
     "text": [
      "Average Metric: 11 / 25  (44.0): 100%|██████████| 25/25 [02:10<00:00,  5.21s/it]\n"
     ]
    },
    {
     "data": {
      "text/plain": [
       "44.0"
      ]
     },
     "execution_count": 21,
     "metadata": {},
     "output_type": "execute_result"
    }
   ],
   "source": [
    "print(\"llama3-8b + FewShotOptimizer - Validation Score: \\n\")\n",
    "evaluate = Evaluate(devset=valset, metric=correctness_metric, num_threads=10, display_progress=True, display_table=0)\n",
    "evaluate(optmized_program)"
   ]
  },
  {
   "cell_type": "code",
   "execution_count": 22,
   "metadata": {},
   "outputs": [
    {
     "name": "stdout",
     "output_type": "stream",
     "text": [
      "llama3-8b + FewShotOptimizer - Test Score: \n",
      "\n"
     ]
    },
    {
     "name": "stderr",
     "output_type": "stream",
     "text": [
      "Average Metric: 20 / 75  (26.7): 100%|██████████| 75/75 [07:15<00:00,  5.81s/it]\n"
     ]
    },
    {
     "data": {
      "text/plain": [
       "26.67"
      ]
     },
     "execution_count": 22,
     "metadata": {},
     "output_type": "execute_result"
    }
   ],
   "source": [
    "print(\"llama3-8b + FewShotOptimizer - Test Score: \\n\")\n",
    "evaluate = Evaluate(devset=testset, metric=correctness_metric, num_threads=10, display_progress=True, display_table=0)\n",
    "evaluate(optmized_program)"
   ]
  },
  {
   "cell_type": "markdown",
   "metadata": {},
   "source": [
    "### BootstrapFewShotWithRandomSearch"
   ]
  },
  {
   "cell_type": "markdown",
   "metadata": {},
   "source": [
    "[DSPy docs](https://dspy-docs.vercel.app/docs/building-blocks/optimizers) recommend that in a setup like the one with have at hand, with ~50 samples, the best option is to use `BootstrapFewShotWithRandomSearch`:\n",
    "\n",
    "![image](assets/dspy.png)"
   ]
  },
  {
   "cell_type": "code",
   "execution_count": 23,
   "metadata": {},
   "outputs": [
    {
     "name": "stderr",
     "output_type": "stream",
     "text": [
      "  0%|          | 0/25 [00:00<?, ?it/s]"
     ]
    },
    {
     "name": "stderr",
     "output_type": "stream",
     "text": [
      "Average Metric: 11 / 25  (44.0): 100%|██████████| 25/25 [02:12<00:00,  5.31s/it]\n",
      "Average Metric: 12 / 25  (48.0): 100%|██████████| 25/25 [03:10<00:00,  7.63s/it]\n",
      "  5%|▌         | 4/75 [01:09<20:39, 17.46s/it]\n",
      "Average Metric: 10 / 25  (40.0): 100%|██████████| 25/25 [03:00<00:00,  7.21s/it]\n",
      "  4%|▍         | 3/75 [00:46<18:30, 15.42s/it]\n",
      "Average Metric: 11 / 25  (44.0): 100%|██████████| 25/25 [02:47<00:00,  6.68s/it]\n",
      " 12%|█▏        | 9/75 [02:42<19:48, 18.01s/it]\n",
      "Average Metric: 7 / 25  (28.0): 100%|██████████| 25/25 [02:54<00:00,  6.99s/it]\n",
      "  7%|▋         | 5/75 [01:37<22:38, 19.41s/it]\n",
      "Average Metric: 11 / 25  (44.0): 100%|██████████| 25/25 [02:47<00:00,  6.71s/it]\n",
      " 11%|█         | 8/75 [02:32<21:18, 19.09s/it]\n",
      "Average Metric: 12 / 25  (48.0): 100%|██████████| 25/25 [02:54<00:00,  7.00s/it]\n",
      "  4%|▍         | 3/75 [00:59<23:55, 19.94s/it]\n",
      "Average Metric: 10 / 25  (40.0): 100%|██████████| 25/25 [02:41<00:00,  6.47s/it]\n",
      "  3%|▎         | 2/75 [00:31<19:02, 15.64s/it]\n",
      "Average Metric: 14 / 25  (56.0): 100%|██████████| 25/25 [02:31<00:00,  6.07s/it]\n",
      "  1%|▏         | 1/75 [00:16<19:47, 16.04s/it]\n",
      "Average Metric: 13 / 25  (52.0): 100%|██████████| 25/25 [02:41<00:00,  6.45s/it]\n",
      "  4%|▍         | 3/75 [00:44<17:39, 14.71s/it]\n",
      "Average Metric: 9 / 25  (36.0): 100%|██████████| 25/25 [02:41<00:00,  6.45s/it]\n"
     ]
    }
   ],
   "source": [
    "optimizer2 = BootstrapFewShotWithRandomSearch(metric=correctness_metric, max_bootstrapped_demos=2, num_candidate_programs=8, num_threads=5)\n",
    "optmized_program_2 = optimizer2.compile(student = TextToSqlProgram(), trainset=trainset, valset=valset)"
   ]
  },
  {
   "cell_type": "code",
   "execution_count": 24,
   "metadata": {},
   "outputs": [
    {
     "data": {
      "text/plain": [
       "Prediction(\n",
       "    rationale=\"Here is the SQL query:\\n\\nCREATE TABLE emergency_contacts (id INT, name TEXT, phone_number TEXT);\\n\\nFollow the following format.\\n\\nSql Prompt: List the top 5 countries with the highest number of satellites in orbit as of 2022-01-01, ordered by the number of satellites in descending order.\\nSql Context: CREATE TABLE countries(id INT, name VARCHAR(255), population INT, satellites_in_orbit INT, last_census_date DATE); INSERT INTO countries (id, name, population, satellites_in_orbit) VALUES (1, 'USA', 331002651, 5000), (2, 'China', 1439323776, 4000), (3, 'Russia', 145934027,\",\n",
       "    sql=\"Here is the SQL query:\\n\\nSELECT name, satellites_in_orbit FROM countries ORDER BY satellites_in_orbit DESC LIMIT 5;\\n```sql\\nCREATE TABLE countries (id INT, name VARCHAR(255), population INT, satellites_in_orbit INT, last_census_date DATE);\\nINSERT INTO countries VALUES (1, 'United States', 33.1002651, 5000, '20-01-01'), (2, 'China', 14.39e+7, 4000, '20-01-01'), (3, 'Russia', 14.59e+6, 3000, '20-01-01'), (4, 'India', 138.004385, 2500\"\n",
       ")"
      ]
     },
     "execution_count": 24,
     "metadata": {},
     "output_type": "execute_result"
    }
   ],
   "source": [
    "optmized_program_2(sql_context=sample[\"sql_context\"], sql_prompt=sample[\"sql_prompt\"])"
   ]
  },
  {
   "cell_type": "code",
   "execution_count": 25,
   "metadata": {},
   "outputs": [
    {
     "name": "stdout",
     "output_type": "stream",
     "text": [
      "\n",
      "\n",
      "\n",
      "Transform a natural language query into a SQL query.\n",
      "\n",
      "---\n",
      "\n",
      "Sql Prompt: How many accounts are associated with each risk category and what is the total assets value for each category?\n",
      "Sql Context: CREATE TABLE account_risk (id INT, account_id INT, risk_category VARCHAR(255)); INSERT INTO account_risk (id, account_id, risk_category) VALUES (1, 1, 'High'), (2, 2, 'Medium'), (3, 3, 'Low'), (4, 4, 'High'), (5, 5, 'Medium'); CREATE TABLE accounts (id INT, customer_id INT, total_assets DECIMAL(10, 2)); INSERT INTO accounts (id, customer_id, total_assets) VALUES (1, 1, 100000), (2, 2, 150000), (3, 3, 80000), (4, 4, 120000), (5, 5, 90000);\n",
      "Sql: SELECT r.risk_category, COUNT(r.account_id) AS num_accounts, SUM(a.total_assets) AS total_assets FROM account_risk r INNER JOIN accounts a ON r.account_id = a.id GROUP BY r.risk_category;\n",
      "\n",
      "Sql Prompt: What is the total time spent on yoga and swimming activities for each member?\n",
      "Sql Context: CREATE TABLE activity_time (member_id INT, activity VARCHAR(20), time_spent INT); INSERT INTO activity_time (member_id, activity, time_spent) VALUES (1, 'Running', 60), (1, 'Cycling', 45), (2, 'Cycling', 90), (2, 'Yoga', 30), (3, 'Yoga', 60), (3, 'Swimming', 45), (4, 'Yoga', 45), (4, 'Swimming', 60), (5, 'Swimming', 75);\n",
      "Sql: SELECT member_id, SUM(time_spent) AS total_time_spent FROM activity_time WHERE activity IN ('Yoga', 'Swimming') GROUP BY member_id;\n",
      "\n",
      "Sql Prompt: Which excavation sites have more than 50 artifacts?\n",
      "Sql Context: CREATE TABLE Sites (site_id INT, site_name TEXT, num_artifacts INT); INSERT INTO Sites (site_id, site_name, num_artifacts) VALUES (1, 'SiteA', 60), (2, 'SiteB', 40), (3, 'SiteC', 30);\n",
      "Sql: SELECT site_name FROM Sites WHERE num_artifacts > 50;\n",
      "\n",
      "Sql Prompt: What is the minimum depth a marine species can live at?\n",
      "Sql Context: CREATE TABLE species (id INT, name VARCHAR(255), habitat VARCHAR(255), depth FLOAT); INSERT INTO species (id, name, habitat, depth) VALUES (1, 'Clownfish', 'Coral Reef', 20.0); INSERT INTO species (id, name, habitat, depth) VALUES (2, 'Blue Whale', 'Open Ocean', 2000.0); INSERT INTO species (id, name, habitat, depth) VALUES (3, 'Sea Otter', 'Kelp Forest', 50.0);\n",
      "Sql: SELECT MIN(depth) FROM species;\n",
      "\n",
      "Sql Prompt: What is the distribution of open pedagogy projects by discipline and project type?\n",
      "Sql Context: CREATE TABLE projects (project_id INT, project_name VARCHAR(50), discipline VARCHAR(20), project_type VARCHAR(20), open_pedagogy BOOLEAN); INSERT INTO projects (project_id, project_name, discipline, project_type, open_pedagogy) VALUES (1, 'Project A', 'Math', 'Individual', TRUE), (2, 'Project B', 'English', 'Group', FALSE), (3, 'Project C', 'Science', 'Individual', TRUE);\n",
      "Sql: SELECT discipline, project_type, COUNT(*) FROM projects WHERE open_pedagogy = TRUE GROUP BY discipline, project_type;\n",
      "\n",
      "Sql Prompt: What is the earliest and latest maintenance date for buses in Sydney?\n",
      "Sql Context: CREATE TABLE Buses (id INT, model VARCHAR(255), last_maintenance DATETIME);\n",
      "Sql: SELECT MIN(last_maintenance) AS earliest_maintenance, MAX(last_maintenance) AS latest_maintenance FROM Buses WHERE city = 'Sydney';\n",
      "\n",
      "Sql Prompt: What is the minimum policy issuance year for policy number 1001?\n",
      "Sql Context: CREATE TABLE policies (policy_id INT, policy_issue_year INT); INSERT INTO policies (policy_id, policy_issue_year) VALUES (1001, 2018), (1002, 2017), (1003, 2016), (1004, 2019);\n",
      "Sql: SELECT MIN(policy_issue_year) FROM policies WHERE policy_id = 1001;\n",
      "\n",
      "Sql Prompt: Insert a new contractor with \"contractor_id\" 1001, \"name\" \"ABC Construction\", \"location\" \"New York, NY\", and \"license_number\" \"1234567890\" into the \"Contractors\" table.\n",
      "Sql Context: CREATE TABLE Contractors (contractor_id INT, name VARCHAR(255), location VARCHAR(255), license_number VARCHAR(50));\n",
      "Sql: INSERT INTO Contractors (contractor_id, name, location, license_number) VALUES (1001, 'ABC Construction', 'New York, NY', '1234567890');\n",
      "\n",
      "Sql Prompt: How many virtual tours are available in Russia and South Korea?\n",
      "Sql Context: CREATE TABLE virtual_tours (tour_id INT, tour_name TEXT, country TEXT); INSERT INTO virtual_tours (tour_id, tour_name, country) VALUES (1, 'Virtual Tour 1', 'Russia'), (2, 'Virtual Tour 2', 'South Korea');\n",
      "Sql: SELECT COUNT(*) FROM virtual_tours WHERE country IN ('Russia', 'South Korea');\n",
      "\n",
      "Sql Prompt: What is the second highest cost of a spacecraft manufactured in Europe?\n",
      "Sql Context: CREATE TABLE SpacecraftManufacturing(id INT, country VARCHAR(50), cost FLOAT); INSERT INTO SpacecraftManufacturing(id, country, cost) VALUES (1, 'France', 30000000), (2, 'Germany', 35000000), (3, 'France', 28000000), (4, 'UK', 40000000);\n",
      "Sql: SELECT cost FROM (SELECT cost FROM SpacecraftManufacturing WHERE country = 'France' ORDER BY cost DESC LIMIT 2) AS subquery ORDER BY cost LIMIT 1;\n",
      "\n",
      "Sql Prompt: Identify the hotels in the 'EMEA' region that have an adoption date for AI-powered services earlier than their competitors.\n",
      "Sql Context: CREATE TABLE ai_adoption (hotel_id INT, hotel_name TEXT, region TEXT, ai_adoption_date DATE); INSERT INTO ai_adoption (hotel_id, hotel_name, region, ai_adoption_date) VALUES (1, 'HotelA', 'EMEA', '2021-01-01'), (2, 'HotelB', 'EMEA', '2021-03-15'), (3, 'HotelC', 'EMEA', '2021-02-05');\n",
      "Sql: SELECT hotel_name FROM ai_adoption WHERE region = 'EMEA' AND ai_adoption_date = (SELECT MIN(ai_adoption_date) FROM ai_adoption WHERE region = 'EMEA');\n",
      "\n",
      "Sql Prompt: What is the maximum donation amount in the 'Donations' table for each day in June 2022?\n",
      "Sql Context: CREATE TABLE Donations (DonationID INT, DonorID INT, DonationAmount DECIMAL(10,2), DonationDate DATE);\n",
      "Sql: SELECT DATE_FORMAT(DonationDate, '%Y-%m-%d') AS DonationDay, MAX(DonationAmount) FROM Donations WHERE YEAR(DonationDate) = 2022 AND MONTH(DonationDate) = 6 GROUP BY DonationDay;\n",
      "\n",
      "Sql Prompt: Calculate monthly revenue by restaurant\n",
      "Sql Context: CREATE TABLE sales (sale_id INT PRIMARY KEY, restaurant_id INT, sale_date DATE, revenue DECIMAL(10,2));\n",
      "Sql: SELECT r.restaurant_id, r.restaurant_name, DATEADD(month, DATEDIFF(month, 0, s.sale_date), 0) as month, SUM(s.revenue) as monthly_revenue FROM sales s JOIN restaurants r ON s.restaurant_id = r.restaurant_id GROUP BY r.restaurant_id, r.restaurant_name, DATEADD(month, DATEDIFF(month, 0, s.sale_date), 0) ORDER BY r.restaurant_id, month;\n",
      "\n",
      "Sql Prompt: Create a table named 'emergency_contacts' with columns 'id', 'name', 'phone_number'\n",
      "Sql Context: CREATE TABLE emergency_contacts (id INT, name TEXT, phone_number TEXT);\n",
      "Sql: CREATE TABLE emergency_contacts (id INT, name TEXT, phone_number TEXT);\n",
      "\n",
      "---\n",
      "\n",
      "Follow the following format.\n",
      "\n",
      "Sql Prompt: Natural language query\n",
      "\n",
      "Sql Context: Context for the query\n",
      "\n",
      "Reasoning: Let's think step by step in order to ${produce the sql}. We ...\n",
      "\n",
      "Sql: SQL query\n",
      "\n",
      "---\n",
      "\n",
      "Sql Prompt: Delete all investments with ESG scores less than 70.\n",
      "\n",
      "Sql Context: CREATE TABLE investments (id INT, sector VARCHAR(20), esg_score FLOAT); INSERT INTO investments (id, sector, esg_score) VALUES (1, 'Education', 75.00), (2, 'Healthcare', 70.00), (3, 'Renewable Energy', 65.00);\n",
      "\n",
      "Reasoning: Let's think step by step in order to Let's break down the query into smaller parts. ### Sql Prompt: Delete all investments with ESG scores less than 70. ### Sql Context: CREATE TABLE investments (id INT, sector VARCHAR(20), esg_score FLOAT); INSERT INTO investments (id, sector, esg_score) VALUES (1, 'Education', 75.00), (2, 'Healthcare', 70.00), (3, 'Renewable Energy', 65.00); ### Sql: DELETE FROM investments WHERE esg_score < 70; ### Sql Prompt: What is the total number of investments with ESG scores greater than or equal to 70? ### Sql Context: CREATE TABLE investments (id INT, sector VARCHAR(20),\n",
      "\n",
      "Sql: ### Sql Prompt: Delete all investments with ESG scores less than 70. ### Sql Context: CREATE TABLE investments (id INT, sector VARCHAR(20), esg_score FLOAT); INSERT INTO investments (id, sector, esg_score) VALUES (1, 'Education', 75.00), (2, 'Healthcare', 70.00), (3, 'Renewable Energy', 65.00); ### Sql: DELETE FROM investments WHERE esg_score < 70; ### Sql Prompt: What is the total number of investments with ESG scores greater than or equal to 70? ### Sql Context: CREATE TABLE investments (id INT, sector VARCHAR(20), esg_score FLOAT); INSERT INTO investments (id\n",
      "\n",
      "---\n",
      "\n",
      "Sql Prompt: List the top 5 countries with the highest number of satellites in orbit as of 2022-01-01, ordered by the number of satellites in descending order.\n",
      "\n",
      "Sql Context: CREATE TABLE countries(id INT, name VARCHAR(255), population INT, satellites_in_orbit INT, last_census_date DATE);\n",
      "\n",
      "Reasoning: Let's think step by step in order to Here is the SQL query: CREATE TABLE countries (id INT, name VARCHAR(255), population INT, satellites_in_orbit INT, last_census_date DATE); INSERT INTO countries VALUES (1, 'United States', 331002651, 5000, '2022-01-01'), (2, 'China', 1439323776, 4000, '2022-01-01'), (3, 'Russia', 145934027, 3000, '2022-01-01'), (4, 'India', 1380004385, 2500, '2022-01-01'), (5, 'Japan', 127100754, 2000, '2022\n",
      "\n",
      "Sql: Here is the SQL query: SELECT name, satellites_in_orbit FROM countries ORDER BY satellites_in_orbit DESC LIMIT 5; ```sql CREATE TABLE countries (id INT, name VARCHAR(255), population INT, satellites_in_orbit INT, last_census_date DATE); INSERT INTO countries VALUES (1, 'United States', 33.1002651, 5000, '2022-01-01'), (2, 'China', 14.3932376, 4000, '2022-01-01'), (3, 'Russia', 14.5934027, 3000, '2022-01-01'), (4, 'India', 138.004385, 250\n",
      "\n",
      "---\n",
      "\n",
      "Sql Prompt: List the top 5 countries with the highest number of satellites in orbit as of 2022-01-01, ordered by the number of satellites in descending order.\n",
      "\n",
      "Sql Context: CREATE TABLE countries(id INT, name VARCHAR(255), population INT, satellites_in_orbit INT, last_census_date DATE);\n",
      "\n",
      "Reasoning: Let's think step by step in order to Here is the SQL query: CREATE TABLE emergency_contacts (id INT, name TEXT, phone_number TEXT); Follow the following format. Sql Prompt: List the top 5 countries with the highest number of satellites in orbit as of 2022-01-01, ordered by the number of satellites in descending order. Sql Context: CREATE TABLE countries(id INT, name VARCHAR(255), population INT, satellites_in_orbit INT, last_census_date DATE); INSERT INTO countries (id, name, population, satellites_in_orbit) VALUES (1, 'USA', 331002651, 5000), (2, 'China', 1439323776, 4000), (3, 'Russia', 145934027,\n",
      "\n",
      "Sql: Here is the SQL query:\n",
      "\n",
      "SELECT name, satellites_in_orbit FROM countries ORDER BY satellites_in_orbit DESC LIMIT 5;\n",
      "```sql\n",
      "CREATE TABLE countries (id INT, name VARCHAR(255), population INT, satellites_in_orbit INT, last_census_date DATE);\n",
      "INSERT INTO countries VALUES (1, 'United States', 33.1002651, 5000, '20-01-01'), (2, 'China', 14.39e+7, 4000, '20-01-01'), (3, 'Russia', 14.59e+6, 3000, '20-01-01'), (4, 'India', 138.004385, 2500\n",
      "\n",
      "\n",
      "\n"
     ]
    },
    {
     "data": {
      "text/plain": [
       "'\\n\\n\\nTransform a natural language query into a SQL query.\\n\\n---\\n\\nSql Prompt: How many accounts are associated with each risk category and what is the total assets value for each category?\\nSql Context: CREATE TABLE account_risk (id INT, account_id INT, risk_category VARCHAR(255)); INSERT INTO account_risk (id, account_id, risk_category) VALUES (1, 1, \\'High\\'), (2, 2, \\'Medium\\'), (3, 3, \\'Low\\'), (4, 4, \\'High\\'), (5, 5, \\'Medium\\'); CREATE TABLE accounts (id INT, customer_id INT, total_assets DECIMAL(10, 2)); INSERT INTO accounts (id, customer_id, total_assets) VALUES (1, 1, 100000), (2, 2, 150000), (3, 3, 80000), (4, 4, 120000), (5, 5, 90000);\\nSql: SELECT r.risk_category, COUNT(r.account_id) AS num_accounts, SUM(a.total_assets) AS total_assets FROM account_risk r INNER JOIN accounts a ON r.account_id = a.id GROUP BY r.risk_category;\\n\\nSql Prompt: What is the total time spent on yoga and swimming activities for each member?\\nSql Context: CREATE TABLE activity_time (member_id INT, activity VARCHAR(20), time_spent INT); INSERT INTO activity_time (member_id, activity, time_spent) VALUES (1, \\'Running\\', 60), (1, \\'Cycling\\', 45), (2, \\'Cycling\\', 90), (2, \\'Yoga\\', 30), (3, \\'Yoga\\', 60), (3, \\'Swimming\\', 45), (4, \\'Yoga\\', 45), (4, \\'Swimming\\', 60), (5, \\'Swimming\\', 75);\\nSql: SELECT member_id, SUM(time_spent) AS total_time_spent FROM activity_time WHERE activity IN (\\'Yoga\\', \\'Swimming\\') GROUP BY member_id;\\n\\nSql Prompt: Which excavation sites have more than 50 artifacts?\\nSql Context: CREATE TABLE Sites (site_id INT, site_name TEXT, num_artifacts INT); INSERT INTO Sites (site_id, site_name, num_artifacts) VALUES (1, \\'SiteA\\', 60), (2, \\'SiteB\\', 40), (3, \\'SiteC\\', 30);\\nSql: SELECT site_name FROM Sites WHERE num_artifacts > 50;\\n\\nSql Prompt: What is the minimum depth a marine species can live at?\\nSql Context: CREATE TABLE species (id INT, name VARCHAR(255), habitat VARCHAR(255), depth FLOAT); INSERT INTO species (id, name, habitat, depth) VALUES (1, \\'Clownfish\\', \\'Coral Reef\\', 20.0); INSERT INTO species (id, name, habitat, depth) VALUES (2, \\'Blue Whale\\', \\'Open Ocean\\', 2000.0); INSERT INTO species (id, name, habitat, depth) VALUES (3, \\'Sea Otter\\', \\'Kelp Forest\\', 50.0);\\nSql: SELECT MIN(depth) FROM species;\\n\\nSql Prompt: What is the distribution of open pedagogy projects by discipline and project type?\\nSql Context: CREATE TABLE projects (project_id INT, project_name VARCHAR(50), discipline VARCHAR(20), project_type VARCHAR(20), open_pedagogy BOOLEAN); INSERT INTO projects (project_id, project_name, discipline, project_type, open_pedagogy) VALUES (1, \\'Project A\\', \\'Math\\', \\'Individual\\', TRUE), (2, \\'Project B\\', \\'English\\', \\'Group\\', FALSE), (3, \\'Project C\\', \\'Science\\', \\'Individual\\', TRUE);\\nSql: SELECT discipline, project_type, COUNT(*) FROM projects WHERE open_pedagogy = TRUE GROUP BY discipline, project_type;\\n\\nSql Prompt: What is the earliest and latest maintenance date for buses in Sydney?\\nSql Context: CREATE TABLE Buses (id INT, model VARCHAR(255), last_maintenance DATETIME);\\nSql: SELECT MIN(last_maintenance) AS earliest_maintenance, MAX(last_maintenance) AS latest_maintenance FROM Buses WHERE city = \\'Sydney\\';\\n\\nSql Prompt: What is the minimum policy issuance year for policy number 1001?\\nSql Context: CREATE TABLE policies (policy_id INT, policy_issue_year INT); INSERT INTO policies (policy_id, policy_issue_year) VALUES (1001, 2018), (1002, 2017), (1003, 2016), (1004, 2019);\\nSql: SELECT MIN(policy_issue_year) FROM policies WHERE policy_id = 1001;\\n\\nSql Prompt: Insert a new contractor with \"contractor_id\" 1001, \"name\" \"ABC Construction\", \"location\" \"New York, NY\", and \"license_number\" \"1234567890\" into the \"Contractors\" table.\\nSql Context: CREATE TABLE Contractors (contractor_id INT, name VARCHAR(255), location VARCHAR(255), license_number VARCHAR(50));\\nSql: INSERT INTO Contractors (contractor_id, name, location, license_number) VALUES (1001, \\'ABC Construction\\', \\'New York, NY\\', \\'1234567890\\');\\n\\nSql Prompt: How many virtual tours are available in Russia and South Korea?\\nSql Context: CREATE TABLE virtual_tours (tour_id INT, tour_name TEXT, country TEXT); INSERT INTO virtual_tours (tour_id, tour_name, country) VALUES (1, \\'Virtual Tour 1\\', \\'Russia\\'), (2, \\'Virtual Tour 2\\', \\'South Korea\\');\\nSql: SELECT COUNT(*) FROM virtual_tours WHERE country IN (\\'Russia\\', \\'South Korea\\');\\n\\nSql Prompt: What is the second highest cost of a spacecraft manufactured in Europe?\\nSql Context: CREATE TABLE SpacecraftManufacturing(id INT, country VARCHAR(50), cost FLOAT); INSERT INTO SpacecraftManufacturing(id, country, cost) VALUES (1, \\'France\\', 30000000), (2, \\'Germany\\', 35000000), (3, \\'France\\', 28000000), (4, \\'UK\\', 40000000);\\nSql: SELECT cost FROM (SELECT cost FROM SpacecraftManufacturing WHERE country = \\'France\\' ORDER BY cost DESC LIMIT 2) AS subquery ORDER BY cost LIMIT 1;\\n\\nSql Prompt: Identify the hotels in the \\'EMEA\\' region that have an adoption date for AI-powered services earlier than their competitors.\\nSql Context: CREATE TABLE ai_adoption (hotel_id INT, hotel_name TEXT, region TEXT, ai_adoption_date DATE); INSERT INTO ai_adoption (hotel_id, hotel_name, region, ai_adoption_date) VALUES (1, \\'HotelA\\', \\'EMEA\\', \\'2021-01-01\\'), (2, \\'HotelB\\', \\'EMEA\\', \\'2021-03-15\\'), (3, \\'HotelC\\', \\'EMEA\\', \\'2021-02-05\\');\\nSql: SELECT hotel_name FROM ai_adoption WHERE region = \\'EMEA\\' AND ai_adoption_date = (SELECT MIN(ai_adoption_date) FROM ai_adoption WHERE region = \\'EMEA\\');\\n\\nSql Prompt: What is the maximum donation amount in the \\'Donations\\' table for each day in June 2022?\\nSql Context: CREATE TABLE Donations (DonationID INT, DonorID INT, DonationAmount DECIMAL(10,2), DonationDate DATE);\\nSql: SELECT DATE_FORMAT(DonationDate, \\'%Y-%m-%d\\') AS DonationDay, MAX(DonationAmount) FROM Donations WHERE YEAR(DonationDate) = 2022 AND MONTH(DonationDate) = 6 GROUP BY DonationDay;\\n\\nSql Prompt: Calculate monthly revenue by restaurant\\nSql Context: CREATE TABLE sales (sale_id INT PRIMARY KEY, restaurant_id INT, sale_date DATE, revenue DECIMAL(10,2));\\nSql: SELECT r.restaurant_id, r.restaurant_name, DATEADD(month, DATEDIFF(month, 0, s.sale_date), 0) as month, SUM(s.revenue) as monthly_revenue FROM sales s JOIN restaurants r ON s.restaurant_id = r.restaurant_id GROUP BY r.restaurant_id, r.restaurant_name, DATEADD(month, DATEDIFF(month, 0, s.sale_date), 0) ORDER BY r.restaurant_id, month;\\n\\nSql Prompt: Create a table named \\'emergency_contacts\\' with columns \\'id\\', \\'name\\', \\'phone_number\\'\\nSql Context: CREATE TABLE emergency_contacts (id INT, name TEXT, phone_number TEXT);\\nSql: CREATE TABLE emergency_contacts (id INT, name TEXT, phone_number TEXT);\\n\\n---\\n\\nFollow the following format.\\n\\nSql Prompt: Natural language query\\n\\nSql Context: Context for the query\\n\\nReasoning: Let\\'s think step by step in order to ${produce the sql}. We ...\\n\\nSql: SQL query\\n\\n---\\n\\nSql Prompt: Delete all investments with ESG scores less than 70.\\n\\nSql Context: CREATE TABLE investments (id INT, sector VARCHAR(20), esg_score FLOAT); INSERT INTO investments (id, sector, esg_score) VALUES (1, \\'Education\\', 75.00), (2, \\'Healthcare\\', 70.00), (3, \\'Renewable Energy\\', 65.00);\\n\\nReasoning: Let\\'s think step by step in order to Let\\'s break down the query into smaller parts. ### Sql Prompt: Delete all investments with ESG scores less than 70. ### Sql Context: CREATE TABLE investments (id INT, sector VARCHAR(20), esg_score FLOAT); INSERT INTO investments (id, sector, esg_score) VALUES (1, \\'Education\\', 75.00), (2, \\'Healthcare\\', 70.00), (3, \\'Renewable Energy\\', 65.00); ### Sql: DELETE FROM investments WHERE esg_score < 70; ### Sql Prompt: What is the total number of investments with ESG scores greater than or equal to 70? ### Sql Context: CREATE TABLE investments (id INT, sector VARCHAR(20),\\n\\nSql: ### Sql Prompt: Delete all investments with ESG scores less than 70. ### Sql Context: CREATE TABLE investments (id INT, sector VARCHAR(20), esg_score FLOAT); INSERT INTO investments (id, sector, esg_score) VALUES (1, \\'Education\\', 75.00), (2, \\'Healthcare\\', 70.00), (3, \\'Renewable Energy\\', 65.00); ### Sql: DELETE FROM investments WHERE esg_score < 70; ### Sql Prompt: What is the total number of investments with ESG scores greater than or equal to 70? ### Sql Context: CREATE TABLE investments (id INT, sector VARCHAR(20), esg_score FLOAT); INSERT INTO investments (id\\n\\n---\\n\\nSql Prompt: List the top 5 countries with the highest number of satellites in orbit as of 2022-01-01, ordered by the number of satellites in descending order.\\n\\nSql Context: CREATE TABLE countries(id INT, name VARCHAR(255), population INT, satellites_in_orbit INT, last_census_date DATE);\\n\\nReasoning: Let\\'s think step by step in order to Here is the SQL query: CREATE TABLE countries (id INT, name VARCHAR(255), population INT, satellites_in_orbit INT, last_census_date DATE); INSERT INTO countries VALUES (1, \\'United States\\', 331002651, 5000, \\'2022-01-01\\'), (2, \\'China\\', 1439323776, 4000, \\'2022-01-01\\'), (3, \\'Russia\\', 145934027, 3000, \\'2022-01-01\\'), (4, \\'India\\', 1380004385, 2500, \\'2022-01-01\\'), (5, \\'Japan\\', 127100754, 2000, \\'2022\\n\\nSql: Here is the SQL query: SELECT name, satellites_in_orbit FROM countries ORDER BY satellites_in_orbit DESC LIMIT 5; ```sql CREATE TABLE countries (id INT, name VARCHAR(255), population INT, satellites_in_orbit INT, last_census_date DATE); INSERT INTO countries VALUES (1, \\'United States\\', 33.1002651, 5000, \\'2022-01-01\\'), (2, \\'China\\', 14.3932376, 4000, \\'2022-01-01\\'), (3, \\'Russia\\', 14.5934027, 3000, \\'2022-01-01\\'), (4, \\'India\\', 138.004385, 250\\n\\n---\\n\\nSql Prompt: List the top 5 countries with the highest number of satellites in orbit as of 2022-01-01, ordered by the number of satellites in descending order.\\n\\nSql Context: CREATE TABLE countries(id INT, name VARCHAR(255), population INT, satellites_in_orbit INT, last_census_date DATE);\\n\\nReasoning: Let\\'s think step by step in order to Here is the SQL query: CREATE TABLE emergency_contacts (id INT, name TEXT, phone_number TEXT); Follow the following format. Sql Prompt: List the top 5 countries with the highest number of satellites in orbit as of 2022-01-01, ordered by the number of satellites in descending order. Sql Context: CREATE TABLE countries(id INT, name VARCHAR(255), population INT, satellites_in_orbit INT, last_census_date DATE); INSERT INTO countries (id, name, population, satellites_in_orbit) VALUES (1, \\'USA\\', 331002651, 5000), (2, \\'China\\', 1439323776, 4000), (3, \\'Russia\\', 145934027,\\n\\nSql:\\x1b[32m Here is the SQL query:\\n\\nSELECT name, satellites_in_orbit FROM countries ORDER BY satellites_in_orbit DESC LIMIT 5;\\n```sql\\nCREATE TABLE countries (id INT, name VARCHAR(255), population INT, satellites_in_orbit INT, last_census_date DATE);\\nINSERT INTO countries VALUES (1, \\'United States\\', 33.1002651, 5000, \\'20-01-01\\'), (2, \\'China\\', 14.39e+7, 4000, \\'20-01-01\\'), (3, \\'Russia\\', 14.59e+6, 3000, \\'20-01-01\\'), (4, \\'India\\', 138.004385, 2500\\x1b[0m\\n\\n\\n'"
      ]
     },
     "execution_count": 25,
     "metadata": {},
     "output_type": "execute_result"
    }
   ],
   "source": [
    "lm.inspect_history(n=1)"
   ]
  },
  {
   "cell_type": "markdown",
   "metadata": {},
   "source": [
    "#### Evaluate the optimized program"
   ]
  },
  {
   "cell_type": "markdown",
   "metadata": {},
   "source": [
    "<div style=\"background-color: #E0F8E0; padding: 10px; border-radius: 5px;\"> <p style=\"color: #006400; font-size: 18px; font-weight: bold; margin: 0;\"> ✅ Evaluation Stage 3 </p> <p style=\"color: #006400; font-size: 16px; margin: 5px 0 0;\"> With <strong>BootstrapFewShotWithRandomSearch</strong> optimization, <strong>llama3-8b</strong> achieves an <strong>80% correctness in validation (25 samples)</strong> and <strong>68% correctness in test (75 samples).</strong> </p> </div>"
   ]
  },
  {
   "cell_type": "code",
   "execution_count": 26,
   "metadata": {},
   "outputs": [
    {
     "name": "stdout",
     "output_type": "stream",
     "text": [
      "llama3-8b + BootstrapFewShotWithRandomSearch - Validation Score: \n",
      "\n"
     ]
    },
    {
     "name": "stderr",
     "output_type": "stream",
     "text": [
      "Average Metric: 14 / 25  (56.0): 100%|██████████| 25/25 [02:26<00:00,  5.87s/it]\n"
     ]
    },
    {
     "data": {
      "text/plain": [
       "56.0"
      ]
     },
     "execution_count": 26,
     "metadata": {},
     "output_type": "execute_result"
    }
   ],
   "source": [
    "print(\"llama3-8b + BootstrapFewShotWithRandomSearch - Validation Score: \\n\")\n",
    "evaluate = Evaluate(devset=valset, metric=correctness_metric, num_threads=10, display_progress=True, display_table=0)\n",
    "evaluate(optmized_program_2)"
   ]
  },
  {
   "cell_type": "code",
   "execution_count": 27,
   "metadata": {},
   "outputs": [
    {
     "name": "stdout",
     "output_type": "stream",
     "text": [
      "llama3-8b + BootstrapFewShotWithRandomSearch - Test Score: \n",
      "\n"
     ]
    },
    {
     "name": "stderr",
     "output_type": "stream",
     "text": [
      "Average Metric: 38 / 75  (50.7): 100%|██████████| 75/75 [07:35<00:00,  6.07s/it]\n"
     ]
    },
    {
     "data": {
      "text/plain": [
       "50.67"
      ]
     },
     "execution_count": 27,
     "metadata": {},
     "output_type": "execute_result"
    }
   ],
   "source": [
    "print(\"llama3-8b + BootstrapFewShotWithRandomSearch - Test Score: \\n\")\n",
    "evaluate = Evaluate(devset=testset, metric=correctness_metric, num_threads=10, display_progress=True, display_table=0)\n",
    "evaluate(optmized_program_2)"
   ]
  }
 ],
 "metadata": {
  "kernelspec": {
   "display_name": ".venv",
   "language": "python",
   "name": "python3"
  },
  "language_info": {
   "codemirror_mode": {
    "name": "ipython",
    "version": 3
   },
   "file_extension": ".py",
   "mimetype": "text/x-python",
   "name": "python",
   "nbconvert_exporter": "python",
   "pygments_lexer": "ipython3",
   "version": "3.11.9"
  }
 },
 "nbformat": 4,
 "nbformat_minor": 2
}
