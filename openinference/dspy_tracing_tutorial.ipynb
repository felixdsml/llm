{
  "cells": [
    {
      "cell_type": "markdown",
      "metadata": {
        "id": "JXsxYplJ_Wka"
      },
      "source": [
        "<center>\n",
        "    <p style=\"text-align:center\">\n",
        "        <img alt=\"phoenix logo\" src=\"https://storage.googleapis.com/arize-phoenix-assets/assets/phoenix-logo-light.svg\" width=\"200\"/>\n",
        "        <br>\n",
        "        <a href=\"https://docs.arize.com/phoenix/\">Docs</a>\n",
        "        |\n",
        "        <a href=\"https://github.com/Arize-ai/phoenix\">GitHub</a>\n",
        "        |\n",
        "        <a href=\"https://join.slack.com/t/arize-ai/shared_invite/zt-1px8dcmlf-fmThhDFD_V_48oU7ALan4Q\">Community</a>\n",
        "    </p>\n",
        "</center>\n",
        "<h1 align=\"center\">Tracing and Evaluating a DSPy Application</h1>\n",
        "\n",
        "DSPy is a framework for automatically prompting and fine-tuning language models. It provides:\n",
        "\n",
        "- Composable and declarative APIs that allow developers to describe the architecture of their LLM application in the form of a \"module\" (inspired by PyTorch's `nn.Module`),\n",
        "- Compilers known as \"teleprompters\" that optimize a user-defined module for a particular task. The term \"teleprompter\" is meant to evoke \"prompting at a distance,\" and could involve selecting few-shot examples, generating prompts, or fine-tuning language models.\n",
        "\n",
        "Phoenix makes your DSPy applications *observable* by visualizing the underlying structure of each call to your compiled DSPy module and surfacing problematic spans of execution based on latency, token count, or other evaluation metrics.\n",
        "\n",
        "In this tutorial, you will:\n",
        "- Build and compile a  DSPy module that uses retrieval-augmented generation to answer questions over the [HotpotQA dataset](https://hotpotqa.github.io/wiki-readme.html),\n",
        "- Instrument your application using [OpenInference](https://github.com/Arize-ai/openinference), and open standard for recording your LLM telemetry data,\n",
        "- Inspect the traces and spans of your application to understand the inner works of a DSPy forward pass.\n",
        "\n",
        "ℹ️ This notebook requires an OpenAI API key.\n"
      ]
    },
    {
      "cell_type": "markdown",
      "metadata": {
        "id": "SIgEapz4_Wkc"
      },
      "source": [
        "## 1. Install Dependencies and Import Libraries\n",
        "\n",
        "Install Phoenix, DSPy, and other dependencies."
      ]
    },
    {
      "cell_type": "code",
      "execution_count": 1,
      "metadata": {
        "id": "owJpZIBz_Wkc"
      },
      "outputs": [],
      "source": [
        "# pip install openinference-instrumentation-dspy dspy-ai arize-phoenix opentelemetry-sdk opentelemetry-exporter-otlp"
      ]
    },
    {
      "cell_type": "markdown",
      "metadata": {
        "id": "0fQdHGmb_Wkd"
      },
      "source": [
        "⚠️ DSPy conflicts with the default version of the `regex` module that comes pre-installed on Google Colab. If you are running this notebook in Google Colab, you will likely need to restart the kernel after running the installation step above and before proceeding to the rest of the notebook, otherwise, your instrumentation will fail."
      ]
    },
    {
      "cell_type": "markdown",
      "metadata": {
        "id": "kGFfpgx2_Wkd"
      },
      "source": [
        "Import libraries."
      ]
    },
    {
      "cell_type": "code",
      "execution_count": 2,
      "metadata": {
        "id": "kYeIPWHu_Wke"
      },
      "outputs": [
        {
          "name": "stderr",
          "output_type": "stream",
          "text": [
            "c:\\llm\\env-phoenix-dspy\\Lib\\site-packages\\tqdm\\auto.py:21: TqdmWarning: IProgress not found. Please update jupyter and ipywidgets. See https://ipywidgets.readthedocs.io/en/stable/user_install.html\n",
            "  from .autonotebook import tqdm as notebook_tqdm\n"
          ]
        }
      ],
      "source": [
        "import os\n",
        "# from getpass import getpass\n",
        "\n",
        "import dspy\n",
        "# import openai\n",
        "import phoenix as px"
      ]
    },
    {
      "cell_type": "markdown",
      "metadata": {
        "id": "4HaO8fgp_Wke"
      },
      "source": [
        "## 2. Configure Your OpenAI API Key\n",
        "\n",
        "Set your OpenAI API key if it is not already set as an environment variable."
      ]
    },
    {
      "cell_type": "code",
      "execution_count": 3,
      "metadata": {
        "id": "DhAxo17u_Wkf"
      },
      "outputs": [],
      "source": [
        "# if not (openai_api_key := os.getenv(\"OPENAI_API_KEY\")):\n",
        "#     openai_api_key = getpass(\"🔑 Enter your OpenAI API key: \")\n",
        "# openai.api_key = openai_api_key\n",
        "# os.environ[\"OPENAI_API_KEY\"] = openai_api_key"
      ]
    },
    {
      "cell_type": "code",
      "execution_count": 4,
      "metadata": {},
      "outputs": [],
      "source": [
        "import phoenix as px\n",
        "\n",
        "from openinference.semconv.resource import ResourceAttributes\n",
        "from openinference.instrumentation.dspy import DSPyInstrumentor\n",
        "# from clank.so.openinference.semconv.resource import ResourceAttributes\n",
        "# from clank.so-openinference.instrumentation.dspy import DSPyInstrumentor\n",
        "from opentelemetry import trace as trace_api\n",
        "from opentelemetry.exporter.otlp.proto.http.trace_exporter import OTLPSpanExporter\n",
        "from opentelemetry.sdk import trace as trace_sdk\n",
        "from opentelemetry.sdk.resources import Resource\n",
        "from opentelemetry.sdk.trace.export import SimpleSpanProcessor\n",
        "\n",
        "endpoint = \"http://127.0.0.1:6006/v1/traces\"\n",
        "# resource = Resource(attributes={})\n",
        "resource = Resource(attributes={\n",
        "    ResourceAttributes.PROJECT_NAME: 'Span-test'\n",
        "})\n",
        "tracer_provider = trace_sdk.TracerProvider(resource=resource)\n",
        "span_otlp_exporter = OTLPSpanExporter(endpoint=endpoint)\n",
        "tracer_provider.add_span_processor(SimpleSpanProcessor(span_exporter=span_otlp_exporter))\n",
        "trace_api.set_tracer_provider(tracer_provider=tracer_provider)\n",
        "DSPyInstrumentor().instrument()"
      ]
    },
    {
      "cell_type": "code",
      "execution_count": 5,
      "metadata": {},
      "outputs": [],
      "source": [
        "# session = px.launch_app()"
      ]
    },
    {
      "cell_type": "markdown",
      "metadata": {
        "id": "-B6uDLtC_Wkf"
      },
      "source": [
        "## 3. Configure Module Components\n",
        "\n",
        "A module consists of components such as a language model (in this case, OpenAI's GPT 3.5 turbo), akin to the layers of a PyTorch module and a retriever (in this case, ColBERTv2)."
      ]
    },
    {
      "cell_type": "code",
      "execution_count": 6,
      "metadata": {
        "id": "zMCgVeiF_Wkg"
      },
      "outputs": [],
      "source": [
        "# turbo = dspy.OpenAI(model=\"gpt-3.5-turbo\")\n",
        "llama3 = dspy.OllamaLocal(model='llama3:70b', base_url='http://localhost:11434')\n",
        "colbertv2_wiki17_abstracts = dspy.ColBERTv2(\n",
        "    url=\"http://20.102.90.50:2017/wiki17_abstracts\"  # endpoint for a hosted ColBERTv2 service\n",
        ")\n",
        "\n",
        "dspy.settings.configure(lm=llama3, rm=colbertv2_wiki17_abstracts)"
      ]
    },
    {
      "cell_type": "markdown",
      "metadata": {
        "id": "0XvDkeAg_Wkg"
      },
      "source": [
        "## 4. Load Data\n",
        "\n",
        "Load a subset of the HotpotQA dataset."
      ]
    },
    {
      "cell_type": "code",
      "execution_count": 7,
      "metadata": {
        "id": "ml-LRoT1_Wkh"
      },
      "outputs": [
        {
          "name": "stderr",
          "output_type": "stream",
          "text": [
            "c:\\llm\\env-phoenix-dspy\\Lib\\site-packages\\datasets\\table.py:1421: FutureWarning: promote has been superseded by promote_options='default'.\n",
            "  table = cls._concat_blocks(blocks, axis=0)\n"
          ]
        },
        {
          "name": "stdout",
          "output_type": "stream",
          "text": [
            "Train set size: 20\n",
            "Dev set size: 50\n"
          ]
        }
      ],
      "source": [
        "from dspy.datasets import HotPotQA\n",
        "\n",
        "# Load the dataset.\n",
        "dataset = HotPotQA(train_seed=1, train_size=20, eval_seed=2023, dev_size=50, test_size=10)\n",
        "\n",
        "# Tell DSPy that the 'question' field is the input. Any other fields are labels and/or metadata.\n",
        "trainset = [x.with_inputs(\"question\") for x in dataset.train]\n",
        "devset = [x.with_inputs(\"question\") for x in dataset.dev]\n",
        "\n",
        "print(f\"Train set size: {len(trainset)}\")\n",
        "print(f\"Dev set size: {len(devset)}\")"
      ]
    },
    {
      "cell_type": "markdown",
      "metadata": {
        "id": "gXoHaCBT_Wkh"
      },
      "source": [
        "Each example in our training set has a question and a human-annotated answer."
      ]
    },
    {
      "cell_type": "code",
      "execution_count": 8,
      "metadata": {
        "id": "GLno2BU1_Wkh"
      },
      "outputs": [
        {
          "data": {
            "text/plain": [
              "Example({'question': 'At My Window was released by which American singer-songwriter?', 'answer': 'John Townes Van Zandt'}) (input_keys={'question'})"
            ]
          },
          "execution_count": 8,
          "metadata": {},
          "output_type": "execute_result"
        }
      ],
      "source": [
        "train_example = trainset[0]\n",
        "train_example"
      ]
    },
    {
      "cell_type": "markdown",
      "metadata": {
        "id": "KQ3elc7__Wkh"
      },
      "source": [
        "Examples in the dev set have a third field containing titles of relevant Wikipedia articles."
      ]
    },
    {
      "cell_type": "code",
      "execution_count": 9,
      "metadata": {
        "id": "nZIrkItD_Wkj"
      },
      "outputs": [
        {
          "data": {
            "text/plain": [
              "Example({'question': 'What is the nationality of the chef and restaurateur featured in Restaurant: Impossible?', 'answer': 'English', 'gold_titles': {'Restaurant: Impossible', 'Robert Irvine'}}) (input_keys={'question'})"
            ]
          },
          "execution_count": 9,
          "metadata": {},
          "output_type": "execute_result"
        }
      ],
      "source": [
        "dev_example = devset[18]\n",
        "dev_example"
      ]
    },
    {
      "cell_type": "markdown",
      "metadata": {
        "id": "n4jfZH8Q_Wkj"
      },
      "source": [
        "## 5. Define Your RAG Module\n",
        "\n",
        "Define a signature that takes in two inputs, `context` and `question`, and outputs an `answer`. The signature provides:\n",
        "\n",
        "- A description of the sub-task the language model is supposed to solve.\n",
        "- A description of the input fields to the language model.\n",
        "- A description of the output fields the language model must produce."
      ]
    },
    {
      "cell_type": "code",
      "execution_count": 10,
      "metadata": {
        "id": "X7qYMv2j_Wkj"
      },
      "outputs": [],
      "source": [
        "class GenerateAnswer(dspy.Signature):\n",
        "    \"\"\"Answer questions with short factoid answers.\"\"\"\n",
        "\n",
        "    context = dspy.InputField(desc=\"may contain relevant facts\")\n",
        "    question = dspy.InputField()\n",
        "    answer = dspy.OutputField(desc=\"often between 1 and 5 words\")"
      ]
    },
    {
      "cell_type": "markdown",
      "metadata": {
        "id": "zXMknN8y_Wkj"
      },
      "source": [
        "Define your module by subclassing `dspy.Module` and overriding the `forward` method."
      ]
    },
    {
      "cell_type": "code",
      "execution_count": 11,
      "metadata": {
        "id": "VM2Kils4_Wkj"
      },
      "outputs": [],
      "source": [
        "class RAG(dspy.Module):\n",
        "    def __init__(self, num_passages=3):\n",
        "        super().__init__()\n",
        "        self.retrieve = dspy.Retrieve(k=num_passages)\n",
        "        self.generate_answer = dspy.ChainOfThought(GenerateAnswer)\n",
        "\n",
        "    def forward(self, question):\n",
        "        current_span = trace_api.get_current_span()\n",
        "        print(current_span.get_span_context().span_id)\n",
        "        context = self.retrieve(question).passages\n",
        "        prediction = self.generate_answer(context=context, question=question)\n",
        "        return dspy.Prediction(context=context, answer=prediction.answer, span_id=current_span.get_span_context().span_id)\n"
      ]
    },
    {
      "cell_type": "markdown",
      "metadata": {
        "id": "j07rYMou_Wkj"
      },
      "source": [
        "This module uses retrieval-augmented generation (using the previously configured ColBERTv2 retriever) in tandem with chain of thought in order to generate the final answer to the user."
      ]
    },
    {
      "cell_type": "markdown",
      "metadata": {
        "id": "sburZkj3_Wkj"
      },
      "source": [
        "## 6. Compile Your RAG Module"
      ]
    },
    {
      "cell_type": "markdown",
      "metadata": {
        "id": "et6NaVRI_Wkk"
      },
      "source": [
        "In this case, we'll use the default `BootstrapFewShot` teleprompter that selects good demonstrations from the the training dataset for inclusion in the final prompt."
      ]
    },
    {
      "cell_type": "code",
      "execution_count": 12,
      "metadata": {},
      "outputs": [],
      "source": [
        "from dspy.teleprompt import BootstrapFewShot\n",
        "\n",
        "\n",
        "# Validation logic: check that the predicted answer is correct.\n",
        "# Also check that the retrieved context does actually contain that answer.\n",
        "def validate_context_and_answer(example, pred, trace=None):\n",
        "    answer_EM = dspy.evaluate.answer_exact_match(example, pred)\n",
        "    answer_PM = dspy.evaluate.answer_passage_match(example, pred)\n",
        "    return answer_EM and answer_PM\n",
        "\n",
        "\n"
      ]
    },
    {
      "cell_type": "code",
      "execution_count": 17,
      "metadata": {},
      "outputs": [
        {
          "name": "stderr",
          "output_type": "stream",
          "text": [
            "  0%|          | 0/20 [00:00<?, ?it/s]"
          ]
        },
        {
          "name": "stdout",
          "output_type": "stream",
          "text": [
            "10441118185029422972\n",
            "Span ID during evaluation: 10441118185029422972\n"
          ]
        },
        {
          "name": "stderr",
          "output_type": "stream",
          "text": [
            "  5%|▌         | 1/20 [00:18<05:45, 18.21s/it]"
          ]
        },
        {
          "name": "stdout",
          "output_type": "stream",
          "text": [
            "5262738036224594025\n",
            "Span ID during evaluation: 5262738036224594025\n"
          ]
        },
        {
          "name": "stderr",
          "output_type": "stream",
          "text": [
            " 10%|█         | 2/20 [00:26<03:39, 12.18s/it]"
          ]
        },
        {
          "name": "stdout",
          "output_type": "stream",
          "text": [
            "7364635676993829179\n",
            "Span ID during evaluation: 7364635676993829179\n"
          ]
        },
        {
          "name": "stderr",
          "output_type": "stream",
          "text": [
            " 15%|█▌        | 3/20 [00:35<03:07, 11.01s/it]"
          ]
        },
        {
          "name": "stdout",
          "output_type": "stream",
          "text": [
            "13834916669451244015\n",
            "Span ID during evaluation: 13834916669451244015\n"
          ]
        },
        {
          "name": "stderr",
          "output_type": "stream",
          "text": [
            " 20%|██        | 4/20 [00:43<02:36,  9.80s/it]"
          ]
        },
        {
          "name": "stdout",
          "output_type": "stream",
          "text": [
            "13481485627828645995\n",
            "Span ID during evaluation: 13481485627828645995\n"
          ]
        },
        {
          "name": "stderr",
          "output_type": "stream",
          "text": [
            " 25%|██▌       | 5/20 [00:51<02:13,  8.91s/it]"
          ]
        },
        {
          "name": "stdout",
          "output_type": "stream",
          "text": [
            "6169915851824380173\n",
            "Span ID during evaluation: 6169915851824380173\n"
          ]
        },
        {
          "name": "stderr",
          "output_type": "stream",
          "text": [
            " 30%|███       | 6/20 [00:58<01:55,  8.26s/it]"
          ]
        },
        {
          "name": "stdout",
          "output_type": "stream",
          "text": [
            "13306427115183621447\n",
            "Span ID during evaluation: 13306427115183621447\n"
          ]
        },
        {
          "name": "stderr",
          "output_type": "stream",
          "text": [
            " 35%|███▌      | 7/20 [01:07<01:52,  8.64s/it]"
          ]
        },
        {
          "name": "stdout",
          "output_type": "stream",
          "text": [
            "1897078296906059923\n",
            "Span ID during evaluation: 1897078296906059923\n"
          ]
        },
        {
          "name": "stderr",
          "output_type": "stream",
          "text": [
            " 40%|████      | 8/20 [01:14<01:39,  8.27s/it]"
          ]
        },
        {
          "name": "stdout",
          "output_type": "stream",
          "text": [
            "11154815464063364856\n",
            "Span ID during evaluation: 11154815464063364856\n"
          ]
        },
        {
          "name": "stderr",
          "output_type": "stream",
          "text": [
            " 45%|████▌     | 9/20 [01:22<01:28,  8.00s/it]"
          ]
        },
        {
          "name": "stdout",
          "output_type": "stream",
          "text": [
            "11000042009068576643\n",
            "Span ID during evaluation: 11000042009068576643\n"
          ]
        },
        {
          "name": "stderr",
          "output_type": "stream",
          "text": [
            " 50%|█████     | 10/20 [01:29<01:29,  8.96s/it]\n"
          ]
        }
      ],
      "source": [
        "input_module = RAG()\n",
        "teleprompter = BootstrapFewShot(metric=validate_context_and_answer)\n",
        "compiled_module = teleprompter.compile(input_module, trainset=trainset)"
      ]
    },
    {
      "cell_type": "code",
      "execution_count": 16,
      "metadata": {},
      "outputs": [],
      "source": [
        "import pandas as pd\n",
        "\n",
        "# Initialize a list to store evaluation data\n",
        "evaluation_data = []\n",
        "\n",
        "def validate_context_and_answer(example, pred, trace=None):\n",
        "    answer_EM = dspy.evaluate.answer_exact_match(example, pred)\n",
        "    answer_PM = dspy.evaluate.answer_passage_match(example, pred)\n",
        "    \n",
        "    # Retrieve the span_id from the prediction\n",
        "    span_id = getattr(pred, 'span_id', None)\n",
        "    print(f\"Span ID during evaluation: {span_id}\")\n",
        "    \n",
        "    if span_id is not None:\n",
        "        metrics_data = {\n",
        "            'context.span_id': span_id,\n",
        "            'label': 'correct' if answer_EM else 'incorrect',\n",
        "            'value': int(answer_EM),\n",
        "            'explanation': \"Explanation for each prediction\"\n",
        "        }\n",
        "        evaluation_data.append(metrics_data)\n",
        "    \n",
        "    return answer_EM and answer_PM\n"
      ]
    },
    {
      "cell_type": "code",
      "execution_count": 25,
      "metadata": {},
      "outputs": [
        {
          "name": "stdout",
          "output_type": "stream",
          "text": [
            "QA Correctness Evaluation DataFrame:                           label  value                      explanation\n",
            "context.span_id                                                        \n",
            "10441118185029422972  incorrect      0  Explanation for each prediction\n",
            "5262738036224594025     correct      1  Explanation for each prediction\n",
            "7364635676993829179   incorrect      0  Explanation for each prediction\n",
            "13834916669451244015    correct      1  Explanation for each prediction\n",
            "13481485627828645995    correct      1  Explanation for each prediction\n",
            "6169915851824380173     correct      1  Explanation for each prediction\n",
            "13306427115183621447    correct      1  Explanation for each prediction\n",
            "1897078296906059923     correct      1  Explanation for each prediction\n",
            "11154815464063364856  incorrect      0  Explanation for each prediction\n",
            "11000042009068576643    correct      1  Explanation for each prediction\n"
          ]
        }
      ],
      "source": [
        "# After the compiled_module has been evaluated, create the DataFrame\n",
        "qa_correctness_eval_df = pd.DataFrame(evaluation_data).set_index('context.span_id')\n",
        "print(f\"QA Correctness Evaluation DataFrame: {qa_correctness_eval_df}\")\n",
        "\n",
        "# Log the evaluations to Phoenix Arize\n",
        "from phoenix.trace import SpanEvaluations\n",
        "\n",
        "\n",
        "px.Client().log_evaluations(\n",
        "    SpanEvaluations(\n",
        "        dataframe=qa_correctness_eval_df,\n",
        "        eval_name=\"Q&A Correctness\"\n",
        "    )\n",
        ")\n"
      ]
    },
    {
      "cell_type": "code",
      "execution_count": 31,
      "metadata": {},
      "outputs": [],
      "source": [
        "hm = px.Client().get_spans_dataframe(project_name=\"Span-test\")"
      ]
    },
    {
      "cell_type": "code",
      "execution_count": 36,
      "metadata": {},
      "outputs": [
        {
          "name": "stdout",
          "output_type": "stream",
          "text": [
            "                                                        name  span_kind  \\\n",
            "context.span_id                                                           \n",
            "1897078296906059923                                      NaN        NaN   \n",
            "5262738036224594025                                      NaN        NaN   \n",
            "6169915851824380173                                      NaN        NaN   \n",
            "7364635676993829179                                      NaN        NaN   \n",
            "10441118185029422972                                     NaN        NaN   \n",
            "...                                                      ...        ...   \n",
            "fea28a771c291ff8      ChainOfThought(GenerateAnswer).forward      CHAIN   \n",
            "febc86b6086b0685                                 RAG.forward      CHAIN   \n",
            "fee67bdbb8cfc9cd                         OllamaLocal.request        LLM   \n",
            "ff9e7508213bdd73                            Retrieve.forward  RETRIEVER   \n",
            "ffd6f44b8b35b878                         OllamaLocal.request        LLM   \n",
            "\n",
            "                             parent_id                       start_time  \\\n",
            "context.span_id                                                           \n",
            "1897078296906059923                NaN                              NaT   \n",
            "5262738036224594025                NaN                              NaT   \n",
            "6169915851824380173                NaN                              NaT   \n",
            "7364635676993829179                NaN                              NaT   \n",
            "10441118185029422972               NaN                              NaT   \n",
            "...                                ...                              ...   \n",
            "fea28a771c291ff8      edc22b34787d86a9 2024-06-16 22:25:15.852816+00:00   \n",
            "febc86b6086b0685                  None 2024-06-15 21:33:47.728928+00:00   \n",
            "fee67bdbb8cfc9cd      c95d5ef6f6e4ea62 2024-06-15 21:28:22.673591+00:00   \n",
            "ff9e7508213bdd73      b492b961603aad8e 2024-06-15 21:31:48.877156+00:00   \n",
            "ffd6f44b8b35b878      a7cbd931edbd17c0 2024-06-15 21:33:35.125539+00:00   \n",
            "\n",
            "                                             end_time status_code  \\\n",
            "context.span_id                                                     \n",
            "1897078296906059923                               NaT         NaN   \n",
            "5262738036224594025                               NaT         NaN   \n",
            "6169915851824380173                               NaT         NaN   \n",
            "7364635676993829179                               NaT         NaN   \n",
            "10441118185029422972                              NaT         NaN   \n",
            "...                                               ...         ...   \n",
            "fea28a771c291ff8     2024-06-16 22:25:21.508803+00:00          OK   \n",
            "febc86b6086b0685     2024-06-15 21:33:56.323622+00:00          OK   \n",
            "fee67bdbb8cfc9cd     2024-06-15 21:28:25.543747+00:00       UNSET   \n",
            "ff9e7508213bdd73     2024-06-15 21:31:48.883717+00:00          OK   \n",
            "ffd6f44b8b35b878     2024-06-15 21:33:41.332823+00:00          OK   \n",
            "\n",
            "                     status_message events   context.span_id  \\\n",
            "context.span_id                                                \n",
            "1897078296906059923             NaN    NaN               NaN   \n",
            "5262738036224594025             NaN    NaN               NaN   \n",
            "6169915851824380173             NaN    NaN               NaN   \n",
            "7364635676993829179             NaN    NaN               NaN   \n",
            "10441118185029422972            NaN    NaN               NaN   \n",
            "...                             ...    ...               ...   \n",
            "fea28a771c291ff8                        []  fea28a771c291ff8   \n",
            "febc86b6086b0685                        []  febc86b6086b0685   \n",
            "fee67bdbb8cfc9cd                        []  fee67bdbb8cfc9cd   \n",
            "ff9e7508213bdd73                        []  ff9e7508213bdd73   \n",
            "ffd6f44b8b35b878                        []  ffd6f44b8b35b878   \n",
            "\n",
            "                                      context.trace_id  ...  \\\n",
            "context.span_id                                         ...   \n",
            "1897078296906059923                                NaN  ...   \n",
            "5262738036224594025                                NaN  ...   \n",
            "6169915851824380173                                NaN  ...   \n",
            "7364635676993829179                                NaN  ...   \n",
            "10441118185029422972                               NaN  ...   \n",
            "...                                                ...  ...   \n",
            "fea28a771c291ff8      8b91c98c7ae7f4db30ee51067dc1eb35  ...   \n",
            "febc86b6086b0685      97dc7c39053514cc1d2aeb6c0d0336c5  ...   \n",
            "fee67bdbb8cfc9cd      74bba0bb98c1d8ce138a48e4cef92383  ...   \n",
            "ff9e7508213bdd73      a9f285a7a79e1cfda4bf742d470cb166  ...   \n",
            "ffd6f44b8b35b878      358aa3142d5de3d4441889e9b28e1142  ...   \n",
            "\n",
            "                                                 attributes.input.value  \\\n",
            "context.span_id                                                           \n",
            "1897078296906059923                                                 NaN   \n",
            "5262738036224594025                                                 NaN   \n",
            "6169915851824380173                                                 NaN   \n",
            "7364635676993829179                                                 NaN   \n",
            "10441118185029422972                                                NaN   \n",
            "...                                                                 ...   \n",
            "fea28a771c291ff8      {\"context\": [\"1972 FA Charity Shield | The 197...   \n",
            "febc86b6086b0685      {\"question\": \"Which of these publications was ...   \n",
            "fee67bdbb8cfc9cd      Answer questions with short factoid answers.\\n...   \n",
            "ff9e7508213bdd73      {\"query_or_queries\": \"Which magazine has publi...   \n",
            "ffd6f44b8b35b878      Answer questions with short factoid answers.\\n...   \n",
            "\n",
            "                                         attributes.retrieval.documents  \\\n",
            "context.span_id                                                           \n",
            "1897078296906059923                                                 NaN   \n",
            "5262738036224594025                                                 NaN   \n",
            "6169915851824380173                                                 NaN   \n",
            "7364635676993829179                                                 NaN   \n",
            "10441118185029422972                                                NaN   \n",
            "...                                                                 ...   \n",
            "fea28a771c291ff8                                                   None   \n",
            "febc86b6086b0685                                                   None   \n",
            "fee67bdbb8cfc9cd                                                   None   \n",
            "ff9e7508213bdd73      [{'document.content': 'Tae Kwon Do Times | Tae...   \n",
            "ffd6f44b8b35b878                                                   None   \n",
            "\n",
            "                     attributes.openinference.span.kind  \\\n",
            "context.span_id                                           \n",
            "1897078296906059923                                 NaN   \n",
            "5262738036224594025                                 NaN   \n",
            "6169915851824380173                                 NaN   \n",
            "7364635676993829179                                 NaN   \n",
            "10441118185029422972                                NaN   \n",
            "...                                                 ...   \n",
            "fea28a771c291ff8                                  CHAIN   \n",
            "febc86b6086b0685                                  CHAIN   \n",
            "fee67bdbb8cfc9cd                                    LLM   \n",
            "ff9e7508213bdd73                              RETRIEVER   \n",
            "ffd6f44b8b35b878                                    LLM   \n",
            "\n",
            "                                   attributes.llm.invocation_parameters  \\\n",
            "context.span_id                                                           \n",
            "1897078296906059923                                                 NaN   \n",
            "5262738036224594025                                                 NaN   \n",
            "6169915851824380173                                                 NaN   \n",
            "7364635676993829179                                                 NaN   \n",
            "10441118185029422972                                                NaN   \n",
            "...                                                                 ...   \n",
            "fea28a771c291ff8                                                   None   \n",
            "febc86b6086b0685                                                   None   \n",
            "fee67bdbb8cfc9cd      {\"temperature\": 0.0, \"max_tokens\": 75, \"top_p\"...   \n",
            "ff9e7508213bdd73                                                   None   \n",
            "ffd6f44b8b35b878      {\"temperature\": 0.0, \"max_tokens\": 150, \"top_p...   \n",
            "\n",
            "                     attributes.output.mime_type  \\\n",
            "context.span_id                                    \n",
            "1897078296906059923                          NaN   \n",
            "5262738036224594025                          NaN   \n",
            "6169915851824380173                          NaN   \n",
            "7364635676993829179                          NaN   \n",
            "10441118185029422972                         NaN   \n",
            "...                                          ...   \n",
            "fea28a771c291ff8                application/json   \n",
            "febc86b6086b0685                application/json   \n",
            "fee67bdbb8cfc9cd                            None   \n",
            "ff9e7508213bdd73                            None   \n",
            "ffd6f44b8b35b878                application/json   \n",
            "\n",
            "                                                attributes.output.value  \\\n",
            "context.span_id                                                           \n",
            "1897078296906059923                                                 NaN   \n",
            "5262738036224594025                                                 NaN   \n",
            "6169915851824380173                                                 NaN   \n",
            "7364635676993829179                                                 NaN   \n",
            "10441118185029422972                                                NaN   \n",
            "...                                                                 ...   \n",
            "fea28a771c291ff8                                     {\"answer\": \"1874\"}   \n",
            "febc86b6086b0685      \"Prediction(\\n    context=['Who Put the Bomp |...   \n",
            "fee67bdbb8cfc9cd                                                   None   \n",
            "ff9e7508213bdd73                                                   None   \n",
            "ffd6f44b8b35b878      {\"id\": \"chatcmpl-da39a3ee5e6b4b0d3255bfef95601...   \n",
            "\n",
            "                     attributes.metrics      label value  \\\n",
            "context.span_id                                            \n",
            "1897078296906059923                 NaN    correct   1.0   \n",
            "5262738036224594025                 NaN    correct   1.0   \n",
            "6169915851824380173                 NaN    correct   1.0   \n",
            "7364635676993829179                 NaN  incorrect   0.0   \n",
            "10441118185029422972                NaN  incorrect   0.0   \n",
            "...                                 ...        ...   ...   \n",
            "fea28a771c291ff8                   None        NaN   NaN   \n",
            "febc86b6086b0685                   None        NaN   NaN   \n",
            "fee67bdbb8cfc9cd                   None        NaN   NaN   \n",
            "ff9e7508213bdd73                   None        NaN   NaN   \n",
            "ffd6f44b8b35b878                   None        NaN   NaN   \n",
            "\n",
            "                                          explanation  \n",
            "context.span_id                                        \n",
            "1897078296906059923   Explanation for each prediction  \n",
            "5262738036224594025   Explanation for each prediction  \n",
            "6169915851824380173   Explanation for each prediction  \n",
            "7364635676993829179   Explanation for each prediction  \n",
            "10441118185029422972  Explanation for each prediction  \n",
            "...                                               ...  \n",
            "fea28a771c291ff8                                  NaN  \n",
            "febc86b6086b0685                                  NaN  \n",
            "fee67bdbb8cfc9cd                                  NaN  \n",
            "ff9e7508213bdd73                                  NaN  \n",
            "ffd6f44b8b35b878                                  NaN  \n",
            "\n",
            "[1010 rows x 21 columns]\n"
          ]
        }
      ],
      "source": [
        "#check for same span_id in both dataframes\n",
        "# make inner join on span_id\n",
        "# print(hm)\n",
        "# print(qa_correctness_eval_df)\n",
        "hm = px.Client().get_spans_dataframe(project_name=\"Span-test\")\n",
        "print(hm.join(qa_correctness_eval_df, how='outer'))\n",
        "    \n"
      ]
    },
    {
      "cell_type": "code",
      "execution_count": 39,
      "metadata": {},
      "outputs": [
        {
          "name": "stdout",
          "output_type": "stream",
          "text": [
            "name                                               ChainOfThought(GenerateAnswer).forward\n",
            "span_kind                                                                           CHAIN\n",
            "parent_id                                                                edc22b34787d86a9\n",
            "start_time                                               2024-06-16 22:25:15.852816+00:00\n",
            "end_time                                                 2024-06-16 22:25:21.508803+00:00\n",
            "status_code                                                                            OK\n",
            "status_message                                                                           \n",
            "events                                                                                 []\n",
            "context.span_id                                                          fea28a771c291ff8\n",
            "context.trace_id                                         8b91c98c7ae7f4db30ee51067dc1eb35\n",
            "attributes.input.mime_type                                               application/json\n",
            "attributes.input.value                  {\"context\": [\"1972 FA Charity Shield | The 197...\n",
            "attributes.retrieval.documents                                                       None\n",
            "attributes.openinference.span.kind                                                  CHAIN\n",
            "attributes.llm.invocation_parameters                                                 None\n",
            "attributes.output.mime_type                                              application/json\n",
            "attributes.output.value                                                {\"answer\": \"1874\"}\n",
            "attributes.metrics                                                                   None\n",
            "Name: fea28a771c291ff8, dtype: object\n"
          ]
        }
      ],
      "source": [
        "# find context span_id in the dataframe 10441118185029422972\n",
        "print(hm.loc[\"fea28a771c291ff8\"])"
      ]
    },
    {
      "cell_type": "code",
      "execution_count": 14,
      "metadata": {},
      "outputs": [],
      "source": [
        "import pandas as pd\n",
        "from phoenix.trace import SpanEvaluations\n",
        "import phoenix as px\n",
        "from dspy.teleprompt import BootstrapFewShot\n",
        "\n",
        "def validate_context_and_answer(example, pred, trace=None):\n",
        "    answer_EM = dspy.evaluate.answer_exact_match(example, pred)\n",
        "    answer_PM = dspy.evaluate.answer_passage_match(example, pred)\n",
        "    \n",
        "    # Retrieve the span_id from the prediction\n",
        "    span_id = getattr(pred, 'span_id', None)\n",
        "    print(f\"Span ID during evaluation: {span_id}\")\n",
        "    \n",
        "    if span_id is not None:\n",
        "        metrics_data = {\n",
        "            'context.span_id': [span_id],\n",
        "            'label': ['correct' if answer_EM else 'incorrect'],\n",
        "            'value': [int(answer_EM)],\n",
        "            'explanation': [\"Explanation for each prediction\"]\n",
        "        }\n",
        "        # qa_correctness_eval_df = pd.DataFrame(metrics_data)\n",
        "        qa_correctness_eval_df = pd.DataFrame(metrics_data).set_index('span_id').rename_axis('context.span_id')\n",
        "        \n",
        "        print(f\"QA Correctness Evaluation DataFrame: {qa_correctness_eval_df}\")\n",
        "        print(qa_correctness_eval_df)\n",
        "        \n",
        "        px.Client().log_evaluations(\n",
        "            SpanEvaluations(\n",
        "                dataframe=qa_correctness_eval_df,\n",
        "                eval_name=\"Q&A Correctness\"\n",
        "            )\n",
        "        )\n",
        "    \n",
        "    return answer_EM and answer_PM\n",
        "\n"
      ]
    },
    {
      "cell_type": "code",
      "execution_count": 21,
      "metadata": {},
      "outputs": [
        {
          "data": {
            "text/html": [
              "<div>\n",
              "<style scoped>\n",
              "    .dataframe tbody tr th:only-of-type {\n",
              "        vertical-align: middle;\n",
              "    }\n",
              "\n",
              "    .dataframe tbody tr th {\n",
              "        vertical-align: top;\n",
              "    }\n",
              "\n",
              "    .dataframe thead th {\n",
              "        text-align: right;\n",
              "    }\n",
              "</style>\n",
              "<table border=\"1\" class=\"dataframe\">\n",
              "  <thead>\n",
              "    <tr style=\"text-align: right;\">\n",
              "      <th></th>\n",
              "      <th>name</th>\n",
              "      <th>span_kind</th>\n",
              "      <th>parent_id</th>\n",
              "      <th>start_time</th>\n",
              "      <th>end_time</th>\n",
              "      <th>status_code</th>\n",
              "      <th>status_message</th>\n",
              "      <th>events</th>\n",
              "      <th>context.span_id</th>\n",
              "      <th>context.trace_id</th>\n",
              "      <th>attributes.input.mime_type</th>\n",
              "      <th>attributes.input.value</th>\n",
              "      <th>attributes.retrieval.documents</th>\n",
              "      <th>attributes.openinference.span.kind</th>\n",
              "      <th>attributes.llm.invocation_parameters</th>\n",
              "      <th>attributes.output.mime_type</th>\n",
              "      <th>attributes.output.value</th>\n",
              "      <th>attributes.metrics</th>\n",
              "    </tr>\n",
              "    <tr>\n",
              "      <th>context.span_id</th>\n",
              "      <th></th>\n",
              "      <th></th>\n",
              "      <th></th>\n",
              "      <th></th>\n",
              "      <th></th>\n",
              "      <th></th>\n",
              "      <th></th>\n",
              "      <th></th>\n",
              "      <th></th>\n",
              "      <th></th>\n",
              "      <th></th>\n",
              "      <th></th>\n",
              "      <th></th>\n",
              "      <th></th>\n",
              "      <th></th>\n",
              "      <th></th>\n",
              "      <th></th>\n",
              "      <th></th>\n",
              "    </tr>\n",
              "  </thead>\n",
              "  <tbody>\n",
              "    <tr>\n",
              "      <th>4a4cce389c45b9bd</th>\n",
              "      <td>ColBERTv2.__call__</td>\n",
              "      <td>RETRIEVER</td>\n",
              "      <td>84eed815a1687b79</td>\n",
              "      <td>2024-06-15 14:54:15.330960+00:00</td>\n",
              "      <td>2024-06-15 14:54:15.333069+00:00</td>\n",
              "      <td>OK</td>\n",
              "      <td></td>\n",
              "      <td>[]</td>\n",
              "      <td>4a4cce389c45b9bd</td>\n",
              "      <td>d5ebae20bce20916bbc692fd93e34447</td>\n",
              "      <td>application/json</td>\n",
              "      <td>{\"query\": \"At My Window was released by which ...</td>\n",
              "      <td>[{'document.content': 'At My Window (album) | ...</td>\n",
              "      <td>RETRIEVER</td>\n",
              "      <td>None</td>\n",
              "      <td>None</td>\n",
              "      <td>None</td>\n",
              "      <td>None</td>\n",
              "    </tr>\n",
              "    <tr>\n",
              "      <th>84eed815a1687b79</th>\n",
              "      <td>Retrieve.forward</td>\n",
              "      <td>RETRIEVER</td>\n",
              "      <td>09cfb58cd2a7bfad</td>\n",
              "      <td>2024-06-15 14:54:15.330960+00:00</td>\n",
              "      <td>2024-06-15 14:54:15.366791+00:00</td>\n",
              "      <td>OK</td>\n",
              "      <td></td>\n",
              "      <td>[]</td>\n",
              "      <td>84eed815a1687b79</td>\n",
              "      <td>d5ebae20bce20916bbc692fd93e34447</td>\n",
              "      <td>application/json</td>\n",
              "      <td>{\"query_or_queries\": \"At My Window was release...</td>\n",
              "      <td>[{'document.content': 'At My Window (album) | ...</td>\n",
              "      <td>RETRIEVER</td>\n",
              "      <td>None</td>\n",
              "      <td>None</td>\n",
              "      <td>None</td>\n",
              "      <td>None</td>\n",
              "    </tr>\n",
              "    <tr>\n",
              "      <th>44dbe9efcc70b096</th>\n",
              "      <td>OllamaLocal.request</td>\n",
              "      <td>LLM</td>\n",
              "      <td>6cb2fe0e88680e23</td>\n",
              "      <td>2024-06-15 14:54:15.376725+00:00</td>\n",
              "      <td>2024-06-15 14:54:21.834093+00:00</td>\n",
              "      <td>OK</td>\n",
              "      <td></td>\n",
              "      <td>[]</td>\n",
              "      <td>44dbe9efcc70b096</td>\n",
              "      <td>d5ebae20bce20916bbc692fd93e34447</td>\n",
              "      <td>text/plain</td>\n",
              "      <td>Answer questions with short factoid answers.\\n...</td>\n",
              "      <td>None</td>\n",
              "      <td>LLM</td>\n",
              "      <td>{\"temperature\": 0.0, \"max_tokens\": 150, \"top_p...</td>\n",
              "      <td>application/json</td>\n",
              "      <td>{\"id\": \"chatcmpl-da39a3ee5e6b4b0d3255bfef95601...</td>\n",
              "      <td>None</td>\n",
              "    </tr>\n",
              "    <tr>\n",
              "      <th>6cb2fe0e88680e23</th>\n",
              "      <td>ChainOfThought(GenerateAnswer).forward</td>\n",
              "      <td>CHAIN</td>\n",
              "      <td>09cfb58cd2a7bfad</td>\n",
              "      <td>2024-06-15 14:54:15.375878+00:00</td>\n",
              "      <td>2024-06-15 14:54:21.866956+00:00</td>\n",
              "      <td>OK</td>\n",
              "      <td></td>\n",
              "      <td>[]</td>\n",
              "      <td>6cb2fe0e88680e23</td>\n",
              "      <td>d5ebae20bce20916bbc692fd93e34447</td>\n",
              "      <td>application/json</td>\n",
              "      <td>{\"context\": [\"At My Window (album) | At My Win...</td>\n",
              "      <td>None</td>\n",
              "      <td>CHAIN</td>\n",
              "      <td>None</td>\n",
              "      <td>application/json</td>\n",
              "      <td>{\"answer\": \"Townes Van Zandt\"}</td>\n",
              "      <td>None</td>\n",
              "    </tr>\n",
              "    <tr>\n",
              "      <th>09cfb58cd2a7bfad</th>\n",
              "      <td>RAG.forward</td>\n",
              "      <td>CHAIN</td>\n",
              "      <td>None</td>\n",
              "      <td>2024-06-15 14:54:15.330960+00:00</td>\n",
              "      <td>2024-06-15 14:54:21.878779+00:00</td>\n",
              "      <td>OK</td>\n",
              "      <td></td>\n",
              "      <td>[]</td>\n",
              "      <td>09cfb58cd2a7bfad</td>\n",
              "      <td>d5ebae20bce20916bbc692fd93e34447</td>\n",
              "      <td>application/json</td>\n",
              "      <td>{\"question\": \"At My Window was released by whi...</td>\n",
              "      <td>None</td>\n",
              "      <td>CHAIN</td>\n",
              "      <td>None</td>\n",
              "      <td>application/json</td>\n",
              "      <td>\"Prediction(\\n    context=['At My Window (albu...</td>\n",
              "      <td>None</td>\n",
              "    </tr>\n",
              "    <tr>\n",
              "      <th>...</th>\n",
              "      <td>...</td>\n",
              "      <td>...</td>\n",
              "      <td>...</td>\n",
              "      <td>...</td>\n",
              "      <td>...</td>\n",
              "      <td>...</td>\n",
              "      <td>...</td>\n",
              "      <td>...</td>\n",
              "      <td>...</td>\n",
              "      <td>...</td>\n",
              "      <td>...</td>\n",
              "      <td>...</td>\n",
              "      <td>...</td>\n",
              "      <td>...</td>\n",
              "      <td>...</td>\n",
              "      <td>...</td>\n",
              "      <td>...</td>\n",
              "      <td>...</td>\n",
              "    </tr>\n",
              "    <tr>\n",
              "      <th>fea28a771c291ff8</th>\n",
              "      <td>ChainOfThought(GenerateAnswer).forward</td>\n",
              "      <td>CHAIN</td>\n",
              "      <td>edc22b34787d86a9</td>\n",
              "      <td>2024-06-16 22:25:15.852816+00:00</td>\n",
              "      <td>2024-06-16 22:25:21.508803+00:00</td>\n",
              "      <td>OK</td>\n",
              "      <td></td>\n",
              "      <td>[]</td>\n",
              "      <td>fea28a771c291ff8</td>\n",
              "      <td>8b91c98c7ae7f4db30ee51067dc1eb35</td>\n",
              "      <td>application/json</td>\n",
              "      <td>{\"context\": [\"1972 FA Charity Shield | The 197...</td>\n",
              "      <td>None</td>\n",
              "      <td>CHAIN</td>\n",
              "      <td>None</td>\n",
              "      <td>application/json</td>\n",
              "      <td>{\"answer\": \"1874\"}</td>\n",
              "      <td>None</td>\n",
              "    </tr>\n",
              "    <tr>\n",
              "      <th>edc22b34787d86a9</th>\n",
              "      <td>RAG.forward</td>\n",
              "      <td>CHAIN</td>\n",
              "      <td>None</td>\n",
              "      <td>2024-06-16 22:25:15.763489+00:00</td>\n",
              "      <td>2024-06-16 22:25:21.515807+00:00</td>\n",
              "      <td>OK</td>\n",
              "      <td></td>\n",
              "      <td>[]</td>\n",
              "      <td>edc22b34787d86a9</td>\n",
              "      <td>8b91c98c7ae7f4db30ee51067dc1eb35</td>\n",
              "      <td>application/json</td>\n",
              "      <td>{\"question\": \"In what year was the club founde...</td>\n",
              "      <td>None</td>\n",
              "      <td>CHAIN</td>\n",
              "      <td>None</td>\n",
              "      <td>application/json</td>\n",
              "      <td>\"Prediction(\\n    context=['1972 FA Charity Sh...</td>\n",
              "      <td>None</td>\n",
              "    </tr>\n",
              "    <tr>\n",
              "      <th>20ec758fb81ac6c7</th>\n",
              "      <td>ColBERTv2.__call__</td>\n",
              "      <td>RETRIEVER</td>\n",
              "      <td>3f0b258c60db60d9</td>\n",
              "      <td>2024-06-16 22:25:21.529449+00:00</td>\n",
              "      <td>2024-06-16 22:25:21.529449+00:00</td>\n",
              "      <td>OK</td>\n",
              "      <td></td>\n",
              "      <td>[]</td>\n",
              "      <td>20ec758fb81ac6c7</td>\n",
              "      <td>b131b30928edfafc46655c8cdb0ea6f9</td>\n",
              "      <td>application/json</td>\n",
              "      <td>{\"query\": \"Which is taller, the Empire State B...</td>\n",
              "      <td>[{'document.content': 'Columbia Center | The C...</td>\n",
              "      <td>RETRIEVER</td>\n",
              "      <td>None</td>\n",
              "      <td>None</td>\n",
              "      <td>None</td>\n",
              "      <td>None</td>\n",
              "    </tr>\n",
              "    <tr>\n",
              "      <th>3f0b258c60db60d9</th>\n",
              "      <td>Retrieve.forward</td>\n",
              "      <td>RETRIEVER</td>\n",
              "      <td>c9b3520cb82fe4db</td>\n",
              "      <td>2024-06-16 22:25:21.529449+00:00</td>\n",
              "      <td>2024-06-16 22:25:21.582593+00:00</td>\n",
              "      <td>OK</td>\n",
              "      <td></td>\n",
              "      <td>[]</td>\n",
              "      <td>3f0b258c60db60d9</td>\n",
              "      <td>b131b30928edfafc46655c8cdb0ea6f9</td>\n",
              "      <td>application/json</td>\n",
              "      <td>{\"query_or_queries\": \"Which is taller, the Emp...</td>\n",
              "      <td>[{'document.content': 'Columbia Center | The C...</td>\n",
              "      <td>RETRIEVER</td>\n",
              "      <td>None</td>\n",
              "      <td>None</td>\n",
              "      <td>None</td>\n",
              "      <td>None</td>\n",
              "    </tr>\n",
              "    <tr>\n",
              "      <th>b59fb2860f1fef77</th>\n",
              "      <td>OllamaLocal.request</td>\n",
              "      <td>LLM</td>\n",
              "      <td>2347a44228e8048a</td>\n",
              "      <td>2024-06-16 22:25:21.711920+00:00</td>\n",
              "      <td>2024-06-16 22:25:30.998420+00:00</td>\n",
              "      <td>OK</td>\n",
              "      <td></td>\n",
              "      <td>[]</td>\n",
              "      <td>b59fb2860f1fef77</td>\n",
              "      <td>b131b30928edfafc46655c8cdb0ea6f9</td>\n",
              "      <td>text/plain</td>\n",
              "      <td>Answer questions with short factoid answers.\\n...</td>\n",
              "      <td>None</td>\n",
              "      <td>LLM</td>\n",
              "      <td>{\"temperature\": 0.0, \"max_tokens\": 150, \"top_p...</td>\n",
              "      <td>application/json</td>\n",
              "      <td>{\"id\": \"chatcmpl-da39a3ee5e6b4b0d3255bfef95601...</td>\n",
              "      <td>None</td>\n",
              "    </tr>\n",
              "  </tbody>\n",
              "</table>\n",
              "<p>1000 rows × 18 columns</p>\n",
              "</div>"
            ],
            "text/plain": [
              "                                                    name  span_kind  \\\n",
              "context.span_id                                                       \n",
              "4a4cce389c45b9bd                      ColBERTv2.__call__  RETRIEVER   \n",
              "84eed815a1687b79                        Retrieve.forward  RETRIEVER   \n",
              "44dbe9efcc70b096                     OllamaLocal.request        LLM   \n",
              "6cb2fe0e88680e23  ChainOfThought(GenerateAnswer).forward      CHAIN   \n",
              "09cfb58cd2a7bfad                             RAG.forward      CHAIN   \n",
              "...                                                  ...        ...   \n",
              "fea28a771c291ff8  ChainOfThought(GenerateAnswer).forward      CHAIN   \n",
              "edc22b34787d86a9                             RAG.forward      CHAIN   \n",
              "20ec758fb81ac6c7                      ColBERTv2.__call__  RETRIEVER   \n",
              "3f0b258c60db60d9                        Retrieve.forward  RETRIEVER   \n",
              "b59fb2860f1fef77                     OllamaLocal.request        LLM   \n",
              "\n",
              "                         parent_id                       start_time  \\\n",
              "context.span_id                                                       \n",
              "4a4cce389c45b9bd  84eed815a1687b79 2024-06-15 14:54:15.330960+00:00   \n",
              "84eed815a1687b79  09cfb58cd2a7bfad 2024-06-15 14:54:15.330960+00:00   \n",
              "44dbe9efcc70b096  6cb2fe0e88680e23 2024-06-15 14:54:15.376725+00:00   \n",
              "6cb2fe0e88680e23  09cfb58cd2a7bfad 2024-06-15 14:54:15.375878+00:00   \n",
              "09cfb58cd2a7bfad              None 2024-06-15 14:54:15.330960+00:00   \n",
              "...                            ...                              ...   \n",
              "fea28a771c291ff8  edc22b34787d86a9 2024-06-16 22:25:15.852816+00:00   \n",
              "edc22b34787d86a9              None 2024-06-16 22:25:15.763489+00:00   \n",
              "20ec758fb81ac6c7  3f0b258c60db60d9 2024-06-16 22:25:21.529449+00:00   \n",
              "3f0b258c60db60d9  c9b3520cb82fe4db 2024-06-16 22:25:21.529449+00:00   \n",
              "b59fb2860f1fef77  2347a44228e8048a 2024-06-16 22:25:21.711920+00:00   \n",
              "\n",
              "                                         end_time status_code status_message  \\\n",
              "context.span_id                                                                \n",
              "4a4cce389c45b9bd 2024-06-15 14:54:15.333069+00:00          OK                  \n",
              "84eed815a1687b79 2024-06-15 14:54:15.366791+00:00          OK                  \n",
              "44dbe9efcc70b096 2024-06-15 14:54:21.834093+00:00          OK                  \n",
              "6cb2fe0e88680e23 2024-06-15 14:54:21.866956+00:00          OK                  \n",
              "09cfb58cd2a7bfad 2024-06-15 14:54:21.878779+00:00          OK                  \n",
              "...                                           ...         ...            ...   \n",
              "fea28a771c291ff8 2024-06-16 22:25:21.508803+00:00          OK                  \n",
              "edc22b34787d86a9 2024-06-16 22:25:21.515807+00:00          OK                  \n",
              "20ec758fb81ac6c7 2024-06-16 22:25:21.529449+00:00          OK                  \n",
              "3f0b258c60db60d9 2024-06-16 22:25:21.582593+00:00          OK                  \n",
              "b59fb2860f1fef77 2024-06-16 22:25:30.998420+00:00          OK                  \n",
              "\n",
              "                 events   context.span_id                  context.trace_id  \\\n",
              "context.span_id                                                               \n",
              "4a4cce389c45b9bd     []  4a4cce389c45b9bd  d5ebae20bce20916bbc692fd93e34447   \n",
              "84eed815a1687b79     []  84eed815a1687b79  d5ebae20bce20916bbc692fd93e34447   \n",
              "44dbe9efcc70b096     []  44dbe9efcc70b096  d5ebae20bce20916bbc692fd93e34447   \n",
              "6cb2fe0e88680e23     []  6cb2fe0e88680e23  d5ebae20bce20916bbc692fd93e34447   \n",
              "09cfb58cd2a7bfad     []  09cfb58cd2a7bfad  d5ebae20bce20916bbc692fd93e34447   \n",
              "...                 ...               ...                               ...   \n",
              "fea28a771c291ff8     []  fea28a771c291ff8  8b91c98c7ae7f4db30ee51067dc1eb35   \n",
              "edc22b34787d86a9     []  edc22b34787d86a9  8b91c98c7ae7f4db30ee51067dc1eb35   \n",
              "20ec758fb81ac6c7     []  20ec758fb81ac6c7  b131b30928edfafc46655c8cdb0ea6f9   \n",
              "3f0b258c60db60d9     []  3f0b258c60db60d9  b131b30928edfafc46655c8cdb0ea6f9   \n",
              "b59fb2860f1fef77     []  b59fb2860f1fef77  b131b30928edfafc46655c8cdb0ea6f9   \n",
              "\n",
              "                 attributes.input.mime_type  \\\n",
              "context.span_id                               \n",
              "4a4cce389c45b9bd           application/json   \n",
              "84eed815a1687b79           application/json   \n",
              "44dbe9efcc70b096                 text/plain   \n",
              "6cb2fe0e88680e23           application/json   \n",
              "09cfb58cd2a7bfad           application/json   \n",
              "...                                     ...   \n",
              "fea28a771c291ff8           application/json   \n",
              "edc22b34787d86a9           application/json   \n",
              "20ec758fb81ac6c7           application/json   \n",
              "3f0b258c60db60d9           application/json   \n",
              "b59fb2860f1fef77                 text/plain   \n",
              "\n",
              "                                             attributes.input.value  \\\n",
              "context.span_id                                                       \n",
              "4a4cce389c45b9bd  {\"query\": \"At My Window was released by which ...   \n",
              "84eed815a1687b79  {\"query_or_queries\": \"At My Window was release...   \n",
              "44dbe9efcc70b096  Answer questions with short factoid answers.\\n...   \n",
              "6cb2fe0e88680e23  {\"context\": [\"At My Window (album) | At My Win...   \n",
              "09cfb58cd2a7bfad  {\"question\": \"At My Window was released by whi...   \n",
              "...                                                             ...   \n",
              "fea28a771c291ff8  {\"context\": [\"1972 FA Charity Shield | The 197...   \n",
              "edc22b34787d86a9  {\"question\": \"In what year was the club founde...   \n",
              "20ec758fb81ac6c7  {\"query\": \"Which is taller, the Empire State B...   \n",
              "3f0b258c60db60d9  {\"query_or_queries\": \"Which is taller, the Emp...   \n",
              "b59fb2860f1fef77  Answer questions with short factoid answers.\\n...   \n",
              "\n",
              "                                     attributes.retrieval.documents  \\\n",
              "context.span_id                                                       \n",
              "4a4cce389c45b9bd  [{'document.content': 'At My Window (album) | ...   \n",
              "84eed815a1687b79  [{'document.content': 'At My Window (album) | ...   \n",
              "44dbe9efcc70b096                                               None   \n",
              "6cb2fe0e88680e23                                               None   \n",
              "09cfb58cd2a7bfad                                               None   \n",
              "...                                                             ...   \n",
              "fea28a771c291ff8                                               None   \n",
              "edc22b34787d86a9                                               None   \n",
              "20ec758fb81ac6c7  [{'document.content': 'Columbia Center | The C...   \n",
              "3f0b258c60db60d9  [{'document.content': 'Columbia Center | The C...   \n",
              "b59fb2860f1fef77                                               None   \n",
              "\n",
              "                 attributes.openinference.span.kind  \\\n",
              "context.span_id                                       \n",
              "4a4cce389c45b9bd                          RETRIEVER   \n",
              "84eed815a1687b79                          RETRIEVER   \n",
              "44dbe9efcc70b096                                LLM   \n",
              "6cb2fe0e88680e23                              CHAIN   \n",
              "09cfb58cd2a7bfad                              CHAIN   \n",
              "...                                             ...   \n",
              "fea28a771c291ff8                              CHAIN   \n",
              "edc22b34787d86a9                              CHAIN   \n",
              "20ec758fb81ac6c7                          RETRIEVER   \n",
              "3f0b258c60db60d9                          RETRIEVER   \n",
              "b59fb2860f1fef77                                LLM   \n",
              "\n",
              "                               attributes.llm.invocation_parameters  \\\n",
              "context.span_id                                                       \n",
              "4a4cce389c45b9bd                                               None   \n",
              "84eed815a1687b79                                               None   \n",
              "44dbe9efcc70b096  {\"temperature\": 0.0, \"max_tokens\": 150, \"top_p...   \n",
              "6cb2fe0e88680e23                                               None   \n",
              "09cfb58cd2a7bfad                                               None   \n",
              "...                                                             ...   \n",
              "fea28a771c291ff8                                               None   \n",
              "edc22b34787d86a9                                               None   \n",
              "20ec758fb81ac6c7                                               None   \n",
              "3f0b258c60db60d9                                               None   \n",
              "b59fb2860f1fef77  {\"temperature\": 0.0, \"max_tokens\": 150, \"top_p...   \n",
              "\n",
              "                 attributes.output.mime_type  \\\n",
              "context.span_id                                \n",
              "4a4cce389c45b9bd                        None   \n",
              "84eed815a1687b79                        None   \n",
              "44dbe9efcc70b096            application/json   \n",
              "6cb2fe0e88680e23            application/json   \n",
              "09cfb58cd2a7bfad            application/json   \n",
              "...                                      ...   \n",
              "fea28a771c291ff8            application/json   \n",
              "edc22b34787d86a9            application/json   \n",
              "20ec758fb81ac6c7                        None   \n",
              "3f0b258c60db60d9                        None   \n",
              "b59fb2860f1fef77            application/json   \n",
              "\n",
              "                                            attributes.output.value  \\\n",
              "context.span_id                                                       \n",
              "4a4cce389c45b9bd                                               None   \n",
              "84eed815a1687b79                                               None   \n",
              "44dbe9efcc70b096  {\"id\": \"chatcmpl-da39a3ee5e6b4b0d3255bfef95601...   \n",
              "6cb2fe0e88680e23                     {\"answer\": \"Townes Van Zandt\"}   \n",
              "09cfb58cd2a7bfad  \"Prediction(\\n    context=['At My Window (albu...   \n",
              "...                                                             ...   \n",
              "fea28a771c291ff8                                 {\"answer\": \"1874\"}   \n",
              "edc22b34787d86a9  \"Prediction(\\n    context=['1972 FA Charity Sh...   \n",
              "20ec758fb81ac6c7                                               None   \n",
              "3f0b258c60db60d9                                               None   \n",
              "b59fb2860f1fef77  {\"id\": \"chatcmpl-da39a3ee5e6b4b0d3255bfef95601...   \n",
              "\n",
              "                 attributes.metrics  \n",
              "context.span_id                      \n",
              "4a4cce389c45b9bd               None  \n",
              "84eed815a1687b79               None  \n",
              "44dbe9efcc70b096               None  \n",
              "6cb2fe0e88680e23               None  \n",
              "09cfb58cd2a7bfad               None  \n",
              "...                             ...  \n",
              "fea28a771c291ff8               None  \n",
              "edc22b34787d86a9               None  \n",
              "20ec758fb81ac6c7               None  \n",
              "3f0b258c60db60d9               None  \n",
              "b59fb2860f1fef77               None  \n",
              "\n",
              "[1000 rows x 18 columns]"
            ]
          },
          "execution_count": 21,
          "metadata": {},
          "output_type": "execute_result"
        }
      ],
      "source": [
        "import phoenix as px\n",
        "from phoenix.trace.dsl import SpanQuery\n",
        "\n",
        "# Get spans from a project\n",
        "px.Client().get_spans_dataframe(project_name=\"Span-test\")"
      ]
    },
    {
      "cell_type": "code",
      "execution_count": 49,
      "metadata": {},
      "outputs": [],
      "source": [
        "from dspy.teleprompt import BootstrapFewShot\n",
        "\n",
        "\n",
        "# Validation logic: check that the predicted answer is correct.\n",
        "# Also check that the retrieved context does actually contain that answer.\n",
        "def validate_context_and_answer(example, pred, trace=None):\n",
        "    # Retrieve and print the span_id from the prediction\n",
        "    span_id = getattr(pred, 'span_id', None)\n",
        "    print(f\"Span ID during evaluation: {span_id}\")\n",
        "    \n",
        "    \n",
        "    \n",
        "    answer_EM = dspy.evaluate.answer_exact_match(example, pred)\n",
        "    answer_PM = dspy.evaluate.answer_passage_match(example, pred)\n",
        "    return answer_EM and answer_PM\n",
        "\n",
        "\n"
      ]
    },
    {
      "cell_type": "code",
      "execution_count": 20,
      "metadata": {},
      "outputs": [
        {
          "name": "stderr",
          "output_type": "stream",
          "text": [
            "  0%|          | 0/20 [00:00<?, ?it/s]"
          ]
        },
        {
          "name": "stdout",
          "output_type": "stream",
          "text": [
            "Current span ID: 0\n"
          ]
        },
        {
          "name": "stderr",
          "output_type": "stream",
          "text": [
            "2024-06-16T22:05:04.526583Z [error    ] Failed to run or to evaluate example Example({'question': 'At My Window was released by which American singer-songwriter?', 'answer': 'John Townes Van Zandt'}) (input_keys={'question'}) with <function validate_context_and_answer at 0x000002004835C900> due to Tracer.start_as_current_span() got an unexpected keyword argument 'parent'. [dspy.teleprompt.bootstrap] filename=bootstrap.py lineno=179\n",
            "  5%|▌         | 1/20 [00:06<02:12,  6.98s/it]"
          ]
        },
        {
          "name": "stdout",
          "output_type": "stream",
          "text": [
            "Current span ID: 0\n"
          ]
        },
        {
          "name": "stderr",
          "output_type": "stream",
          "text": [
            "2024-06-16T22:05:11.265732Z [error    ] Failed to run or to evaluate example Example({'question': 'which  American actor was Candace Kita  guest starred with ', 'answer': 'Bill Murray'}) (input_keys={'question'}) with <function validate_context_and_answer at 0x000002004835C900> due to Tracer.start_as_current_span() got an unexpected keyword argument 'parent'. [dspy.teleprompt.bootstrap] filename=bootstrap.py lineno=179\n",
            " 10%|█         | 2/20 [00:22<03:25, 11.42s/it]\n"
          ]
        },
        {
          "ename": "KeyboardInterrupt",
          "evalue": "",
          "output_type": "error",
          "traceback": [
            "\u001b[1;31m---------------------------------------------------------------------------\u001b[0m",
            "\u001b[1;31mKeyboardInterrupt\u001b[0m                         Traceback (most recent call last)",
            "Cell \u001b[1;32mIn[20], line 5\u001b[0m\n\u001b[0;32m      3\u001b[0m input_module \u001b[38;5;241m=\u001b[39m RAG()\n\u001b[0;32m      4\u001b[0m teleprompter \u001b[38;5;241m=\u001b[39m BootstrapFewShot(metric\u001b[38;5;241m=\u001b[39mvalidate_context_and_answer)\n\u001b[1;32m----> 5\u001b[0m compiled_module \u001b[38;5;241m=\u001b[39m \u001b[43mteleprompter\u001b[49m\u001b[38;5;241;43m.\u001b[39;49m\u001b[43mcompile\u001b[49m\u001b[43m(\u001b[49m\u001b[43minput_module\u001b[49m\u001b[43m,\u001b[49m\u001b[43m \u001b[49m\u001b[43mtrainset\u001b[49m\u001b[38;5;241;43m=\u001b[39;49m\u001b[43mtrainset\u001b[49m\u001b[43m)\u001b[49m\n",
            "File \u001b[1;32mc:\\llm\\env-phoenix-dspy\\Lib\\site-packages\\dspy\\teleprompt\\bootstrap.py:61\u001b[0m, in \u001b[0;36mBootstrapFewShot.compile\u001b[1;34m(self, student, teacher, trainset, valset)\u001b[0m\n\u001b[0;32m     59\u001b[0m \u001b[38;5;28mself\u001b[39m\u001b[38;5;241m.\u001b[39m_prepare_student_and_teacher(student, teacher)\n\u001b[0;32m     60\u001b[0m \u001b[38;5;28mself\u001b[39m\u001b[38;5;241m.\u001b[39m_prepare_predictor_mappings()\n\u001b[1;32m---> 61\u001b[0m \u001b[38;5;28;43mself\u001b[39;49m\u001b[38;5;241;43m.\u001b[39;49m\u001b[43m_bootstrap\u001b[49m\u001b[43m(\u001b[49m\u001b[43m)\u001b[49m\n\u001b[0;32m     63\u001b[0m \u001b[38;5;28mself\u001b[39m\u001b[38;5;241m.\u001b[39mstudent \u001b[38;5;241m=\u001b[39m \u001b[38;5;28mself\u001b[39m\u001b[38;5;241m.\u001b[39m_train()\n\u001b[0;32m     64\u001b[0m \u001b[38;5;28mself\u001b[39m\u001b[38;5;241m.\u001b[39mstudent\u001b[38;5;241m.\u001b[39m_compiled \u001b[38;5;241m=\u001b[39m \u001b[38;5;28;01mTrue\u001b[39;00m\n",
            "File \u001b[1;32mc:\\llm\\env-phoenix-dspy\\Lib\\site-packages\\dspy\\teleprompt\\bootstrap.py:122\u001b[0m, in \u001b[0;36mBootstrapFewShot._bootstrap\u001b[1;34m(self, max_bootstraps)\u001b[0m\n\u001b[0;32m    119\u001b[0m     \u001b[38;5;28;01mbreak\u001b[39;00m\n\u001b[0;32m    121\u001b[0m \u001b[38;5;28;01mif\u001b[39;00m example_idx \u001b[38;5;129;01mnot\u001b[39;00m \u001b[38;5;129;01min\u001b[39;00m bootstrapped:\n\u001b[1;32m--> 122\u001b[0m     success \u001b[38;5;241m=\u001b[39m \u001b[38;5;28;43mself\u001b[39;49m\u001b[38;5;241;43m.\u001b[39;49m\u001b[43m_bootstrap_one_example\u001b[49m\u001b[43m(\u001b[49m\u001b[43mexample\u001b[49m\u001b[43m,\u001b[49m\u001b[43m \u001b[49m\u001b[43mround_idx\u001b[49m\u001b[43m)\u001b[49m\n\u001b[0;32m    124\u001b[0m     \u001b[38;5;28;01mif\u001b[39;00m success:\n\u001b[0;32m    125\u001b[0m         bootstrapped[example_idx] \u001b[38;5;241m=\u001b[39m \u001b[38;5;28;01mTrue\u001b[39;00m\n",
            "File \u001b[1;32mc:\\llm\\env-phoenix-dspy\\Lib\\site-packages\\dspy\\teleprompt\\bootstrap.py:158\u001b[0m, in \u001b[0;36mBootstrapFewShot._bootstrap_one_example\u001b[1;34m(self, example, round_idx)\u001b[0m\n\u001b[0;32m    155\u001b[0m     predictor_cache[name] \u001b[38;5;241m=\u001b[39m predictor\u001b[38;5;241m.\u001b[39mdemos\n\u001b[0;32m    156\u001b[0m     predictor\u001b[38;5;241m.\u001b[39mdemos \u001b[38;5;241m=\u001b[39m [x \u001b[38;5;28;01mfor\u001b[39;00m x \u001b[38;5;129;01min\u001b[39;00m predictor\u001b[38;5;241m.\u001b[39mdemos \u001b[38;5;28;01mif\u001b[39;00m x \u001b[38;5;241m!=\u001b[39m example]\n\u001b[1;32m--> 158\u001b[0m prediction \u001b[38;5;241m=\u001b[39m \u001b[43mteacher\u001b[49m\u001b[43m(\u001b[49m\u001b[38;5;241;43m*\u001b[39;49m\u001b[38;5;241;43m*\u001b[39;49m\u001b[43mexample\u001b[49m\u001b[38;5;241;43m.\u001b[39;49m\u001b[43minputs\u001b[49m\u001b[43m(\u001b[49m\u001b[43m)\u001b[49m\u001b[43m)\u001b[49m\n\u001b[0;32m    159\u001b[0m trace \u001b[38;5;241m=\u001b[39m dsp\u001b[38;5;241m.\u001b[39msettings\u001b[38;5;241m.\u001b[39mtrace\n\u001b[0;32m    161\u001b[0m \u001b[38;5;28;01mfor\u001b[39;00m name, predictor \u001b[38;5;129;01min\u001b[39;00m teacher\u001b[38;5;241m.\u001b[39mnamed_predictors():\n",
            "File \u001b[1;32mc:\\llm\\env-phoenix-dspy\\Lib\\site-packages\\openinference\\instrumentation\\dspy\\__init__.py:377\u001b[0m, in \u001b[0;36m_ModuleForwardWrapper.__call__\u001b[1;34m(self, wrapped, instance, args, kwargs)\u001b[0m\n\u001b[0;32m    375\u001b[0m span\u001b[38;5;241m.\u001b[39mset_attributes(\u001b[38;5;28mdict\u001b[39m(get_attributes_from_context()))\n\u001b[0;32m    376\u001b[0m \u001b[38;5;28;01mtry\u001b[39;00m:\n\u001b[1;32m--> 377\u001b[0m     prediction \u001b[38;5;241m=\u001b[39m \u001b[43mwrapped\u001b[49m\u001b[43m(\u001b[49m\u001b[38;5;241;43m*\u001b[39;49m\u001b[43margs\u001b[49m\u001b[43m,\u001b[49m\u001b[43m \u001b[49m\u001b[38;5;241;43m*\u001b[39;49m\u001b[38;5;241;43m*\u001b[39;49m\u001b[43mkwargs\u001b[49m\u001b[43m)\u001b[49m\n\u001b[0;32m    378\u001b[0m \u001b[38;5;28;01mexcept\u001b[39;00m \u001b[38;5;167;01mException\u001b[39;00m \u001b[38;5;28;01mas\u001b[39;00m exception:\n\u001b[0;32m    379\u001b[0m     span\u001b[38;5;241m.\u001b[39mset_status(trace_api\u001b[38;5;241m.\u001b[39mStatus(trace_api\u001b[38;5;241m.\u001b[39mStatusCode\u001b[38;5;241m.\u001b[39mERROR, \u001b[38;5;28mstr\u001b[39m(exception)))\n",
            "File \u001b[1;32mc:\\llm\\env-phoenix-dspy\\Lib\\site-packages\\dspy\\primitives\\program.py:26\u001b[0m, in \u001b[0;36mModule.__call__\u001b[1;34m(self, *args, **kwargs)\u001b[0m\n\u001b[0;32m     25\u001b[0m \u001b[38;5;28;01mdef\u001b[39;00m \u001b[38;5;21m__call__\u001b[39m(\u001b[38;5;28mself\u001b[39m, \u001b[38;5;241m*\u001b[39margs, \u001b[38;5;241m*\u001b[39m\u001b[38;5;241m*\u001b[39mkwargs):\n\u001b[1;32m---> 26\u001b[0m     \u001b[38;5;28;01mreturn\u001b[39;00m \u001b[38;5;28;43mself\u001b[39;49m\u001b[38;5;241;43m.\u001b[39;49m\u001b[43mforward\u001b[49m\u001b[43m(\u001b[49m\u001b[38;5;241;43m*\u001b[39;49m\u001b[43margs\u001b[49m\u001b[43m,\u001b[49m\u001b[43m \u001b[49m\u001b[38;5;241;43m*\u001b[39;49m\u001b[38;5;241;43m*\u001b[39;49m\u001b[43mkwargs\u001b[49m\u001b[43m)\u001b[49m\n",
            "Cell \u001b[1;32mIn[10], line 9\u001b[0m, in \u001b[0;36mRAG.forward\u001b[1;34m(self, question)\u001b[0m\n\u001b[0;32m      7\u001b[0m \u001b[38;5;28;01mdef\u001b[39;00m \u001b[38;5;21mforward\u001b[39m(\u001b[38;5;28mself\u001b[39m, question):\n\u001b[0;32m      8\u001b[0m     context \u001b[38;5;241m=\u001b[39m \u001b[38;5;28mself\u001b[39m\u001b[38;5;241m.\u001b[39mretrieve(question)\u001b[38;5;241m.\u001b[39mpassages\n\u001b[1;32m----> 9\u001b[0m     prediction \u001b[38;5;241m=\u001b[39m \u001b[38;5;28;43mself\u001b[39;49m\u001b[38;5;241;43m.\u001b[39;49m\u001b[43mgenerate_answer\u001b[49m\u001b[43m(\u001b[49m\u001b[43mcontext\u001b[49m\u001b[38;5;241;43m=\u001b[39;49m\u001b[43mcontext\u001b[49m\u001b[43m,\u001b[49m\u001b[43m \u001b[49m\u001b[43mquestion\u001b[49m\u001b[38;5;241;43m=\u001b[39;49m\u001b[43mquestion\u001b[49m\u001b[43m)\u001b[49m\n\u001b[0;32m     10\u001b[0m     \u001b[38;5;28;01mreturn\u001b[39;00m dspy\u001b[38;5;241m.\u001b[39mPrediction(context\u001b[38;5;241m=\u001b[39mcontext, answer\u001b[38;5;241m=\u001b[39mprediction\u001b[38;5;241m.\u001b[39manswer)\n",
            "File \u001b[1;32mc:\\llm\\env-phoenix-dspy\\Lib\\site-packages\\dspy\\predict\\predict.py:61\u001b[0m, in \u001b[0;36mPredict.__call__\u001b[1;34m(self, **kwargs)\u001b[0m\n\u001b[0;32m     60\u001b[0m \u001b[38;5;28;01mdef\u001b[39;00m \u001b[38;5;21m__call__\u001b[39m(\u001b[38;5;28mself\u001b[39m, \u001b[38;5;241m*\u001b[39m\u001b[38;5;241m*\u001b[39mkwargs):\n\u001b[1;32m---> 61\u001b[0m     \u001b[38;5;28;01mreturn\u001b[39;00m \u001b[38;5;28;43mself\u001b[39;49m\u001b[38;5;241;43m.\u001b[39;49m\u001b[43mforward\u001b[49m\u001b[43m(\u001b[49m\u001b[38;5;241;43m*\u001b[39;49m\u001b[38;5;241;43m*\u001b[39;49m\u001b[43mkwargs\u001b[49m\u001b[43m)\u001b[49m\n",
            "File \u001b[1;32mc:\\llm\\env-phoenix-dspy\\Lib\\site-packages\\openinference\\instrumentation\\dspy\\__init__.py:307\u001b[0m, in \u001b[0;36m_PredictForwardWrapper.__call__\u001b[1;34m(self, wrapped, instance, args, kwargs)\u001b[0m\n\u001b[0;32m    305\u001b[0m span\u001b[38;5;241m.\u001b[39mset_attributes(\u001b[38;5;28mdict\u001b[39m(get_attributes_from_context()))\n\u001b[0;32m    306\u001b[0m \u001b[38;5;28;01mtry\u001b[39;00m:\n\u001b[1;32m--> 307\u001b[0m     prediction \u001b[38;5;241m=\u001b[39m \u001b[43mwrapped\u001b[49m\u001b[43m(\u001b[49m\u001b[38;5;241;43m*\u001b[39;49m\u001b[43margs\u001b[49m\u001b[43m,\u001b[49m\u001b[43m \u001b[49m\u001b[38;5;241;43m*\u001b[39;49m\u001b[38;5;241;43m*\u001b[39;49m\u001b[43mkwargs\u001b[49m\u001b[43m)\u001b[49m\n\u001b[0;32m    308\u001b[0m \u001b[38;5;28;01mexcept\u001b[39;00m \u001b[38;5;167;01mException\u001b[39;00m \u001b[38;5;28;01mas\u001b[39;00m exception:\n\u001b[0;32m    309\u001b[0m     span\u001b[38;5;241m.\u001b[39mset_status(trace_api\u001b[38;5;241m.\u001b[39mStatus(trace_api\u001b[38;5;241m.\u001b[39mStatusCode\u001b[38;5;241m.\u001b[39mERROR, \u001b[38;5;28mstr\u001b[39m(exception)))\n",
            "File \u001b[1;32mc:\\llm\\env-phoenix-dspy\\Lib\\site-packages\\dspy\\predict\\chain_of_thought.py:59\u001b[0m, in \u001b[0;36mChainOfThought.forward\u001b[1;34m(self, **kwargs)\u001b[0m\n\u001b[0;32m     57\u001b[0m     signature \u001b[38;5;241m=\u001b[39m new_signature\n\u001b[0;32m     58\u001b[0m     \u001b[38;5;66;03m# template = dsp.Template(self.signature.instructions, **new_signature)\u001b[39;00m\n\u001b[1;32m---> 59\u001b[0m \u001b[38;5;28;01mreturn\u001b[39;00m \u001b[38;5;28;43msuper\u001b[39;49m\u001b[43m(\u001b[49m\u001b[43m)\u001b[49m\u001b[38;5;241;43m.\u001b[39;49m\u001b[43mforward\u001b[49m\u001b[43m(\u001b[49m\u001b[43msignature\u001b[49m\u001b[38;5;241;43m=\u001b[39;49m\u001b[43msignature\u001b[49m\u001b[43m,\u001b[49m\u001b[43m \u001b[49m\u001b[38;5;241;43m*\u001b[39;49m\u001b[38;5;241;43m*\u001b[39;49m\u001b[43mkwargs\u001b[49m\u001b[43m)\u001b[49m\n",
            "File \u001b[1;32mc:\\llm\\env-phoenix-dspy\\Lib\\site-packages\\openinference\\instrumentation\\dspy\\__init__.py:285\u001b[0m, in \u001b[0;36m_PredictForwardWrapper.__call__\u001b[1;34m(self, wrapped, instance, args, kwargs)\u001b[0m\n\u001b[0;32m    277\u001b[0m wrapped_method_is_base_class_forward_method \u001b[38;5;241m=\u001b[39m (\n\u001b[0;32m    278\u001b[0m     wrapped\u001b[38;5;241m.\u001b[39m\u001b[38;5;18m__qualname__\u001b[39m \u001b[38;5;241m==\u001b[39m Predict\u001b[38;5;241m.\u001b[39mforward\u001b[38;5;241m.\u001b[39m\u001b[38;5;18m__qualname__\u001b[39m\n\u001b[0;32m    279\u001b[0m )\n\u001b[0;32m    280\u001b[0m \u001b[38;5;28;01mif\u001b[39;00m (\n\u001b[0;32m    281\u001b[0m     is_instance_of_predict_subclass\n\u001b[0;32m    282\u001b[0m     \u001b[38;5;129;01mand\u001b[39;00m has_overridden_forward_method\n\u001b[0;32m    283\u001b[0m     \u001b[38;5;129;01mand\u001b[39;00m wrapped_method_is_base_class_forward_method\n\u001b[0;32m    284\u001b[0m ):\n\u001b[1;32m--> 285\u001b[0m     \u001b[38;5;28;01mreturn\u001b[39;00m \u001b[43mwrapped\u001b[49m\u001b[43m(\u001b[49m\u001b[38;5;241;43m*\u001b[39;49m\u001b[43margs\u001b[49m\u001b[43m,\u001b[49m\u001b[43m \u001b[49m\u001b[38;5;241;43m*\u001b[39;49m\u001b[38;5;241;43m*\u001b[39;49m\u001b[43mkwargs\u001b[49m\u001b[43m)\u001b[49m\n\u001b[0;32m    287\u001b[0m signature \u001b[38;5;241m=\u001b[39m kwargs\u001b[38;5;241m.\u001b[39mget(\u001b[38;5;124m\"\u001b[39m\u001b[38;5;124msignature\u001b[39m\u001b[38;5;124m\"\u001b[39m, instance\u001b[38;5;241m.\u001b[39msignature)\n\u001b[0;32m    288\u001b[0m span_name \u001b[38;5;241m=\u001b[39m _get_predict_span_name(instance)\n",
            "File \u001b[1;32mc:\\llm\\env-phoenix-dspy\\Lib\\site-packages\\dspy\\predict\\predict.py:103\u001b[0m, in \u001b[0;36mPredict.forward\u001b[1;34m(self, **kwargs)\u001b[0m\n\u001b[0;32m    100\u001b[0m template \u001b[38;5;241m=\u001b[39m signature_to_template(signature)\n\u001b[0;32m    102\u001b[0m \u001b[38;5;28;01mif\u001b[39;00m \u001b[38;5;28mself\u001b[39m\u001b[38;5;241m.\u001b[39mlm \u001b[38;5;129;01mis\u001b[39;00m \u001b[38;5;28;01mNone\u001b[39;00m:\n\u001b[1;32m--> 103\u001b[0m     x, C \u001b[38;5;241m=\u001b[39m \u001b[43mdsp\u001b[49m\u001b[38;5;241;43m.\u001b[39;49m\u001b[43mgenerate\u001b[49m\u001b[43m(\u001b[49m\u001b[43mtemplate\u001b[49m\u001b[43m,\u001b[49m\u001b[43m \u001b[49m\u001b[38;5;241;43m*\u001b[39;49m\u001b[38;5;241;43m*\u001b[39;49m\u001b[43mconfig\u001b[49m\u001b[43m)\u001b[49m\u001b[43m(\u001b[49m\u001b[43mx\u001b[49m\u001b[43m,\u001b[49m\u001b[43m \u001b[49m\u001b[43mstage\u001b[49m\u001b[38;5;241;43m=\u001b[39;49m\u001b[38;5;28;43mself\u001b[39;49m\u001b[38;5;241;43m.\u001b[39;49m\u001b[43mstage\u001b[49m\u001b[43m)\u001b[49m\n\u001b[0;32m    104\u001b[0m \u001b[38;5;28;01melse\u001b[39;00m:\n\u001b[0;32m    105\u001b[0m     \u001b[38;5;66;03m# Note: query_only=True means the instructions and examples are not included.\u001b[39;00m\n\u001b[0;32m    106\u001b[0m     \u001b[38;5;66;03m# I'm not really sure why we'd want to do that, but it's there.\u001b[39;00m\n\u001b[0;32m    107\u001b[0m     \u001b[38;5;28;01mwith\u001b[39;00m dsp\u001b[38;5;241m.\u001b[39msettings\u001b[38;5;241m.\u001b[39mcontext(lm\u001b[38;5;241m=\u001b[39m\u001b[38;5;28mself\u001b[39m\u001b[38;5;241m.\u001b[39mlm, query_only\u001b[38;5;241m=\u001b[39m\u001b[38;5;28;01mTrue\u001b[39;00m):\n",
            "File \u001b[1;32mc:\\llm\\env-phoenix-dspy\\Lib\\site-packages\\dsp\\primitives\\predict.py:77\u001b[0m, in \u001b[0;36m_generate.<locals>.do_generate\u001b[1;34m(example, stage, max_depth, original_example)\u001b[0m\n\u001b[0;32m     75\u001b[0m \u001b[38;5;66;03m# Generate and extract the fields.\u001b[39;00m\n\u001b[0;32m     76\u001b[0m prompt \u001b[38;5;241m=\u001b[39m template(example)\n\u001b[1;32m---> 77\u001b[0m completions: \u001b[38;5;28mlist\u001b[39m[\u001b[38;5;28mdict\u001b[39m[\u001b[38;5;28mstr\u001b[39m, Any]] \u001b[38;5;241m=\u001b[39m \u001b[43mgenerator\u001b[49m\u001b[43m(\u001b[49m\u001b[43mprompt\u001b[49m\u001b[43m,\u001b[49m\u001b[43m \u001b[49m\u001b[38;5;241;43m*\u001b[39;49m\u001b[38;5;241;43m*\u001b[39;49m\u001b[43mkwargs\u001b[49m\u001b[43m)\u001b[49m\n\u001b[0;32m     78\u001b[0m completions: \u001b[38;5;28mlist\u001b[39m[Example] \u001b[38;5;241m=\u001b[39m [template\u001b[38;5;241m.\u001b[39mextract(example, p) \u001b[38;5;28;01mfor\u001b[39;00m p \u001b[38;5;129;01min\u001b[39;00m completions]\n\u001b[0;32m     80\u001b[0m \u001b[38;5;66;03m# Find the completions that are most complete.\u001b[39;00m\n",
            "File \u001b[1;32mc:\\llm\\env-phoenix-dspy\\Lib\\site-packages\\dsp\\modules\\ollama.py:171\u001b[0m, in \u001b[0;36mOllamaLocal.__call__\u001b[1;34m(self, prompt, only_completed, return_sorted, **kwargs)\u001b[0m\n\u001b[0;32m    168\u001b[0m \u001b[38;5;28;01massert\u001b[39;00m only_completed, \u001b[38;5;124m\"\u001b[39m\u001b[38;5;124mfor now\u001b[39m\u001b[38;5;124m\"\u001b[39m\n\u001b[0;32m    169\u001b[0m \u001b[38;5;28;01massert\u001b[39;00m return_sorted \u001b[38;5;129;01mis\u001b[39;00m \u001b[38;5;28;01mFalse\u001b[39;00m, \u001b[38;5;124m\"\u001b[39m\u001b[38;5;124mfor now\u001b[39m\u001b[38;5;124m\"\u001b[39m\n\u001b[1;32m--> 171\u001b[0m response \u001b[38;5;241m=\u001b[39m \u001b[38;5;28;43mself\u001b[39;49m\u001b[38;5;241;43m.\u001b[39;49m\u001b[43mrequest\u001b[49m\u001b[43m(\u001b[49m\u001b[43mprompt\u001b[49m\u001b[43m,\u001b[49m\u001b[43m \u001b[49m\u001b[38;5;241;43m*\u001b[39;49m\u001b[38;5;241;43m*\u001b[39;49m\u001b[43mkwargs\u001b[49m\u001b[43m)\u001b[49m\n\u001b[0;32m    173\u001b[0m choices \u001b[38;5;241m=\u001b[39m response[\u001b[38;5;124m\"\u001b[39m\u001b[38;5;124mchoices\u001b[39m\u001b[38;5;124m\"\u001b[39m]\n\u001b[0;32m    175\u001b[0m completed_choices \u001b[38;5;241m=\u001b[39m [c \u001b[38;5;28;01mfor\u001b[39;00m c \u001b[38;5;129;01min\u001b[39;00m choices \u001b[38;5;28;01mif\u001b[39;00m c[\u001b[38;5;124m\"\u001b[39m\u001b[38;5;124mfinish_reason\u001b[39m\u001b[38;5;124m\"\u001b[39m] \u001b[38;5;241m!=\u001b[39m \u001b[38;5;124m\"\u001b[39m\u001b[38;5;124mlength\u001b[39m\u001b[38;5;124m\"\u001b[39m]\n",
            "File \u001b[1;32mc:\\llm\\env-phoenix-dspy\\Lib\\site-packages\\dsp\\modules\\ollama.py:145\u001b[0m, in \u001b[0;36mOllamaLocal.request\u001b[1;34m(self, prompt, **kwargs)\u001b[0m\n\u001b[0;32m    142\u001b[0m \u001b[38;5;28;01mif\u001b[39;00m \u001b[38;5;124m\"\u001b[39m\u001b[38;5;124mmodel_type\u001b[39m\u001b[38;5;124m\"\u001b[39m \u001b[38;5;129;01min\u001b[39;00m kwargs:\n\u001b[0;32m    143\u001b[0m     \u001b[38;5;28;01mdel\u001b[39;00m kwargs[\u001b[38;5;124m\"\u001b[39m\u001b[38;5;124mmodel_type\u001b[39m\u001b[38;5;124m\"\u001b[39m]\n\u001b[1;32m--> 145\u001b[0m \u001b[38;5;28;01mreturn\u001b[39;00m \u001b[38;5;28;43mself\u001b[39;49m\u001b[38;5;241;43m.\u001b[39;49m\u001b[43mbasic_request\u001b[49m\u001b[43m(\u001b[49m\u001b[43mprompt\u001b[49m\u001b[43m,\u001b[49m\u001b[43m \u001b[49m\u001b[38;5;241;43m*\u001b[39;49m\u001b[38;5;241;43m*\u001b[39;49m\u001b[43mkwargs\u001b[49m\u001b[43m)\u001b[49m\n",
            "File \u001b[1;32mc:\\llm\\env-phoenix-dspy\\Lib\\site-packages\\openinference\\instrumentation\\dspy\\__init__.py:227\u001b[0m, in \u001b[0;36m_LMBasicRequestWrapper.__call__\u001b[1;34m(self, wrapped, instance, args, kwargs)\u001b[0m\n\u001b[0;32m    225\u001b[0m span\u001b[38;5;241m.\u001b[39mset_attributes(\u001b[38;5;28mdict\u001b[39m(get_attributes_from_context()))\n\u001b[0;32m    226\u001b[0m \u001b[38;5;28;01mtry\u001b[39;00m:\n\u001b[1;32m--> 227\u001b[0m     response \u001b[38;5;241m=\u001b[39m \u001b[43mwrapped\u001b[49m\u001b[43m(\u001b[49m\u001b[38;5;241;43m*\u001b[39;49m\u001b[43margs\u001b[49m\u001b[43m,\u001b[49m\u001b[43m \u001b[49m\u001b[38;5;241;43m*\u001b[39;49m\u001b[38;5;241;43m*\u001b[39;49m\u001b[43mkwargs\u001b[49m\u001b[43m)\u001b[49m\n\u001b[0;32m    228\u001b[0m \u001b[38;5;28;01mexcept\u001b[39;00m \u001b[38;5;167;01mException\u001b[39;00m \u001b[38;5;28;01mas\u001b[39;00m exception:\n\u001b[0;32m    229\u001b[0m     span\u001b[38;5;241m.\u001b[39mset_status(trace_api\u001b[38;5;241m.\u001b[39mStatus(trace_api\u001b[38;5;241m.\u001b[39mStatusCode\u001b[38;5;241m.\u001b[39mERROR, \u001b[38;5;28mstr\u001b[39m(exception)))\n",
            "File \u001b[1;32mc:\\llm\\env-phoenix-dspy\\Lib\\site-packages\\dsp\\modules\\ollama.py:97\u001b[0m, in \u001b[0;36mOllamaLocal.basic_request\u001b[1;34m(self, prompt, **kwargs)\u001b[0m\n\u001b[0;32m     95\u001b[0m tot_eval_tokens \u001b[38;5;241m=\u001b[39m \u001b[38;5;241m0\u001b[39m\n\u001b[0;32m     96\u001b[0m \u001b[38;5;28;01mfor\u001b[39;00m i \u001b[38;5;129;01min\u001b[39;00m \u001b[38;5;28mrange\u001b[39m(kwargs[\u001b[38;5;124m\"\u001b[39m\u001b[38;5;124mn\u001b[39m\u001b[38;5;124m\"\u001b[39m]):\n\u001b[1;32m---> 97\u001b[0m     response \u001b[38;5;241m=\u001b[39m \u001b[43mrequests\u001b[49m\u001b[38;5;241;43m.\u001b[39;49m\u001b[43mpost\u001b[49m\u001b[43m(\u001b[49m\u001b[43murlstr\u001b[49m\u001b[43m,\u001b[49m\u001b[43m \u001b[49m\u001b[43mjson\u001b[49m\u001b[38;5;241;43m=\u001b[39;49m\u001b[43msettings_dict\u001b[49m\u001b[43m,\u001b[49m\u001b[43m \u001b[49m\u001b[43mtimeout\u001b[49m\u001b[38;5;241;43m=\u001b[39;49m\u001b[38;5;28;43mself\u001b[39;49m\u001b[38;5;241;43m.\u001b[39;49m\u001b[43mtimeout_s\u001b[49m\u001b[43m)\u001b[49m\n\u001b[0;32m     99\u001b[0m     \u001b[38;5;66;03m# Check if the request was successful (HTTP status code 200)\u001b[39;00m\n\u001b[0;32m    100\u001b[0m     \u001b[38;5;28;01mif\u001b[39;00m response\u001b[38;5;241m.\u001b[39mstatus_code \u001b[38;5;241m!=\u001b[39m \u001b[38;5;241m200\u001b[39m:\n\u001b[0;32m    101\u001b[0m         \u001b[38;5;66;03m# If the request was not successful, print an error message\u001b[39;00m\n",
            "File \u001b[1;32mc:\\llm\\env-phoenix-dspy\\Lib\\site-packages\\requests\\api.py:115\u001b[0m, in \u001b[0;36mpost\u001b[1;34m(url, data, json, **kwargs)\u001b[0m\n\u001b[0;32m    103\u001b[0m \u001b[38;5;28;01mdef\u001b[39;00m \u001b[38;5;21mpost\u001b[39m(url, data\u001b[38;5;241m=\u001b[39m\u001b[38;5;28;01mNone\u001b[39;00m, json\u001b[38;5;241m=\u001b[39m\u001b[38;5;28;01mNone\u001b[39;00m, \u001b[38;5;241m*\u001b[39m\u001b[38;5;241m*\u001b[39mkwargs):\n\u001b[0;32m    104\u001b[0m \u001b[38;5;250m    \u001b[39m\u001b[38;5;124mr\u001b[39m\u001b[38;5;124;03m\"\"\"Sends a POST request.\u001b[39;00m\n\u001b[0;32m    105\u001b[0m \n\u001b[0;32m    106\u001b[0m \u001b[38;5;124;03m    :param url: URL for the new :class:`Request` object.\u001b[39;00m\n\u001b[1;32m   (...)\u001b[0m\n\u001b[0;32m    112\u001b[0m \u001b[38;5;124;03m    :rtype: requests.Response\u001b[39;00m\n\u001b[0;32m    113\u001b[0m \u001b[38;5;124;03m    \"\"\"\u001b[39;00m\n\u001b[1;32m--> 115\u001b[0m     \u001b[38;5;28;01mreturn\u001b[39;00m \u001b[43mrequest\u001b[49m\u001b[43m(\u001b[49m\u001b[38;5;124;43m\"\u001b[39;49m\u001b[38;5;124;43mpost\u001b[39;49m\u001b[38;5;124;43m\"\u001b[39;49m\u001b[43m,\u001b[49m\u001b[43m \u001b[49m\u001b[43murl\u001b[49m\u001b[43m,\u001b[49m\u001b[43m \u001b[49m\u001b[43mdata\u001b[49m\u001b[38;5;241;43m=\u001b[39;49m\u001b[43mdata\u001b[49m\u001b[43m,\u001b[49m\u001b[43m \u001b[49m\u001b[43mjson\u001b[49m\u001b[38;5;241;43m=\u001b[39;49m\u001b[43mjson\u001b[49m\u001b[43m,\u001b[49m\u001b[43m \u001b[49m\u001b[38;5;241;43m*\u001b[39;49m\u001b[38;5;241;43m*\u001b[39;49m\u001b[43mkwargs\u001b[49m\u001b[43m)\u001b[49m\n",
            "File \u001b[1;32mc:\\llm\\env-phoenix-dspy\\Lib\\site-packages\\requests\\api.py:59\u001b[0m, in \u001b[0;36mrequest\u001b[1;34m(method, url, **kwargs)\u001b[0m\n\u001b[0;32m     55\u001b[0m \u001b[38;5;66;03m# By using the 'with' statement we are sure the session is closed, thus we\u001b[39;00m\n\u001b[0;32m     56\u001b[0m \u001b[38;5;66;03m# avoid leaving sockets open which can trigger a ResourceWarning in some\u001b[39;00m\n\u001b[0;32m     57\u001b[0m \u001b[38;5;66;03m# cases, and look like a memory leak in others.\u001b[39;00m\n\u001b[0;32m     58\u001b[0m \u001b[38;5;28;01mwith\u001b[39;00m sessions\u001b[38;5;241m.\u001b[39mSession() \u001b[38;5;28;01mas\u001b[39;00m session:\n\u001b[1;32m---> 59\u001b[0m     \u001b[38;5;28;01mreturn\u001b[39;00m \u001b[43msession\u001b[49m\u001b[38;5;241;43m.\u001b[39;49m\u001b[43mrequest\u001b[49m\u001b[43m(\u001b[49m\u001b[43mmethod\u001b[49m\u001b[38;5;241;43m=\u001b[39;49m\u001b[43mmethod\u001b[49m\u001b[43m,\u001b[49m\u001b[43m \u001b[49m\u001b[43murl\u001b[49m\u001b[38;5;241;43m=\u001b[39;49m\u001b[43murl\u001b[49m\u001b[43m,\u001b[49m\u001b[43m \u001b[49m\u001b[38;5;241;43m*\u001b[39;49m\u001b[38;5;241;43m*\u001b[39;49m\u001b[43mkwargs\u001b[49m\u001b[43m)\u001b[49m\n",
            "File \u001b[1;32mc:\\llm\\env-phoenix-dspy\\Lib\\site-packages\\requests\\sessions.py:589\u001b[0m, in \u001b[0;36mSession.request\u001b[1;34m(self, method, url, params, data, headers, cookies, files, auth, timeout, allow_redirects, proxies, hooks, stream, verify, cert, json)\u001b[0m\n\u001b[0;32m    584\u001b[0m send_kwargs \u001b[38;5;241m=\u001b[39m {\n\u001b[0;32m    585\u001b[0m     \u001b[38;5;124m\"\u001b[39m\u001b[38;5;124mtimeout\u001b[39m\u001b[38;5;124m\"\u001b[39m: timeout,\n\u001b[0;32m    586\u001b[0m     \u001b[38;5;124m\"\u001b[39m\u001b[38;5;124mallow_redirects\u001b[39m\u001b[38;5;124m\"\u001b[39m: allow_redirects,\n\u001b[0;32m    587\u001b[0m }\n\u001b[0;32m    588\u001b[0m send_kwargs\u001b[38;5;241m.\u001b[39mupdate(settings)\n\u001b[1;32m--> 589\u001b[0m resp \u001b[38;5;241m=\u001b[39m \u001b[38;5;28;43mself\u001b[39;49m\u001b[38;5;241;43m.\u001b[39;49m\u001b[43msend\u001b[49m\u001b[43m(\u001b[49m\u001b[43mprep\u001b[49m\u001b[43m,\u001b[49m\u001b[43m \u001b[49m\u001b[38;5;241;43m*\u001b[39;49m\u001b[38;5;241;43m*\u001b[39;49m\u001b[43msend_kwargs\u001b[49m\u001b[43m)\u001b[49m\n\u001b[0;32m    591\u001b[0m \u001b[38;5;28;01mreturn\u001b[39;00m resp\n",
            "File \u001b[1;32mc:\\llm\\env-phoenix-dspy\\Lib\\site-packages\\requests\\sessions.py:703\u001b[0m, in \u001b[0;36mSession.send\u001b[1;34m(self, request, **kwargs)\u001b[0m\n\u001b[0;32m    700\u001b[0m start \u001b[38;5;241m=\u001b[39m preferred_clock()\n\u001b[0;32m    702\u001b[0m \u001b[38;5;66;03m# Send the request\u001b[39;00m\n\u001b[1;32m--> 703\u001b[0m r \u001b[38;5;241m=\u001b[39m \u001b[43madapter\u001b[49m\u001b[38;5;241;43m.\u001b[39;49m\u001b[43msend\u001b[49m\u001b[43m(\u001b[49m\u001b[43mrequest\u001b[49m\u001b[43m,\u001b[49m\u001b[43m \u001b[49m\u001b[38;5;241;43m*\u001b[39;49m\u001b[38;5;241;43m*\u001b[39;49m\u001b[43mkwargs\u001b[49m\u001b[43m)\u001b[49m\n\u001b[0;32m    705\u001b[0m \u001b[38;5;66;03m# Total elapsed time of the request (approximately)\u001b[39;00m\n\u001b[0;32m    706\u001b[0m elapsed \u001b[38;5;241m=\u001b[39m preferred_clock() \u001b[38;5;241m-\u001b[39m start\n",
            "File \u001b[1;32mc:\\llm\\env-phoenix-dspy\\Lib\\site-packages\\requests\\adapters.py:667\u001b[0m, in \u001b[0;36mHTTPAdapter.send\u001b[1;34m(self, request, stream, timeout, verify, cert, proxies)\u001b[0m\n\u001b[0;32m    664\u001b[0m     timeout \u001b[38;5;241m=\u001b[39m TimeoutSauce(connect\u001b[38;5;241m=\u001b[39mtimeout, read\u001b[38;5;241m=\u001b[39mtimeout)\n\u001b[0;32m    666\u001b[0m \u001b[38;5;28;01mtry\u001b[39;00m:\n\u001b[1;32m--> 667\u001b[0m     resp \u001b[38;5;241m=\u001b[39m \u001b[43mconn\u001b[49m\u001b[38;5;241;43m.\u001b[39;49m\u001b[43murlopen\u001b[49m\u001b[43m(\u001b[49m\n\u001b[0;32m    668\u001b[0m \u001b[43m        \u001b[49m\u001b[43mmethod\u001b[49m\u001b[38;5;241;43m=\u001b[39;49m\u001b[43mrequest\u001b[49m\u001b[38;5;241;43m.\u001b[39;49m\u001b[43mmethod\u001b[49m\u001b[43m,\u001b[49m\n\u001b[0;32m    669\u001b[0m \u001b[43m        \u001b[49m\u001b[43murl\u001b[49m\u001b[38;5;241;43m=\u001b[39;49m\u001b[43murl\u001b[49m\u001b[43m,\u001b[49m\n\u001b[0;32m    670\u001b[0m \u001b[43m        \u001b[49m\u001b[43mbody\u001b[49m\u001b[38;5;241;43m=\u001b[39;49m\u001b[43mrequest\u001b[49m\u001b[38;5;241;43m.\u001b[39;49m\u001b[43mbody\u001b[49m\u001b[43m,\u001b[49m\n\u001b[0;32m    671\u001b[0m \u001b[43m        \u001b[49m\u001b[43mheaders\u001b[49m\u001b[38;5;241;43m=\u001b[39;49m\u001b[43mrequest\u001b[49m\u001b[38;5;241;43m.\u001b[39;49m\u001b[43mheaders\u001b[49m\u001b[43m,\u001b[49m\n\u001b[0;32m    672\u001b[0m \u001b[43m        \u001b[49m\u001b[43mredirect\u001b[49m\u001b[38;5;241;43m=\u001b[39;49m\u001b[38;5;28;43;01mFalse\u001b[39;49;00m\u001b[43m,\u001b[49m\n\u001b[0;32m    673\u001b[0m \u001b[43m        \u001b[49m\u001b[43massert_same_host\u001b[49m\u001b[38;5;241;43m=\u001b[39;49m\u001b[38;5;28;43;01mFalse\u001b[39;49;00m\u001b[43m,\u001b[49m\n\u001b[0;32m    674\u001b[0m \u001b[43m        \u001b[49m\u001b[43mpreload_content\u001b[49m\u001b[38;5;241;43m=\u001b[39;49m\u001b[38;5;28;43;01mFalse\u001b[39;49;00m\u001b[43m,\u001b[49m\n\u001b[0;32m    675\u001b[0m \u001b[43m        \u001b[49m\u001b[43mdecode_content\u001b[49m\u001b[38;5;241;43m=\u001b[39;49m\u001b[38;5;28;43;01mFalse\u001b[39;49;00m\u001b[43m,\u001b[49m\n\u001b[0;32m    676\u001b[0m \u001b[43m        \u001b[49m\u001b[43mretries\u001b[49m\u001b[38;5;241;43m=\u001b[39;49m\u001b[38;5;28;43mself\u001b[39;49m\u001b[38;5;241;43m.\u001b[39;49m\u001b[43mmax_retries\u001b[49m\u001b[43m,\u001b[49m\n\u001b[0;32m    677\u001b[0m \u001b[43m        \u001b[49m\u001b[43mtimeout\u001b[49m\u001b[38;5;241;43m=\u001b[39;49m\u001b[43mtimeout\u001b[49m\u001b[43m,\u001b[49m\n\u001b[0;32m    678\u001b[0m \u001b[43m        \u001b[49m\u001b[43mchunked\u001b[49m\u001b[38;5;241;43m=\u001b[39;49m\u001b[43mchunked\u001b[49m\u001b[43m,\u001b[49m\n\u001b[0;32m    679\u001b[0m \u001b[43m    \u001b[49m\u001b[43m)\u001b[49m\n\u001b[0;32m    681\u001b[0m \u001b[38;5;28;01mexcept\u001b[39;00m (ProtocolError, \u001b[38;5;167;01mOSError\u001b[39;00m) \u001b[38;5;28;01mas\u001b[39;00m err:\n\u001b[0;32m    682\u001b[0m     \u001b[38;5;28;01mraise\u001b[39;00m \u001b[38;5;167;01mConnectionError\u001b[39;00m(err, request\u001b[38;5;241m=\u001b[39mrequest)\n",
            "File \u001b[1;32mc:\\llm\\env-phoenix-dspy\\Lib\\site-packages\\urllib3\\connectionpool.py:793\u001b[0m, in \u001b[0;36mHTTPConnectionPool.urlopen\u001b[1;34m(self, method, url, body, headers, retries, redirect, assert_same_host, timeout, pool_timeout, release_conn, chunked, body_pos, preload_content, decode_content, **response_kw)\u001b[0m\n\u001b[0;32m    790\u001b[0m response_conn \u001b[38;5;241m=\u001b[39m conn \u001b[38;5;28;01mif\u001b[39;00m \u001b[38;5;129;01mnot\u001b[39;00m release_conn \u001b[38;5;28;01melse\u001b[39;00m \u001b[38;5;28;01mNone\u001b[39;00m\n\u001b[0;32m    792\u001b[0m \u001b[38;5;66;03m# Make the request on the HTTPConnection object\u001b[39;00m\n\u001b[1;32m--> 793\u001b[0m response \u001b[38;5;241m=\u001b[39m \u001b[38;5;28;43mself\u001b[39;49m\u001b[38;5;241;43m.\u001b[39;49m\u001b[43m_make_request\u001b[49m\u001b[43m(\u001b[49m\n\u001b[0;32m    794\u001b[0m \u001b[43m    \u001b[49m\u001b[43mconn\u001b[49m\u001b[43m,\u001b[49m\n\u001b[0;32m    795\u001b[0m \u001b[43m    \u001b[49m\u001b[43mmethod\u001b[49m\u001b[43m,\u001b[49m\n\u001b[0;32m    796\u001b[0m \u001b[43m    \u001b[49m\u001b[43murl\u001b[49m\u001b[43m,\u001b[49m\n\u001b[0;32m    797\u001b[0m \u001b[43m    \u001b[49m\u001b[43mtimeout\u001b[49m\u001b[38;5;241;43m=\u001b[39;49m\u001b[43mtimeout_obj\u001b[49m\u001b[43m,\u001b[49m\n\u001b[0;32m    798\u001b[0m \u001b[43m    \u001b[49m\u001b[43mbody\u001b[49m\u001b[38;5;241;43m=\u001b[39;49m\u001b[43mbody\u001b[49m\u001b[43m,\u001b[49m\n\u001b[0;32m    799\u001b[0m \u001b[43m    \u001b[49m\u001b[43mheaders\u001b[49m\u001b[38;5;241;43m=\u001b[39;49m\u001b[43mheaders\u001b[49m\u001b[43m,\u001b[49m\n\u001b[0;32m    800\u001b[0m \u001b[43m    \u001b[49m\u001b[43mchunked\u001b[49m\u001b[38;5;241;43m=\u001b[39;49m\u001b[43mchunked\u001b[49m\u001b[43m,\u001b[49m\n\u001b[0;32m    801\u001b[0m \u001b[43m    \u001b[49m\u001b[43mretries\u001b[49m\u001b[38;5;241;43m=\u001b[39;49m\u001b[43mretries\u001b[49m\u001b[43m,\u001b[49m\n\u001b[0;32m    802\u001b[0m \u001b[43m    \u001b[49m\u001b[43mresponse_conn\u001b[49m\u001b[38;5;241;43m=\u001b[39;49m\u001b[43mresponse_conn\u001b[49m\u001b[43m,\u001b[49m\n\u001b[0;32m    803\u001b[0m \u001b[43m    \u001b[49m\u001b[43mpreload_content\u001b[49m\u001b[38;5;241;43m=\u001b[39;49m\u001b[43mpreload_content\u001b[49m\u001b[43m,\u001b[49m\n\u001b[0;32m    804\u001b[0m \u001b[43m    \u001b[49m\u001b[43mdecode_content\u001b[49m\u001b[38;5;241;43m=\u001b[39;49m\u001b[43mdecode_content\u001b[49m\u001b[43m,\u001b[49m\n\u001b[0;32m    805\u001b[0m \u001b[43m    \u001b[49m\u001b[38;5;241;43m*\u001b[39;49m\u001b[38;5;241;43m*\u001b[39;49m\u001b[43mresponse_kw\u001b[49m\u001b[43m,\u001b[49m\n\u001b[0;32m    806\u001b[0m \u001b[43m\u001b[49m\u001b[43m)\u001b[49m\n\u001b[0;32m    808\u001b[0m \u001b[38;5;66;03m# Everything went great!\u001b[39;00m\n\u001b[0;32m    809\u001b[0m clean_exit \u001b[38;5;241m=\u001b[39m \u001b[38;5;28;01mTrue\u001b[39;00m\n",
            "File \u001b[1;32mc:\\llm\\env-phoenix-dspy\\Lib\\site-packages\\urllib3\\connectionpool.py:537\u001b[0m, in \u001b[0;36mHTTPConnectionPool._make_request\u001b[1;34m(self, conn, method, url, body, headers, retries, timeout, chunked, response_conn, preload_content, decode_content, enforce_content_length)\u001b[0m\n\u001b[0;32m    535\u001b[0m \u001b[38;5;66;03m# Receive the response from the server\u001b[39;00m\n\u001b[0;32m    536\u001b[0m \u001b[38;5;28;01mtry\u001b[39;00m:\n\u001b[1;32m--> 537\u001b[0m     response \u001b[38;5;241m=\u001b[39m \u001b[43mconn\u001b[49m\u001b[38;5;241;43m.\u001b[39;49m\u001b[43mgetresponse\u001b[49m\u001b[43m(\u001b[49m\u001b[43m)\u001b[49m\n\u001b[0;32m    538\u001b[0m \u001b[38;5;28;01mexcept\u001b[39;00m (BaseSSLError, \u001b[38;5;167;01mOSError\u001b[39;00m) \u001b[38;5;28;01mas\u001b[39;00m e:\n\u001b[0;32m    539\u001b[0m     \u001b[38;5;28mself\u001b[39m\u001b[38;5;241m.\u001b[39m_raise_timeout(err\u001b[38;5;241m=\u001b[39me, url\u001b[38;5;241m=\u001b[39murl, timeout_value\u001b[38;5;241m=\u001b[39mread_timeout)\n",
            "File \u001b[1;32mc:\\llm\\env-phoenix-dspy\\Lib\\site-packages\\urllib3\\connection.py:466\u001b[0m, in \u001b[0;36mHTTPConnection.getresponse\u001b[1;34m(self)\u001b[0m\n\u001b[0;32m    463\u001b[0m \u001b[38;5;28;01mfrom\u001b[39;00m \u001b[38;5;21;01m.\u001b[39;00m\u001b[38;5;21;01mresponse\u001b[39;00m \u001b[38;5;28;01mimport\u001b[39;00m HTTPResponse\n\u001b[0;32m    465\u001b[0m \u001b[38;5;66;03m# Get the response from http.client.HTTPConnection\u001b[39;00m\n\u001b[1;32m--> 466\u001b[0m httplib_response \u001b[38;5;241m=\u001b[39m \u001b[38;5;28;43msuper\u001b[39;49m\u001b[43m(\u001b[49m\u001b[43m)\u001b[49m\u001b[38;5;241;43m.\u001b[39;49m\u001b[43mgetresponse\u001b[49m\u001b[43m(\u001b[49m\u001b[43m)\u001b[49m\n\u001b[0;32m    468\u001b[0m \u001b[38;5;28;01mtry\u001b[39;00m:\n\u001b[0;32m    469\u001b[0m     assert_header_parsing(httplib_response\u001b[38;5;241m.\u001b[39mmsg)\n",
            "File \u001b[1;32mc:\\llm\\env-phoenix-dspy\\Lib\\http\\client.py:1395\u001b[0m, in \u001b[0;36mHTTPConnection.getresponse\u001b[1;34m(self)\u001b[0m\n\u001b[0;32m   1393\u001b[0m \u001b[38;5;28;01mtry\u001b[39;00m:\n\u001b[0;32m   1394\u001b[0m     \u001b[38;5;28;01mtry\u001b[39;00m:\n\u001b[1;32m-> 1395\u001b[0m         \u001b[43mresponse\u001b[49m\u001b[38;5;241;43m.\u001b[39;49m\u001b[43mbegin\u001b[49m\u001b[43m(\u001b[49m\u001b[43m)\u001b[49m\n\u001b[0;32m   1396\u001b[0m     \u001b[38;5;28;01mexcept\u001b[39;00m \u001b[38;5;167;01mConnectionError\u001b[39;00m:\n\u001b[0;32m   1397\u001b[0m         \u001b[38;5;28mself\u001b[39m\u001b[38;5;241m.\u001b[39mclose()\n",
            "File \u001b[1;32mc:\\llm\\env-phoenix-dspy\\Lib\\http\\client.py:325\u001b[0m, in \u001b[0;36mHTTPResponse.begin\u001b[1;34m(self)\u001b[0m\n\u001b[0;32m    323\u001b[0m \u001b[38;5;66;03m# read until we get a non-100 response\u001b[39;00m\n\u001b[0;32m    324\u001b[0m \u001b[38;5;28;01mwhile\u001b[39;00m \u001b[38;5;28;01mTrue\u001b[39;00m:\n\u001b[1;32m--> 325\u001b[0m     version, status, reason \u001b[38;5;241m=\u001b[39m \u001b[38;5;28;43mself\u001b[39;49m\u001b[38;5;241;43m.\u001b[39;49m\u001b[43m_read_status\u001b[49m\u001b[43m(\u001b[49m\u001b[43m)\u001b[49m\n\u001b[0;32m    326\u001b[0m     \u001b[38;5;28;01mif\u001b[39;00m status \u001b[38;5;241m!=\u001b[39m CONTINUE:\n\u001b[0;32m    327\u001b[0m         \u001b[38;5;28;01mbreak\u001b[39;00m\n",
            "File \u001b[1;32mc:\\llm\\env-phoenix-dspy\\Lib\\http\\client.py:286\u001b[0m, in \u001b[0;36mHTTPResponse._read_status\u001b[1;34m(self)\u001b[0m\n\u001b[0;32m    285\u001b[0m \u001b[38;5;28;01mdef\u001b[39;00m \u001b[38;5;21m_read_status\u001b[39m(\u001b[38;5;28mself\u001b[39m):\n\u001b[1;32m--> 286\u001b[0m     line \u001b[38;5;241m=\u001b[39m \u001b[38;5;28mstr\u001b[39m(\u001b[38;5;28mself\u001b[39m\u001b[38;5;241m.\u001b[39mfp\u001b[38;5;241m.\u001b[39mreadline(_MAXLINE \u001b[38;5;241m+\u001b[39m \u001b[38;5;241m1\u001b[39m), \u001b[38;5;124m\"\u001b[39m\u001b[38;5;124miso-8859-1\u001b[39m\u001b[38;5;124m\"\u001b[39m)\n\u001b[0;32m    287\u001b[0m     \u001b[38;5;28;01mif\u001b[39;00m \u001b[38;5;28mlen\u001b[39m(line) \u001b[38;5;241m>\u001b[39m _MAXLINE:\n\u001b[0;32m    288\u001b[0m         \u001b[38;5;28;01mraise\u001b[39;00m LineTooLong(\u001b[38;5;124m\"\u001b[39m\u001b[38;5;124mstatus line\u001b[39m\u001b[38;5;124m\"\u001b[39m)\n",
            "File \u001b[1;32mc:\\llm\\env-phoenix-dspy\\Lib\\socket.py:706\u001b[0m, in \u001b[0;36mSocketIO.readinto\u001b[1;34m(self, b)\u001b[0m\n\u001b[0;32m    704\u001b[0m \u001b[38;5;28;01mwhile\u001b[39;00m \u001b[38;5;28;01mTrue\u001b[39;00m:\n\u001b[0;32m    705\u001b[0m     \u001b[38;5;28;01mtry\u001b[39;00m:\n\u001b[1;32m--> 706\u001b[0m         \u001b[38;5;28;01mreturn\u001b[39;00m \u001b[38;5;28;43mself\u001b[39;49m\u001b[38;5;241;43m.\u001b[39;49m\u001b[43m_sock\u001b[49m\u001b[38;5;241;43m.\u001b[39;49m\u001b[43mrecv_into\u001b[49m\u001b[43m(\u001b[49m\u001b[43mb\u001b[49m\u001b[43m)\u001b[49m\n\u001b[0;32m    707\u001b[0m     \u001b[38;5;28;01mexcept\u001b[39;00m timeout:\n\u001b[0;32m    708\u001b[0m         \u001b[38;5;28mself\u001b[39m\u001b[38;5;241m.\u001b[39m_timeout_occurred \u001b[38;5;241m=\u001b[39m \u001b[38;5;28;01mTrue\u001b[39;00m\n",
            "\u001b[1;31mKeyboardInterrupt\u001b[0m: "
          ]
        }
      ],
      "source": [
        "from dspy.teleprompt import BootstrapFewShot\n",
        "\n",
        "input_module = RAG()\n",
        "teleprompter = BootstrapFewShot(metric=validate_context_and_answer)\n",
        "compiled_module = teleprompter.compile(input_module, trainset=trainset)\n",
        "\n"
      ]
    },
    {
      "cell_type": "code",
      "execution_count": 21,
      "metadata": {},
      "outputs": [],
      "source": [
        "compiled_module.save(\"rag_model.json\")"
      ]
    },
    {
      "cell_type": "code",
      "execution_count": 34,
      "metadata": {},
      "outputs": [
        {
          "name": "stderr",
          "output_type": "stream",
          "text": [
            "  0%|          | 0/20 [00:00<?, ?it/s]"
          ]
        },
        {
          "name": "stdout",
          "output_type": "stream",
          "text": [
            "answer_em: False\n",
            "answer_pm: False\n",
            "14156356773502396077\n"
          ]
        },
        {
          "name": "stderr",
          "output_type": "stream",
          "text": [
            "  5%|▌         | 1/20 [00:06<02:00,  6.35s/it]"
          ]
        },
        {
          "name": "stdout",
          "output_type": "stream",
          "text": [
            "answer_em: True\n",
            "answer_pm: True\n",
            "3769005543479275440\n"
          ]
        },
        {
          "name": "stderr",
          "output_type": "stream",
          "text": [
            " 10%|█         | 2/20 [00:12<01:53,  6.29s/it]"
          ]
        },
        {
          "name": "stdout",
          "output_type": "stream",
          "text": [
            "answer_em: False\n",
            "answer_pm: False\n",
            "2694462392242562698\n"
          ]
        },
        {
          "name": "stderr",
          "output_type": "stream",
          "text": [
            " 15%|█▌        | 3/20 [00:21<02:05,  7.36s/it]"
          ]
        },
        {
          "name": "stdout",
          "output_type": "stream",
          "text": [
            "answer_em: True\n",
            "answer_pm: False\n",
            "13863950682839743323\n"
          ]
        },
        {
          "name": "stderr",
          "output_type": "stream",
          "text": [
            " 20%|██        | 4/20 [00:28<01:55,  7.20s/it]"
          ]
        },
        {
          "name": "stdout",
          "output_type": "stream",
          "text": [
            "answer_em: True\n",
            "answer_pm: True\n",
            "17581676725494651884\n"
          ]
        },
        {
          "name": "stderr",
          "output_type": "stream",
          "text": [
            " 25%|██▌       | 5/20 [00:34<01:45,  7.05s/it]"
          ]
        },
        {
          "name": "stdout",
          "output_type": "stream",
          "text": [
            "answer_em: True\n",
            "answer_pm: False\n",
            "10678296545680896752\n"
          ]
        },
        {
          "name": "stderr",
          "output_type": "stream",
          "text": [
            " 30%|███       | 6/20 [00:40<01:31,  6.56s/it]"
          ]
        },
        {
          "name": "stdout",
          "output_type": "stream",
          "text": [
            "answer_em: True\n",
            "answer_pm: False\n",
            "12149032620834892863\n"
          ]
        },
        {
          "name": "stderr",
          "output_type": "stream",
          "text": [
            " 35%|███▌      | 7/20 [00:49<01:36,  7.40s/it]"
          ]
        },
        {
          "name": "stdout",
          "output_type": "stream",
          "text": [
            "answer_em: True\n",
            "answer_pm: True\n",
            "6256187887540291146\n"
          ]
        },
        {
          "name": "stderr",
          "output_type": "stream",
          "text": [
            " 40%|████      | 8/20 [00:55<01:23,  6.98s/it]"
          ]
        },
        {
          "name": "stdout",
          "output_type": "stream",
          "text": [
            "answer_em: False\n",
            "answer_pm: False\n",
            "9118406748127345035\n"
          ]
        },
        {
          "name": "stderr",
          "output_type": "stream",
          "text": [
            " 45%|████▌     | 9/20 [01:02<01:16,  6.93s/it]"
          ]
        },
        {
          "name": "stdout",
          "output_type": "stream",
          "text": [
            "answer_em: True\n",
            "answer_pm: True\n",
            "15552596338904204268\n"
          ]
        },
        {
          "name": "stderr",
          "output_type": "stream",
          "text": [
            " 50%|█████     | 10/20 [01:09<01:09,  6.90s/it]\n"
          ]
        }
      ],
      "source": [
        "from dspy.teleprompt import BootstrapFewShot\n",
        "import pandas as pd\n",
        "import phoenix as px\n",
        "from phoenix.trace import SpanEvaluations\n",
        "from opentelemetry import trace\n",
        "import dspy.evaluate  # Assuming dspy.evaluate is a module you have that provides evaluation functions\n",
        "\n",
        "# Assuming 'tracer' is an instance of Tracer that should be initialized somewhere in your code\n",
        "# If not already done, you need to initialize it as follows:\n",
        "# from opentelemetry import trace\n",
        "# trace.set_tracer_provider(TracerProvider())\n",
        "tracer = trace.get_tracer(__name__)\n",
        "\n",
        "def validate_context_and_answer(example, pred, trace_obj=None):\n",
        "    answer_EM = dspy.evaluate.answer_exact_match(example, pred)\n",
        "    answer_PM = dspy.evaluate.answer_passage_match(example, pred)\n",
        "    \n",
        "    # Print the outputs\n",
        "    print(f\"answer_em: {answer_EM}\\nanswer_pm: {answer_PM}\")\n",
        "    \n",
        "    # Create a span for this evaluation\n",
        "    with tracer.start_as_current_span(\"validate_context_and_answer\") as span:\n",
        "        current_span = trace.get_current_span()\n",
        "        print(current_span.get_span_context().span_id)  # Corrected method to get span_id\n",
        "        \n",
        "        # Create dataframes for each evaluation and set 'span_id' as the index\n",
        "        answer_em_eval_df = pd.DataFrame({\n",
        "            'span_id': [current_span.get_span_context().span_id],\n",
        "            'label': ['correct' if answer_EM else 'incorrect'],\n",
        "            'value': [1 if answer_EM else 0],\n",
        "            'explanation': [f\"answer_em: {answer_EM}\"]\n",
        "        }).set_index('span_id')\n",
        "        \n",
        "        answer_pm_eval_df = pd.DataFrame({\n",
        "            'span_id': [current_span.get_span_context().span_id],\n",
        "            'label': ['correct' if answer_PM else 'incorrect'],\n",
        "            'value': [1 if answer_PM else 0],\n",
        "            'explanation': [f\"answer_pm: {answer_PM}\"]\n",
        "        }).set_index('span_id')\n",
        "        \n",
        "        # Instantiate a px.Client and log the evaluations\n",
        "        px_client = px.Client()\n",
        "        px_client.log_evaluations(\n",
        "            SpanEvaluations(\n",
        "                dataframe=answer_em_eval_df,\n",
        "                eval_name=\"Answer Exact Match\",\n",
        "            ),\n",
        "            SpanEvaluations(\n",
        "                dataframe=answer_pm_eval_df,\n",
        "                eval_name=\"Answer Passage Match\",\n",
        "            )\n",
        "        )\n",
        "    \n",
        "    return answer_EM and answer_PM\n",
        "\n"
      ]
    },
    {
      "cell_type": "code",
      "execution_count": 39,
      "metadata": {},
      "outputs": [],
      "source": [
        "def validate_context_and_answer(example, pred, trace_obj=None):\n",
        "    answer_EM = dspy.evaluate.answer_exact_match(example, pred)\n",
        "    answer_PM = dspy.evaluate.answer_passage_match(example, pred)\n",
        "    \n",
        "    # Print the outputs\n",
        "    print(f\"answer_em: {answer_EM}\\nanswer_pm: {answer_PM}\")\n",
        "    \n",
        "    # Use the current span if it exists\n",
        "    current_span = trace.get_current_span()\n",
        "    print(current_span.get_span_context().span_id)  # Corrected method to get span_id\n",
        "    if current_span.is_recording():\n",
        "        print(current_span.get_span_context().span_id)  # Use the current span's ID\n",
        "        \n",
        "        # Create dataframes for each evaluation and set 'span_id' as the index\n",
        "        answer_em_eval_df = pd.DataFrame({\n",
        "            'span_id': [current_span.get_span_context().span_id],\n",
        "            'label': ['correct' if answer_EM else 'incorrect'],\n",
        "            'value': [1 if answer_EM else 0],\n",
        "            'explanation': [f\"answer_em: {answer_EM}\"]\n",
        "        }).set_index('span_id')\n",
        "        \n",
        "        answer_pm_eval_df = pd.DataFrame({\n",
        "            'span_id': [current_span.get_span_context().span_id],\n",
        "            'label': ['correct' if answer_PM else 'incorrect'],\n",
        "            'value': [1 if answer_PM else 0],\n",
        "            'explanation': [f\"answer_pm: {answer_PM}\"]\n",
        "        }).set_index('span_id')\n",
        "        \n",
        "        print(answer_em_eval_df)\n",
        "        \n",
        "        # Instantiate a px.Client and log the evaluations using the current span's context\n",
        "        px_client = px.Client()\n",
        "        px_client.log_evaluations(\n",
        "            SpanEvaluations(\n",
        "                dataframe=answer_em_eval_df,\n",
        "                eval_name=\"Answer Exact Match\",\n",
        "            ),\n",
        "            SpanEvaluations(\n",
        "                dataframe=answer_pm_eval_df,\n",
        "                eval_name=\"Answer Passage Match\",\n",
        "            )\n",
        "        )\n",
        "    \n",
        "    return answer_EM and answer_PM"
      ]
    },
    {
      "cell_type": "code",
      "execution_count": 40,
      "metadata": {},
      "outputs": [
        {
          "name": "stderr",
          "output_type": "stream",
          "text": [
            "  0%|          | 0/20 [00:00<?, ?it/s]"
          ]
        },
        {
          "name": "stdout",
          "output_type": "stream",
          "text": [
            "answer_em: False\n",
            "answer_pm: False\n",
            "0\n"
          ]
        },
        {
          "name": "stderr",
          "output_type": "stream",
          "text": [
            "  5%|▌         | 1/20 [00:06<01:58,  6.23s/it]"
          ]
        },
        {
          "name": "stdout",
          "output_type": "stream",
          "text": [
            "answer_em: True\n",
            "answer_pm: True\n",
            "0\n"
          ]
        },
        {
          "name": "stderr",
          "output_type": "stream",
          "text": [
            " 10%|█         | 2/20 [00:21<03:09, 10.55s/it]\n"
          ]
        },
        {
          "ename": "KeyboardInterrupt",
          "evalue": "",
          "output_type": "error",
          "traceback": [
            "\u001b[1;31m---------------------------------------------------------------------------\u001b[0m",
            "\u001b[1;31mKeyboardInterrupt\u001b[0m                         Traceback (most recent call last)",
            "Cell \u001b[1;32mIn[40], line 4\u001b[0m\n\u001b[0;32m      2\u001b[0m input_module \u001b[38;5;241m=\u001b[39m RAG()\n\u001b[0;32m      3\u001b[0m teleprompter \u001b[38;5;241m=\u001b[39m BootstrapFewShot(metric\u001b[38;5;241m=\u001b[39mvalidate_context_and_answer)\n\u001b[1;32m----> 4\u001b[0m compiled_module \u001b[38;5;241m=\u001b[39m \u001b[43mteleprompter\u001b[49m\u001b[38;5;241;43m.\u001b[39;49m\u001b[43mcompile\u001b[49m\u001b[43m(\u001b[49m\u001b[43minput_module\u001b[49m\u001b[43m,\u001b[49m\u001b[43m \u001b[49m\u001b[43mtrainset\u001b[49m\u001b[38;5;241;43m=\u001b[39;49m\u001b[43mtrainset\u001b[49m\u001b[43m)\u001b[49m\n",
            "File \u001b[1;32mc:\\llm\\env-phoenix-dspy\\Lib\\site-packages\\dspy\\teleprompt\\bootstrap.py:61\u001b[0m, in \u001b[0;36mBootstrapFewShot.compile\u001b[1;34m(self, student, teacher, trainset, valset)\u001b[0m\n\u001b[0;32m     59\u001b[0m \u001b[38;5;28mself\u001b[39m\u001b[38;5;241m.\u001b[39m_prepare_student_and_teacher(student, teacher)\n\u001b[0;32m     60\u001b[0m \u001b[38;5;28mself\u001b[39m\u001b[38;5;241m.\u001b[39m_prepare_predictor_mappings()\n\u001b[1;32m---> 61\u001b[0m \u001b[38;5;28;43mself\u001b[39;49m\u001b[38;5;241;43m.\u001b[39;49m\u001b[43m_bootstrap\u001b[49m\u001b[43m(\u001b[49m\u001b[43m)\u001b[49m\n\u001b[0;32m     63\u001b[0m \u001b[38;5;28mself\u001b[39m\u001b[38;5;241m.\u001b[39mstudent \u001b[38;5;241m=\u001b[39m \u001b[38;5;28mself\u001b[39m\u001b[38;5;241m.\u001b[39m_train()\n\u001b[0;32m     64\u001b[0m \u001b[38;5;28mself\u001b[39m\u001b[38;5;241m.\u001b[39mstudent\u001b[38;5;241m.\u001b[39m_compiled \u001b[38;5;241m=\u001b[39m \u001b[38;5;28;01mTrue\u001b[39;00m\n",
            "File \u001b[1;32mc:\\llm\\env-phoenix-dspy\\Lib\\site-packages\\dspy\\teleprompt\\bootstrap.py:122\u001b[0m, in \u001b[0;36mBootstrapFewShot._bootstrap\u001b[1;34m(self, max_bootstraps)\u001b[0m\n\u001b[0;32m    119\u001b[0m     \u001b[38;5;28;01mbreak\u001b[39;00m\n\u001b[0;32m    121\u001b[0m \u001b[38;5;28;01mif\u001b[39;00m example_idx \u001b[38;5;129;01mnot\u001b[39;00m \u001b[38;5;129;01min\u001b[39;00m bootstrapped:\n\u001b[1;32m--> 122\u001b[0m     success \u001b[38;5;241m=\u001b[39m \u001b[38;5;28;43mself\u001b[39;49m\u001b[38;5;241;43m.\u001b[39;49m\u001b[43m_bootstrap_one_example\u001b[49m\u001b[43m(\u001b[49m\u001b[43mexample\u001b[49m\u001b[43m,\u001b[49m\u001b[43m \u001b[49m\u001b[43mround_idx\u001b[49m\u001b[43m)\u001b[49m\n\u001b[0;32m    124\u001b[0m     \u001b[38;5;28;01mif\u001b[39;00m success:\n\u001b[0;32m    125\u001b[0m         bootstrapped[example_idx] \u001b[38;5;241m=\u001b[39m \u001b[38;5;28;01mTrue\u001b[39;00m\n",
            "File \u001b[1;32mc:\\llm\\env-phoenix-dspy\\Lib\\site-packages\\dspy\\teleprompt\\bootstrap.py:158\u001b[0m, in \u001b[0;36mBootstrapFewShot._bootstrap_one_example\u001b[1;34m(self, example, round_idx)\u001b[0m\n\u001b[0;32m    155\u001b[0m     predictor_cache[name] \u001b[38;5;241m=\u001b[39m predictor\u001b[38;5;241m.\u001b[39mdemos\n\u001b[0;32m    156\u001b[0m     predictor\u001b[38;5;241m.\u001b[39mdemos \u001b[38;5;241m=\u001b[39m [x \u001b[38;5;28;01mfor\u001b[39;00m x \u001b[38;5;129;01min\u001b[39;00m predictor\u001b[38;5;241m.\u001b[39mdemos \u001b[38;5;28;01mif\u001b[39;00m x \u001b[38;5;241m!=\u001b[39m example]\n\u001b[1;32m--> 158\u001b[0m prediction \u001b[38;5;241m=\u001b[39m \u001b[43mteacher\u001b[49m\u001b[43m(\u001b[49m\u001b[38;5;241;43m*\u001b[39;49m\u001b[38;5;241;43m*\u001b[39;49m\u001b[43mexample\u001b[49m\u001b[38;5;241;43m.\u001b[39;49m\u001b[43minputs\u001b[49m\u001b[43m(\u001b[49m\u001b[43m)\u001b[49m\u001b[43m)\u001b[49m\n\u001b[0;32m    159\u001b[0m trace \u001b[38;5;241m=\u001b[39m dsp\u001b[38;5;241m.\u001b[39msettings\u001b[38;5;241m.\u001b[39mtrace\n\u001b[0;32m    161\u001b[0m \u001b[38;5;28;01mfor\u001b[39;00m name, predictor \u001b[38;5;129;01min\u001b[39;00m teacher\u001b[38;5;241m.\u001b[39mnamed_predictors():\n",
            "File \u001b[1;32mc:\\llm\\env-phoenix-dspy\\Lib\\site-packages\\openinference\\instrumentation\\dspy\\__init__.py:377\u001b[0m, in \u001b[0;36m_ModuleForwardWrapper.__call__\u001b[1;34m(self, wrapped, instance, args, kwargs)\u001b[0m\n\u001b[0;32m    375\u001b[0m span\u001b[38;5;241m.\u001b[39mset_attributes(\u001b[38;5;28mdict\u001b[39m(get_attributes_from_context()))\n\u001b[0;32m    376\u001b[0m \u001b[38;5;28;01mtry\u001b[39;00m:\n\u001b[1;32m--> 377\u001b[0m     prediction \u001b[38;5;241m=\u001b[39m \u001b[43mwrapped\u001b[49m\u001b[43m(\u001b[49m\u001b[38;5;241;43m*\u001b[39;49m\u001b[43margs\u001b[49m\u001b[43m,\u001b[49m\u001b[43m \u001b[49m\u001b[38;5;241;43m*\u001b[39;49m\u001b[38;5;241;43m*\u001b[39;49m\u001b[43mkwargs\u001b[49m\u001b[43m)\u001b[49m\n\u001b[0;32m    378\u001b[0m \u001b[38;5;28;01mexcept\u001b[39;00m \u001b[38;5;167;01mException\u001b[39;00m \u001b[38;5;28;01mas\u001b[39;00m exception:\n\u001b[0;32m    379\u001b[0m     span\u001b[38;5;241m.\u001b[39mset_status(trace_api\u001b[38;5;241m.\u001b[39mStatus(trace_api\u001b[38;5;241m.\u001b[39mStatusCode\u001b[38;5;241m.\u001b[39mERROR, \u001b[38;5;28mstr\u001b[39m(exception)))\n",
            "File \u001b[1;32mc:\\llm\\env-phoenix-dspy\\Lib\\site-packages\\dspy\\primitives\\program.py:26\u001b[0m, in \u001b[0;36mModule.__call__\u001b[1;34m(self, *args, **kwargs)\u001b[0m\n\u001b[0;32m     25\u001b[0m \u001b[38;5;28;01mdef\u001b[39;00m \u001b[38;5;21m__call__\u001b[39m(\u001b[38;5;28mself\u001b[39m, \u001b[38;5;241m*\u001b[39margs, \u001b[38;5;241m*\u001b[39m\u001b[38;5;241m*\u001b[39mkwargs):\n\u001b[1;32m---> 26\u001b[0m     \u001b[38;5;28;01mreturn\u001b[39;00m \u001b[38;5;28;43mself\u001b[39;49m\u001b[38;5;241;43m.\u001b[39;49m\u001b[43mforward\u001b[49m\u001b[43m(\u001b[49m\u001b[38;5;241;43m*\u001b[39;49m\u001b[43margs\u001b[49m\u001b[43m,\u001b[49m\u001b[43m \u001b[49m\u001b[38;5;241;43m*\u001b[39;49m\u001b[38;5;241;43m*\u001b[39;49m\u001b[43mkwargs\u001b[49m\u001b[43m)\u001b[49m\n",
            "Cell \u001b[1;32mIn[10], line 9\u001b[0m, in \u001b[0;36mRAG.forward\u001b[1;34m(self, question)\u001b[0m\n\u001b[0;32m      7\u001b[0m \u001b[38;5;28;01mdef\u001b[39;00m \u001b[38;5;21mforward\u001b[39m(\u001b[38;5;28mself\u001b[39m, question):\n\u001b[0;32m      8\u001b[0m     context \u001b[38;5;241m=\u001b[39m \u001b[38;5;28mself\u001b[39m\u001b[38;5;241m.\u001b[39mretrieve(question)\u001b[38;5;241m.\u001b[39mpassages\n\u001b[1;32m----> 9\u001b[0m     prediction \u001b[38;5;241m=\u001b[39m \u001b[38;5;28;43mself\u001b[39;49m\u001b[38;5;241;43m.\u001b[39;49m\u001b[43mgenerate_answer\u001b[49m\u001b[43m(\u001b[49m\u001b[43mcontext\u001b[49m\u001b[38;5;241;43m=\u001b[39;49m\u001b[43mcontext\u001b[49m\u001b[43m,\u001b[49m\u001b[43m \u001b[49m\u001b[43mquestion\u001b[49m\u001b[38;5;241;43m=\u001b[39;49m\u001b[43mquestion\u001b[49m\u001b[43m)\u001b[49m\n\u001b[0;32m     10\u001b[0m     \u001b[38;5;28;01mreturn\u001b[39;00m dspy\u001b[38;5;241m.\u001b[39mPrediction(context\u001b[38;5;241m=\u001b[39mcontext, answer\u001b[38;5;241m=\u001b[39mprediction\u001b[38;5;241m.\u001b[39manswer)\n",
            "File \u001b[1;32mc:\\llm\\env-phoenix-dspy\\Lib\\site-packages\\dspy\\predict\\predict.py:61\u001b[0m, in \u001b[0;36mPredict.__call__\u001b[1;34m(self, **kwargs)\u001b[0m\n\u001b[0;32m     60\u001b[0m \u001b[38;5;28;01mdef\u001b[39;00m \u001b[38;5;21m__call__\u001b[39m(\u001b[38;5;28mself\u001b[39m, \u001b[38;5;241m*\u001b[39m\u001b[38;5;241m*\u001b[39mkwargs):\n\u001b[1;32m---> 61\u001b[0m     \u001b[38;5;28;01mreturn\u001b[39;00m \u001b[38;5;28;43mself\u001b[39;49m\u001b[38;5;241;43m.\u001b[39;49m\u001b[43mforward\u001b[49m\u001b[43m(\u001b[49m\u001b[38;5;241;43m*\u001b[39;49m\u001b[38;5;241;43m*\u001b[39;49m\u001b[43mkwargs\u001b[49m\u001b[43m)\u001b[49m\n",
            "File \u001b[1;32mc:\\llm\\env-phoenix-dspy\\Lib\\site-packages\\openinference\\instrumentation\\dspy\\__init__.py:307\u001b[0m, in \u001b[0;36m_PredictForwardWrapper.__call__\u001b[1;34m(self, wrapped, instance, args, kwargs)\u001b[0m\n\u001b[0;32m    305\u001b[0m span\u001b[38;5;241m.\u001b[39mset_attributes(\u001b[38;5;28mdict\u001b[39m(get_attributes_from_context()))\n\u001b[0;32m    306\u001b[0m \u001b[38;5;28;01mtry\u001b[39;00m:\n\u001b[1;32m--> 307\u001b[0m     prediction \u001b[38;5;241m=\u001b[39m \u001b[43mwrapped\u001b[49m\u001b[43m(\u001b[49m\u001b[38;5;241;43m*\u001b[39;49m\u001b[43margs\u001b[49m\u001b[43m,\u001b[49m\u001b[43m \u001b[49m\u001b[38;5;241;43m*\u001b[39;49m\u001b[38;5;241;43m*\u001b[39;49m\u001b[43mkwargs\u001b[49m\u001b[43m)\u001b[49m\n\u001b[0;32m    308\u001b[0m \u001b[38;5;28;01mexcept\u001b[39;00m \u001b[38;5;167;01mException\u001b[39;00m \u001b[38;5;28;01mas\u001b[39;00m exception:\n\u001b[0;32m    309\u001b[0m     span\u001b[38;5;241m.\u001b[39mset_status(trace_api\u001b[38;5;241m.\u001b[39mStatus(trace_api\u001b[38;5;241m.\u001b[39mStatusCode\u001b[38;5;241m.\u001b[39mERROR, \u001b[38;5;28mstr\u001b[39m(exception)))\n",
            "File \u001b[1;32mc:\\llm\\env-phoenix-dspy\\Lib\\site-packages\\dspy\\predict\\chain_of_thought.py:59\u001b[0m, in \u001b[0;36mChainOfThought.forward\u001b[1;34m(self, **kwargs)\u001b[0m\n\u001b[0;32m     57\u001b[0m     signature \u001b[38;5;241m=\u001b[39m new_signature\n\u001b[0;32m     58\u001b[0m     \u001b[38;5;66;03m# template = dsp.Template(self.signature.instructions, **new_signature)\u001b[39;00m\n\u001b[1;32m---> 59\u001b[0m \u001b[38;5;28;01mreturn\u001b[39;00m \u001b[38;5;28;43msuper\u001b[39;49m\u001b[43m(\u001b[49m\u001b[43m)\u001b[49m\u001b[38;5;241;43m.\u001b[39;49m\u001b[43mforward\u001b[49m\u001b[43m(\u001b[49m\u001b[43msignature\u001b[49m\u001b[38;5;241;43m=\u001b[39;49m\u001b[43msignature\u001b[49m\u001b[43m,\u001b[49m\u001b[43m \u001b[49m\u001b[38;5;241;43m*\u001b[39;49m\u001b[38;5;241;43m*\u001b[39;49m\u001b[43mkwargs\u001b[49m\u001b[43m)\u001b[49m\n",
            "File \u001b[1;32mc:\\llm\\env-phoenix-dspy\\Lib\\site-packages\\openinference\\instrumentation\\dspy\\__init__.py:285\u001b[0m, in \u001b[0;36m_PredictForwardWrapper.__call__\u001b[1;34m(self, wrapped, instance, args, kwargs)\u001b[0m\n\u001b[0;32m    277\u001b[0m wrapped_method_is_base_class_forward_method \u001b[38;5;241m=\u001b[39m (\n\u001b[0;32m    278\u001b[0m     wrapped\u001b[38;5;241m.\u001b[39m\u001b[38;5;18m__qualname__\u001b[39m \u001b[38;5;241m==\u001b[39m Predict\u001b[38;5;241m.\u001b[39mforward\u001b[38;5;241m.\u001b[39m\u001b[38;5;18m__qualname__\u001b[39m\n\u001b[0;32m    279\u001b[0m )\n\u001b[0;32m    280\u001b[0m \u001b[38;5;28;01mif\u001b[39;00m (\n\u001b[0;32m    281\u001b[0m     is_instance_of_predict_subclass\n\u001b[0;32m    282\u001b[0m     \u001b[38;5;129;01mand\u001b[39;00m has_overridden_forward_method\n\u001b[0;32m    283\u001b[0m     \u001b[38;5;129;01mand\u001b[39;00m wrapped_method_is_base_class_forward_method\n\u001b[0;32m    284\u001b[0m ):\n\u001b[1;32m--> 285\u001b[0m     \u001b[38;5;28;01mreturn\u001b[39;00m \u001b[43mwrapped\u001b[49m\u001b[43m(\u001b[49m\u001b[38;5;241;43m*\u001b[39;49m\u001b[43margs\u001b[49m\u001b[43m,\u001b[49m\u001b[43m \u001b[49m\u001b[38;5;241;43m*\u001b[39;49m\u001b[38;5;241;43m*\u001b[39;49m\u001b[43mkwargs\u001b[49m\u001b[43m)\u001b[49m\n\u001b[0;32m    287\u001b[0m signature \u001b[38;5;241m=\u001b[39m kwargs\u001b[38;5;241m.\u001b[39mget(\u001b[38;5;124m\"\u001b[39m\u001b[38;5;124msignature\u001b[39m\u001b[38;5;124m\"\u001b[39m, instance\u001b[38;5;241m.\u001b[39msignature)\n\u001b[0;32m    288\u001b[0m span_name \u001b[38;5;241m=\u001b[39m _get_predict_span_name(instance)\n",
            "File \u001b[1;32mc:\\llm\\env-phoenix-dspy\\Lib\\site-packages\\dspy\\predict\\predict.py:103\u001b[0m, in \u001b[0;36mPredict.forward\u001b[1;34m(self, **kwargs)\u001b[0m\n\u001b[0;32m    100\u001b[0m template \u001b[38;5;241m=\u001b[39m signature_to_template(signature)\n\u001b[0;32m    102\u001b[0m \u001b[38;5;28;01mif\u001b[39;00m \u001b[38;5;28mself\u001b[39m\u001b[38;5;241m.\u001b[39mlm \u001b[38;5;129;01mis\u001b[39;00m \u001b[38;5;28;01mNone\u001b[39;00m:\n\u001b[1;32m--> 103\u001b[0m     x, C \u001b[38;5;241m=\u001b[39m \u001b[43mdsp\u001b[49m\u001b[38;5;241;43m.\u001b[39;49m\u001b[43mgenerate\u001b[49m\u001b[43m(\u001b[49m\u001b[43mtemplate\u001b[49m\u001b[43m,\u001b[49m\u001b[43m \u001b[49m\u001b[38;5;241;43m*\u001b[39;49m\u001b[38;5;241;43m*\u001b[39;49m\u001b[43mconfig\u001b[49m\u001b[43m)\u001b[49m\u001b[43m(\u001b[49m\u001b[43mx\u001b[49m\u001b[43m,\u001b[49m\u001b[43m \u001b[49m\u001b[43mstage\u001b[49m\u001b[38;5;241;43m=\u001b[39;49m\u001b[38;5;28;43mself\u001b[39;49m\u001b[38;5;241;43m.\u001b[39;49m\u001b[43mstage\u001b[49m\u001b[43m)\u001b[49m\n\u001b[0;32m    104\u001b[0m \u001b[38;5;28;01melse\u001b[39;00m:\n\u001b[0;32m    105\u001b[0m     \u001b[38;5;66;03m# Note: query_only=True means the instructions and examples are not included.\u001b[39;00m\n\u001b[0;32m    106\u001b[0m     \u001b[38;5;66;03m# I'm not really sure why we'd want to do that, but it's there.\u001b[39;00m\n\u001b[0;32m    107\u001b[0m     \u001b[38;5;28;01mwith\u001b[39;00m dsp\u001b[38;5;241m.\u001b[39msettings\u001b[38;5;241m.\u001b[39mcontext(lm\u001b[38;5;241m=\u001b[39m\u001b[38;5;28mself\u001b[39m\u001b[38;5;241m.\u001b[39mlm, query_only\u001b[38;5;241m=\u001b[39m\u001b[38;5;28;01mTrue\u001b[39;00m):\n",
            "File \u001b[1;32mc:\\llm\\env-phoenix-dspy\\Lib\\site-packages\\dsp\\primitives\\predict.py:77\u001b[0m, in \u001b[0;36m_generate.<locals>.do_generate\u001b[1;34m(example, stage, max_depth, original_example)\u001b[0m\n\u001b[0;32m     75\u001b[0m \u001b[38;5;66;03m# Generate and extract the fields.\u001b[39;00m\n\u001b[0;32m     76\u001b[0m prompt \u001b[38;5;241m=\u001b[39m template(example)\n\u001b[1;32m---> 77\u001b[0m completions: \u001b[38;5;28mlist\u001b[39m[\u001b[38;5;28mdict\u001b[39m[\u001b[38;5;28mstr\u001b[39m, Any]] \u001b[38;5;241m=\u001b[39m \u001b[43mgenerator\u001b[49m\u001b[43m(\u001b[49m\u001b[43mprompt\u001b[49m\u001b[43m,\u001b[49m\u001b[43m \u001b[49m\u001b[38;5;241;43m*\u001b[39;49m\u001b[38;5;241;43m*\u001b[39;49m\u001b[43mkwargs\u001b[49m\u001b[43m)\u001b[49m\n\u001b[0;32m     78\u001b[0m completions: \u001b[38;5;28mlist\u001b[39m[Example] \u001b[38;5;241m=\u001b[39m [template\u001b[38;5;241m.\u001b[39mextract(example, p) \u001b[38;5;28;01mfor\u001b[39;00m p \u001b[38;5;129;01min\u001b[39;00m completions]\n\u001b[0;32m     80\u001b[0m \u001b[38;5;66;03m# Find the completions that are most complete.\u001b[39;00m\n",
            "File \u001b[1;32mc:\\llm\\env-phoenix-dspy\\Lib\\site-packages\\dsp\\modules\\ollama.py:171\u001b[0m, in \u001b[0;36mOllamaLocal.__call__\u001b[1;34m(self, prompt, only_completed, return_sorted, **kwargs)\u001b[0m\n\u001b[0;32m    168\u001b[0m \u001b[38;5;28;01massert\u001b[39;00m only_completed, \u001b[38;5;124m\"\u001b[39m\u001b[38;5;124mfor now\u001b[39m\u001b[38;5;124m\"\u001b[39m\n\u001b[0;32m    169\u001b[0m \u001b[38;5;28;01massert\u001b[39;00m return_sorted \u001b[38;5;129;01mis\u001b[39;00m \u001b[38;5;28;01mFalse\u001b[39;00m, \u001b[38;5;124m\"\u001b[39m\u001b[38;5;124mfor now\u001b[39m\u001b[38;5;124m\"\u001b[39m\n\u001b[1;32m--> 171\u001b[0m response \u001b[38;5;241m=\u001b[39m \u001b[38;5;28;43mself\u001b[39;49m\u001b[38;5;241;43m.\u001b[39;49m\u001b[43mrequest\u001b[49m\u001b[43m(\u001b[49m\u001b[43mprompt\u001b[49m\u001b[43m,\u001b[49m\u001b[43m \u001b[49m\u001b[38;5;241;43m*\u001b[39;49m\u001b[38;5;241;43m*\u001b[39;49m\u001b[43mkwargs\u001b[49m\u001b[43m)\u001b[49m\n\u001b[0;32m    173\u001b[0m choices \u001b[38;5;241m=\u001b[39m response[\u001b[38;5;124m\"\u001b[39m\u001b[38;5;124mchoices\u001b[39m\u001b[38;5;124m\"\u001b[39m]\n\u001b[0;32m    175\u001b[0m completed_choices \u001b[38;5;241m=\u001b[39m [c \u001b[38;5;28;01mfor\u001b[39;00m c \u001b[38;5;129;01min\u001b[39;00m choices \u001b[38;5;28;01mif\u001b[39;00m c[\u001b[38;5;124m\"\u001b[39m\u001b[38;5;124mfinish_reason\u001b[39m\u001b[38;5;124m\"\u001b[39m] \u001b[38;5;241m!=\u001b[39m \u001b[38;5;124m\"\u001b[39m\u001b[38;5;124mlength\u001b[39m\u001b[38;5;124m\"\u001b[39m]\n",
            "File \u001b[1;32mc:\\llm\\env-phoenix-dspy\\Lib\\site-packages\\dsp\\modules\\ollama.py:145\u001b[0m, in \u001b[0;36mOllamaLocal.request\u001b[1;34m(self, prompt, **kwargs)\u001b[0m\n\u001b[0;32m    142\u001b[0m \u001b[38;5;28;01mif\u001b[39;00m \u001b[38;5;124m\"\u001b[39m\u001b[38;5;124mmodel_type\u001b[39m\u001b[38;5;124m\"\u001b[39m \u001b[38;5;129;01min\u001b[39;00m kwargs:\n\u001b[0;32m    143\u001b[0m     \u001b[38;5;28;01mdel\u001b[39;00m kwargs[\u001b[38;5;124m\"\u001b[39m\u001b[38;5;124mmodel_type\u001b[39m\u001b[38;5;124m\"\u001b[39m]\n\u001b[1;32m--> 145\u001b[0m \u001b[38;5;28;01mreturn\u001b[39;00m \u001b[38;5;28;43mself\u001b[39;49m\u001b[38;5;241;43m.\u001b[39;49m\u001b[43mbasic_request\u001b[49m\u001b[43m(\u001b[49m\u001b[43mprompt\u001b[49m\u001b[43m,\u001b[49m\u001b[43m \u001b[49m\u001b[38;5;241;43m*\u001b[39;49m\u001b[38;5;241;43m*\u001b[39;49m\u001b[43mkwargs\u001b[49m\u001b[43m)\u001b[49m\n",
            "File \u001b[1;32mc:\\llm\\env-phoenix-dspy\\Lib\\site-packages\\openinference\\instrumentation\\dspy\\__init__.py:227\u001b[0m, in \u001b[0;36m_LMBasicRequestWrapper.__call__\u001b[1;34m(self, wrapped, instance, args, kwargs)\u001b[0m\n\u001b[0;32m    225\u001b[0m span\u001b[38;5;241m.\u001b[39mset_attributes(\u001b[38;5;28mdict\u001b[39m(get_attributes_from_context()))\n\u001b[0;32m    226\u001b[0m \u001b[38;5;28;01mtry\u001b[39;00m:\n\u001b[1;32m--> 227\u001b[0m     response \u001b[38;5;241m=\u001b[39m \u001b[43mwrapped\u001b[49m\u001b[43m(\u001b[49m\u001b[38;5;241;43m*\u001b[39;49m\u001b[43margs\u001b[49m\u001b[43m,\u001b[49m\u001b[43m \u001b[49m\u001b[38;5;241;43m*\u001b[39;49m\u001b[38;5;241;43m*\u001b[39;49m\u001b[43mkwargs\u001b[49m\u001b[43m)\u001b[49m\n\u001b[0;32m    228\u001b[0m \u001b[38;5;28;01mexcept\u001b[39;00m \u001b[38;5;167;01mException\u001b[39;00m \u001b[38;5;28;01mas\u001b[39;00m exception:\n\u001b[0;32m    229\u001b[0m     span\u001b[38;5;241m.\u001b[39mset_status(trace_api\u001b[38;5;241m.\u001b[39mStatus(trace_api\u001b[38;5;241m.\u001b[39mStatusCode\u001b[38;5;241m.\u001b[39mERROR, \u001b[38;5;28mstr\u001b[39m(exception)))\n",
            "File \u001b[1;32mc:\\llm\\env-phoenix-dspy\\Lib\\site-packages\\dsp\\modules\\ollama.py:97\u001b[0m, in \u001b[0;36mOllamaLocal.basic_request\u001b[1;34m(self, prompt, **kwargs)\u001b[0m\n\u001b[0;32m     95\u001b[0m tot_eval_tokens \u001b[38;5;241m=\u001b[39m \u001b[38;5;241m0\u001b[39m\n\u001b[0;32m     96\u001b[0m \u001b[38;5;28;01mfor\u001b[39;00m i \u001b[38;5;129;01min\u001b[39;00m \u001b[38;5;28mrange\u001b[39m(kwargs[\u001b[38;5;124m\"\u001b[39m\u001b[38;5;124mn\u001b[39m\u001b[38;5;124m\"\u001b[39m]):\n\u001b[1;32m---> 97\u001b[0m     response \u001b[38;5;241m=\u001b[39m \u001b[43mrequests\u001b[49m\u001b[38;5;241;43m.\u001b[39;49m\u001b[43mpost\u001b[49m\u001b[43m(\u001b[49m\u001b[43murlstr\u001b[49m\u001b[43m,\u001b[49m\u001b[43m \u001b[49m\u001b[43mjson\u001b[49m\u001b[38;5;241;43m=\u001b[39;49m\u001b[43msettings_dict\u001b[49m\u001b[43m,\u001b[49m\u001b[43m \u001b[49m\u001b[43mtimeout\u001b[49m\u001b[38;5;241;43m=\u001b[39;49m\u001b[38;5;28;43mself\u001b[39;49m\u001b[38;5;241;43m.\u001b[39;49m\u001b[43mtimeout_s\u001b[49m\u001b[43m)\u001b[49m\n\u001b[0;32m     99\u001b[0m     \u001b[38;5;66;03m# Check if the request was successful (HTTP status code 200)\u001b[39;00m\n\u001b[0;32m    100\u001b[0m     \u001b[38;5;28;01mif\u001b[39;00m response\u001b[38;5;241m.\u001b[39mstatus_code \u001b[38;5;241m!=\u001b[39m \u001b[38;5;241m200\u001b[39m:\n\u001b[0;32m    101\u001b[0m         \u001b[38;5;66;03m# If the request was not successful, print an error message\u001b[39;00m\n",
            "File \u001b[1;32mc:\\llm\\env-phoenix-dspy\\Lib\\site-packages\\requests\\api.py:115\u001b[0m, in \u001b[0;36mpost\u001b[1;34m(url, data, json, **kwargs)\u001b[0m\n\u001b[0;32m    103\u001b[0m \u001b[38;5;28;01mdef\u001b[39;00m \u001b[38;5;21mpost\u001b[39m(url, data\u001b[38;5;241m=\u001b[39m\u001b[38;5;28;01mNone\u001b[39;00m, json\u001b[38;5;241m=\u001b[39m\u001b[38;5;28;01mNone\u001b[39;00m, \u001b[38;5;241m*\u001b[39m\u001b[38;5;241m*\u001b[39mkwargs):\n\u001b[0;32m    104\u001b[0m \u001b[38;5;250m    \u001b[39m\u001b[38;5;124mr\u001b[39m\u001b[38;5;124;03m\"\"\"Sends a POST request.\u001b[39;00m\n\u001b[0;32m    105\u001b[0m \n\u001b[0;32m    106\u001b[0m \u001b[38;5;124;03m    :param url: URL for the new :class:`Request` object.\u001b[39;00m\n\u001b[1;32m   (...)\u001b[0m\n\u001b[0;32m    112\u001b[0m \u001b[38;5;124;03m    :rtype: requests.Response\u001b[39;00m\n\u001b[0;32m    113\u001b[0m \u001b[38;5;124;03m    \"\"\"\u001b[39;00m\n\u001b[1;32m--> 115\u001b[0m     \u001b[38;5;28;01mreturn\u001b[39;00m \u001b[43mrequest\u001b[49m\u001b[43m(\u001b[49m\u001b[38;5;124;43m\"\u001b[39;49m\u001b[38;5;124;43mpost\u001b[39;49m\u001b[38;5;124;43m\"\u001b[39;49m\u001b[43m,\u001b[49m\u001b[43m \u001b[49m\u001b[43murl\u001b[49m\u001b[43m,\u001b[49m\u001b[43m \u001b[49m\u001b[43mdata\u001b[49m\u001b[38;5;241;43m=\u001b[39;49m\u001b[43mdata\u001b[49m\u001b[43m,\u001b[49m\u001b[43m \u001b[49m\u001b[43mjson\u001b[49m\u001b[38;5;241;43m=\u001b[39;49m\u001b[43mjson\u001b[49m\u001b[43m,\u001b[49m\u001b[43m \u001b[49m\u001b[38;5;241;43m*\u001b[39;49m\u001b[38;5;241;43m*\u001b[39;49m\u001b[43mkwargs\u001b[49m\u001b[43m)\u001b[49m\n",
            "File \u001b[1;32mc:\\llm\\env-phoenix-dspy\\Lib\\site-packages\\requests\\api.py:59\u001b[0m, in \u001b[0;36mrequest\u001b[1;34m(method, url, **kwargs)\u001b[0m\n\u001b[0;32m     55\u001b[0m \u001b[38;5;66;03m# By using the 'with' statement we are sure the session is closed, thus we\u001b[39;00m\n\u001b[0;32m     56\u001b[0m \u001b[38;5;66;03m# avoid leaving sockets open which can trigger a ResourceWarning in some\u001b[39;00m\n\u001b[0;32m     57\u001b[0m \u001b[38;5;66;03m# cases, and look like a memory leak in others.\u001b[39;00m\n\u001b[0;32m     58\u001b[0m \u001b[38;5;28;01mwith\u001b[39;00m sessions\u001b[38;5;241m.\u001b[39mSession() \u001b[38;5;28;01mas\u001b[39;00m session:\n\u001b[1;32m---> 59\u001b[0m     \u001b[38;5;28;01mreturn\u001b[39;00m \u001b[43msession\u001b[49m\u001b[38;5;241;43m.\u001b[39;49m\u001b[43mrequest\u001b[49m\u001b[43m(\u001b[49m\u001b[43mmethod\u001b[49m\u001b[38;5;241;43m=\u001b[39;49m\u001b[43mmethod\u001b[49m\u001b[43m,\u001b[49m\u001b[43m \u001b[49m\u001b[43murl\u001b[49m\u001b[38;5;241;43m=\u001b[39;49m\u001b[43murl\u001b[49m\u001b[43m,\u001b[49m\u001b[43m \u001b[49m\u001b[38;5;241;43m*\u001b[39;49m\u001b[38;5;241;43m*\u001b[39;49m\u001b[43mkwargs\u001b[49m\u001b[43m)\u001b[49m\n",
            "File \u001b[1;32mc:\\llm\\env-phoenix-dspy\\Lib\\site-packages\\requests\\sessions.py:589\u001b[0m, in \u001b[0;36mSession.request\u001b[1;34m(self, method, url, params, data, headers, cookies, files, auth, timeout, allow_redirects, proxies, hooks, stream, verify, cert, json)\u001b[0m\n\u001b[0;32m    584\u001b[0m send_kwargs \u001b[38;5;241m=\u001b[39m {\n\u001b[0;32m    585\u001b[0m     \u001b[38;5;124m\"\u001b[39m\u001b[38;5;124mtimeout\u001b[39m\u001b[38;5;124m\"\u001b[39m: timeout,\n\u001b[0;32m    586\u001b[0m     \u001b[38;5;124m\"\u001b[39m\u001b[38;5;124mallow_redirects\u001b[39m\u001b[38;5;124m\"\u001b[39m: allow_redirects,\n\u001b[0;32m    587\u001b[0m }\n\u001b[0;32m    588\u001b[0m send_kwargs\u001b[38;5;241m.\u001b[39mupdate(settings)\n\u001b[1;32m--> 589\u001b[0m resp \u001b[38;5;241m=\u001b[39m \u001b[38;5;28;43mself\u001b[39;49m\u001b[38;5;241;43m.\u001b[39;49m\u001b[43msend\u001b[49m\u001b[43m(\u001b[49m\u001b[43mprep\u001b[49m\u001b[43m,\u001b[49m\u001b[43m \u001b[49m\u001b[38;5;241;43m*\u001b[39;49m\u001b[38;5;241;43m*\u001b[39;49m\u001b[43msend_kwargs\u001b[49m\u001b[43m)\u001b[49m\n\u001b[0;32m    591\u001b[0m \u001b[38;5;28;01mreturn\u001b[39;00m resp\n",
            "File \u001b[1;32mc:\\llm\\env-phoenix-dspy\\Lib\\site-packages\\requests\\sessions.py:703\u001b[0m, in \u001b[0;36mSession.send\u001b[1;34m(self, request, **kwargs)\u001b[0m\n\u001b[0;32m    700\u001b[0m start \u001b[38;5;241m=\u001b[39m preferred_clock()\n\u001b[0;32m    702\u001b[0m \u001b[38;5;66;03m# Send the request\u001b[39;00m\n\u001b[1;32m--> 703\u001b[0m r \u001b[38;5;241m=\u001b[39m \u001b[43madapter\u001b[49m\u001b[38;5;241;43m.\u001b[39;49m\u001b[43msend\u001b[49m\u001b[43m(\u001b[49m\u001b[43mrequest\u001b[49m\u001b[43m,\u001b[49m\u001b[43m \u001b[49m\u001b[38;5;241;43m*\u001b[39;49m\u001b[38;5;241;43m*\u001b[39;49m\u001b[43mkwargs\u001b[49m\u001b[43m)\u001b[49m\n\u001b[0;32m    705\u001b[0m \u001b[38;5;66;03m# Total elapsed time of the request (approximately)\u001b[39;00m\n\u001b[0;32m    706\u001b[0m elapsed \u001b[38;5;241m=\u001b[39m preferred_clock() \u001b[38;5;241m-\u001b[39m start\n",
            "File \u001b[1;32mc:\\llm\\env-phoenix-dspy\\Lib\\site-packages\\requests\\adapters.py:667\u001b[0m, in \u001b[0;36mHTTPAdapter.send\u001b[1;34m(self, request, stream, timeout, verify, cert, proxies)\u001b[0m\n\u001b[0;32m    664\u001b[0m     timeout \u001b[38;5;241m=\u001b[39m TimeoutSauce(connect\u001b[38;5;241m=\u001b[39mtimeout, read\u001b[38;5;241m=\u001b[39mtimeout)\n\u001b[0;32m    666\u001b[0m \u001b[38;5;28;01mtry\u001b[39;00m:\n\u001b[1;32m--> 667\u001b[0m     resp \u001b[38;5;241m=\u001b[39m \u001b[43mconn\u001b[49m\u001b[38;5;241;43m.\u001b[39;49m\u001b[43murlopen\u001b[49m\u001b[43m(\u001b[49m\n\u001b[0;32m    668\u001b[0m \u001b[43m        \u001b[49m\u001b[43mmethod\u001b[49m\u001b[38;5;241;43m=\u001b[39;49m\u001b[43mrequest\u001b[49m\u001b[38;5;241;43m.\u001b[39;49m\u001b[43mmethod\u001b[49m\u001b[43m,\u001b[49m\n\u001b[0;32m    669\u001b[0m \u001b[43m        \u001b[49m\u001b[43murl\u001b[49m\u001b[38;5;241;43m=\u001b[39;49m\u001b[43murl\u001b[49m\u001b[43m,\u001b[49m\n\u001b[0;32m    670\u001b[0m \u001b[43m        \u001b[49m\u001b[43mbody\u001b[49m\u001b[38;5;241;43m=\u001b[39;49m\u001b[43mrequest\u001b[49m\u001b[38;5;241;43m.\u001b[39;49m\u001b[43mbody\u001b[49m\u001b[43m,\u001b[49m\n\u001b[0;32m    671\u001b[0m \u001b[43m        \u001b[49m\u001b[43mheaders\u001b[49m\u001b[38;5;241;43m=\u001b[39;49m\u001b[43mrequest\u001b[49m\u001b[38;5;241;43m.\u001b[39;49m\u001b[43mheaders\u001b[49m\u001b[43m,\u001b[49m\n\u001b[0;32m    672\u001b[0m \u001b[43m        \u001b[49m\u001b[43mredirect\u001b[49m\u001b[38;5;241;43m=\u001b[39;49m\u001b[38;5;28;43;01mFalse\u001b[39;49;00m\u001b[43m,\u001b[49m\n\u001b[0;32m    673\u001b[0m \u001b[43m        \u001b[49m\u001b[43massert_same_host\u001b[49m\u001b[38;5;241;43m=\u001b[39;49m\u001b[38;5;28;43;01mFalse\u001b[39;49;00m\u001b[43m,\u001b[49m\n\u001b[0;32m    674\u001b[0m \u001b[43m        \u001b[49m\u001b[43mpreload_content\u001b[49m\u001b[38;5;241;43m=\u001b[39;49m\u001b[38;5;28;43;01mFalse\u001b[39;49;00m\u001b[43m,\u001b[49m\n\u001b[0;32m    675\u001b[0m \u001b[43m        \u001b[49m\u001b[43mdecode_content\u001b[49m\u001b[38;5;241;43m=\u001b[39;49m\u001b[38;5;28;43;01mFalse\u001b[39;49;00m\u001b[43m,\u001b[49m\n\u001b[0;32m    676\u001b[0m \u001b[43m        \u001b[49m\u001b[43mretries\u001b[49m\u001b[38;5;241;43m=\u001b[39;49m\u001b[38;5;28;43mself\u001b[39;49m\u001b[38;5;241;43m.\u001b[39;49m\u001b[43mmax_retries\u001b[49m\u001b[43m,\u001b[49m\n\u001b[0;32m    677\u001b[0m \u001b[43m        \u001b[49m\u001b[43mtimeout\u001b[49m\u001b[38;5;241;43m=\u001b[39;49m\u001b[43mtimeout\u001b[49m\u001b[43m,\u001b[49m\n\u001b[0;32m    678\u001b[0m \u001b[43m        \u001b[49m\u001b[43mchunked\u001b[49m\u001b[38;5;241;43m=\u001b[39;49m\u001b[43mchunked\u001b[49m\u001b[43m,\u001b[49m\n\u001b[0;32m    679\u001b[0m \u001b[43m    \u001b[49m\u001b[43m)\u001b[49m\n\u001b[0;32m    681\u001b[0m \u001b[38;5;28;01mexcept\u001b[39;00m (ProtocolError, \u001b[38;5;167;01mOSError\u001b[39;00m) \u001b[38;5;28;01mas\u001b[39;00m err:\n\u001b[0;32m    682\u001b[0m     \u001b[38;5;28;01mraise\u001b[39;00m \u001b[38;5;167;01mConnectionError\u001b[39;00m(err, request\u001b[38;5;241m=\u001b[39mrequest)\n",
            "File \u001b[1;32mc:\\llm\\env-phoenix-dspy\\Lib\\site-packages\\urllib3\\connectionpool.py:793\u001b[0m, in \u001b[0;36mHTTPConnectionPool.urlopen\u001b[1;34m(self, method, url, body, headers, retries, redirect, assert_same_host, timeout, pool_timeout, release_conn, chunked, body_pos, preload_content, decode_content, **response_kw)\u001b[0m\n\u001b[0;32m    790\u001b[0m response_conn \u001b[38;5;241m=\u001b[39m conn \u001b[38;5;28;01mif\u001b[39;00m \u001b[38;5;129;01mnot\u001b[39;00m release_conn \u001b[38;5;28;01melse\u001b[39;00m \u001b[38;5;28;01mNone\u001b[39;00m\n\u001b[0;32m    792\u001b[0m \u001b[38;5;66;03m# Make the request on the HTTPConnection object\u001b[39;00m\n\u001b[1;32m--> 793\u001b[0m response \u001b[38;5;241m=\u001b[39m \u001b[38;5;28;43mself\u001b[39;49m\u001b[38;5;241;43m.\u001b[39;49m\u001b[43m_make_request\u001b[49m\u001b[43m(\u001b[49m\n\u001b[0;32m    794\u001b[0m \u001b[43m    \u001b[49m\u001b[43mconn\u001b[49m\u001b[43m,\u001b[49m\n\u001b[0;32m    795\u001b[0m \u001b[43m    \u001b[49m\u001b[43mmethod\u001b[49m\u001b[43m,\u001b[49m\n\u001b[0;32m    796\u001b[0m \u001b[43m    \u001b[49m\u001b[43murl\u001b[49m\u001b[43m,\u001b[49m\n\u001b[0;32m    797\u001b[0m \u001b[43m    \u001b[49m\u001b[43mtimeout\u001b[49m\u001b[38;5;241;43m=\u001b[39;49m\u001b[43mtimeout_obj\u001b[49m\u001b[43m,\u001b[49m\n\u001b[0;32m    798\u001b[0m \u001b[43m    \u001b[49m\u001b[43mbody\u001b[49m\u001b[38;5;241;43m=\u001b[39;49m\u001b[43mbody\u001b[49m\u001b[43m,\u001b[49m\n\u001b[0;32m    799\u001b[0m \u001b[43m    \u001b[49m\u001b[43mheaders\u001b[49m\u001b[38;5;241;43m=\u001b[39;49m\u001b[43mheaders\u001b[49m\u001b[43m,\u001b[49m\n\u001b[0;32m    800\u001b[0m \u001b[43m    \u001b[49m\u001b[43mchunked\u001b[49m\u001b[38;5;241;43m=\u001b[39;49m\u001b[43mchunked\u001b[49m\u001b[43m,\u001b[49m\n\u001b[0;32m    801\u001b[0m \u001b[43m    \u001b[49m\u001b[43mretries\u001b[49m\u001b[38;5;241;43m=\u001b[39;49m\u001b[43mretries\u001b[49m\u001b[43m,\u001b[49m\n\u001b[0;32m    802\u001b[0m \u001b[43m    \u001b[49m\u001b[43mresponse_conn\u001b[49m\u001b[38;5;241;43m=\u001b[39;49m\u001b[43mresponse_conn\u001b[49m\u001b[43m,\u001b[49m\n\u001b[0;32m    803\u001b[0m \u001b[43m    \u001b[49m\u001b[43mpreload_content\u001b[49m\u001b[38;5;241;43m=\u001b[39;49m\u001b[43mpreload_content\u001b[49m\u001b[43m,\u001b[49m\n\u001b[0;32m    804\u001b[0m \u001b[43m    \u001b[49m\u001b[43mdecode_content\u001b[49m\u001b[38;5;241;43m=\u001b[39;49m\u001b[43mdecode_content\u001b[49m\u001b[43m,\u001b[49m\n\u001b[0;32m    805\u001b[0m \u001b[43m    \u001b[49m\u001b[38;5;241;43m*\u001b[39;49m\u001b[38;5;241;43m*\u001b[39;49m\u001b[43mresponse_kw\u001b[49m\u001b[43m,\u001b[49m\n\u001b[0;32m    806\u001b[0m \u001b[43m\u001b[49m\u001b[43m)\u001b[49m\n\u001b[0;32m    808\u001b[0m \u001b[38;5;66;03m# Everything went great!\u001b[39;00m\n\u001b[0;32m    809\u001b[0m clean_exit \u001b[38;5;241m=\u001b[39m \u001b[38;5;28;01mTrue\u001b[39;00m\n",
            "File \u001b[1;32mc:\\llm\\env-phoenix-dspy\\Lib\\site-packages\\urllib3\\connectionpool.py:537\u001b[0m, in \u001b[0;36mHTTPConnectionPool._make_request\u001b[1;34m(self, conn, method, url, body, headers, retries, timeout, chunked, response_conn, preload_content, decode_content, enforce_content_length)\u001b[0m\n\u001b[0;32m    535\u001b[0m \u001b[38;5;66;03m# Receive the response from the server\u001b[39;00m\n\u001b[0;32m    536\u001b[0m \u001b[38;5;28;01mtry\u001b[39;00m:\n\u001b[1;32m--> 537\u001b[0m     response \u001b[38;5;241m=\u001b[39m \u001b[43mconn\u001b[49m\u001b[38;5;241;43m.\u001b[39;49m\u001b[43mgetresponse\u001b[49m\u001b[43m(\u001b[49m\u001b[43m)\u001b[49m\n\u001b[0;32m    538\u001b[0m \u001b[38;5;28;01mexcept\u001b[39;00m (BaseSSLError, \u001b[38;5;167;01mOSError\u001b[39;00m) \u001b[38;5;28;01mas\u001b[39;00m e:\n\u001b[0;32m    539\u001b[0m     \u001b[38;5;28mself\u001b[39m\u001b[38;5;241m.\u001b[39m_raise_timeout(err\u001b[38;5;241m=\u001b[39me, url\u001b[38;5;241m=\u001b[39murl, timeout_value\u001b[38;5;241m=\u001b[39mread_timeout)\n",
            "File \u001b[1;32mc:\\llm\\env-phoenix-dspy\\Lib\\site-packages\\urllib3\\connection.py:466\u001b[0m, in \u001b[0;36mHTTPConnection.getresponse\u001b[1;34m(self)\u001b[0m\n\u001b[0;32m    463\u001b[0m \u001b[38;5;28;01mfrom\u001b[39;00m \u001b[38;5;21;01m.\u001b[39;00m\u001b[38;5;21;01mresponse\u001b[39;00m \u001b[38;5;28;01mimport\u001b[39;00m HTTPResponse\n\u001b[0;32m    465\u001b[0m \u001b[38;5;66;03m# Get the response from http.client.HTTPConnection\u001b[39;00m\n\u001b[1;32m--> 466\u001b[0m httplib_response \u001b[38;5;241m=\u001b[39m \u001b[38;5;28;43msuper\u001b[39;49m\u001b[43m(\u001b[49m\u001b[43m)\u001b[49m\u001b[38;5;241;43m.\u001b[39;49m\u001b[43mgetresponse\u001b[49m\u001b[43m(\u001b[49m\u001b[43m)\u001b[49m\n\u001b[0;32m    468\u001b[0m \u001b[38;5;28;01mtry\u001b[39;00m:\n\u001b[0;32m    469\u001b[0m     assert_header_parsing(httplib_response\u001b[38;5;241m.\u001b[39mmsg)\n",
            "File \u001b[1;32mc:\\llm\\env-phoenix-dspy\\Lib\\http\\client.py:1395\u001b[0m, in \u001b[0;36mHTTPConnection.getresponse\u001b[1;34m(self)\u001b[0m\n\u001b[0;32m   1393\u001b[0m \u001b[38;5;28;01mtry\u001b[39;00m:\n\u001b[0;32m   1394\u001b[0m     \u001b[38;5;28;01mtry\u001b[39;00m:\n\u001b[1;32m-> 1395\u001b[0m         \u001b[43mresponse\u001b[49m\u001b[38;5;241;43m.\u001b[39;49m\u001b[43mbegin\u001b[49m\u001b[43m(\u001b[49m\u001b[43m)\u001b[49m\n\u001b[0;32m   1396\u001b[0m     \u001b[38;5;28;01mexcept\u001b[39;00m \u001b[38;5;167;01mConnectionError\u001b[39;00m:\n\u001b[0;32m   1397\u001b[0m         \u001b[38;5;28mself\u001b[39m\u001b[38;5;241m.\u001b[39mclose()\n",
            "File \u001b[1;32mc:\\llm\\env-phoenix-dspy\\Lib\\http\\client.py:325\u001b[0m, in \u001b[0;36mHTTPResponse.begin\u001b[1;34m(self)\u001b[0m\n\u001b[0;32m    323\u001b[0m \u001b[38;5;66;03m# read until we get a non-100 response\u001b[39;00m\n\u001b[0;32m    324\u001b[0m \u001b[38;5;28;01mwhile\u001b[39;00m \u001b[38;5;28;01mTrue\u001b[39;00m:\n\u001b[1;32m--> 325\u001b[0m     version, status, reason \u001b[38;5;241m=\u001b[39m \u001b[38;5;28;43mself\u001b[39;49m\u001b[38;5;241;43m.\u001b[39;49m\u001b[43m_read_status\u001b[49m\u001b[43m(\u001b[49m\u001b[43m)\u001b[49m\n\u001b[0;32m    326\u001b[0m     \u001b[38;5;28;01mif\u001b[39;00m status \u001b[38;5;241m!=\u001b[39m CONTINUE:\n\u001b[0;32m    327\u001b[0m         \u001b[38;5;28;01mbreak\u001b[39;00m\n",
            "File \u001b[1;32mc:\\llm\\env-phoenix-dspy\\Lib\\http\\client.py:286\u001b[0m, in \u001b[0;36mHTTPResponse._read_status\u001b[1;34m(self)\u001b[0m\n\u001b[0;32m    285\u001b[0m \u001b[38;5;28;01mdef\u001b[39;00m \u001b[38;5;21m_read_status\u001b[39m(\u001b[38;5;28mself\u001b[39m):\n\u001b[1;32m--> 286\u001b[0m     line \u001b[38;5;241m=\u001b[39m \u001b[38;5;28mstr\u001b[39m(\u001b[38;5;28mself\u001b[39m\u001b[38;5;241m.\u001b[39mfp\u001b[38;5;241m.\u001b[39mreadline(_MAXLINE \u001b[38;5;241m+\u001b[39m \u001b[38;5;241m1\u001b[39m), \u001b[38;5;124m\"\u001b[39m\u001b[38;5;124miso-8859-1\u001b[39m\u001b[38;5;124m\"\u001b[39m)\n\u001b[0;32m    287\u001b[0m     \u001b[38;5;28;01mif\u001b[39;00m \u001b[38;5;28mlen\u001b[39m(line) \u001b[38;5;241m>\u001b[39m _MAXLINE:\n\u001b[0;32m    288\u001b[0m         \u001b[38;5;28;01mraise\u001b[39;00m LineTooLong(\u001b[38;5;124m\"\u001b[39m\u001b[38;5;124mstatus line\u001b[39m\u001b[38;5;124m\"\u001b[39m)\n",
            "File \u001b[1;32mc:\\llm\\env-phoenix-dspy\\Lib\\socket.py:706\u001b[0m, in \u001b[0;36mSocketIO.readinto\u001b[1;34m(self, b)\u001b[0m\n\u001b[0;32m    704\u001b[0m \u001b[38;5;28;01mwhile\u001b[39;00m \u001b[38;5;28;01mTrue\u001b[39;00m:\n\u001b[0;32m    705\u001b[0m     \u001b[38;5;28;01mtry\u001b[39;00m:\n\u001b[1;32m--> 706\u001b[0m         \u001b[38;5;28;01mreturn\u001b[39;00m \u001b[38;5;28;43mself\u001b[39;49m\u001b[38;5;241;43m.\u001b[39;49m\u001b[43m_sock\u001b[49m\u001b[38;5;241;43m.\u001b[39;49m\u001b[43mrecv_into\u001b[49m\u001b[43m(\u001b[49m\u001b[43mb\u001b[49m\u001b[43m)\u001b[49m\n\u001b[0;32m    707\u001b[0m     \u001b[38;5;28;01mexcept\u001b[39;00m timeout:\n\u001b[0;32m    708\u001b[0m         \u001b[38;5;28mself\u001b[39m\u001b[38;5;241m.\u001b[39m_timeout_occurred \u001b[38;5;241m=\u001b[39m \u001b[38;5;28;01mTrue\u001b[39;00m\n",
            "\u001b[1;31mKeyboardInterrupt\u001b[0m: "
          ]
        }
      ],
      "source": [
        "# Assuming RAG and trainset are defined elsewhere in your code\n",
        "input_module = RAG()\n",
        "teleprompter = BootstrapFewShot(metric=validate_context_and_answer)\n",
        "compiled_module = teleprompter.compile(input_module, trainset=trainset)"
      ]
    },
    {
      "cell_type": "code",
      "execution_count": 20,
      "metadata": {},
      "outputs": [],
      "source": [
        "from dspy.teleprompt import BootstrapFewShot\n",
        "import pandas as pd\n",
        "import phoenix as px\n",
        "from phoenix.trace import SpanEvaluations\n",
        "from opentelemetry import trace\n",
        "\n",
        "def validate_context_and_answer(example, pred, trace_obj=None):\n",
        "    answer_EM = dspy.evaluate.answer_exact_match(example, pred)\n",
        "    answer_PM = dspy.evaluate.answer_passage_match(example, pred)\n",
        "    \n",
        "    # Print the outputs\n",
        "    print(f\"answer_em: {answer_EM}\\nanswer_pm: {answer_PM}\")\n",
        "    \n",
        "    current_span = trace.get_current_span()\n",
        "    print(current_span)\n",
        "    # The rest of your function logic here...\n",
        "    \n",
        "    return answer_EM and answer_PM\n",
        "\n",
        "# The rest of your code remains unchanged..."
      ]
    },
    {
      "cell_type": "code",
      "execution_count": null,
      "metadata": {
        "id": "DhO-Dxx4_Wkk"
      },
      "outputs": [],
      "source": [
        "from dspy.teleprompt import BootstrapFewShot\n",
        "\n",
        "\n",
        "# Validation logic: check that the predicted answer is correct.\n",
        "# Also check that the retrieved context does actually contain that answer.\n",
        "def validate_context_and_answer(example, pred, trace=None):\n",
        "    answer_EM = dspy.evaluate.answer_exact_match(example, pred)\n",
        "    answer_PM = dspy.evaluate.answer_passage_match(example, pred)\n",
        "    # print the outputs\n",
        "    print(f\"answer_em: {answer_EM}\\nanswer_pm: {answer_PM}\")\n",
        "    # ok \n",
        "    \n",
        "    \n",
        "    \n",
        "    return answer_EM and answer_PM\n",
        "\n",
        "\n",
        "input_module = RAG()\n",
        "teleprompter = BootstrapFewShot(metric=validate_context_and_answer)\n",
        "compiled_module = teleprompter.compile(input_module, trainset=trainset)"
      ]
    },
    {
      "cell_type": "markdown",
      "metadata": {
        "id": "FDUQDfwT_Wkk"
      },
      "source": [
        "## 7. Instrument DSPy and Launch Phoenix"
      ]
    },
    {
      "cell_type": "markdown",
      "metadata": {
        "id": "L7vaWpVK_Wkk"
      },
      "source": [
        "Now that we've compiled our RAG program, let's see what's going on under the hood.\n",
        "\n",
        "Launch Phoenix, which will run in the background and collect spans and traces from your instrumented DSPy application."
      ]
    },
    {
      "cell_type": "code",
      "execution_count": null,
      "metadata": {
        "id": "Ef9vdwOj_Wkl"
      },
      "outputs": [],
      "source": [
        "# import phoenix as px\n",
        "# phoenix_session = px.launch_app()"
      ]
    },
    {
      "cell_type": "markdown",
      "metadata": {
        "id": "z5rboESI_Wkl"
      },
      "source": [
        "Then instrument your application with [OpenInference](https://github.com/Arize-ai/openinference/tree/main/spec), an open standard build atop [OpenTelemetry](https://opentelemetry.io/) that captures and stores LLM application executions. OpenInference provides telemetry data to help you understand the invocation of your LLMs and the surrounding application context, including retrieval from vector stores, the usage of external tools or APIs, etc."
      ]
    },
    {
      "cell_type": "code",
      "execution_count": null,
      "metadata": {},
      "outputs": [],
      "source": [
        "# import phoenix as px\n",
        "\n",
        "# from openinference.semconv.resource import ResourceAttributes\n",
        "# from openinference.instrumentation.dspy import DSPyInstrumentor\n",
        "# from opentelemetry import trace as trace_api\n",
        "# from opentelemetry.exporter.otlp.proto.http.trace_exporter import OTLPSpanExporter\n",
        "# from opentelemetry.sdk import trace as trace_sdk\n",
        "# from opentelemetry.sdk.resources import Resource\n",
        "# from opentelemetry.sdk.trace.export import SimpleSpanProcessor\n",
        "\n",
        "# endpoint = \"http://127.0.0.1:6006/v1/traces\"\n",
        "# # resource = Resource(attributes={})\n",
        "# resource = Resource(attributes={\n",
        "#     ResourceAttributes.PROJECT_NAME: 'Span-test'\n",
        "# })\n",
        "# tracer_provider = trace_sdk.TracerProvider(resource=resource)\n",
        "# span_otlp_exporter = OTLPSpanExporter(endpoint=endpoint)\n",
        "# tracer_provider.add_span_processor(SimpleSpanProcessor(span_exporter=span_otlp_exporter))\n",
        "# trace_api.set_tracer_provider(tracer_provider=tracer_provider)\n",
        "# DSPyInstrumentor().instrument()"
      ]
    },
    {
      "cell_type": "markdown",
      "metadata": {
        "id": "mZ9jQ4-6_Wkl"
      },
      "source": [
        "## 8. Run Your Application"
      ]
    },
    {
      "cell_type": "markdown",
      "metadata": {
        "id": "IYIU8NOf_Wkl"
      },
      "source": [
        "Let's run our DSPy application on the dev set."
      ]
    },
    {
      "cell_type": "code",
      "execution_count": null,
      "metadata": {
        "id": "P0KwFx73_Wkl"
      },
      "outputs": [],
      "source": [
        "for example in devset:\n",
        "    question = example[\"question\"]\n",
        "    prediction = compiled_module(question)\n",
        "    print(\"Question\")\n",
        "    print(\"========\")\n",
        "    print(question)\n",
        "    print()\n",
        "    print(\"Predicted Answer\")\n",
        "    print(\"================\")\n",
        "    print(prediction.answer)\n",
        "    print()\n",
        "    print(\"Retrieved Contexts (truncated)\")\n",
        "    print(f\"{[c[:200] + '...' for c in prediction.context]}\")\n",
        "    print()\n",
        "    print()"
      ]
    },
    {
      "cell_type": "markdown",
      "metadata": {
        "id": "V-UgrcJt_Wkm"
      },
      "source": [
        "Check the Phoenix UI to inspect the architecture of your DSPy module."
      ]
    },
    {
      "cell_type": "code",
      "execution_count": null,
      "metadata": {
        "id": "Swdz5iTC_Wkm"
      },
      "outputs": [],
      "source": [
        "print(phoenix_session.url)"
      ]
    },
    {
      "cell_type": "markdown",
      "metadata": {
        "id": "_m82kqdy_Wkm"
      },
      "source": [
        "A few things to note:\n",
        "\n",
        "- The spans in each trace correspond to the steps in the `forward` method of our custom subclass of `dspy.Module`,\n",
        "- The call to `ColBERTv2` appears as a retriever span with retrieved documents and scores displayed for each forward pass,\n",
        "- The LLM span includes the fully-formatted prompt containing few-shot examples computed by DSPy during compilation.\n",
        "\n",
        "![a tour of your traces and spans in DSPy, highlighting retriever and LLM spans in particular](https://storage.googleapis.com/arize-phoenix-assets/assets/docs/notebooks/dspy-tracing-tutorial/dspy_spans_and_traces.gif)"
      ]
    },
    {
      "cell_type": "markdown",
      "metadata": {
        "id": "LqbIKOOI_Wkm"
      },
      "source": [
        "Congrats! You've used DSPy to bootstrap a multishot prompt with hard negative passages and chain of thought, and you've used Phoenix to observe the inner workings of DSPy and understand the internals of the forward pass."
      ]
    }
  ],
  "metadata": {
    "colab": {
      "provenance": []
    },
    "kernelspec": {
      "display_name": "Python 3",
      "language": "python",
      "name": "python3"
    },
    "language_info": {
      "codemirror_mode": {
        "name": "ipython",
        "version": 3
      },
      "file_extension": ".py",
      "mimetype": "text/x-python",
      "name": "python",
      "nbconvert_exporter": "python",
      "pygments_lexer": "ipython3",
      "version": "3.11.9"
    }
  },
  "nbformat": 4,
  "nbformat_minor": 0
}
